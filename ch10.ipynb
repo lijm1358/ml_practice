{
 "cells": [
  {
   "cell_type": "markdown",
   "metadata": {},
   "source": [
    "## Chapter 10"
   ]
  },
  {
   "cell_type": "markdown",
   "metadata": {},
   "source": [
    "### 인공 뉴런"
   ]
  },
  {
   "cell_type": "markdown",
   "metadata": {},
   "source": [
    "* 초기 신경망 모델 : 하나 이상의 이진 입력과 이진 출력 하나를 가짐.\n",
    "* 퍼셉트론 : 입력과 출력이 이진 값이 아닌 어떠한 숫자이고, 각 입력 연결이 가중치와 연관되어 있는 인공 뉴런(TLU, 또는 LTU)을 기반으로 한 인공 신경망 구조.\n",
    "  * TLU는 입력의 가중치 합을 계산($z=w_1x_1+w_2x_2+...+w_nx_n=\\mathbf{x}^T\\mathbf{w}$)한 뒤 그 합에 계단 함수(step function)를 적용하여 결과를 출력함\n",
    "  * $h_w(\\mathbf{x})=step(z), z=\\mathbf{x}^T\\mathbf{w}$\n",
    "  * 자주 사용되는 계단 함수는 heaviside 계단 함수 $\\text{heaviside}(z)=\\begin{cases}\n",
    "0, & z<0일 때 \\\\\n",
    "1, & z\\geq0일 때\n",
    "\\end{cases}$ 또는 부호 함수도 사용$\\text{sgn}(z)=\\begin{cases}\n",
    "-1, & z<0일 때 \\\\\n",
    "0, & z=0일 때 \\\\\n",
    "1, & z>0일 때\n",
    "\\end{cases}$\n",
    "* 하나의 TLU로는 간단한 선형 분류 문제에 사용할 수 있음. 로지스틱 회귀나 SVM 분류기처럼 임의의 선형 조합을 계산해 그 결과가 임곗값을 넘으면 양성 클래스를 출력하고 그렇지 않으면 음성 클래스 출력.\n",
    "* 퍼셉트론은 층이 하나뿐인 TLU로 구성. 각 TLU는 모든 입력에 연결되어 있음. 퍼셉트론의 입력을 입력 뉴런이라는 특별한 통과 뉴련에 주입.\n",
    "  * 입력 뉴런 : 어떤 입력이 주입되든 출력으로 통과시키는 것.\n",
    "  * 입력층은 모두 입력 뉴런으로 구성되고, 편향 특성($x_0=1$)이 더해짐. 이 편향 특성은 입력 없이 항상 1을 출력하는 특별한 종류의 뉴런인 편향 뉴런으로 표현됨. 즉, 출력 층의 입력으로 입력 층 뉴런과 편향 뉴런이 들어옴.\n",
    "* 완전 연결 층(fully connected layer, 또는 밀집 층(dense layer)) : 한 층의 모든 뉴런이 이전 층의 모든 뉴련과 연결되어 있는 것.\n",
    "* 출력의 수학적 표현 : $h_{\\mathbf{W}, b}(\\mathbf{X})=\\phi(\\mathbf{XW}+\\mathbf{b})$\n",
    "  * $\\mathbf{X}$ : 입력 특성의 행렬. 행은 샘플, 열은 특성\n",
    "  * $\\mathbf{W}$ : 편향 뉴런을 제외한 모든 연결 가중치가 포함된 행렬. 행은 입려 뉴런, 열은 출력층에 있는 인공 뉴런\n",
    "  * $\\mathbf{b}$ : 편향 뉴런과 인공 뉴런 사이의 연결 가중치.\n",
    "  * $\\phi$ : 활성화 함수. 여기서는 계단 함수.\n",
    "* 퍼셉트론은 생물학적 뉴런이 다른 뉴런을 활성화시킬 때 이 두 뉴런의 연결이 더 강해진다는 헤브의 규칙에 영향을 받아 학습함. 퍼셉트론의 학습 규칙은 오차가 감소되도록 연결이 강화됨.\n",
    "  * 학습 규칙 : $w_{i,j}^{(next step)}=w_{i,j}+\\eta(y_j-\\hat{y}_j)x_i$\n",
    "    * $w_{i,j}$ : i번째 입력 뉴런과 j번째 출력 뉴런 사이를 연결하는 가중치\n",
    "    * $x_i$ : 현재 훈련 샘플의 i번째 뉴런의 입력값\n",
    "    * $\\hat{y}_j$ : 현재 훈련 샘플의 j번째 출력 뉴런의 출력값\n",
    "    * $y_i$ : 현재 훈련 샘플의 j번째 출력 뉴런의 타깃값\n",
    "    * $\\eta$ : 학습률\n",
    "* 각 출력 뉴런의 결정 경계가 선형이므로 퍼셉트론은 복잡한 패턴을 학습하지 못하지만, 훈련 샘플이 선형적으로 구분될 수 있다면 이 알고리즘이 정답에 수렴한다는 것이 증명되었고, 이를 퍼셉트론 수렴 이론이라고 함."
   ]
  },
  {
   "cell_type": "code",
   "execution_count": 6,
   "metadata": {},
   "outputs": [
    {
     "name": "stderr",
     "output_type": "stream",
     "text": [
      "<ipython-input-6-2c506bbdd20d>:7: DeprecationWarning: `np.int` is a deprecated alias for the builtin `int`. To silence this warning, use `int` by itself. Doing this will not modify any behavior and is safe. When replacing `np.int`, you may wish to use e.g. `np.int64` or `np.int32` to specify the precision. If you wish to review your current use, check the release note link for additional information.\n",
      "Deprecated in NumPy 1.20; for more details and guidance: https://numpy.org/devdocs/release/1.20.0-notes.html#deprecations\n",
      "  y = (iris.target==0).astype(np.int) # 꽃잎이 Iris Setosa인지 아닌지\n"
     ]
    }
   ],
   "source": [
    "import numpy as np\n",
    "from sklearn.datasets import load_iris\n",
    "from sklearn.linear_model import Perceptron # 하나의 TLU 네트워크를 구현한 클래스.\n",
    "\n",
    "iris = load_iris()\n",
    "X = iris.data[:, (2,3)]     # 꽃잎의 길이와 너비\n",
    "y = (iris.target==0).astype(np.int) # 꽃잎이 Iris Setosa인지 아닌지\n",
    "\n",
    "per_clf = Perceptron()\n",
    "per_clf.fit(X, y)\n",
    "\n",
    "y_pred = per_clf.predict([[2, 0.5]])    # 길이와 너비가 2, 0.5인 꽃잎은 Iris Setosa"
   ]
  },
  {
   "cell_type": "code",
   "execution_count": 7,
   "metadata": {},
   "outputs": [
    {
     "data": {
      "text/plain": [
       "array([0])"
      ]
     },
     "execution_count": 7,
     "metadata": {},
     "output_type": "execute_result"
    }
   ],
   "source": [
    "y_pred"
   ]
  },
  {
   "cell_type": "code",
   "execution_count": 8,
   "metadata": {},
   "outputs": [
    {
     "data": {
      "image/png": "[encoded data removed]",
      "text/plain": [
       "<Figure size 720x288 with 1 Axes>"
      ]
     },
     "metadata": {
      "needs_background": "light"
     },
     "output_type": "display_data"
    }
   ],
   "source": [
    "import matplotlib.pyplot as plt\n",
    "a = -per_clf.coef_[0][0] / per_clf.coef_[0][1]\n",
    "b = -per_clf.intercept_ / per_clf.coef_[0][1]\n",
    "\n",
    "axes = [0, 5, 0, 2]\n",
    "\n",
    "x0, x1 = np.meshgrid(\n",
    "        np.linspace(axes[0], axes[1], 500).reshape(-1, 1),\n",
    "        np.linspace(axes[2], axes[3], 200).reshape(-1, 1),\n",
    "    )\n",
    "X_new = np.c_[x0.ravel(), x1.ravel()]\n",
    "y_predict = per_clf.predict(X_new)\n",
    "zz = y_predict.reshape(x0.shape)\n",
    "\n",
    "plt.figure(figsize=(10, 4))\n",
    "plt.plot(X[y==0, 0], X[y==0, 1], \"bs\", label=\"Not Iris-Setosa\")\n",
    "plt.plot(X[y==1, 0], X[y==1, 1], \"yo\", label=\"Iris-Setosa\")\n",
    "plt.plot(2, 0.5, \"rs\", label=\"target\")\n",
    "\n",
    "plt.plot([axes[0], axes[1]], [a * axes[0] + b, a * axes[1] + b], \"k-\", linewidth=3)\n",
    "from matplotlib.colors import ListedColormap\n",
    "custom_cmap = ListedColormap(['#9898ff', '#fafab0'])\n",
    "\n",
    "plt.contourf(x0, x1, zz, cmap=custom_cmap)\n",
    "plt.xlabel(\"Petal length\", fontsize=14)\n",
    "plt.ylabel(\"Petal width\", fontsize=14)\n",
    "plt.legend(loc=\"lower right\", fontsize=14)\n",
    "plt.axis(axes)\n",
    "\n",
    "plt.show()"
   ]
  },
  {
   "cell_type": "markdown",
   "metadata": {},
   "source": [
    "* <code>Perceptron</code>클래스는 매개변수가 <code>loss=\"perceptron\", learning_rate=\"constant\", eta0=1, penalty=None</code>인 SGDClassifier(확률정 경사 하강법)과 같음.\n",
    "* 클래스에 속할 확률은 제공하지 않으며, 고정된 입곗값을 기준으로 예측을 만들기 때문에 퍼셉트론보다는 로지스틱 회귀가 선호됨."
   ]
  },
  {
   "cell_type": "markdown",
   "metadata": {},
   "source": [
    "### 다층 퍼셉트론"
   ]
  },
  {
   "cell_type": "markdown",
   "metadata": {},
   "source": [
    "* 단, 다른 선형 분류기와 바찬가지로 XOR 분류 문제와 같은 일부 간단한 문제는 풀 수 없음.\n",
    "* 퍼셉트론을 여러 개 쌓아올리면 일부 제약을 줄일 수 있는데, 이러한 인공 신경망을 다층 퍼셉트론(MLP)아리고 함.\n",
    "  * 다층 퍼셉트론은 XOR문제를 풀 수 있음."
   ]
  },
  {
   "cell_type": "markdown",
   "metadata": {},
   "source": [
    "* 입력층(통과, input layer) 하나, 하나 이상의 은닉층(hidden layer), 출력층(output layer)으로 구성됨.\n",
    "  * 입력층과 가까운 층을 하위 층이라고 부르고, 출력층에 가까운 층을 상위 층이라고 부름\n",
    "  * 모든 층은 편향 뉴런을 포함해 다음 층과 완전히 연결됨.\n",
    "  * 신호는 입력에서 출력으로 한 방향으로만 흐르고, 이러한 구조를 피드포워드 신경망(feedforward neural network, FNN)이라고 함.\n",
    "* 은닉층을 여러 개 쌓아 올린 인공 신경망을 심층 신경망(Deep Neural Network, DNN)이라고 함. - 딥러닝"
   ]
  },
  {
   "cell_type": "markdown",
   "metadata": {},
   "source": [
    "* 다층 퍼셉트론 훈련에는 역전파(backpropagation) 알고리즘을 사용함.\n",
    "  * 효율적인 기법으로 gradient를 자동으로 계산하는 경사 하강법.\n",
    "  * 네트워크를 정방향으로 한번, 역방향으로 한번 통과하는 것 만으로도 모든 모델 파라미터에 대한 네트워크 오차의 gradient를 계산할 수 있음. 즉, 오차를 감소시키기 위해 각 연결 가중치 값과 편향 값이 어떻게 바뀌어야 하는지 알 수 있음.\n",
    "  * gradient를 구하면 평범한 경사 하강법을 수행하고 전체 과정은 네트워크가 어떠한 해결책으로 수렴할 때 까지 반복.\n",
    "  * 자동으로 gradient를 계산하는 것을 자동 미분(automatic differentiation)이라고 하고, 이 중 역전파에서 사용하는 기법은 후진 모드 자동 미분(reverse-mode autodiff)을 사용. 미분할 함수가 연결 가중치와 같은 변수가 많고, 출력이 적은 경우 잘 맞음.\n",
    "* 과정\n",
    "  * 한 번에 하나의 미니배치씩 진행하여 전체 훈련 세트를 처리하고, 이러한 과정 하나하나를 에포크(epoch)라고 함.\n",
    "    * 여러 epoch를 반복\n",
    "  * 각 미니배치는 입력층으로 전달되어 첫 번째 은닉층으로 보내진 뒤, 해당 층에 있는 모든 뉴런의 출력을 계산함. 이 결과는 다음 층으로 전달됨.\n",
    "  * 다음 층에서 다시 출력을 계산하고 그 결과는 그 다음 층으로 전달됨.\n",
    "  * 이러한 과정을 출력층의 출력을 계산할 때 까지 계속됨. 이를 정방향 계산(forward pass)이라고 함.\n",
    "  * 그 다음으로, 알고리즘이 손실 함수를 사용하여 기대하는 출력과(실제 값) 네트워크의 실제 출력(결과 값)을 비교하고 오차 측정 값을 반환함.\n",
    "  * 각 출력 연결이 이 오차에 기여하는 정도를 계산. 연쇄 법칙(chain rule)을 적용하면 이 단계를 빠르고 정확하게 수행 가능.\n",
    "  * 다시 연쇄 법칙을 적용하여 이전 층의 연결 가중치가 오차의 기여 정도에 얼마나 기여했는지 측정함. 이를 입력층에 도달할 때 까지 역방향으로 계속함.\n",
    "  * 마지막으로 알고리즘은 경사 하강법을 수행하여 방금 계산한 오차 그레이디언트를 사용해 네트워크의 모든 연결 가중치를 수정함.\n",
    "> 은닉층의 연결 가중치를 랜덤하게 초기화해야 훈련이 실패하지 않음.(ex. 모든 가중치와 편향을 0으로 초기화하면 층의 모든 뉴런이 완전히 같아지므로 역전파도 뉴런을 동일하게 바꾸어 모든 뉴런이 똑같아진 채로 남으므로 뉴런이 아무리 많아도 뉴런이 하나인 것 처럼 동작함.)\n",
    "* 활성화 함수는 계단 함수 대신 로지스틱(sigmoid) 함수 $\\sigma(z) = 1/(1+exp(-z))$로 바꿈.\n",
    "  * 계단 함수는 수평선밖에 없으니 계산할 gradient가 없음.\n",
    "  * 출력 범위는 0에서 1 사이\n",
    "> 활송화 함수는 그 외에 tanh함수 ($\\tanh(z) = 2\\sigma(2z)-1$. S자 모양이며 연속적이고 미분 가능함. 출력 범위는 -1에서 1 사이. 훈련 초기에 각 층의 출력을 원점 근처로 모으는 영향이 있으므로 수렴이 빠르게 진행되도록 도와줌), ReLU 함수($\\text{ReLU}(z) = \\text{max}(0,z)$. 연속적이지만 z=0에서 미분 가능하지 않고, z<0인 경우 도함수는 0. 잘 작동하며 계산 속도가 빠르고, 출력에 최댓값이 없어서 경사 하강법의 일부 문제점을 해결함.)"
   ]
  },
  {
   "cell_type": "code",
   "execution_count": 9,
   "metadata": {},
   "outputs": [
    {
     "data": {
      "image/png": "[encoded data removed]",
      "text/plain": [
       "<Figure size 792x288 with 2 Axes>"
      ]
     },
     "metadata": {
      "needs_background": "light"
     },
     "output_type": "display_data"
    }
   ],
   "source": [
    "# from https://github.com/rickiepark/handson-ml2/blob/master/10_neural_nets_with_keras.ipynb\n",
    "def sigmoid(z):\n",
    "    return 1 / (1 + np.exp(-z))\n",
    "\n",
    "def relu(z):\n",
    "    return np.maximum(0, z)\n",
    "\n",
    "def derivative(f, z, eps=0.000001):\n",
    "    return (f(z + eps) - f(z - eps))/(2 * eps)\n",
    "z = np.linspace(-5, 5, 200)\n",
    "\n",
    "plt.figure(figsize=(11,4))\n",
    "\n",
    "plt.subplot(121)\n",
    "plt.plot(z, np.sign(z), \"r-\", linewidth=1, label=\"Step\")\n",
    "plt.plot(z, sigmoid(z), \"g--\", linewidth=2, label=\"Sigmoid\")\n",
    "plt.plot(z, np.tanh(z), \"b-\", linewidth=2, label=\"Tanh\")\n",
    "plt.plot(z, relu(z), \"m-.\", linewidth=2, label=\"ReLU\")\n",
    "plt.grid(True)\n",
    "plt.legend(loc=\"center right\", fontsize=14)\n",
    "plt.title(\"Activation functions\", fontsize=14)\n",
    "plt.axis([-5, 5, -1.2, 1.2])\n",
    "\n",
    "plt.subplot(122)\n",
    "plt.plot(z, derivative(np.sign, z), \"r-\", linewidth=1, label=\"Step\")\n",
    "plt.plot(0, 0, \"ro\", markersize=5)\n",
    "plt.plot(0, 0, \"rx\", markersize=10)\n",
    "plt.plot(z, derivative(sigmoid, z), \"g--\", linewidth=2, label=\"Sigmoid\")\n",
    "plt.plot(z, derivative(np.tanh, z), \"b-\", linewidth=2, label=\"Tanh\")\n",
    "plt.plot(z, derivative(relu, z), \"m-.\", linewidth=2, label=\"ReLU\")\n",
    "plt.grid(True)\n",
    "#plt.legend(loc=\"center right\", fontsize=14)\n",
    "plt.title(\"Derivatives\", fontsize=14)\n",
    "plt.axis([-5, 5, -0.2, 1.2])\n",
    "plt.show()"
   ]
  },
  {
   "cell_type": "markdown",
   "metadata": {},
   "source": [
    "* 선형 변환을 여러 개 연결해봤자 또 다른 선형 변환이 되므로(ex. f(x)=2x+3과 g(x)=5x-1을 연결하면 f(g(x))=10x+1이 됨) 층 사이에 위와 같은 비선형성을 추가해야 복잡한 문제를 해결할 수 있음.\n",
    "* 비선형 함수가 있는 충분히 큰 심층 신경망은 이론상 어떠한 연속 함수로도 근사할 수 있음."
   ]
  },
  {
   "cell_type": "markdown",
   "metadata": {},
   "source": [
    "* 다층 퍼셉트론은 회귀 작업에 사용 가능.\n",
    "  * 값 하나를 예측하는 데 출력 뉴런이 하나만 필요함. 이 출력값이 예측된 값.\n",
    "* 다변량 회귀(동시에 여러 값을 예측하는 것)는 출력 차원마다 출력 뉴런이 하나씩 필요\n",
    "  * ex) 이미지에서 물체의 중심 위치를 파악하려면 2D좌표를 예측해야하므로 출력 뉴런 2개가 필요.\n",
    "* 보통 회귀용 다층 퍼셉트론을 만들 때는 출력 뉴런에 활성화 함수를 사용하지 않고 어떤 범위의 값도 출력되도록 함. 단, 출력이 양수여야 한다면 출력층에 ReLU함수나 softplus(ReLU의 변종. $\\text{softplus}(z)=\\log(1+\\exp(z))$. z가 음수일 때 0에 가까워지고 z가 큰 양수일수록 z에 가까움)함수를 사용. 어떠한 범위 안의 값을 예측하려면 sigmoid함수나 tanh함수를 사용하고 레이블의 스케일을 적절한 범위로 조정할 수 있음.\n",
    "* 훈련 시 사용하는 손실 함수는 일반적으로 평균 제곱 오차를 사용.\n",
    "  * 훈련 세트에 이상치가 많다면 평균 절댓값 오차를 사용할 수 있고, 또는 이 둘을 조합한 후버(Huber, 오차가 임곗값 $\\sigma$(주로 1)보다 작을 때는 이차함수. 이보다 클 때는 선형 함수. 선형 함수 부분은 평균 제곱 오차보다 이상치에 덜 민감함.) 손실을 사용할 수 있음.\n",
    "* 전형적인 회귀 MLP 구조    \n",
    "\n",
    "|하이퍼파라미터     |일반적인 값|\n",
    "|------------------|-----------|\n",
    "|입력 뉴런 수       |특성마다 하나(ex. MNIST 데이터셋은 28*28크기 이미지이므로 784개의 뉴런)|\n",
    "|은닉층 수          |문제에 따라 다름(보통 1~5)|\n",
    "|은닉층 뉴런 수     |문제에 따라 다름(보통 10~100)|\n",
    "|출력 뉴런 수       |예측 차원마다 하나|\n",
    "|은닉층의 활성화 함수|ReLU(또는 SELU 등)|\n",
    "|출력층의 활성화 함수|없음. 출력이 양수라면 ReLU, softplus. 출력을 특정 범위로 제한하면 sigmoid, tanh)|\n",
    "|손실 함수          |MSE. 이상치가 있다면 MAE, Huber|"
   ]
  },
  {
   "cell_type": "markdown",
   "metadata": {},
   "source": [
    "* 다층 퍼셉트론은 분류 작업에 사용 가능.\n",
    "  * 이진 분류에서는 sigmoid 활성화 함수를 가진 하나의 출력 뉴런만을 필요로 하고, 출력은 0과 1사이의 실수값이 됨. 이를 양성 클래스에 대한 예측 확률로 해석가능.\n",
    "  * 음성 클래스에 대한 예측 확률은 1-양성 클래스 예측 확률\n",
    "* 다중 레이블 이진 분류 문제를 쉽게 처리 가능\n",
    "  * ex) 이메일이 스팸 메일인지/아닌지, 긴급 메일인지/아닌지를 구별하기 위해 sigmoid 활성화 함수를 가진 두 출력 뉴런이 필요. 첫 번째 뉴런은 이메일이 스팸일 확률을 출력하고, 두 번째 뉴런은 이메일이 긴급한 메일일 화률을 출력. 출력된 확률의 하이 1이 될 필요는 없고 어떠한 레이블 조합도 출력할 수 있음.\n",
    "* 각 샘플이 3개 이상의 클래스 중 한 클래스에만 속할 수 있다면(ex. 0~9까지 숫자 이미지 분류) 클래스마다 하나의 출력 뉴런이 필요하고 이를 다중 분류라고 함. 출력층은 소프트맥스 함수.\n",
    "> * 소프트맥스 함수는 샘플 $ \\mathbf{x} $ 각각에 대한 점수에 지수 함수를 적용한 뒤 정규화함(모든 지수 함수의 결과의 합으로 나눔.). $$ \\hat{p_k}=\\sigma\\left(\\mathbf{s}(\\mathbf{x})\\right)_k=\\frac{\\exp\\left(s_k(\\mathbf{x})\\right)}{\\sum_{j=1}^K\\exp\\left(s_j(\\mathbf{x})\\right)} $$\n",
    ">   * $ K $ 는 클래스 수\n",
    ">   * $ \\mathbf{s}(\\mathbf{x}) $ 는 샘플 $ \\mathbf{x} $ 에 대한 각 클래스의 점수를 탐은 벡터\n",
    ">   * $ \\sigma\\left(\\mathbf{s}(\\mathbf{x})\\right)_k $ 는 샘플 $ \\mathbf{x} $에 대한 각 클래스의 점수가 주어졌을 때, 이 샘플이 클래스 k에 속할 추정 확률\n",
    "> * 모든 예측 확률을 0과 1사이로 만들고 이들을 더했을 때 1이 되도록 만듦(클래스가 서로 배타적일 경우 필요)\n",
    "* 손실 함수는 일반적으로 크로스 엔트로피 손실(cross-entropy loss, 또는 logloss)을 선택\n",
    "* 전형적인 분류 MLP 구조\n",
    "\n",
    "|하이퍼파라미터|이진 분류|다중 레이블 분류|다중 분류|\n",
    "|-------------|--------|--------------|--------|\n",
    "|입력층과 은닉층|회귀와 동일|회귀와 동일|회귀와 동일|\n",
    "|출력 뉴런 수  |1개        |레이블 당 1개|클래스 당 1개|\n",
    "|출력 층의 활성화 함수|sigmoid|sigmoid|softmax|\n",
    "|손실 함수|cross-entropy|cross-entropy|cross-entropy|"
   ]
  },
  {
   "cell_type": "markdown",
   "metadata": {},
   "source": [
    "> Tensorflow Playground(https://playground.tensorflow.org) : 텐서플로를 활용한 신경망 시뮬레이터\n",
    "> * ReLU사용 시 선형 경계가 만들어짐\n",
    "> * 은닉층이 줄어들면 훈련에 걸리는 시간에 차이가 나고 지역 최솟값에 갇히기도 함.\n",
    "> * 뉴런 수가 작으면 좋은 솔류선을 찾을 수 없고 파라미터가 너무 적어 훈련 세트에 과소적합됨.\n",
    "> * 신경망이 너무 크면 빠르게 훈련되고 지역 최솟값에 갇히지 않음.\n",
    ">   * 대규모 신경망은 거의 절대로 지역 최솟값에 갇히지 않음.\n",
    "> * 나선형 데이터셋+4개의 은닉층+각 은닉층 별 8개의 뉴런으로 학습하면 훈련 시간이 오래 걸리고 한번씩 긴 시간동안 평탄한 지역에 갇힘. 상위 층(오른쪽)에 있는 뉴런이 하위 층(왼쪽)에 있는 뉴런보다 도 빨리 학습되는 경향이 있고, 이를 그레이디언트 소실(vanishing gradient)라고 함. 이 문제는 더 좋은 가중치 초기화, 고급 optimizer(AdaGrad, Adam 등), 배치 정규화 등을 이용해 해결 가능."
   ]
  },
  {
   "cell_type": "markdown",
   "metadata": {},
   "source": [
    "### Keras"
   ]
  },
  {
   "cell_type": "markdown",
   "metadata": {},
   "source": [
    "* 모든 종류의 신경망을 손쉽게 만들고 훈련, 평가, 실행할 수 있는 고수준 딥러닝 API.\n",
    "* API 문서 : http://keras.io"
   ]
  },
  {
   "cell_type": "code",
   "execution_count": 10,
   "metadata": {},
   "outputs": [],
   "source": [
    "import tensorflow as tf\n",
    "from tensorflow import keras"
   ]
  },
  {
   "cell_type": "code",
   "execution_count": 11,
   "metadata": {},
   "outputs": [
    {
     "data": {
      "text/plain": [
       "'2.5.0'"
      ]
     },
     "execution_count": 11,
     "metadata": {},
     "output_type": "execute_result"
    }
   ],
   "source": [
    "tf.__version__"
   ]
  },
  {
   "cell_type": "code",
   "execution_count": 12,
   "metadata": {},
   "outputs": [
    {
     "data": {
      "text/plain": [
       "'2.5.0'"
      ]
     },
     "execution_count": 12,
     "metadata": {},
     "output_type": "execute_result"
    }
   ],
   "source": [
    "keras.__version__"
   ]
  },
  {
   "cell_type": "markdown",
   "metadata": {},
   "source": [
    "#### Sequential API를 이용한 이미지 분류기"
   ]
  },
  {
   "cell_type": "code",
   "execution_count": 13,
   "metadata": {},
   "outputs": [],
   "source": [
    "# Fashion MNIST 데이터셋을 이용한 이미지 분류기\n",
    "# 숫자 손글씨 MNIST 데이터셋과 형태는 동일(28*28 크기의 흑백 이미지 70000개 및 10개의 클래스로 이루어짐), 단 손글씨 숫자가 아닌 패션 아이템을 나타내는 이미지.\n",
    "# 클래스마다 샘플이 다양해 MNIST보다 훨씬 어려운 문제.\n",
    "\n",
    "# Fashion MNIST 데이터 적재\n",
    "fashoin_mnist = keras.datasets.fashion_mnist\n",
    "(X_train_full, y_train_full), (X_test, y_test) = fashoin_mnist.load_data()"
   ]
  },
  {
   "cell_type": "code",
   "execution_count": 14,
   "metadata": {},
   "outputs": [
    {
     "data": {
      "text/plain": [
       "(60000, 28, 28)"
      ]
     },
     "execution_count": 14,
     "metadata": {},
     "output_type": "execute_result"
    }
   ],
   "source": [
    "# 784크기의 1D가 아닌 28*28크기의 2D\n",
    "X_train_full.shape"
   ]
  },
  {
   "cell_type": "code",
   "execution_count": 15,
   "metadata": {},
   "outputs": [
    {
     "data": {
      "text/plain": [
       "dtype('uint8')"
      ]
     },
     "execution_count": 15,
     "metadata": {},
     "output_type": "execute_result"
    }
   ],
   "source": [
    "# 픽셀 강도는 정수형\n",
    "X_train_full.dtype"
   ]
  },
  {
   "cell_type": "code",
   "execution_count": 16,
   "metadata": {},
   "outputs": [],
   "source": [
    "# 전체 train 데이터셋을 validation set과 train set으로 나눔.\n",
    "# 경사 하강법을 사용해야 하므로 픽셀 강도를 255.0으로 나누어 0~1사이의 범위로 조정(자동으로 실수로 변환됨)\n",
    "#   만일 새로운 데이터가 들어온다면 이에 대해서도 스케일 조정이 필요함.\n",
    "X_valid, X_train = X_train_full[:5000] / 255.0, X_train_full[5000:] / 255.0\n",
    "y_valid, y_train = y_train_full[:5000], y_train_full[5000:]\n",
    "X_test = X_test/255.0"
   ]
  },
  {
   "cell_type": "code",
   "execution_count": 17,
   "metadata": {},
   "outputs": [],
   "source": [
    "# 각 레이블에 해당하는 아이템을 나타내기 위해 클래스 이름의 리스트 생성\n",
    "class_names = [\"T-shirt/top\", \"Trouser\", \"Pullover\", \"Dress\", \"Coat\", \"Sandal\", \"Shirt\", \"Sneaker\", \"Bag\", \"Ankle boot\"]"
   ]
  },
  {
   "cell_type": "code",
   "execution_count": 18,
   "metadata": {},
   "outputs": [
    {
     "data": {
      "text/plain": [
       "'Coat'"
      ]
     },
     "execution_count": 18,
     "metadata": {},
     "output_type": "execute_result"
    }
   ],
   "source": [
    "class_names[y_train[0]] # 훈련 세트의 첫 번째 이미지의 클래스 출력(코트)"
   ]
  },
  {
   "cell_type": "code",
   "execution_count": 19,
   "metadata": {},
   "outputs": [
    {
     "data": {
      "image/png": "[encoded data removed]",
      "text/plain": [
       "<Figure size 432x288 with 1 Axes>"
      ]
     },
     "metadata": {
      "needs_background": "light"
     },
     "output_type": "display_data"
    }
   ],
   "source": [
    "plt.imshow(X_train[0], cmap=\"binary\")\n",
    "plt.title(class_names[y_train[0]])\n",
    "plt.axis('off')\n",
    "plt.show()"
   ]
  },
  {
   "cell_type": "code",
   "execution_count": 20,
   "metadata": {},
   "outputs": [],
   "source": [
    "# 두 개의 은닉층으로 이루어진 분류용 다층 퍼셉트론\n",
    "model = keras.models.Sequential()\n",
    "model.add(keras.layers.Flatten(input_shape=[28, 28]))\n",
    "model.add(keras.layers.Dense(300, activation=\"relu\"))\n",
    "model.add(keras.layers.Dense(100, activation=\"relu\"))\n",
    "model.add(keras.layers.Dense(10, activation=\"softmax\"))"
   ]
  },
  {
   "cell_type": "markdown",
   "metadata": {},
   "source": [
    "> * <code>2</code> : 가장 간단한 케라스의 신경망 모델인 <code>Sequential</code>모델을 생성. 순서대로 연결된 층을 일렬로 쌓아서 구성하고, 이를 Sequential API라고 부름.\n",
    "> * <code>3</code> : 입력 이미지를 1D 배열로 반환하는 Flatten층을 첫 번째 층으로 추가. 입력 데이터 X를 받으면 X.reshape(-1, 28*28)을 계산.\n",
    ">   * 모델 파라미터를 가지지 않고 간단한 전처리만 수행\n",
    ">   * 첫 번째 층이므로 <code>input_shape</code>를 지정해야 함. 배치 크기를 제외하고 샘플의 크기만 써야 함.\n",
    ">   * 또는 <code>input_shape=[28,28]</code>로 지정된 <code>keras.layers.InputLayer</code>층을 추가할 수도 있음.\n",
    "> * <code>4, 5</code> : 각각 뉴런 300개, 100개를 가진 Dense 은닉층 추가. ReLU 활성화 함수 사용.\n",
    ">   * Dense층마다 각자의 가중치 행렬을 관리하고, 이 행렬에는 해당 층의 뉴런과 입력 사이의 모든 연결 가중치가 포함되고 뉴런마다 하나씩 있는 편향도 벡터로 관리함. \n",
    ">   * 이 층은 입력 데이터를 받으면 $h_{\\mathbf{W}, b}(\\mathbf{X})=\\phi(\\mathbf{XW}+\\mathbf{b})$를 계산.\n",
    ">   * <code>activation=\"relu\"</code>대신 <code>activation=keras.activation.relu</code>사용 가능\n",
    "> * <code>6</code> : 뉴런 10개를 가진 Dense 출력층 추가. 클래스끼리 배타적이므로 소프트맥스 활성화 함수 사용."
   ]
  },
  {
   "cell_type": "code",
   "execution_count": 21,
   "metadata": {},
   "outputs": [],
   "source": [
    "# 위 처럼 하나씩 층을 추가하지 않고 Sequential 모델을 만들 때 각 층의 list를 전달할 수도 있음\n",
    "model = keras.models.Sequential([\n",
    "    keras.layers.Flatten(input_shape=[28, 28]),\n",
    "    keras.layers.Dense(300, activation=\"relu\"),\n",
    "    keras.layers.Dense(100, activation=\"relu\"),\n",
    "    keras.layers.Dense(10, activation=\"softmax\"),\n",
    "])"
   ]
  },
  {
   "cell_type": "code",
   "execution_count": 22,
   "metadata": {},
   "outputs": [
    {
     "name": "stdout",
     "output_type": "stream",
     "text": [
      "Model: \"sequential_1\"\n",
      "_________________________________________________________________\n",
      "Layer (type)                 Output Shape              Param #   \n",
      "=================================================================\n",
      "flatten_1 (Flatten)          (None, 784)               0         \n",
      "_________________________________________________________________\n",
      "dense_3 (Dense)              (None, 300)               235500    \n",
      "_________________________________________________________________\n",
      "dense_4 (Dense)              (None, 100)               30100     \n",
      "_________________________________________________________________\n",
      "dense_5 (Dense)              (None, 10)                1010      \n",
      "=================================================================\n",
      "Total params: 266,610\n",
      "Trainable params: 266,610\n",
      "Non-trainable params: 0\n",
      "_________________________________________________________________\n"
     ]
    }
   ],
   "source": [
    "# 모델의 모든 층을 출력.\n",
    "# 각 층의 이름(미 지정 시 자동으로 생성. name 매개변수에 이름 지정 가능), 출력 크기(None은 배치 크기에 어떤 값도 가능하다는 의미), 파라미터 개수를 출력하고, 마지막에는 훈련되는 파라미터와 훈련되지 않는 파라미터를 포함하여 전체 파라미터 개수를 출력\n",
    "#   여기서는 훈련되는 파라미터만 존재.\n",
    "model.summary()"
   ]
  },
  {
   "cell_type": "code",
   "execution_count": 23,
   "metadata": {},
   "outputs": [
    {
     "data": {
      "image/png": "[encoded data removed]",
      "text/plain": [
       "<IPython.core.display.Image object>"
      ]
     },
     "execution_count": 23,
     "metadata": {},
     "output_type": "execute_result"
    }
   ],
   "source": [
    "# keras 모델을 이미지로 출력\n",
    "keras.utils.plot_model(model)"
   ]
  },
  {
   "cell_type": "markdown",
   "metadata": {},
   "source": [
    "> * Dense층은 보통 많은 파라미터를 가짐\n",
    ">   * ex) 첫 번째 은닉층은 784*300개의 연결 가중치와 300개의 편향을 가지므로 이들을 더하면 235,500개의 파라미터를 가짐. 이정도 크기의 모델은 훈련 데이터를 학습하기 충분한 유연성을 가지나, 과대적합의 위험 또한 가짐(특히 훈련 데이터가 많지 않을 때)."
   ]
  },
  {
   "cell_type": "code",
   "execution_count": 24,
   "metadata": {},
   "outputs": [
    {
     "data": {
      "text/plain": [
       "[<tensorflow.python.keras.layers.core.Flatten at 0x14b280ba790>,\n",
       " <tensorflow.python.keras.layers.core.Dense at 0x14b2debd0a0>,\n",
       " <tensorflow.python.keras.layers.core.Dense at 0x14b2debd640>,\n",
       " <tensorflow.python.keras.layers.core.Dense at 0x14b2debda30>]"
      ]
     },
     "execution_count": 24,
     "metadata": {},
     "output_type": "execute_result"
    }
   ],
   "source": [
    "# 모델에 있는 층의 리스트 출력\n",
    "model.layers"
   ]
  },
  {
   "cell_type": "code",
   "execution_count": 25,
   "metadata": {},
   "outputs": [
    {
     "data": {
      "text/plain": [
       "'dense_3'"
      ]
     },
     "execution_count": 25,
     "metadata": {},
     "output_type": "execute_result"
    }
   ],
   "source": [
    "# 인덱스로 모델의 층 선택 가능\n",
    "hidden1 = model.layers[1]\n",
    "hidden1.name"
   ]
  },
  {
   "cell_type": "code",
   "execution_count": 26,
   "metadata": {},
   "outputs": [
    {
     "data": {
      "text/plain": [
       "True"
      ]
     },
     "execution_count": 26,
     "metadata": {},
     "output_type": "execute_result"
    }
   ],
   "source": [
    "# 이름으로 모델의 층 선택\n",
    "model.get_layer('dense_3') is hidden1"
   ]
  },
  {
   "cell_type": "code",
   "execution_count": 27,
   "metadata": {},
   "outputs": [],
   "source": [
    "# 층의 모든 파라미터는 get_weights()와 set_weights()를 사용해 접근 가능. Dense 층의 경우 연결 가중치와 편향이 모두 포함되어있음.\n",
    "weights, biases = hidden1.get_weights()"
   ]
  },
  {
   "cell_type": "code",
   "execution_count": 28,
   "metadata": {},
   "outputs": [
    {
     "data": {
      "text/plain": [
       "array([[ 0.01909524,  0.04575285, -0.02377108, ..., -0.02618043,\n",
       "        -0.02459623,  0.04009929],\n",
       "       [ 0.00255943, -0.01277498, -0.05328912, ...,  0.04174976,\n",
       "         0.00738778, -0.06766993],\n",
       "       [-0.02151511,  0.02083602,  0.05235937, ...,  0.05112466,\n",
       "         0.06476593,  0.00542057],\n",
       "       ...,\n",
       "       [ 0.03200036,  0.01330142, -0.02683904, ..., -0.07099872,\n",
       "        -0.04456173, -0.0673126 ],\n",
       "       [-0.02107367, -0.04594501,  0.01402111, ..., -0.00265069,\n",
       "        -0.04471175, -0.01878432],\n",
       "       [ 0.04602553,  0.03855234, -0.0232105 , ..., -0.00712659,\n",
       "        -0.06544694, -0.04471882]], dtype=float32)"
      ]
     },
     "execution_count": 28,
     "metadata": {},
     "output_type": "execute_result"
    }
   ],
   "source": [
    "weights"
   ]
  },
  {
   "cell_type": "code",
   "execution_count": 29,
   "metadata": {},
   "outputs": [
    {
     "data": {
      "text/plain": [
       "(784, 300)"
      ]
     },
     "execution_count": 29,
     "metadata": {},
     "output_type": "execute_result"
    }
   ],
   "source": [
    "weights.shape"
   ]
  },
  {
   "cell_type": "code",
   "execution_count": 30,
   "metadata": {},
   "outputs": [
    {
     "data": {
      "text/plain": [
       "array([0., 0., 0., 0., 0., 0., 0., 0., 0., 0., 0., 0., 0., 0., 0., 0., 0.,\n",
       "       0., 0., 0., 0., 0., 0., 0., 0., 0., 0., 0., 0., 0., 0., 0., 0., 0.,\n",
       "       0., 0., 0., 0., 0., 0., 0., 0., 0., 0., 0., 0., 0., 0., 0., 0., 0.,\n",
       "       0., 0., 0., 0., 0., 0., 0., 0., 0., 0., 0., 0., 0., 0., 0., 0., 0.,\n",
       "       0., 0., 0., 0., 0., 0., 0., 0., 0., 0., 0., 0., 0., 0., 0., 0., 0.,\n",
       "       0., 0., 0., 0., 0., 0., 0., 0., 0., 0., 0., 0., 0., 0., 0., 0., 0.,\n",
       "       0., 0., 0., 0., 0., 0., 0., 0., 0., 0., 0., 0., 0., 0., 0., 0., 0.,\n",
       "       0., 0., 0., 0., 0., 0., 0., 0., 0., 0., 0., 0., 0., 0., 0., 0., 0.,\n",
       "       0., 0., 0., 0., 0., 0., 0., 0., 0., 0., 0., 0., 0., 0., 0., 0., 0.,\n",
       "       0., 0., 0., 0., 0., 0., 0., 0., 0., 0., 0., 0., 0., 0., 0., 0., 0.,\n",
       "       0., 0., 0., 0., 0., 0., 0., 0., 0., 0., 0., 0., 0., 0., 0., 0., 0.,\n",
       "       0., 0., 0., 0., 0., 0., 0., 0., 0., 0., 0., 0., 0., 0., 0., 0., 0.,\n",
       "       0., 0., 0., 0., 0., 0., 0., 0., 0., 0., 0., 0., 0., 0., 0., 0., 0.,\n",
       "       0., 0., 0., 0., 0., 0., 0., 0., 0., 0., 0., 0., 0., 0., 0., 0., 0.,\n",
       "       0., 0., 0., 0., 0., 0., 0., 0., 0., 0., 0., 0., 0., 0., 0., 0., 0.,\n",
       "       0., 0., 0., 0., 0., 0., 0., 0., 0., 0., 0., 0., 0., 0., 0., 0., 0.,\n",
       "       0., 0., 0., 0., 0., 0., 0., 0., 0., 0., 0., 0., 0., 0., 0., 0., 0.,\n",
       "       0., 0., 0., 0., 0., 0., 0., 0., 0., 0., 0.], dtype=float32)"
      ]
     },
     "execution_count": 30,
     "metadata": {},
     "output_type": "execute_result"
    }
   ],
   "source": [
    "biases"
   ]
  },
  {
   "cell_type": "code",
   "execution_count": 31,
   "metadata": {},
   "outputs": [
    {
     "data": {
      "text/plain": [
       "(300,)"
      ]
     },
     "execution_count": 31,
     "metadata": {},
     "output_type": "execute_result"
    }
   ],
   "source": [
    "biases.shape"
   ]
  },
  {
   "cell_type": "markdown",
   "metadata": {},
   "source": [
    "> * Dense층은 연결 가중치를 무작위로 초기화하고, 편향은 0으로 초기화함.\n",
    "> * 다른 초기화 방법을 사용하고 싶다면 <code>kernel_initializer</code> (kernel은 연결 가중치 행렬의 또 다른 이름)와 <code>bias_initializer</code> 매개변수를 설정 가능\n",
    ">   * https://keras.io/initializers"
   ]
  },
  {
   "cell_type": "code",
   "execution_count": 32,
   "metadata": {},
   "outputs": [],
   "source": [
    "# compile을이용해 사용할 손실 함수와 optimizer 지정\n",
    "# 추가적으로 훈련 및 평가 시 사용할 지표 지정 가능.\n",
    "model.compile(loss=\"sparse_categorical_crossentropy\",\n",
    "              optimizer=\"sgd\",\n",
    "              metrics=[\"accuracy\"])"
   ]
  },
  {
   "cell_type": "markdown",
   "metadata": {},
   "source": [
    "> * 레이블이 정수 하나로 이루어져 있고 클래스가 배타적이므로 <code>\"sparse_categorical_crossentropy\"</code> 사용\n",
    ">   * 만약, 샘플마다 클래스 별 타깃 확률을 갖고 있다면 <code>\"categorical_crossentropy\"</code> 사용\n",
    ">   * 이진 분류나 다중 레이블 이진 분류를 수행한다면 출력층은 <code>\"sigmoid\"</code>를 사용하고 <code>\"binary_crossentropy\"</code> 손실을 사용\n",
    "> * <code>\"sgd\"</code>는 기본 확률적 경사 하강법을 사용하여 모델을 훈련한다는 의미.\n",
    ">   * 보통은 학습률을 <cpde>optimizer=keras.optimizers.SGD(lr=...)</cpde>과 같이 지정함. 기본값은 0.01\n",
    "> * 모델 평가 시 지표는 정확도(<code>\"accuracy\"</code>)를 측정함."
   ]
  },
  {
   "cell_type": "code",
   "execution_count": 33,
   "metadata": {},
   "outputs": [
    {
     "name": "stdout",
     "output_type": "stream",
     "text": [
      "Epoch 1/30\n",
      "1719/1719 [==============================] - 5s 2ms/step - loss: 0.7120 - accuracy: 0.7656 - val_loss: 0.4956 - val_accuracy: 0.8304\n",
      "Epoch 2/30\n",
      "1719/1719 [==============================] - 3s 2ms/step - loss: 0.4868 - accuracy: 0.8290 - val_loss: 0.4876 - val_accuracy: 0.8172\n",
      "Epoch 3/30\n",
      "1719/1719 [==============================] - 3s 2ms/step - loss: 0.4444 - accuracy: 0.8434 - val_loss: 0.4417 - val_accuracy: 0.85306 - ac\n",
      "Epoch 4/30\n",
      "1719/1719 [==============================] - 3s 2ms/step - loss: 0.4158 - accuracy: 0.8543 - val_loss: 0.3916 - val_accuracy: 0.8668\n",
      "Epoch 5/30\n",
      "1719/1719 [==============================] - 4s 2ms/step - loss: 0.3962 - accuracy: 0.8612 - val_loss: 0.3823 - val_accuracy: 0.8712\n",
      "Epoch 6/30\n",
      "1719/1719 [==============================] - 4s 2ms/step - loss: 0.3801 - accuracy: 0.8659 - val_loss: 0.4068 - val_accuracy: 0.8498\n",
      "Epoch 7/30\n",
      "1719/1719 [==============================] - 4s 2ms/step - loss: 0.3659 - accuracy: 0.8707 - val_loss: 0.3787 - val_accuracy: 0.8688\n",
      "Epoch 8/30\n",
      "1719/1719 [==============================] - 4s 2ms/step - loss: 0.3544 - accuracy: 0.8745 - val_loss: 0.3492 - val_accuracy: 0.8770\n",
      "Epoch 9/30\n",
      "1719/1719 [==============================] - 4s 2ms/step - loss: 0.3447 - accuracy: 0.8771 - val_loss: 0.3428 - val_accuracy: 0.8798\n",
      "Epoch 10/30\n",
      "1719/1719 [==============================] - 4s 2ms/step - loss: 0.3353 - accuracy: 0.8811 - val_loss: 0.3450 - val_accuracy: 0.8782\n",
      "Epoch 11/30\n",
      "1719/1719 [==============================] - 4s 2ms/step - loss: 0.3261 - accuracy: 0.8838 - val_loss: 0.3623 - val_accuracy: 0.8698\n",
      "Epoch 12/30\n",
      "1719/1719 [==============================] - 4s 2ms/step - loss: 0.3173 - accuracy: 0.8869 - val_loss: 0.3321 - val_accuracy: 0.8818\n",
      "Epoch 13/30\n",
      "1719/1719 [==============================] - 4s 2ms/step - loss: 0.3106 - accuracy: 0.8901 - val_loss: 0.3218 - val_accuracy: 0.8832\n",
      "Epoch 14/30\n",
      "1719/1719 [==============================] - 5s 3ms/step - loss: 0.3027 - accuracy: 0.8919 - val_loss: 0.3277 - val_accuracy: 0.8798\n",
      "Epoch 15/30\n",
      "1719/1719 [==============================] - 5s 3ms/step - loss: 0.2966 - accuracy: 0.8934 - val_loss: 0.3202 - val_accuracy: 0.8862\n",
      "Epoch 16/30\n",
      "1719/1719 [==============================] - 5s 3ms/step - loss: 0.2904 - accuracy: 0.8947 - val_loss: 0.3157 - val_accuracy: 0.8870\n",
      "Epoch 17/30\n",
      "1719/1719 [==============================] - 4s 3ms/step - loss: 0.2850 - accuracy: 0.8976 - val_loss: 0.3107 - val_accuracy: 0.8904os\n",
      "Epoch 18/30\n",
      "1719/1719 [==============================] - 4s 2ms/step - loss: 0.2783 - accuracy: 0.8989 - val_loss: 0.3280 - val_accuracy: 0.8778\n",
      "Epoch 19/30\n",
      "1719/1719 [==============================] - 4s 3ms/step - loss: 0.2735 - accuracy: 0.9020 - val_loss: 0.3082 - val_accuracy: 0.8878\n",
      "Epoch 20/30\n",
      "1719/1719 [==============================] - 4s 2ms/step - loss: 0.2689 - accuracy: 0.9030 - val_loss: 0.3170 - val_accuracy: 0.8852\n",
      "Epoch 21/30\n",
      "1719/1719 [==============================] - 4s 2ms/step - loss: 0.2639 - accuracy: 0.9048 - val_loss: 0.3130 - val_accuracy: 0.8846\n",
      "Epoch 22/30\n",
      "1719/1719 [==============================] - 4s 2ms/step - loss: 0.2589 - accuracy: 0.9072 - val_loss: 0.3023 - val_accuracy: 0.8900\n",
      "Epoch 23/30\n",
      "1719/1719 [==============================] - 4s 2ms/step - loss: 0.2544 - accuracy: 0.9085 - val_loss: 0.2973 - val_accuracy: 0.8914\n",
      "Epoch 24/30\n",
      "1719/1719 [==============================] - 4s 2ms/step - loss: 0.2499 - accuracy: 0.9091 - val_loss: 0.2962 - val_accuracy: 0.8914\n",
      "Epoch 25/30\n",
      "1719/1719 [==============================] - 4s 2ms/step - loss: 0.2446 - accuracy: 0.9110 - val_loss: 0.2928 - val_accuracy: 0.8936\n",
      "Epoch 26/30\n",
      "1719/1719 [==============================] - 4s 2ms/step - loss: 0.2407 - accuracy: 0.9127 - val_loss: 0.3161 - val_accuracy: 0.8802\n",
      "Epoch 27/30\n",
      "1719/1719 [==============================] - 4s 2ms/step - loss: 0.2382 - accuracy: 0.9149 - val_loss: 0.2908 - val_accuracy: 0.8918\n",
      "Epoch 28/30\n",
      "1719/1719 [==============================] - 4s 2ms/step - loss: 0.2340 - accuracy: 0.9159 - val_loss: 0.3035 - val_accuracy: 0.8890\n",
      "Epoch 29/30\n",
      "1719/1719 [==============================] - 4s 2ms/step - loss: 0.2301 - accuracy: 0.9174 - val_loss: 0.2844 - val_accuracy: 0.8952\n",
      "Epoch 30/30\n",
      "1719/1719 [==============================] - 4s 2ms/step - loss: 0.2248 - accuracy: 0.9205 - val_loss: 0.3062 - val_accuracy: 0.8900\n"
     ]
    }
   ],
   "source": [
    "history = model.fit(X_train, y_train, epochs=30, validation_data=(X_valid, y_valid))"
   ]
  },
  {
   "cell_type": "markdown",
   "metadata": {},
   "source": [
    "> * 매개변수로 입력 특성(<code>X_train</code>), 타깃 클래스(<code>y_train</code>), epoch 횟수(기본값은 1), 검증 세트(필수는 아님)를 전달.\n",
    "> * 한 epoch가 끝날 때 마다 검증 세트를 이용해 손실 및 추가적인 측정 지표를 계산함.\n",
    ">   * 훈련 세트 성능이 검증 세트보다 훨씬 높다면 과대적합되었다고 볼 수 있음.  (또는 훈련 세트와 검증 세트간의 데이터가 올바르지 않는 경우 등의 버그가 생긴 것.)\n",
    "> * 여기서는 검증 정확도가 88.8%, 훈련 정확도가 91.8%이므로 둘의 차이가 크지 않아 과대적합이 많이 일어나지 않았다는 의미."
   ]
  },
  {
   "cell_type": "markdown",
   "metadata": {},
   "source": [
    "* <code>validation_data</code> 대신 keras에서 직접 검증에 사용할 훈련 세트의 비율을 지정할 수 있음.\n",
    "  * <code>validation_split=0.1</code>과 같이 사용(섞기 전의 데이터의 마지막 10%를 검증 세트로 사용)"
   ]
  },
  {
   "cell_type": "markdown",
   "metadata": {},
   "source": [
    "* 각 클래스의 출현 빈도가 다르다면 <code>fit()</code>호출 시 <code>class_weight</code>를 지정하는 것이 좋음. 적게 등장하는 클래스에는 높은 가중치를 부여하고 많이 등장하는 클래스는 낮은 가중치를 부여함.\n",
    "  * 손실 계산 시 이 가중치를 사용\n",
    "* 샘플 별로 가중치를 부여하고 싶다면 <code>sample_weight</code>사용.\n",
    "  * 예를 들어, 샘플의 레이블링이 전문가에 의해 이루어졌는지 크라우드소싱 플랫폼을 이용하여 이루어졌는지에 따라 앞선 레이블링에 더 높은 가중치를 부여할 수 있음.\n",
    "* class_weight와 sample_weight 둘 다 사용한다면 두 값을 곱하여 사용함."
   ]
  },
  {
   "cell_type": "markdown",
   "metadata": {},
   "source": [
    "* fit()에 의해 반환된 History 객체에는 훈련 파라미터(<code>history.params</code>), 수행된 epoch 리스트가 포함(<code>history.epoch</code>).\n",
    "* history.history에는 epoch가 끝날 때 마다 훈련 세트와 검증 세트에 대한 손실과 측정한 지표를 담은 dict가 있음. 이를 이용해 pandas Dataframe을 만들고 학습 곡선을 그릴 수 있음."
   ]
  },
  {
   "cell_type": "code",
   "execution_count": 34,
   "metadata": {},
   "outputs": [
    {
     "data": {
      "image/png": "[encoded data removed]",
      "text/plain": [
       "<Figure size 576x360 with 1 Axes>"
      ]
     },
     "metadata": {
      "needs_background": "light"
     },
     "output_type": "display_data"
    }
   ],
   "source": [
    "import pandas as pd\n",
    "import matplotlib.pyplot as plt\n",
    "\n",
    "pd.DataFrame(history.history).plot(figsize=(8, 5))\n",
    "plt.grid(True)\n",
    "plt.gca().set_ylim(0, 1) # 수직축의 범위 설정\n",
    "plt.show()"
   ]
  },
  {
   "cell_type": "markdown",
   "metadata": {},
   "source": [
    "> * 훈련 정확도와 검증 정확도가 꾸준히 상승하고 훈련 손실과 검증 손실은 감소함.\n",
    "> * 검증 곡선이 훈련 곡선과 가까움. 즉, 크게 과대적합되지 않았다는 의미.\n",
    "> * 초기에 검증 세트의 성능이 더 좋아보이는 것은 검증 손실은 epoch가 끝난 후에 계산되고 훈련 손실은 epoch 진행 중에 계산되므로 훈련 곡선은 epoch의 절반만큼 왼쪽으로 옮겨서 봐야 함."
   ]
  },
  {
   "cell_type": "markdown",
   "metadata": {},
   "source": [
    "* 일반적으로 충분히 오래 훈련하면 훈련 세트의 성능이 검증 세트의 성능보다 좋아짐. 검증 손실이 계속해서 감소한다면 모델이 아직 수렴되지 않았다고 볼 수 있음.\n",
    "  * keras에서 fit()을 다시 호출하면 중지되었던 곳에서부터 다시 훈련을 이어갈 수 있음.\n",
    "* 모델 성능이 좋지 않다면 하이퍼파라미터 튜닝이 필요\n",
    "  * 학습률, optimizer 순으로 확인.\n",
    "  * 다른 하이퍼파라미터를 바꾸게 되면 학습률을 다시 튜닝해야 함.\n",
    "  * 그 외에 층 개수, 각 충의 뉴런 개수, 은닉층의 활성화 함수와 같은 모델 하이퍼파라미터 튜닝을 시도할 수 있음.\n",
    "  * <code>batch_size</code>매개변수를 이용해 배치 크기 지정 가능(기본값은 32)\n",
    "* <code>evaluate()</code>를 이용해 테스트 세트로 모델 평가 가능\n",
    "  * 일반적으로는 검증 세트보다 성능이 낮게 나옴(하이퍼파라미터 튜닝이 검증 세트를 기반으로 했기 때문)"
   ]
  },
  {
   "cell_type": "code",
   "execution_count": 35,
   "metadata": {},
   "outputs": [
    {
     "name": "stdout",
     "output_type": "stream",
     "text": [
      "313/313 [==============================] - 1s 2ms/step - loss: 0.3421 - accuracy: 0.8781\n"
     ]
    },
    {
     "data": {
      "text/plain": [
       "[0.3421423137187958, 0.8780999779701233]"
      ]
     },
     "execution_count": 35,
     "metadata": {},
     "output_type": "execute_result"
    }
   ],
   "source": [
    "model.evaluate(X_test, y_test)"
   ]
  },
  {
   "cell_type": "markdown",
   "metadata": {},
   "source": [
    "* <code>predict()</code>메서드를 이용해 새로운 샘플에 대한 예측 가능"
   ]
  },
  {
   "cell_type": "code",
   "execution_count": 36,
   "metadata": {},
   "outputs": [
    {
     "data": {
      "text/plain": [
       "array([[0., 0., 0., 0., 0., 0., 0., 0., 0., 1.],\n",
       "       [0., 0., 1., 0., 0., 0., 0., 0., 0., 0.],\n",
       "       [0., 1., 0., 0., 0., 0., 0., 0., 0., 0.]], dtype=float32)"
      ]
     },
     "execution_count": 36,
     "metadata": {},
     "output_type": "execute_result"
    }
   ],
   "source": [
    "X_new = X_test[:3]  # 테스트 세트의 처음 3개 샘플을 새로운 샘플로 사용\n",
    "y_proba = model.predict(X_new)\n",
    "y_proba.round(2)"
   ]
  },
  {
   "cell_type": "markdown",
   "metadata": {},
   "source": [
    "> * 각 이미지에 대한 클래스 추정 확률을 반환.\n",
    "> * 첫 번째 이미지의 경우 클래스 9(Ankle boot)의 확률이 제일 높음. 그 다음으로는 클래스 7(Sneaker)의 확률이 높고 그 외의 확률은 매우 낮음(즉, 거의 확실히 신발 종류라는 의미)"
   ]
  },
  {
   "cell_type": "code",
   "execution_count": 37,
   "metadata": {},
   "outputs": [
    {
     "name": "stderr",
     "output_type": "stream",
     "text": [
      "d:\\pythonenv\\mlenv\\lib\\site-packages\\tensorflow\\python\\keras\\engine\\sequential.py:455: UserWarning: `model.predict_classes()` is deprecated and will be removed after 2021-01-01. Please use instead:* `np.argmax(model.predict(x), axis=-1)`,   if your model does multi-class classification   (e.g. if it uses a `softmax` last-layer activation).* `(model.predict(x) > 0.5).astype(\"int32\")`,   if your model does binary classification   (e.g. if it uses a `sigmoid` last-layer activation).\n",
      "  warnings.warn('`model.predict_classes()` is deprecated and '\n"
     ]
    }
   ],
   "source": [
    "# 클래스 확률 대신 가장 높은 확률을 가진 클래스만 반환\n",
    "y_pred = model.predict_classes(X_new)"
   ]
  },
  {
   "cell_type": "code",
   "execution_count": 38,
   "metadata": {},
   "outputs": [
    {
     "data": {
      "text/plain": [
       "array([9, 2, 1], dtype=int64)"
      ]
     },
     "execution_count": 38,
     "metadata": {},
     "output_type": "execute_result"
    }
   ],
   "source": [
    "y_pred"
   ]
  },
  {
   "cell_type": "code",
   "execution_count": 39,
   "metadata": {},
   "outputs": [
    {
     "data": {
      "text/plain": [
       "array(['Ankle boot', 'Pullover', 'Trouser'], dtype='<U11')"
      ]
     },
     "execution_count": 39,
     "metadata": {},
     "output_type": "execute_result"
    }
   ],
   "source": [
    "np.array(class_names)[y_pred]"
   ]
  },
  {
   "cell_type": "code",
   "execution_count": 40,
   "metadata": {},
   "outputs": [
    {
     "data": {
      "text/plain": [
       "array(['Ankle boot', 'Pullover', 'Trouser'], dtype='<U11')"
      ]
     },
     "execution_count": 40,
     "metadata": {},
     "output_type": "execute_result"
    }
   ],
   "source": [
    "np.array(class_names)[y_test[:3]]   # 예측값이 실제 레이블과 동일함."
   ]
  },
  {
   "cell_type": "code",
   "execution_count": 41,
   "metadata": {},
   "outputs": [
    {
     "data": {
      "image/png": "[encoded data removed]",
      "text/plain": [
       "<Figure size 518.4x172.8 with 3 Axes>"
      ]
     },
     "metadata": {
      "needs_background": "light"
     },
     "output_type": "display_data"
    }
   ],
   "source": [
    "plt.figure(figsize=(7.2, 2.4))\n",
    "for index, image in enumerate(X_new):\n",
    "    plt.subplot(1, 3, index + 1)\n",
    "    plt.imshow(image, cmap=\"binary\", interpolation=\"nearest\")\n",
    "    plt.axis('off')\n",
    "    plt.title(class_names[y_test[index]], fontsize=12)\n",
    "plt.subplots_adjust(wspace=0.2, hspace=0.5)\n",
    "plt.show()"
   ]
  },
  {
   "cell_type": "markdown",
   "metadata": {},
   "source": [
    "#### Sequential API를 이용한 회귀용 다층 퍼셉트론"
   ]
  },
  {
   "cell_type": "code",
   "execution_count": 42,
   "metadata": {},
   "outputs": [],
   "source": [
    "# 캘리포니아 주택 가격 dataset 사용\n",
    "# 누락된 데이터는 없음.\n",
    "from sklearn.datasets import fetch_california_housing\n",
    "from sklearn.model_selection import train_test_split\n",
    "from sklearn.preprocessing import StandardScaler\n",
    "\n",
    "housing = fetch_california_housing()\n",
    "\n",
    "X_train_full, X_test, y_train_full, y_test = train_test_split(housing.data, housing.target)\n",
    "X_train, X_valid, y_train, y_valid = train_test_split(X_train_full, y_train_full)\n",
    "\n",
    "# 모든 특성의 스케일 조정\n",
    "scaler = StandardScaler()\n",
    "X_train = scaler.fit_transform(X_train)\n",
    "X_valid = scaler.transform(X_valid)\n",
    "X_test = scaler.transform(X_test)"
   ]
  },
  {
   "cell_type": "code",
   "execution_count": 43,
   "metadata": {},
   "outputs": [
    {
     "data": {
      "text/html": [
       "<div>\n",
       "<style scoped>\n",
       "    .dataframe tbody tr th:only-of-type {\n",
       "        vertical-align: middle;\n",
       "    }\n",
       "\n",
       "    .dataframe tbody tr th {\n",
       "        vertical-align: top;\n",
       "    }\n",
       "\n",
       "    .dataframe thead th {\n",
       "        text-align: right;\n",
       "    }\n",
       "</style>\n",
       "<table border=\"1\" class=\"dataframe\">\n",
       "  <thead>\n",
       "    <tr style=\"text-align: right;\">\n",
       "      <th></th>\n",
       "      <th>MedInc</th>\n",
       "      <th>HouseAge</th>\n",
       "      <th>AveRooms</th>\n",
       "      <th>AveBedrms</th>\n",
       "      <th>Population</th>\n",
       "      <th>AveOccup</th>\n",
       "      <th>Latitude</th>\n",
       "      <th>Longitude</th>\n",
       "    </tr>\n",
       "  </thead>\n",
       "  <tbody>\n",
       "    <tr>\n",
       "      <th>0</th>\n",
       "      <td>8.3252</td>\n",
       "      <td>41.0</td>\n",
       "      <td>6.984127</td>\n",
       "      <td>1.023810</td>\n",
       "      <td>322.0</td>\n",
       "      <td>2.555556</td>\n",
       "      <td>37.88</td>\n",
       "      <td>-122.23</td>\n",
       "    </tr>\n",
       "    <tr>\n",
       "      <th>1</th>\n",
       "      <td>8.3014</td>\n",
       "      <td>21.0</td>\n",
       "      <td>6.238137</td>\n",
       "      <td>0.971880</td>\n",
       "      <td>2401.0</td>\n",
       "      <td>2.109842</td>\n",
       "      <td>37.86</td>\n",
       "      <td>-122.22</td>\n",
       "    </tr>\n",
       "    <tr>\n",
       "      <th>2</th>\n",
       "      <td>7.2574</td>\n",
       "      <td>52.0</td>\n",
       "      <td>8.288136</td>\n",
       "      <td>1.073446</td>\n",
       "      <td>496.0</td>\n",
       "      <td>2.802260</td>\n",
       "      <td>37.85</td>\n",
       "      <td>-122.24</td>\n",
       "    </tr>\n",
       "    <tr>\n",
       "      <th>3</th>\n",
       "      <td>5.6431</td>\n",
       "      <td>52.0</td>\n",
       "      <td>5.817352</td>\n",
       "      <td>1.073059</td>\n",
       "      <td>558.0</td>\n",
       "      <td>2.547945</td>\n",
       "      <td>37.85</td>\n",
       "      <td>-122.25</td>\n",
       "    </tr>\n",
       "    <tr>\n",
       "      <th>4</th>\n",
       "      <td>3.8462</td>\n",
       "      <td>52.0</td>\n",
       "      <td>6.281853</td>\n",
       "      <td>1.081081</td>\n",
       "      <td>565.0</td>\n",
       "      <td>2.181467</td>\n",
       "      <td>37.85</td>\n",
       "      <td>-122.25</td>\n",
       "    </tr>\n",
       "    <tr>\n",
       "      <th>...</th>\n",
       "      <td>...</td>\n",
       "      <td>...</td>\n",
       "      <td>...</td>\n",
       "      <td>...</td>\n",
       "      <td>...</td>\n",
       "      <td>...</td>\n",
       "      <td>...</td>\n",
       "      <td>...</td>\n",
       "    </tr>\n",
       "    <tr>\n",
       "      <th>20635</th>\n",
       "      <td>1.5603</td>\n",
       "      <td>25.0</td>\n",
       "      <td>5.045455</td>\n",
       "      <td>1.133333</td>\n",
       "      <td>845.0</td>\n",
       "      <td>2.560606</td>\n",
       "      <td>39.48</td>\n",
       "      <td>-121.09</td>\n",
       "    </tr>\n",
       "    <tr>\n",
       "      <th>20636</th>\n",
       "      <td>2.5568</td>\n",
       "      <td>18.0</td>\n",
       "      <td>6.114035</td>\n",
       "      <td>1.315789</td>\n",
       "      <td>356.0</td>\n",
       "      <td>3.122807</td>\n",
       "      <td>39.49</td>\n",
       "      <td>-121.21</td>\n",
       "    </tr>\n",
       "    <tr>\n",
       "      <th>20637</th>\n",
       "      <td>1.7000</td>\n",
       "      <td>17.0</td>\n",
       "      <td>5.205543</td>\n",
       "      <td>1.120092</td>\n",
       "      <td>1007.0</td>\n",
       "      <td>2.325635</td>\n",
       "      <td>39.43</td>\n",
       "      <td>-121.22</td>\n",
       "    </tr>\n",
       "    <tr>\n",
       "      <th>20638</th>\n",
       "      <td>1.8672</td>\n",
       "      <td>18.0</td>\n",
       "      <td>5.329513</td>\n",
       "      <td>1.171920</td>\n",
       "      <td>741.0</td>\n",
       "      <td>2.123209</td>\n",
       "      <td>39.43</td>\n",
       "      <td>-121.32</td>\n",
       "    </tr>\n",
       "    <tr>\n",
       "      <th>20639</th>\n",
       "      <td>2.3886</td>\n",
       "      <td>16.0</td>\n",
       "      <td>5.254717</td>\n",
       "      <td>1.162264</td>\n",
       "      <td>1387.0</td>\n",
       "      <td>2.616981</td>\n",
       "      <td>39.37</td>\n",
       "      <td>-121.24</td>\n",
       "    </tr>\n",
       "  </tbody>\n",
       "</table>\n",
       "<p>20640 rows × 8 columns</p>\n",
       "</div>"
      ],
      "text/plain": [
       "       MedInc  HouseAge  AveRooms  AveBedrms  Population  AveOccup  Latitude  \\\n",
       "0      8.3252      41.0  6.984127   1.023810       322.0  2.555556     37.88   \n",
       "1      8.3014      21.0  6.238137   0.971880      2401.0  2.109842     37.86   \n",
       "2      7.2574      52.0  8.288136   1.073446       496.0  2.802260     37.85   \n",
       "3      5.6431      52.0  5.817352   1.073059       558.0  2.547945     37.85   \n",
       "4      3.8462      52.0  6.281853   1.081081       565.0  2.181467     37.85   \n",
       "...       ...       ...       ...        ...         ...       ...       ...   \n",
       "20635  1.5603      25.0  5.045455   1.133333       845.0  2.560606     39.48   \n",
       "20636  2.5568      18.0  6.114035   1.315789       356.0  3.122807     39.49   \n",
       "20637  1.7000      17.0  5.205543   1.120092      1007.0  2.325635     39.43   \n",
       "20638  1.8672      18.0  5.329513   1.171920       741.0  2.123209     39.43   \n",
       "20639  2.3886      16.0  5.254717   1.162264      1387.0  2.616981     39.37   \n",
       "\n",
       "       Longitude  \n",
       "0        -122.23  \n",
       "1        -122.22  \n",
       "2        -122.24  \n",
       "3        -122.25  \n",
       "4        -122.25  \n",
       "...          ...  \n",
       "20635    -121.09  \n",
       "20636    -121.21  \n",
       "20637    -121.22  \n",
       "20638    -121.32  \n",
       "20639    -121.24  \n",
       "\n",
       "[20640 rows x 8 columns]"
      ]
     },
     "execution_count": 43,
     "metadata": {},
     "output_type": "execute_result"
    }
   ],
   "source": [
    "pd.DataFrame(housing.data, columns = housing.feature_names)"
   ]
  },
  {
   "cell_type": "code",
   "execution_count": 44,
   "metadata": {},
   "outputs": [
    {
     "name": "stdout",
     "output_type": "stream",
     "text": [
      "Epoch 1/20\n",
      "363/363 [==============================] - 1s 2ms/step - loss: 1.0401 - val_loss: 0.6503\n",
      "Epoch 2/20\n",
      "363/363 [==============================] - 1s 1ms/step - loss: 0.5519 - val_loss: 0.5291\n",
      "Epoch 3/20\n",
      "363/363 [==============================] - 1s 1ms/step - loss: 0.5573 - val_loss: 0.5189\n",
      "Epoch 4/20\n",
      "363/363 [==============================] - 1s 2ms/step - loss: 0.4817 - val_loss: 0.5025\n",
      "Epoch 5/20\n",
      "363/363 [==============================] - 1s 1ms/step - loss: 0.4616 - val_loss: 0.4757\n",
      "Epoch 6/20\n",
      "363/363 [==============================] - 1s 1ms/step - loss: 0.4455 - val_loss: 0.4541\n",
      "Epoch 7/20\n",
      "363/363 [==============================] - 0s 1ms/step - loss: 0.4380 - val_loss: 0.4539\n",
      "Epoch 8/20\n",
      "363/363 [==============================] - 0s 1ms/step - loss: 0.4287 - val_loss: 0.4362\n",
      "Epoch 9/20\n",
      "363/363 [==============================] - 0s 1ms/step - loss: 0.4209 - val_loss: 0.4290\n",
      "Epoch 10/20\n",
      "363/363 [==============================] - 1s 1ms/step - loss: 0.4151 - val_loss: 0.4233\n",
      "Epoch 11/20\n",
      "363/363 [==============================] - 0s 1ms/step - loss: 0.4094 - val_loss: 0.4222\n",
      "Epoch 12/20\n",
      "363/363 [==============================] - 1s 1ms/step - loss: 0.4046 - val_loss: 0.4214\n",
      "Epoch 13/20\n",
      "363/363 [==============================] - 0s 1ms/step - loss: 0.4004 - val_loss: 0.4118\n",
      "Epoch 14/20\n",
      "363/363 [==============================] - 1s 1ms/step - loss: 0.3967 - val_loss: 0.4088\n",
      "Epoch 15/20\n",
      "363/363 [==============================] - 0s 1ms/step - loss: 0.3923 - val_loss: 0.4058\n",
      "Epoch 16/20\n",
      "363/363 [==============================] - 1s 1ms/step - loss: 0.3900 - val_loss: 0.4021\n",
      "Epoch 17/20\n",
      "363/363 [==============================] - 1s 2ms/step - loss: 0.3874 - val_loss: 0.3981\n",
      "Epoch 18/20\n",
      "363/363 [==============================] - 0s 1ms/step - loss: 0.3852 - val_loss: 0.4009\n",
      "Epoch 19/20\n",
      "363/363 [==============================] - 0s 1ms/step - loss: 0.3820 - val_loss: 0.3953\n",
      "Epoch 20/20\n",
      "363/363 [==============================] - 1s 1ms/step - loss: 0.3798 - val_loss: 0.3948\n",
      "162/162 [==============================] - 0s 1ms/step - loss: 0.3747\n"
     ]
    }
   ],
   "source": [
    "# 회귀용 MLP는 분류에서 사용했던 것과 거의 동일.\n",
    "# 하지만 출력층은 활성화 함수가 없는 하나의 뉴런(하나의 값을 예측하기 때문), 손실 함수는 MSE.\n",
    "# 데이터셋에 잡음이 많으므로 과대적합을 막기 위해 뉴런 수가 적은 은닉층 하나만 사용.\n",
    "\n",
    "model = keras.models.Sequential([\n",
    "    keras.layers.Dense(30, activation=\"relu\", input_shape=X_train.shape[1:]),\n",
    "    keras.layers.Dense(1)\n",
    "])\n",
    "\n",
    "model.compile(loss=\"mean_squared_error\", optimizer=\"sgd\")\n",
    "history = model.fit(X_train, y_train, epochs=20, validation_data=(X_valid, y_valid))\n",
    "mse_test = model.evaluate(X_test, y_test)\n",
    "X_new = X_test[:3]\n",
    "y_pred = model.predict(X_new)"
   ]
  },
  {
   "cell_type": "code",
   "execution_count": 45,
   "metadata": {},
   "outputs": [
    {
     "data": {
      "image/png": "[encoded data removed]",
      "text/plain": [
       "<Figure size 576x360 with 1 Axes>"
      ]
     },
     "metadata": {
      "needs_background": "light"
     },
     "output_type": "display_data"
    }
   ],
   "source": [
    "pd.DataFrame(history.history).plot(figsize=(8, 5))\n",
    "plt.grid(True)\n",
    "plt.gca().set_ylim(0, 1) # 수직축의 범위 설정\n",
    "plt.show()"
   ]
  },
  {
   "cell_type": "code",
   "execution_count": 46,
   "metadata": {},
   "outputs": [
    {
     "data": {
      "text/plain": [
       "array([[4.1304464 ],\n",
       "       [0.94138616],\n",
       "       [1.4678792 ]], dtype=float32)"
      ]
     },
     "execution_count": 46,
     "metadata": {},
     "output_type": "execute_result"
    }
   ],
   "source": [
    "y_pred"
   ]
  },
  {
   "cell_type": "code",
   "execution_count": 47,
   "metadata": {},
   "outputs": [
    {
     "data": {
      "text/plain": [
       "array([4.159, 0.934, 1.788])"
      ]
     },
     "execution_count": 47,
     "metadata": {},
     "output_type": "execute_result"
    }
   ],
   "source": [
    "y_test[:3]"
   ]
  },
  {
   "cell_type": "markdown",
   "metadata": {},
   "source": [
    "#### 함수형 API로 복잡한 모델 만들기"
   ]
  },
  {
   "cell_type": "markdown",
   "metadata": {},
   "source": [
    "* 입력과 출력이 여러 개 이거나 더 복잡한 네트워크를 갖는 신경망을 만들려면 함수형 API사용.\n",
    "* 순차적이지 않은 신경망의 예로는 Wide&Deep 신경망이 있음.\n",
    "  * 입력의 일부 또는 전체가 출력층에 바로 연결됨. 이를 사용하면 신경망이 깊게 쌓은 층을 사용한 복잡한 패턴과 짧은 경로를 사용한 간단한 규칙을 모두 학습할 수 있음.\n",
    "  * 일반적인 MLP는 네트워크에 있는 층 전체에 모든 데이터를 통과시키므로 데이터에 있는 간단한 패턴이 왜곡될 수 있음."
   ]
  },
  {
   "cell_type": "code",
   "execution_count": 48,
   "metadata": {},
   "outputs": [],
   "source": [
    "input_ = keras.layers.Input(shape=X_train.shape[1:])            # 1\n",
    "hidden1 = keras.layers.Dense(30, activation=\"relu\")(input_)     # 2\n",
    "hidden2 = keras.layers.Dense(30, activation=\"relu\")(hidden1)    # 3\n",
    "concat = keras.layers.Concatenate()([input_, hidden2])          # 4\n",
    "output = keras.layers.Dense(1)(concat)                          # 5\n",
    "model = keras.Model(inputs=[input_], outputs=[output])          # 6"
   ]
  },
  {
   "cell_type": "code",
   "execution_count": 49,
   "metadata": {},
   "outputs": [
    {
     "data": {
      "image/png": "[encoded data removed]",
      "text/plain": [
       "<IPython.core.display.Image object>"
      ]
     },
     "execution_count": 49,
     "metadata": {},
     "output_type": "execute_result"
    }
   ],
   "source": [
    "keras.utils.plot_model(model)"
   ]
  },
  {
   "cell_type": "markdown",
   "metadata": {},
   "source": [
    "> * 1 : Input 객체 생성. <code>shape</code>, <code>dtype</code>을 포함해 모델의 입력을 정의. 한 모델이 여러 개의 입력을 가질 수 있음.\n",
    "> * 2 : 30개의 뉴런과 활성화 함수로 ReLU를 사용하는 Dense층을 만듦. 만들 때 입력과 함께 함수처럼 호출됨.\n",
    ">   * python에서 객체를 함수처럼 호출하면 __call__()이 실행되고, 여기서 build()를 호출해 층의 가중치를 생성함.\n",
    ">   * keras에게 층이 연결될 방법을 알려주고, 데이터는 처리하지 않음.\n",
    "> * 3 : 두 번째 Dense 은닉층 생성. 첫 번째 은닉층의 출력을 전달함.\n",
    "> * 4 : Concatenate층을 만들어 두 번째 은닉층의 출력과 입력층을 연결.\n",
    ">   * <code>axis</code>매개변수를 이용해 연결할 기준 차원을 지정할 수 있음(기본값은 -1, 즉 마지막 차원)\n",
    ">   * <code>keras.layers.concatenate()</code> 함수를 이용해 주어진 입력으로 바로 Concatenate층을 만들 수 있음.\n",
    "> * 5 : 활성화 함수가 없는 하나의 뉴런으로 이루어진 출력층을 만듦. Concatenate층이 만든 결과를 사용해 호출\n",
    "> * 6 : 사용할 입력과 출력을 지정해 keras Model을 만듦."
   ]
  },
  {
   "cell_type": "markdown",
   "metadata": {},
   "source": [
    "* 만들어진 모델은 동일하게 컴파일, 훈련, 평가, 예측이 가능."
   ]
  },
  {
   "cell_type": "code",
   "execution_count": 50,
   "metadata": {},
   "outputs": [
    {
     "name": "stdout",
     "output_type": "stream",
     "text": [
      "Epoch 1/20\n",
      "363/363 [==============================] - 1s 2ms/step - loss: 0.8547 - val_loss: 0.6471\n",
      "Epoch 2/20\n",
      "363/363 [==============================] - 1s 1ms/step - loss: 0.7453 - val_loss: 0.8266\n",
      "Epoch 3/20\n",
      "363/363 [==============================] - 1s 2ms/step - loss: 2.4318 - val_loss: 17.6417\n",
      "Epoch 4/20\n",
      "363/363 [==============================] - 1s 2ms/step - loss: nan - val_loss: nan\n",
      "Epoch 5/20\n",
      "363/363 [==============================] - 1s 2ms/step - loss: nan - val_loss: nan\n",
      "Epoch 6/20\n",
      "363/363 [==============================] - 1s 2ms/step - loss: nan - val_loss: nan\n",
      "Epoch 7/20\n",
      "363/363 [==============================] - 1s 2ms/step - loss: nan - val_loss: nan\n",
      "Epoch 8/20\n",
      "363/363 [==============================] - 1s 1ms/step - loss: nan - val_loss: nan\n",
      "Epoch 9/20\n",
      "363/363 [==============================] - 1s 2ms/step - loss: nan - val_loss: nan\n",
      "Epoch 10/20\n",
      "363/363 [==============================] - 1s 2ms/step - loss: nan - val_loss: nan\n",
      "Epoch 11/20\n",
      "363/363 [==============================] - 1s 2ms/step - loss: nan - val_loss: nan\n",
      "Epoch 12/20\n",
      "363/363 [==============================] - 1s 2ms/step - loss: nan - val_loss: nan\n",
      "Epoch 13/20\n",
      "363/363 [==============================] - 1s 2ms/step - loss: nan - val_loss: nan\n",
      "Epoch 14/20\n",
      "363/363 [==============================] - 1s 2ms/step - loss: nan - val_loss: nan\n",
      "Epoch 15/20\n",
      "363/363 [==============================] - 1s 2ms/step - loss: nan - val_loss: nan\n",
      "Epoch 16/20\n",
      "363/363 [==============================] - 1s 2ms/step - loss: nan - val_loss: nan\n",
      "Epoch 17/20\n",
      "363/363 [==============================] - 1s 2ms/step - loss: nan - val_loss: nan\n",
      "Epoch 18/20\n",
      "363/363 [==============================] - 1s 2ms/step - loss: nan - val_loss: nan\n",
      "Epoch 19/20\n",
      "363/363 [==============================] - 1s 2ms/step - loss: nan - val_loss: nan\n",
      "Epoch 20/20\n",
      "363/363 [==============================] - 1s 2ms/step - loss: nan - val_loss: nan\n",
      "162/162 [==============================] - 0s 1ms/step - loss: nan\n"
     ]
    }
   ],
   "source": [
    "model.compile(loss=\"mean_squared_error\", optimizer=\"sgd\")\n",
    "history = model.fit(X_train, y_train, epochs=20, validation_data=(X_valid, y_valid))\n",
    "mse_test = model.evaluate(X_test, y_test)\n",
    "X_new = X_test[:3]\n",
    "y_pred = model.predict(X_new)"
   ]
  },
  {
   "cell_type": "code",
   "execution_count": 51,
   "metadata": {},
   "outputs": [
    {
     "data": {
      "text/plain": [
       "array([[nan],\n",
       "       [nan],\n",
       "       [nan]], dtype=float32)"
      ]
     },
     "execution_count": 51,
     "metadata": {},
     "output_type": "execute_result"
    }
   ],
   "source": [
    "y_pred"
   ]
  },
  {
   "cell_type": "code",
   "execution_count": 52,
   "metadata": {},
   "outputs": [
    {
     "data": {
      "text/plain": [
       "array([4.159, 0.934, 1.788])"
      ]
     },
     "execution_count": 52,
     "metadata": {},
     "output_type": "execute_result"
    }
   ],
   "source": [
    "y_test[:3]"
   ]
  },
  {
   "cell_type": "markdown",
   "metadata": {},
   "source": [
    "* 일부 특성은 짧은 경로(입력-출력)로 전달하고, 다른 특성들은 깊은 경로(입력-은닉1-은닉2-출력)로 전달한다면 여러 입력을 사용하면 됨.\n",
    "  * 짧은 경로와 깊은 경로에 전달되는 특성은 중복될 수 있음."
   ]
  },
  {
   "cell_type": "code",
   "execution_count": 53,
   "metadata": {},
   "outputs": [],
   "source": [
    "# 특성 index 0~4는 짧은 경로로, 특성 index 2~7은 깊은 경로로 보냄\n",
    "input_A = keras.layers.Input(shape=[5], name=\"wide_input\")\n",
    "input_B = keras.layers.Input(shape=[6], name=\"deep_input\")\n",
    "hidden1 = keras.layers.Dense(30, activation=\"relu\")(input_B)\n",
    "hidden2 = keras.layers.Dense(30, activation=\"relu\")(hidden1)\n",
    "concat = keras.layers.concatenate([input_A, hidden2])\n",
    "output = keras.layers.Dense(1, name=\"output\")(concat)\n",
    "model = keras.Model(inputs=[input_A, input_B], outputs=[output])"
   ]
  },
  {
   "cell_type": "code",
   "execution_count": 54,
   "metadata": {},
   "outputs": [
    {
     "data": {
      "image/png": "[encoded data removed]",
      "text/plain": [
       "<IPython.core.display.Image object>"
      ]
     },
     "execution_count": 54,
     "metadata": {},
     "output_type": "execute_result"
    }
   ],
   "source": [
    "keras.utils.plot_model(model)"
   ]
  },
  {
   "cell_type": "markdown",
   "metadata": {},
   "source": [
    "> * 복잡한 모델은 <code>name</code>파라미터를 이용해 이름을 붙여줌."
   ]
  },
  {
   "cell_type": "markdown",
   "metadata": {},
   "source": [
    "* fit()호출 시 입력은 하나의 입력 행렬 <code>X_train</code>대신 입력마다 하나씩 행렬의 튜플 <code>(X_train_A, X_train_B)</code>를 전달해야 함. validation set과, <code>evaluate(), predict()</code> 호출 시의 X_test와 X_new도 동일."
   ]
  },
  {
   "cell_type": "code",
   "execution_count": 55,
   "metadata": {},
   "outputs": [
    {
     "name": "stdout",
     "output_type": "stream",
     "text": [
      "Epoch 1/20\n",
      "363/363 [==============================] - 1s 2ms/step - loss: 2.0807 - val_loss: 0.9482\n",
      "Epoch 2/20\n",
      "363/363 [==============================] - 1s 2ms/step - loss: 0.7955 - val_loss: 0.7735\n",
      "Epoch 3/20\n",
      "363/363 [==============================] - 1s 2ms/step - loss: 0.7077 - val_loss: 0.7152\n",
      "Epoch 4/20\n",
      "363/363 [==============================] - 1s 2ms/step - loss: 0.6610 - val_loss: 0.6793\n",
      "Epoch 5/20\n",
      "363/363 [==============================] - 1s 2ms/step - loss: 0.6314 - val_loss: 0.6462\n",
      "Epoch 6/20\n",
      "363/363 [==============================] - 1s 2ms/step - loss: 0.6042 - val_loss: 0.6222\n",
      "Epoch 7/20\n",
      "363/363 [==============================] - 1s 2ms/step - loss: 0.5841 - val_loss: 0.6034\n",
      "Epoch 8/20\n",
      "363/363 [==============================] - 1s 2ms/step - loss: 0.5678 - val_loss: 0.5876\n",
      "Epoch 9/20\n",
      "363/363 [==============================] - 1s 2ms/step - loss: 0.5546 - val_loss: 0.5727\n",
      "Epoch 10/20\n",
      "363/363 [==============================] - 1s 2ms/step - loss: 0.5423 - val_loss: 0.5617\n",
      "Epoch 11/20\n",
      "363/363 [==============================] - 1s 2ms/step - loss: 0.5321 - val_loss: 0.5549\n",
      "Epoch 12/20\n",
      "363/363 [==============================] - 1s 2ms/step - loss: 0.5253 - val_loss: 0.5432\n",
      "Epoch 13/20\n",
      "363/363 [==============================] - 1s 2ms/step - loss: 0.5166 - val_loss: 0.5363\n",
      "Epoch 14/20\n",
      "363/363 [==============================] - 1s 2ms/step - loss: 0.5104 - val_loss: 0.5294\n",
      "Epoch 15/20\n",
      "363/363 [==============================] - 1s 2ms/step - loss: 0.5053 - val_loss: 0.5240\n",
      "Epoch 16/20\n",
      "363/363 [==============================] - 1s 2ms/step - loss: 0.5005 - val_loss: 0.5188\n",
      "Epoch 17/20\n",
      "363/363 [==============================] - 1s 2ms/step - loss: 0.4967 - val_loss: 0.5152\n",
      "Epoch 18/20\n",
      "363/363 [==============================] - 1s 2ms/step - loss: 0.4930 - val_loss: 0.5098\n",
      "Epoch 19/20\n",
      "363/363 [==============================] - 1s 2ms/step - loss: 0.4889 - val_loss: 0.5069\n",
      "Epoch 20/20\n",
      "363/363 [==============================] - 1s 2ms/step - loss: 0.4856 - val_loss: 0.5088\n",
      "162/162 [==============================] - 0s 1ms/step - loss: 0.4748\n"
     ]
    }
   ],
   "source": [
    "model.compile(loss=\"mse\", optimizer=keras.optimizers.SGD(learning_rate=1e-3))\n",
    "\n",
    "X_train_A, X_train_B = X_train[:, :5], X_train[:, 2:]\n",
    "X_valid_A, X_valid_B = X_valid[:, :5], X_valid[:, 2:]\n",
    "X_test_A, X_test_B = X_test[:, :5], X_test[:, 2:]\n",
    "X_new_A, X_new_B = X_test_A[:3], X_test_B[:3]\n",
    "\n",
    "history = model.fit((X_train_A, X_train_B), y_train, epochs=20, validation_data=((X_valid_A, X_valid_B), y_valid))\n",
    "mse_test = model.evaluate((X_test_A, X_test_B), y_test)\n",
    "y_pred = model.predict((X_new_A, X_new_B))"
   ]
  },
  {
   "cell_type": "code",
   "execution_count": 56,
   "metadata": {},
   "outputs": [
    {
     "data": {
      "text/plain": [
       "array([[4.1986513],\n",
       "       [1.4334967],\n",
       "       [1.4815218]], dtype=float32)"
      ]
     },
     "execution_count": 56,
     "metadata": {},
     "output_type": "execute_result"
    }
   ],
   "source": [
    "y_pred"
   ]
  },
  {
   "cell_type": "code",
   "execution_count": 57,
   "metadata": {},
   "outputs": [
    {
     "data": {
      "text/plain": [
       "array([4.159, 0.934, 1.788])"
      ]
     },
     "execution_count": 57,
     "metadata": {},
     "output_type": "execute_result"
    }
   ],
   "source": [
    "y_test[:3]"
   ]
  },
  {
   "cell_type": "markdown",
   "metadata": {},
   "source": [
    "* 여러 개의 출력을 가지는 모델도 생성 가능.\n",
    "  * 여러 출력이 필요한 경우들:\n",
    "  * ex) 그림에 있는 주요 물체를 분류하고 그 위치를 알아야 할 때 회귀 작업(물체 중심의 좌표, 너비, 높이)과 분류 작업을 함께 해야 함\n",
    "  * 동일한 데이터에 독립적인 여러 작업을 수행할 때.\n",
    "    * 작업마다 새로운 신경망을 훈련하는 것 보다 작업마다 하나의 출력을 가진 단일 신경망을 훈련하는 것이 여러 작업에 걸쳐 유용한 특성을 학습할 수 있기 때문에 보통 더 나은 결과가 나옴.(ex. 얼굴 사진으로 다중 작업 분류. 한 출력은 얼굴 표정을 분류하고 다른 출력은 안경을 썼는 지 분류하는 등.)\n",
    "    * 규제 기법으로 사용할 때. (ex. 신경망 구조 안에 보조 출력을 사용해 하위 네트워크가 나머지 네트워크에 의존하지 않고 그 자체로 유용한 것을 학습하는 지 확인하는 데 사용.)\n",
    "* 각 출력별로 자신만의 손실 함수가 필요하므로 모델 compile시 손실의 리스트를 전달해야 함.\n",
    "  * 하나만 전달하면 모든 출력의 손실 함수가 동일하다고 가정하게 됨.\n",
    "  * 리스트로 전달된 손실을 모두 더하여 최종 손실을 구해 훈련에 사용함.\n",
    "  * 보조 출력은 규제로 사용하므로 주 출력의 손실에 더 많은 가중치를 부여해야 함. <code>loss_weight</code> 매개변수로 지정가능."
   ]
  },
  {
   "cell_type": "code",
   "execution_count": 58,
   "metadata": {},
   "outputs": [],
   "source": [
    "# 보조 출력 추가\n",
    "\n",
    "# 출력층 앞까지는 이전과 동일.\n",
    "input_A = keras.layers.Input(shape=[5], name=\"wide_input\")\n",
    "input_B = keras.layers.Input(shape=[6], name=\"deep_input\")\n",
    "hidden1 = keras.layers.Dense(30, activation=\"relu\")(input_B)\n",
    "hidden2 = keras.layers.Dense(30, activation=\"relu\")(hidden1)\n",
    "concat = keras.layers.concatenate([input_A, hidden2])\n",
    "\n",
    "output = keras.layers.Dense(1, name=\"main_output\")(concat)\n",
    "aux_output = keras.layers.Dense(1, name=\"aux_output\")(hidden2) # 보조 출력층\n",
    "model = keras.Model(inputs=[input_A, input_B], outputs=[output, aux_output])"
   ]
  },
  {
   "cell_type": "code",
   "execution_count": 59,
   "metadata": {},
   "outputs": [
    {
     "data": {
      "image/png": "[encoded data removed]",
      "text/plain": [
       "<IPython.core.display.Image object>"
      ]
     },
     "execution_count": 59,
     "metadata": {},
     "output_type": "execute_result"
    }
   ],
   "source": [
    "keras.utils.plot_model(model)"
   ]
  },
  {
   "cell_type": "code",
   "execution_count": 60,
   "metadata": {},
   "outputs": [],
   "source": [
    "model.compile(loss=[\"mse\", \"mse\"], loss_weights=[0.9, 0.1], optimizer=\"sgd\")"
   ]
  },
  {
   "cell_type": "markdown",
   "metadata": {},
   "source": [
    "* fit() 출력층이 여러개일 때 각 출력에 대한 레이블을 제공해야 함. 여기서는 두 출력이 같은 것을 예측해야 하므로 <code>(y_train, y_train)</code>을 사용.\n",
    "  * y_valid와 y_test도 동일"
   ]
  },
  {
   "cell_type": "code",
   "execution_count": 61,
   "metadata": {},
   "outputs": [
    {
     "name": "stdout",
     "output_type": "stream",
     "text": [
      "Epoch 1/20\n",
      "363/363 [==============================] - 1s 2ms/step - loss: 1.3355 - main_output_loss: 1.2775 - aux_output_loss: 1.8572 - val_loss: 0.6792 - val_main_output_loss: 0.6047 - val_aux_output_loss: 1.3499\n",
      "Epoch 2/20\n",
      "363/363 [==============================] - 1s 2ms/step - loss: 0.6406 - main_output_loss: 0.5799 - aux_output_loss: 1.1871 - val_loss: 0.5849 - val_main_output_loss: 0.5308 - val_aux_output_loss: 1.0717\n",
      "Epoch 3/20\n",
      "363/363 [==============================] - 1s 2ms/step - loss: 0.5393 - main_output_loss: 0.4925 - aux_output_loss: 0.9606 - val_loss: 0.5771 - val_main_output_loss: 0.5373 - val_aux_output_loss: 0.9356\n",
      "Epoch 4/20\n",
      "363/363 [==============================] - 1s 2ms/step - loss: 0.5064 - main_output_loss: 0.4694 - aux_output_loss: 0.8389 - val_loss: 0.5048 - val_main_output_loss: 0.4686 - val_aux_output_loss: 0.8310\n",
      "Epoch 5/20\n",
      "363/363 [==============================] - 1s 2ms/step - loss: 0.4939 - main_output_loss: 0.4645 - aux_output_loss: 0.7592 - val_loss: 0.4954 - val_main_output_loss: 0.4650 - val_aux_output_loss: 0.7685\n",
      "Epoch 6/20\n",
      "363/363 [==============================] - 1s 2ms/step - loss: 0.4824 - main_output_loss: 0.4579 - aux_output_loss: 0.7035 - val_loss: 0.4709 - val_main_output_loss: 0.4440 - val_aux_output_loss: 0.7136\n",
      "Epoch 7/20\n",
      "363/363 [==============================] - 1s 2ms/step - loss: 0.4545 - main_output_loss: 0.4313 - aux_output_loss: 0.6629 - val_loss: 0.4582 - val_main_output_loss: 0.4339 - val_aux_output_loss: 0.6771\n",
      "Epoch 8/20\n",
      "363/363 [==============================] - 1s 2ms/step - loss: 0.4412 - main_output_loss: 0.4200 - aux_output_loss: 0.6329 - val_loss: 0.4502 - val_main_output_loss: 0.4286 - val_aux_output_loss: 0.6446\n",
      "Epoch 9/20\n",
      "363/363 [==============================] - 1s 2ms/step - loss: 0.4336 - main_output_loss: 0.4140 - aux_output_loss: 0.6102 - val_loss: 0.4344 - val_main_output_loss: 0.4135 - val_aux_output_loss: 0.6223\n",
      "Epoch 10/20\n",
      "363/363 [==============================] - 1s 2ms/step - loss: 0.4211 - main_output_loss: 0.4024 - aux_output_loss: 0.5892 - val_loss: 0.4466 - val_main_output_loss: 0.4277 - val_aux_output_loss: 0.6170\n",
      "Epoch 11/20\n",
      "363/363 [==============================] - 1s 2ms/step - loss: 0.4127 - main_output_loss: 0.3947 - aux_output_loss: 0.5743 - val_loss: 0.4189 - val_main_output_loss: 0.3993 - val_aux_output_loss: 0.5955\n",
      "Epoch 12/20\n",
      "363/363 [==============================] - 1s 2ms/step - loss: 0.4057 - main_output_loss: 0.3887 - aux_output_loss: 0.5590 - val_loss: 0.4149 - val_main_output_loss: 0.3965 - val_aux_output_loss: 0.5801\n",
      "Epoch 13/20\n",
      "363/363 [==============================] - 1s 1ms/step - loss: 0.4006 - main_output_loss: 0.3844 - aux_output_loss: 0.5461 - val_loss: 0.4038 - val_main_output_loss: 0.3863 - val_aux_output_loss: 0.5615\n",
      "Epoch 14/20\n",
      "363/363 [==============================] - 1s 2ms/step - loss: 0.3974 - main_output_loss: 0.3822 - aux_output_loss: 0.5348 - val_loss: 0.4024 - val_main_output_loss: 0.3853 - val_aux_output_loss: 0.5557\n",
      "Epoch 15/20\n",
      "363/363 [==============================] - 1s 1ms/step - loss: 0.4667 - main_output_loss: 0.4565 - aux_output_loss: 0.5592 - val_loss: 0.4167 - val_main_output_loss: 0.3988 - val_aux_output_loss: 0.5782\n",
      "Epoch 16/20\n",
      "363/363 [==============================] - 1s 2ms/step - loss: 0.4110 - main_output_loss: 0.3976 - aux_output_loss: 0.5323 - val_loss: 0.4093 - val_main_output_loss: 0.3938 - val_aux_output_loss: 0.5485\n",
      "Epoch 17/20\n",
      "363/363 [==============================] - 1s 2ms/step - loss: 0.3847 - main_output_loss: 0.3708 - aux_output_loss: 0.5095 - val_loss: 0.4175 - val_main_output_loss: 0.4030 - val_aux_output_loss: 0.5478\n",
      "Epoch 18/20\n",
      "363/363 [==============================] - 1s 2ms/step - loss: 0.3856 - main_output_loss: 0.3725 - aux_output_loss: 0.5036 - val_loss: 0.3899 - val_main_output_loss: 0.3752 - val_aux_output_loss: 0.5223\n",
      "Epoch 19/20\n",
      "363/363 [==============================] - 1s 1ms/step - loss: 0.3727 - main_output_loss: 0.3594 - aux_output_loss: 0.4916 - val_loss: 0.3831 - val_main_output_loss: 0.3691 - val_aux_output_loss: 0.5088\n",
      "Epoch 20/20\n",
      "363/363 [==============================] - 1s 2ms/step - loss: 0.3660 - main_output_loss: 0.3530 - aux_output_loss: 0.4832 - val_loss: 0.3954 - val_main_output_loss: 0.3823 - val_aux_output_loss: 0.5134\n"
     ]
    }
   ],
   "source": [
    "history = model.fit([X_train_A, X_train_B], [y_train, y_train], epochs=20, validation_data=([X_valid_A, X_valid_B], [y_valid, y_valid]))"
   ]
  },
  {
   "cell_type": "code",
   "execution_count": 62,
   "metadata": {},
   "outputs": [
    {
     "name": "stdout",
     "output_type": "stream",
     "text": [
      "162/162 [==============================] - 0s 1ms/step - loss: 0.3831 - main_output_loss: 0.3699 - aux_output_loss: 0.5016\n",
      "WARNING:tensorflow:5 out of the last 6 calls to <function Model.make_predict_function.<locals>.predict_function at 0x0000014B2D4B20D0> triggered tf.function retracing. Tracing is expensive and the excessive number of tracings could be due to (1) creating @tf.function repeatedly in a loop, (2) passing tensors with different shapes, (3) passing Python objects instead of tensors. For (1), please define your @tf.function outside of the loop. For (2), @tf.function has experimental_relax_shapes=True option that relaxes argument shapes that can avoid unnecessary retracing. For (3), please refer to https://www.tensorflow.org/guide/function#controlling_retracing and https://www.tensorflow.org/api_docs/python/tf/function for  more details.\n"
     ]
    }
   ],
   "source": [
    "total_loss, main_loss, aux_loss = model.evaluate([X_test_A, X_test_B], [y_test, y_test])    # 모델 평가 시 각 출력층에 대한 손실과 총 손실을 반환\n",
    "y_pred_main, y_pred_aux = model.predict([X_new_A, X_new_B])                                 # 예측 시 각 출력층에 대한 예측을 반환"
   ]
  },
  {
   "cell_type": "code",
   "execution_count": 63,
   "metadata": {},
   "outputs": [
    {
     "data": {
      "text/plain": [
       "(0.383091002702713, 0.3699224293231964, 0.5016090273857117)"
      ]
     },
     "execution_count": 63,
     "metadata": {},
     "output_type": "execute_result"
    }
   ],
   "source": [
    "total_loss, main_loss, aux_loss"
   ]
  },
  {
   "cell_type": "code",
   "execution_count": 64,
   "metadata": {},
   "outputs": [
    {
     "data": {
      "text/plain": [
       "(array([[4.0464153],\n",
       "        [1.3733103],\n",
       "        [1.3480754]], dtype=float32),\n",
       " array([[2.9403977],\n",
       "        [1.5696578],\n",
       "        [1.0235612]], dtype=float32))"
      ]
     },
     "execution_count": 64,
     "metadata": {},
     "output_type": "execute_result"
    }
   ],
   "source": [
    "y_pred_main, y_pred_aux"
   ]
  },
  {
   "cell_type": "markdown",
   "metadata": {},
   "source": [
    "#### 서브클래싱 API로 동적 모델 만들기"
   ]
  },
  {
   "cell_type": "markdown",
   "metadata": {},
   "source": [
    "* Sequential, 함수형 API는 사용할 층과 연결 방식을 먼저 정의해야 하고, 그 다음 모델에 데이터를 주입하여 훈련이나 추론을 시작할 수 있음.\n",
    "  * 모델 저장, 복사, 공유가 쉽고 모델 구조의 출력 및 분석이 좋음.\n",
    "  * 모델에 데이터를 넣기 전에 에러를 일찍 발견할 수 있음\n",
    "  * 전체 모델이 층으로 구성된 정적 그래프이므로 디버깅이 쉬움.\n",
    "* 단, 어떤 모델은 반복문을 포함하고 다양한 크기를 다루어야 하며 조건문을 가지는 등 여러 동적 구조를 필요로 하기도 함.\n",
    "* 명령형 프로그래밍 스타일이 필요할 때 서브클래싱 API(Subclassing API) 사용"
   ]
  },
  {
   "cell_type": "markdown",
   "metadata": {},
   "source": [
    "* <code>Model</code>클래스를 상속한 뒤 생성자 내에서 필요한 층을 만듦.\n",
    "* <code>call()</code>메서드 안에 수행하려는 연산 기술"
   ]
  },
  {
   "cell_type": "code",
   "execution_count": 65,
   "metadata": {},
   "outputs": [],
   "source": [
    "# 위의 함수형 API로 만든 모델과 동일한 기능을 수행.\n",
    "\n",
    "class WideAndDeepModel(keras.Model):\n",
    "    def __init__(self, units=30, activation=\"relu\", **kwargs):\n",
    "        super().__init__(**kwargs) # 표준 매개변수 처리\n",
    "        self.hidden1 = keras.layers.Dense(units, activation=activation)\n",
    "        self.hidden2 = keras.layers.Dense(units, activation=activation)\n",
    "        self.main_output = keras.layers.Dense(1)\n",
    "        self.aux_output = keras.layers.Dense(1)\n",
    "    \n",
    "    def call(self, inputs):\n",
    "        input_A, input_B = inputs\n",
    "        hidden1 = self.hidden1(input_B)\n",
    "        hidden2 = self.hidden2(hidden1)\n",
    "        concat = keras.layers.concatenate([input_A, hidden2])\n",
    "        main_output = self.main_output(concat)\n",
    "        aux_output = self.aux_output(hidden2)\n",
    "        return main_output, aux_output\n",
    "    \n",
    "model = WideAndDeepModel()"
   ]
  },
  {
   "cell_type": "markdown",
   "metadata": {},
   "source": [
    "> * 함수형 API와 달리 Input클래스의 객체를 만들 필요가 없음. 대신 call() 메서드의 inputs매개변수를 사용\n",
    "> * 생성자에는 층 구성, call()에는 정방향 계산을 분리.\n",
    "> * call()내에는 원하는 어떠한 계산도 사용할 수 있음."
   ]
  },
  {
   "cell_type": "markdown",
   "metadata": {},
   "source": [
    "* 유연성이 높으나, 모델 구조가 call()안에 숨겨져 있으므로 keras가 쉽게 이를 분석할 수 없음. 즉, 모델 저장과 복사가 불가능.\n",
    "* <code>summary()</code>호출 시 층의 목록만 나열되고 층 간 연결 정보를 알 수 없음.\n",
    "* keras가 타입과 크기를 미리 확인할 수 없어 실수가 발생하기 쉬움.\n",
    "  * 보통 높은 유연성이 필요없다면 sequential API나 함수형 API를 사용."
   ]
  },
  {
   "cell_type": "markdown",
   "metadata": {},
   "source": [
    "#### 모델 저장"
   ]
  },
  {
   "cell_type": "code",
   "execution_count": null,
   "metadata": {},
   "outputs": [],
   "source": [
    "# sequential API와 함수형 API는 아래와 같은 방법으로 저장.\n",
    "model.save(\"my_keras_model.h5\")\n",
    "# 불러오기\n",
    "model = keras.models.load_model(\"my_keras_model.h5\")"
   ]
  },
  {
   "cell_type": "markdown",
   "metadata": {},
   "source": [
    "> * 서브클래싱 API는 <code>save_weights()</code>와 <code>load_weights()</code>를 이용해 모델 파라미터를 저장 및 복원할 수 있고 그 외에는 모두 수동으로 저장하고 복구해야 함. 또는 pickle모듈을 사용하여 모델 객체를 직렬화할 수 있음."
   ]
  },
  {
   "cell_type": "markdown",
   "metadata": {},
   "source": [
    "* 훈련이 오래 지속되는 경우, 문제가 생겨 훈련과 관련된 정보를 잃을 수도 있으므로, 훈련 도중 체크포인트를 지정하여야 함.\n",
    "* <code>fit()</code>의 <code>callback</code> 매개변수를 이용해 훈련의 시작 또는 끝에 호출할 객체의 리스트를 지정할 수 있음.\n",
    "  * 또는 epoch의 시작이나 끝, 각 배치 처리 전후에 호출할 수도 있음.\n",
    "  * ModelCheckpoint는 매 epoch의 끝에 호출됨."
   ]
  },
  {
   "cell_type": "code",
   "execution_count": 67,
   "metadata": {},
   "outputs": [
    {
     "name": "stdout",
     "output_type": "stream",
     "text": [
      "Epoch 1/10\n",
      "363/363 [==============================] - 1s 1ms/step - loss: 1.7816\n",
      "Epoch 2/10\n",
      "363/363 [==============================] - 0s 1ms/step - loss: 0.5571\n",
      "Epoch 3/10\n",
      "363/363 [==============================] - 0s 1ms/step - loss: 0.4867\n",
      "Epoch 4/10\n",
      "363/363 [==============================] - 0s 1ms/step - loss: 0.4568\n",
      "Epoch 5/10\n",
      "363/363 [==============================] - 0s 1ms/step - loss: 0.4374\n",
      "Epoch 6/10\n",
      "363/363 [==============================] - 0s 1ms/step - loss: 0.4245A: 0s - loss: 0.421\n",
      "Epoch 7/10\n",
      "363/363 [==============================] - 0s 1ms/step - loss: 0.4153\n",
      "Epoch 8/10\n",
      "363/363 [==============================] - 0s 1ms/step - loss: 0.4086\n",
      "Epoch 9/10\n",
      "363/363 [==============================] - 0s 1ms/step - loss: 0.4028\n",
      "Epoch 10/10\n",
      "363/363 [==============================] - 0s 1ms/step - loss: 0.3981\n"
     ]
    }
   ],
   "source": [
    "model = keras.models.Sequential([\n",
    "    keras.layers.Dense(30, activation=\"relu\", input_shape=X_train.shape[1:]),\n",
    "    keras.layers.Dense(1)\n",
    "])\n",
    "\n",
    "model.compile(loss=\"mean_squared_error\", optimizer=\"sgd\")\n",
    "\n",
    "checkpoint_cb = keras.callbacks.ModelCheckpoint(\"my_keras_model.h5\")\n",
    "history = model.fit(X_train, y_train, epochs=10, callbacks=[checkpoint_cb])"
   ]
  },
  {
   "cell_type": "markdown",
   "metadata": {},
   "source": [
    "* 훈련 중 검증 세트를 사용한다면 <code>ModelCheckpoint</code>의 매개변수에 <code>save_best_only=True</code>로 지정하면 최상의 검증 세트 점수에서만 모델을 저장하게 됨. 즉, 훈련이 오래 되어 훈련 세트에 과대적합될 걱정을 하지 않아도 됨.\n",
    "  * 훈련이 끝난 후 저장된 모델을 복원하기만 하면 해당 모델이 검증 세트에서 최상의 점수를 낸 모델.(조기 종료)"
   ]
  },
  {
   "cell_type": "code",
   "execution_count": 68,
   "metadata": {},
   "outputs": [
    {
     "name": "stdout",
     "output_type": "stream",
     "text": [
      "Epoch 1/10\n",
      "363/363 [==============================] - 1s 2ms/step - loss: 0.3935 - val_loss: 0.4031\n",
      "Epoch 2/10\n",
      "363/363 [==============================] - 1s 2ms/step - loss: 0.3908 - val_loss: 0.4083\n",
      "Epoch 3/10\n",
      "363/363 [==============================] - 1s 1ms/step - loss: 0.3865 - val_loss: 0.3993\n",
      "Epoch 4/10\n",
      "363/363 [==============================] - 1s 2ms/step - loss: 0.3832 - val_loss: 0.4013\n",
      "Epoch 5/10\n",
      "363/363 [==============================] - 1s 1ms/step - loss: 0.3809 - val_loss: 0.3934\n",
      "Epoch 6/10\n",
      "363/363 [==============================] - 1s 2ms/step - loss: 0.3778 - val_loss: 0.3912\n",
      "Epoch 7/10\n",
      "363/363 [==============================] - 1s 1ms/step - loss: 0.3750 - val_loss: 0.3913\n",
      "Epoch 8/10\n",
      "363/363 [==============================] - 0s 1ms/step - loss: 0.3729 - val_loss: 0.3903\n",
      "Epoch 9/10\n",
      "363/363 [==============================] - 0s 1ms/step - loss: 0.3718 - val_loss: 0.3922\n",
      "Epoch 10/10\n",
      "363/363 [==============================] - 0s 1ms/step - loss: 0.3698 - val_loss: 0.3832\n"
     ]
    }
   ],
   "source": [
    "checkpoint_cb = keras.callbacks.ModelCheckpoint(\"my_keras_model.h5\", save_best_only=True)\n",
    "history = model.fit(X_train, y_train, epochs=10, validation_data=(X_valid, y_valid), callbacks=[checkpoint_cb])\n",
    "model = keras.models.load_model(\"my_keras_model.h5\")"
   ]
  },
  {
   "cell_type": "code",
   "execution_count": 69,
   "metadata": {},
   "outputs": [
    {
     "name": "stdout",
     "output_type": "stream",
     "text": [
      "Epoch 1/100\n",
      "363/363 [==============================] - 1s 2ms/step - loss: 0.3657 - val_loss: 0.3789\n",
      "Epoch 2/100\n",
      "363/363 [==============================] - 0s 1ms/step - loss: 0.3639 - val_loss: 0.3781\n",
      "Epoch 3/100\n",
      "363/363 [==============================] - 0s 1ms/step - loss: 0.3631 - val_loss: 0.3785\n",
      "Epoch 4/100\n",
      "363/363 [==============================] - 0s 1ms/step - loss: 0.3597 - val_loss: 0.3791\n",
      "Epoch 5/100\n",
      "363/363 [==============================] - 0s 1ms/step - loss: 0.3583 - val_loss: 0.3732\n",
      "Epoch 6/100\n",
      "363/363 [==============================] - 0s 1ms/step - loss: 0.3563 - val_loss: 0.3683\n",
      "Epoch 7/100\n",
      "363/363 [==============================] - 0s 1ms/step - loss: 0.3556 - val_loss: 0.3684\n",
      "Epoch 8/100\n",
      "363/363 [==============================] - 0s 1ms/step - loss: 0.3537 - val_loss: 0.3686\n",
      "Epoch 9/100\n",
      "363/363 [==============================] - 0s 1ms/step - loss: 0.3519 - val_loss: 0.3731\n",
      "Epoch 10/100\n",
      "363/363 [==============================] - 0s 1ms/step - loss: 0.3511 - val_loss: 0.3671\n",
      "Epoch 11/100\n",
      "363/363 [==============================] - 0s 1ms/step - loss: 0.3489 - val_loss: 0.3634\n",
      "Epoch 12/100\n",
      "363/363 [==============================] - 0s 1ms/step - loss: 0.3491 - val_loss: 0.3676\n",
      "Epoch 13/100\n",
      "363/363 [==============================] - 0s 1ms/step - loss: 0.3472 - val_loss: 0.3625\n",
      "Epoch 14/100\n",
      "363/363 [==============================] - 0s 1ms/step - loss: 0.3469 - val_loss: 0.3651\n",
      "Epoch 15/100\n",
      "363/363 [==============================] - 0s 1ms/step - loss: 0.3436 - val_loss: 0.3642\n",
      "Epoch 16/100\n",
      "363/363 [==============================] - 0s 1ms/step - loss: 0.3429 - val_loss: 0.3572\n",
      "Epoch 17/100\n",
      "363/363 [==============================] - 0s 1ms/step - loss: 0.3406 - val_loss: 0.3601\n",
      "Epoch 18/100\n",
      "363/363 [==============================] - 0s 956us/step - loss: 0.3404 - val_loss: 0.3569\n",
      "Epoch 19/100\n",
      "363/363 [==============================] - 0s 1ms/step - loss: 0.3382 - val_loss: 0.3573\n",
      "Epoch 20/100\n",
      "363/363 [==============================] - 0s 1ms/step - loss: 0.3377 - val_loss: 0.3566\n",
      "Epoch 21/100\n",
      "363/363 [==============================] - 0s 1ms/step - loss: 0.3357 - val_loss: 0.3566\n",
      "Epoch 22/100\n",
      "363/363 [==============================] - 0s 1ms/step - loss: 0.3345 - val_loss: 0.3537\n",
      "Epoch 23/100\n",
      "363/363 [==============================] - 0s 1ms/step - loss: 0.3330 - val_loss: 0.3584\n",
      "Epoch 24/100\n",
      "363/363 [==============================] - 0s 1ms/step - loss: 0.3347 - val_loss: 0.3479\n",
      "Epoch 25/100\n",
      "363/363 [==============================] - 0s 1ms/step - loss: 0.3324 - val_loss: 0.3518\n",
      "Epoch 26/100\n",
      "363/363 [==============================] - 0s 1ms/step - loss: 0.3300 - val_loss: 0.3483\n",
      "Epoch 27/100\n",
      "363/363 [==============================] - 0s 1ms/step - loss: 0.3300 - val_loss: 0.3525\n",
      "Epoch 28/100\n",
      "363/363 [==============================] - 0s 1ms/step - loss: 0.3297 - val_loss: 0.3474\n",
      "Epoch 29/100\n",
      "363/363 [==============================] - 0s 1ms/step - loss: 0.3261 - val_loss: 0.3507\n",
      "Epoch 30/100\n",
      "363/363 [==============================] - 0s 1ms/step - loss: 0.3267 - val_loss: 0.3525\n",
      "Epoch 31/100\n",
      "363/363 [==============================] - 1s 1ms/step - loss: 0.3261 - val_loss: 0.3470\n",
      "Epoch 32/100\n",
      "363/363 [==============================] - 0s 1ms/step - loss: 0.3246 - val_loss: 0.3468\n",
      "Epoch 33/100\n",
      "363/363 [==============================] - 0s 1ms/step - loss: 0.3251 - val_loss: 0.3457\n",
      "Epoch 34/100\n",
      "363/363 [==============================] - 0s 1ms/step - loss: 0.3232 - val_loss: 0.3468\n",
      "Epoch 35/100\n",
      "363/363 [==============================] - 0s 1ms/step - loss: 0.3225 - val_loss: 0.3450\n",
      "Epoch 36/100\n",
      "363/363 [==============================] - 0s 1ms/step - loss: 0.3223 - val_loss: 0.3430\n",
      "Epoch 37/100\n",
      "363/363 [==============================] - 0s 1ms/step - loss: 0.3212 - val_loss: 0.3428\n",
      "Epoch 38/100\n",
      "363/363 [==============================] - 0s 1ms/step - loss: 0.3204 - val_loss: 0.3379\n",
      "Epoch 39/100\n",
      "363/363 [==============================] - 0s 1ms/step - loss: 0.3214 - val_loss: 0.3442\n",
      "Epoch 40/100\n",
      "363/363 [==============================] - 0s 1ms/step - loss: 0.3199 - val_loss: 0.3423\n",
      "Epoch 41/100\n",
      "363/363 [==============================] - 0s 1ms/step - loss: 0.3199 - val_loss: 0.3452\n",
      "Epoch 42/100\n",
      "363/363 [==============================] - 0s 1ms/step - loss: 0.3199 - val_loss: 0.3367\n",
      "Epoch 43/100\n",
      "363/363 [==============================] - 0s 1ms/step - loss: 0.3171 - val_loss: 0.3408\n",
      "Epoch 44/100\n",
      "363/363 [==============================] - 0s 1ms/step - loss: 0.3166 - val_loss: 0.3356\n",
      "Epoch 45/100\n",
      "363/363 [==============================] - 0s 1ms/step - loss: 0.3157 - val_loss: 0.3405\n",
      "Epoch 46/100\n",
      "363/363 [==============================] - 1s 2ms/step - loss: 0.3168 - val_loss: 0.3372\n",
      "Epoch 47/100\n",
      "363/363 [==============================] - 0s 1ms/step - loss: 0.3167 - val_loss: 0.3382\n",
      "Epoch 48/100\n",
      "363/363 [==============================] - 1s 1ms/step - loss: 0.3168 - val_loss: 0.3404\n",
      "Epoch 49/100\n",
      "363/363 [==============================] - 0s 1ms/step - loss: 0.3139 - val_loss: 0.3353\n",
      "Epoch 50/100\n",
      "363/363 [==============================] - 0s 1ms/step - loss: 0.3148 - val_loss: 0.3386\n",
      "Epoch 51/100\n",
      "363/363 [==============================] - 1s 1ms/step - loss: 0.3144 - val_loss: 0.3343\n",
      "Epoch 52/100\n",
      "363/363 [==============================] - 1s 2ms/step - loss: 0.3130 - val_loss: 0.3432\n",
      "Epoch 53/100\n",
      "363/363 [==============================] - 0s 1ms/step - loss: 0.3158 - val_loss: 0.3397\n",
      "Epoch 54/100\n",
      "363/363 [==============================] - 0s 1ms/step - loss: 0.3140 - val_loss: 0.3342\n",
      "Epoch 55/100\n",
      "363/363 [==============================] - 0s 1ms/step - loss: 0.3132 - val_loss: 0.3314\n",
      "Epoch 56/100\n",
      "363/363 [==============================] - 1s 1ms/step - loss: 0.3117 - val_loss: 0.3411\n",
      "Epoch 57/100\n",
      "363/363 [==============================] - 0s 1ms/step - loss: 0.3130 - val_loss: 0.3335\n",
      "Epoch 58/100\n",
      "363/363 [==============================] - 1s 1ms/step - loss: 0.3114 - val_loss: 0.3397\n",
      "Epoch 59/100\n",
      "363/363 [==============================] - 1s 1ms/step - loss: 0.3107 - val_loss: 0.3295\n",
      "Epoch 60/100\n",
      "363/363 [==============================] - 1s 1ms/step - loss: 0.3107 - val_loss: 0.3321\n",
      "Epoch 61/100\n",
      "363/363 [==============================] - 0s 1ms/step - loss: 0.3119 - val_loss: 0.3378\n",
      "Epoch 62/100\n",
      "363/363 [==============================] - 0s 1ms/step - loss: 0.3124 - val_loss: 0.3313\n",
      "Epoch 63/100\n",
      "363/363 [==============================] - 0s 1ms/step - loss: 0.3131 - val_loss: 0.3324\n",
      "Epoch 64/100\n",
      "363/363 [==============================] - 0s 1ms/step - loss: 0.3112 - val_loss: 0.3336\n",
      "Epoch 65/100\n",
      "363/363 [==============================] - 0s 1ms/step - loss: 0.3104 - val_loss: 0.3277\n",
      "Epoch 66/100\n",
      "363/363 [==============================] - 0s 1ms/step - loss: 0.3091 - val_loss: 0.3289\n",
      "Epoch 67/100\n",
      "363/363 [==============================] - 0s 1ms/step - loss: 0.3087 - val_loss: 0.3352\n",
      "Epoch 68/100\n",
      "363/363 [==============================] - 0s 1ms/step - loss: 0.3111 - val_loss: 0.3283\n",
      "Epoch 69/100\n",
      "363/363 [==============================] - 0s 1ms/step - loss: 0.3132 - val_loss: 0.3318\n",
      "Epoch 70/100\n",
      "363/363 [==============================] - 0s 1ms/step - loss: 0.3113 - val_loss: 0.3283\n",
      "Epoch 71/100\n",
      "363/363 [==============================] - 0s 1ms/step - loss: 0.3084 - val_loss: 0.3327\n",
      "Epoch 72/100\n",
      "363/363 [==============================] - 0s 1ms/step - loss: 0.3096 - val_loss: 0.3307\n",
      "Epoch 73/100\n",
      "363/363 [==============================] - 0s 1ms/step - loss: 0.3087 - val_loss: 0.3294\n",
      "Epoch 74/100\n",
      "363/363 [==============================] - 0s 1ms/step - loss: 0.3081 - val_loss: 0.3225\n",
      "Epoch 75/100\n",
      "363/363 [==============================] - 0s 1ms/step - loss: 0.3082 - val_loss: 0.3343\n",
      "Epoch 76/100\n",
      "363/363 [==============================] - 0s 1ms/step - loss: 0.3076 - val_loss: 0.3311\n",
      "Epoch 77/100\n",
      "363/363 [==============================] - 0s 1ms/step - loss: 0.3069 - val_loss: 0.3256\n",
      "Epoch 78/100\n",
      "363/363 [==============================] - 0s 1ms/step - loss: 0.3069 - val_loss: 0.3270\n",
      "Epoch 79/100\n",
      "363/363 [==============================] - 0s 1ms/step - loss: 0.3072 - val_loss: 0.3259\n",
      "Epoch 80/100\n",
      "363/363 [==============================] - 0s 981us/step - loss: 0.3069 - val_loss: 0.3307\n",
      "Epoch 81/100\n",
      "363/363 [==============================] - 0s 1ms/step - loss: 0.3074 - val_loss: 0.3353\n",
      "Epoch 82/100\n",
      "363/363 [==============================] - 0s 1ms/step - loss: 0.3061 - val_loss: 0.3220\n",
      "Epoch 83/100\n",
      "363/363 [==============================] - 0s 1ms/step - loss: 0.3065 - val_loss: 0.3219\n",
      "Epoch 84/100\n",
      "363/363 [==============================] - 0s 1ms/step - loss: 0.3058 - val_loss: 0.3335\n",
      "Epoch 85/100\n",
      "363/363 [==============================] - 0s 1ms/step - loss: 0.3045 - val_loss: 0.3244\n",
      "Epoch 86/100\n",
      "363/363 [==============================] - 0s 1ms/step - loss: 0.3051 - val_loss: 0.3253\n",
      "Epoch 87/100\n",
      "363/363 [==============================] - 0s 1ms/step - loss: 0.3045 - val_loss: 0.3207\n",
      "Epoch 88/100\n",
      "363/363 [==============================] - 0s 1ms/step - loss: 0.3051 - val_loss: 0.3286\n",
      "Epoch 89/100\n",
      "363/363 [==============================] - 0s 1ms/step - loss: 0.3043 - val_loss: 0.3319\n",
      "Epoch 90/100\n",
      "363/363 [==============================] - 0s 1ms/step - loss: 0.3069 - val_loss: 0.3231\n",
      "Epoch 91/100\n",
      "363/363 [==============================] - 0s 1ms/step - loss: 0.3053 - val_loss: 0.3218\n",
      "Epoch 92/100\n",
      "363/363 [==============================] - 0s 1ms/step - loss: 0.3043 - val_loss: 0.3306\n",
      "Epoch 93/100\n",
      "363/363 [==============================] - 0s 1ms/step - loss: 0.3044 - val_loss: 0.3248\n",
      "Epoch 94/100\n",
      "363/363 [==============================] - 0s 1ms/step - loss: 0.3046 - val_loss: 0.3200\n",
      "Epoch 95/100\n",
      "363/363 [==============================] - 1s 1ms/step - loss: 0.3045 - val_loss: 0.3220\n",
      "Epoch 96/100\n",
      "363/363 [==============================] - 0s 1ms/step - loss: 0.3048 - val_loss: 0.3210\n",
      "Epoch 97/100\n",
      "363/363 [==============================] - 0s 1ms/step - loss: 0.3037 - val_loss: 0.3218\n",
      "Epoch 98/100\n",
      "363/363 [==============================] - 0s 1ms/step - loss: 0.3027 - val_loss: 0.3248\n",
      "Epoch 99/100\n",
      "363/363 [==============================] - 0s 1ms/step - loss: 0.3033 - val_loss: 0.3216\n",
      "Epoch 100/100\n",
      "363/363 [==============================] - 0s 1ms/step - loss: 0.3037 - val_loss: 0.3365\n"
     ]
    }
   ],
   "source": [
    "# 조기 종료의 또 다른 구현\n",
    "# EarlyStopping 콜백을 사용. patience 매개변수로 지정된 수 만큼의 에포크 동안 검증 세트에 대한 점수가 향상되지 않으면 훈련을 멈춤.\n",
    "early_stopping_cb = keras.callbacks.EarlyStopping(patience=10, restore_best_weights=True)\n",
    "history = model.fit(X_train, y_train, epochs=100, validation_data=(X_valid, y_valid), callbacks=[checkpoint_cb, early_stopping_cb])"
   ]
  },
  {
   "cell_type": "markdown",
   "metadata": {},
   "source": [
    "> * 선택적으로 최상의 모델을 복원할 수 있음(<code>restore_best_weight=True</code>)\n",
    "> * 컴퓨터가 문제를 일으키는 것을 대비해 체크포인트 저장 콜백과 시간과 자원을 아끼기 위해 조기 종료 콜백을 함께 사용할 수 있음.\n",
    "> * EarlyStopping 사용 시 에포크 크기가 커도 상관없음."
   ]
  },
  {
   "cell_type": "code",
   "execution_count": 70,
   "metadata": {},
   "outputs": [
    {
     "name": "stdout",
     "output_type": "stream",
     "text": [
      "Epoch 1/5\n",
      "363/363 [==============================] - ETA: 0s - loss: 0.303 - 0s 1ms/step - loss: 0.3036 - val_loss: 0.3220\n",
      "\n",
      "val/train: 1.06\n",
      "Epoch 2/5\n",
      "363/363 [==============================] - 0s 1ms/step - loss: 0.3021 - val_loss: 0.3261\n",
      "\n",
      "val/train: 1.08\n",
      "Epoch 3/5\n",
      "363/363 [==============================] - 0s 1ms/step - loss: 0.3032 - val_loss: 0.3234\n",
      "\n",
      "val/train: 1.07\n",
      "Epoch 4/5\n",
      "363/363 [==============================] - 0s 1ms/step - loss: 0.3034 - val_loss: 0.3223\n",
      "\n",
      "val/train: 1.06\n",
      "Epoch 5/5\n",
      "363/363 [==============================] - 0s 1ms/step - loss: 0.3026 - val_loss: 0.3199\n",
      "\n",
      "val/train: 1.06\n"
     ]
    }
   ],
   "source": [
    "# 사용자 정의 콜백. 더 많은 제어를 원할 때 사용\n",
    "\n",
    "# ex) 훈련하는 동안 검증 손실과 훈련 손실의 비율을 출력(과대적합 감지용)\n",
    "class PrintValTrainRatioCallback(keras.callbacks.Callback):\n",
    "    def on_epoch_end(self, epoch, logs):\n",
    "        print(\"\\nval/train: {:.2f}\".format(logs[\"val_loss\"] / logs[\"loss\"]))\n",
    "        \n",
    "printvaltrainratio_cb = PrintValTrainRatioCallback()\n",
    "history = model.fit(X_train, y_train, epochs=5, validation_data=(X_valid, y_valid), callbacks=[printvaltrainratio_cb])"
   ]
  },
  {
   "cell_type": "markdown",
   "metadata": {},
   "source": [
    "> * <code>on_train_begin(), on_train_end(), on_epoch_begin(), on_epoch_end(), on_batch_begin(), on_batch_end()</code> 사용 가능\n",
    "> * 검증과 예측 단계에서도 콜백 사용 가능\n",
    "> * 평가에 사용하려면 <code>on_test_begin(), on_test_end(), on_test_batch_begin(), on_test_batch_end()</code>구현 필요. <code>evaluate()</code>사용 시 호출됨.\n",
    "> * 예측에 사용하려면 <code>on_predict_begin(), on_predict_end(), on_predict_batch_begin(), on_predict_batch_end()</code>구현 필요. <code>predict()</code>사용 시 호출됨."
   ]
  },
  {
   "cell_type": "markdown",
   "metadata": {},
   "source": [
    "#### TensorBoard"
   ]
  },
  {
   "cell_type": "markdown",
   "metadata": {},
   "source": [
    "* 텐서플로우 인터렉티브 시각화 도구\n",
    "* 훈련 동안 학습 곡선을 그리거나 여러 실행 간의 학습 곡선을 비교하고 계산 그래프 시각화와 훈련 통계 분석을 수행할 수 있음. 또한 모델이 생성한 이미지 확인이나 3D에 투영된 다차원 데이터를 시각화하여 자동으로 클러스터링 하는 등의 여러 기능도 제공.\n",
    "* 사용하려면 이벤트 파일이라는 특별한 이진 로그 파일에 시각화하려는 데이터를 출력해야 함.\n",
    "  * 각 이진 데이터 코드를 summary라고 함.\n",
    "  * 텐서보드 서버에서 로그 디렉터리를 모니터링하고, 변경사항을 확인하여 그래프를 업데이트함.\n",
    "* 학습 곡선의 실시간 시각화가 가능."
   ]
  },
  {
   "cell_type": "code",
   "execution_count": null,
   "metadata": {},
   "outputs": [],
   "source": [
    "import os\n",
    "root_logdir = os.path.join(os.curdir, \"my_logs\")\n",
    "\n",
    "def get_run_logdir():\n",
    "    import time\n",
    "    run_id = time.strftime(\"run_%Y_%m_%d-%H_%M_%S\")\n",
    "    return os.path.join(root_logdir, run_id)\n",
    "\n",
    "run_logdir = get_run_logdir()"
   ]
  },
  {
   "cell_type": "code",
   "execution_count": null,
   "metadata": {},
   "outputs": [
    {
     "name": "stdout",
     "output_type": "stream",
     "text": [
      "Epoch 1/20\n",
      "363/363 [==============================] - 1s 3ms/step - loss: 2.2274 - val_loss: 0.9292\n",
      "Epoch 2/20\n",
      "363/363 [==============================] - 0s 1ms/step - loss: 0.8869 - val_loss: 0.7560\n",
      "Epoch 3/20\n",
      "363/363 [==============================] - 1s 1ms/step - loss: 0.7807 - val_loss: 0.6919\n",
      "Epoch 4/20\n",
      "363/363 [==============================] - 1s 2ms/step - loss: 0.7253 - val_loss: 0.6486\n",
      "Epoch 5/20\n",
      "363/363 [==============================] - 1s 1ms/step - loss: 0.6852 - val_loss: 0.6149\n",
      "Epoch 6/20\n",
      "363/363 [==============================] - 1s 1ms/step - loss: 0.6533 - val_loss: 0.5887\n",
      "Epoch 7/20\n",
      "363/363 [==============================] - 1s 1ms/step - loss: 0.6281 - val_loss: 0.5669\n",
      "Epoch 8/20\n",
      "363/363 [==============================] - 1s 1ms/step - loss: 0.6072 - val_loss: 0.5490\n",
      "Epoch 9/20\n",
      "363/363 [==============================] - 1s 2ms/step - loss: 0.5902 - val_loss: 0.5343\n",
      "Epoch 10/20\n",
      "363/363 [==============================] - 1s 1ms/step - loss: 0.5753 - val_loss: 0.5209\n",
      "Epoch 11/20\n",
      "363/363 [==============================] - 1s 1ms/step - loss: 0.5619 - val_loss: 0.5098\n",
      "Epoch 12/20\n",
      "363/363 [==============================] - 1s 2ms/step - loss: 0.5507 - val_loss: 0.5003\n",
      "Epoch 13/20\n",
      "363/363 [==============================] - 1s 1ms/step - loss: 0.5405 - val_loss: 0.4915\n",
      "Epoch 14/20\n",
      "363/363 [==============================] - 1s 2ms/step - loss: 0.5326 - val_loss: 0.4842\n",
      "Epoch 15/20\n",
      "363/363 [==============================] - 1s 1ms/step - loss: 0.5250 - val_loss: 0.4776\n",
      "Epoch 16/20\n",
      "363/363 [==============================] - 1s 2ms/step - loss: 0.5173 - val_loss: 0.4733\n",
      "Epoch 17/20\n",
      "363/363 [==============================] - 1s 1ms/step - loss: 0.5130 - val_loss: 0.4681\n",
      "Epoch 18/20\n",
      "363/363 [==============================] - 1s 2ms/step - loss: 0.5074 - val_loss: 0.4625\n",
      "Epoch 19/20\n",
      "363/363 [==============================] - 0s 1ms/step - loss: 0.5010 - val_loss: 0.4579\n",
      "Epoch 20/20\n",
      "363/363 [==============================] - 1s 2ms/step - loss: 0.4978 - val_loss: 0.4550\n"
     ]
    }
   ],
   "source": [
    "input_A = keras.layers.Input(shape=[5], name=\"wide_input\")\n",
    "input_B = keras.layers.Input(shape=[6], name=\"deep_input\")\n",
    "hidden1 = keras.layers.Dense(30, activation=\"relu\")(input_B)\n",
    "hidden2 = keras.layers.Dense(30, activation=\"relu\")(hidden1)\n",
    "concat = keras.layers.concatenate([input_A, hidden2])\n",
    "output = keras.layers.Dense(1, name=\"output\")(concat)\n",
    "model = keras.Model(inputs=[input_A, input_B], outputs=[output])\n",
    "\n",
    "model.compile(loss=\"mse\", optimizer=keras.optimizers.SGD(learning_rate=1e-3))\n",
    "\n",
    "X_train_A, X_train_B = X_train[:, :5], X_train[:, 2:]\n",
    "X_valid_A, X_valid_B = X_valid[:, :5], X_valid[:, 2:]\n",
    "X_test_A, X_test_B = X_test[:, :5], X_test[:, 2:]\n",
    "X_new_A, X_new_B = X_test_A[:3], X_test_B[:3]\n",
    "\n",
    "tensorboard_cb = keras.callbacks.TensorBoard(run_logdir)    # my_logs위치에 로그 디렉터리를 생성. 훈련하는 동안 이벤트 파일을 만들고 summary를 기록.\n",
    "history = model.fit((X_train_A, X_train_B), y_train, epochs=20, validation_data=((X_valid_A, X_valid_B), y_valid), callbacks=[tensorboard_cb])"
   ]
  },
  {
   "cell_type": "markdown",
   "metadata": {},
   "source": [
    "```\n",
    "D:.\n",
    "└─run_2022_05_07-00_58_16\n",
    "    ├─train\n",
    "    │  │  events.out.tfevents.1651852755.DESKTOP.18848.237644.v2\n",
    "    │  │  events.out.tfevents.1651852755.DESKTOP.profile-empty\n",
    "    │  │  events.out.tfevents.1651852834.DESKTOP.18848.253307.v2\n",
    "    │  │\n",
    "    │  └─plugins\n",
    "    │      └─profile\n",
    "    │          ├─2022_05_06_15_59_15\n",
    "    │          │      DESKTOP.input_pipeline.pb\n",
    "    │          │      DESKTOP.kernel_stats.pb\n",
    "    │          │      DESKTOP.memory_profile.json.gz\n",
    "    │          │      [...]\n",
    "    │          └─2022_05_06_16_00_35\n",
    "    │                  DESKTOP.input_pipeline.pb\n",
    "    │                  DESKTOP.kernel_stats.pb\n",
    "    │                  DESKTOP.memory_profile.json.gz\n",
    "    │                  [...]\n",
    "    └─validation\n",
    "            events.out.tfevents.1651852756.DESKTOP.18848.238100.v2\n",
    "            events.out.tfevents.1651852835.DESKTOP.18848.253763.v2\n",
    "```"
   ]
  },
  {
   "cell_type": "markdown",
   "metadata": {},
   "source": [
    "* 텐서보드는 profiling trace 파일을 사용해 전체 디바이스에 걸쳐 모델의 각 부분에서 시간이 얼마나 걸렸는지 보여주므로 병목 지점을 찾는 데 도움이 됨."
   ]
  },
  {
   "cell_type": "markdown",
   "metadata": {},
   "source": [
    "> ```bash\n",
    "> > tensorboard --logdir=./my_logs --port=6006\n",
    "> ```\n",
    "> ```bash\n",
    "> Serving TensorBoard on localhost; to expose to the network, use a proxy or pass --bind_all\n",
    "> TensorBoard 2.5.0 at http://localhost:6006/ (Press CTRL+C to quit)\n",
    "> ```"
   ]
  },
  {
   "cell_type": "markdown",
   "metadata": {},
   "source": [
    "* 터미널에서 명령어 실행 후, 아래 주소를 통해 접속 가능\n",
    "* http://localhost:6006\n",
    "* 또는, 주피터 안에서 바로 사용할 수 있음."
   ]
  },
  {
   "cell_type": "code",
   "execution_count": null,
   "metadata": {},
   "outputs": [],
   "source": [
    "%load_ext tensorboard\n",
    "%tensorboard --logdir=./my_logs --port=6006"
   ]
  },
  {
   "cell_type": "markdown",
   "metadata": {},
   "source": [
    "* SCALARS 탭에서 학습 곡선 확인 가능."
   ]
  },
  {
   "cell_type": "markdown",
   "metadata": {},
   "source": [
    "* <code>tf.summary</code>라는 저수준 API 제공."
   ]
  },
  {
   "cell_type": "code",
   "execution_count": null,
   "metadata": {},
   "outputs": [],
   "source": [
    "# create_file_writer()를 이용해 시각화할 수 있는 스칼라, 히스토그램, 이미지, 오디오, 텍스트 기록\n",
    "test_logdir = get_run_logdir()\n",
    "writer = tf.summary.create_file_writer(test_logdir)\n",
    "with writer.as_default():\n",
    "    for step in range(1, 1000 + 1):\n",
    "        tf.summary.scalar(\"my_scalar\", np.sin(step / 10), step=step)\n",
    "        data = (np.random.randn(100) + 2)*step/100  # 랜덤 데이터\n",
    "        tf.summary.histogram(\"my_hist\", data, buckets=50, step=step)\n",
    "        images = np.random.rand(2, 32, 32, 3)   # 32*32 RGB 이미지\n",
    "        tf.summary.image(\"my_images\", images*step/1000, step=step)\n",
    "        texts = [\"The step is \" + str(step), \"Its square is \" + str(step**2)]\n",
    "        tf.summary.text(\"my_text\", texts, step=step)\n",
    "        sine_wave = tf.math.sin(tf.range(12000)/48000*2*np.pi*step)\n",
    "        audio = tf.reshape(tf.cast(sine_wave, tf.float32), [1, -1, 1])\n",
    "        tf.summary.audio(\"my_audio\", audio, sample_rate=48000, step=step)"
   ]
  },
  {
   "cell_type": "markdown",
   "metadata": {},
   "source": [
    "### 하이퍼파라미터 튜닝"
   ]
  },
  {
   "cell_type": "markdown",
   "metadata": {},
   "source": [
    "* 여러 하이퍼파라미터를 시도하는 k-fold cross validation 사용."
   ]
  },
  {
   "cell_type": "code",
   "execution_count": 71,
   "metadata": {},
   "outputs": [],
   "source": [
    "# 주어진 운닉층 개수, 뉴런 개수로 단방향 회귀 Sequential model 생성 및 반환.\n",
    "# 주어진 학습률을 사용하는 SGD optimizer로 모델 컴파일\n",
    "\n",
    "def build_model(n_hidden=1, n_neurons=30, learning_rate=3e-3, input_shape=[8]):\n",
    "    model = keras.models.Sequential()\n",
    "    model.add(keras.layers.InputLayer(input_shape=input_shape))\n",
    "    for layer in range(n_hidden):\n",
    "        model.add(keras.layers.Dense(n_neurons, activation=\"relu\"))\n",
    "    model.add(keras.layers.Dense(1))\n",
    "    optimizer = keras.optimizers.SGD(lr=learning_rate)\n",
    "    model.compile(loss=\"mse\", optimizer=optimizer)\n",
    "    return model"
   ]
  },
  {
   "cell_type": "code",
   "execution_count": 72,
   "metadata": {},
   "outputs": [],
   "source": [
    "# KerasRegressor 객체 생성\n",
    "\n",
    "keras_reg = keras.wrappers.scikit_learn.KerasRegressor(build_model)"
   ]
  },
  {
   "cell_type": "markdown",
   "metadata": {},
   "source": [
    "> * <code>KerasRegressor</code> : <code>build_model()</code>로 만들어진 모델을 감싸는 wrapper class.\n",
    "> * 넘겨준 build_model에 파라미터를 넘겨주지 않았으므로 기본값 사용."
   ]
  },
  {
   "cell_type": "markdown",
   "metadata": {},
   "source": [
    "* 만들어진 KerasRegressor객체는 일반적인 사이킷런 회귀 추정기처럼 사용 가능."
   ]
  },
  {
   "cell_type": "code",
   "execution_count": 73,
   "metadata": {},
   "outputs": [
    {
     "name": "stderr",
     "output_type": "stream",
     "text": [
      "d:\\pythonenv\\mlenv\\lib\\site-packages\\tensorflow\\python\\keras\\optimizer_v2\\optimizer_v2.py:374: UserWarning: The `lr` argument is deprecated, use `learning_rate` instead.\n",
      "  warnings.warn(\n"
     ]
    },
    {
     "name": "stdout",
     "output_type": "stream",
     "text": [
      "Epoch 1/100\n",
      "363/363 [==============================] - 1s 2ms/step - loss: 1.4839 - val_loss: 0.7527\n",
      "Epoch 2/100\n",
      "363/363 [==============================] - 0s 1ms/step - loss: 0.6995 - val_loss: 0.6600\n",
      "Epoch 3/100\n",
      "363/363 [==============================] - 0s 1ms/step - loss: 0.6075 - val_loss: 0.6025\n",
      "Epoch 4/100\n",
      "363/363 [==============================] - 0s 1ms/step - loss: 0.5662 - val_loss: 0.5677\n",
      "Epoch 5/100\n",
      "363/363 [==============================] - 0s 1ms/step - loss: 0.5406 - val_loss: 0.5603\n",
      "Epoch 6/100\n",
      "363/363 [==============================] - 0s 1ms/step - loss: 0.5275 - val_loss: 0.5307\n",
      "Epoch 7/100\n",
      "363/363 [==============================] - 0s 1ms/step - loss: 0.5103 - val_loss: 0.5286\n",
      "Epoch 8/100\n",
      "363/363 [==============================] - 0s 1ms/step - loss: 0.4967 - val_loss: 0.5096\n",
      "Epoch 9/100\n",
      "363/363 [==============================] - 0s 1ms/step - loss: 0.4901 - val_loss: 0.5068\n",
      "Epoch 10/100\n",
      "363/363 [==============================] - 0s 1ms/step - loss: 0.4806 - val_loss: 0.4952\n",
      "Epoch 11/100\n",
      "363/363 [==============================] - 0s 1ms/step - loss: 0.4819 - val_loss: 0.4877\n",
      "Epoch 12/100\n",
      "363/363 [==============================] - 0s 1ms/step - loss: 0.4809 - val_loss: 0.4805\n",
      "Epoch 13/100\n",
      "363/363 [==============================] - 0s 1ms/step - loss: 0.4655 - val_loss: 0.4750\n",
      "Epoch 14/100\n",
      "363/363 [==============================] - 0s 1ms/step - loss: 0.4614 - val_loss: 0.4714\n",
      "Epoch 15/100\n",
      "363/363 [==============================] - 0s 1ms/step - loss: 0.4561 - val_loss: 0.4687\n",
      "Epoch 16/100\n",
      "363/363 [==============================] - 0s 1ms/step - loss: 0.4522 - val_loss: 0.4666\n",
      "Epoch 17/100\n",
      "363/363 [==============================] - 0s 1ms/step - loss: 0.4504 - val_loss: 0.4653\n",
      "Epoch 18/100\n",
      "363/363 [==============================] - 0s 1ms/step - loss: 0.4473 - val_loss: 0.4566\n",
      "Epoch 19/100\n",
      "363/363 [==============================] - 0s 1ms/step - loss: 0.4415 - val_loss: 0.4545\n",
      "Epoch 20/100\n",
      "363/363 [==============================] - 0s 1ms/step - loss: 0.4400 - val_loss: 0.4507\n",
      "Epoch 21/100\n",
      "363/363 [==============================] - 0s 1ms/step - loss: 0.4389 - val_loss: 0.4482\n",
      "Epoch 22/100\n",
      "363/363 [==============================] - 1s 1ms/step - loss: 0.4360 - val_loss: 0.4452\n",
      "Epoch 23/100\n",
      "363/363 [==============================] - 0s 1ms/step - loss: 0.4321 - val_loss: 0.4459\n",
      "Epoch 24/100\n",
      "363/363 [==============================] - 0s 1ms/step - loss: 0.4289 - val_loss: 0.4410\n",
      "Epoch 25/100\n",
      "363/363 [==============================] - 0s 1ms/step - loss: 0.4274 - val_loss: 0.4392\n",
      "Epoch 26/100\n",
      "363/363 [==============================] - 0s 1ms/step - loss: 0.4275 - val_loss: 0.4370\n",
      "Epoch 27/100\n",
      "363/363 [==============================] - 0s 1ms/step - loss: 0.4256 - val_loss: 0.4347\n",
      "Epoch 28/100\n",
      "363/363 [==============================] - 0s 1ms/step - loss: 0.4242 - val_loss: 0.4350\n",
      "Epoch 29/100\n",
      "363/363 [==============================] - 0s 1ms/step - loss: 0.4208 - val_loss: 0.4305\n",
      "Epoch 30/100\n",
      "363/363 [==============================] - 0s 1ms/step - loss: 0.4176 - val_loss: 0.4282\n",
      "Epoch 31/100\n",
      "363/363 [==============================] - 0s 1ms/step - loss: 0.4158 - val_loss: 0.4281\n",
      "Epoch 32/100\n",
      "363/363 [==============================] - 0s 1ms/step - loss: 0.4150 - val_loss: 0.4249\n",
      "Epoch 33/100\n",
      "363/363 [==============================] - 0s 1ms/step - loss: 0.4165 - val_loss: 0.4238\n",
      "Epoch 34/100\n",
      "363/363 [==============================] - 0s 1ms/step - loss: 0.4105 - val_loss: 0.4225\n",
      "Epoch 35/100\n",
      "363/363 [==============================] - 0s 1ms/step - loss: 0.4094 - val_loss: 0.4192\n",
      "Epoch 36/100\n",
      "363/363 [==============================] - 0s 1ms/step - loss: 0.4072 - val_loss: 0.4205\n",
      "Epoch 37/100\n",
      "363/363 [==============================] - 0s 1ms/step - loss: 0.4068 - val_loss: 0.4193\n",
      "Epoch 38/100\n",
      "363/363 [==============================] - 0s 1ms/step - loss: 0.4049 - val_loss: 0.4153\n",
      "Epoch 39/100\n",
      "363/363 [==============================] - 0s 1ms/step - loss: 0.4024 - val_loss: 0.4135\n",
      "Epoch 40/100\n",
      "363/363 [==============================] - 0s 1ms/step - loss: 0.4015 - val_loss: 0.4131\n",
      "Epoch 41/100\n",
      "363/363 [==============================] - 0s 1ms/step - loss: 0.4002 - val_loss: 0.4132\n",
      "Epoch 42/100\n",
      "363/363 [==============================] - 0s 1ms/step - loss: 0.3987 - val_loss: 0.4105\n",
      "Epoch 43/100\n",
      "363/363 [==============================] - 0s 1ms/step - loss: 0.3969 - val_loss: 0.4075\n",
      "Epoch 44/100\n",
      "363/363 [==============================] - 0s 1ms/step - loss: 0.3958 - val_loss: 0.4076\n",
      "Epoch 45/100\n",
      "363/363 [==============================] - 0s 1ms/step - loss: 0.3947 - val_loss: 0.4043\n",
      "Epoch 46/100\n",
      "363/363 [==============================] - 0s 1ms/step - loss: 0.3933 - val_loss: 0.4059\n",
      "Epoch 47/100\n",
      "363/363 [==============================] - 0s 1ms/step - loss: 0.3972 - val_loss: 0.4045\n",
      "Epoch 48/100\n",
      "363/363 [==============================] - 0s 1ms/step - loss: 0.4034 - val_loss: 0.4038\n",
      "Epoch 49/100\n",
      "363/363 [==============================] - 0s 1ms/step - loss: 0.3924 - val_loss: 0.4015\n",
      "Epoch 50/100\n",
      "363/363 [==============================] - 0s 1ms/step - loss: 0.3903 - val_loss: 0.4099\n",
      "Epoch 51/100\n",
      "363/363 [==============================] - 0s 1ms/step - loss: 0.4100 - val_loss: 0.4249\n",
      "Epoch 52/100\n",
      "363/363 [==============================] - 0s 1ms/step - loss: 0.3939 - val_loss: 0.4102\n",
      "Epoch 53/100\n",
      "363/363 [==============================] - 0s 1ms/step - loss: 0.4121 - val_loss: 0.4105\n",
      "Epoch 54/100\n",
      "363/363 [==============================] - 0s 1ms/step - loss: 0.3968 - val_loss: 0.4058\n",
      "Epoch 55/100\n",
      "363/363 [==============================] - 0s 1ms/step - loss: 0.3976 - val_loss: 0.4000\n",
      "Epoch 56/100\n",
      "363/363 [==============================] - 0s 1ms/step - loss: 0.3872 - val_loss: 0.3989\n",
      "Epoch 57/100\n",
      "363/363 [==============================] - 0s 1ms/step - loss: 0.3858 - val_loss: 0.4015\n",
      "Epoch 58/100\n",
      "363/363 [==============================] - 0s 1ms/step - loss: 0.3808 - val_loss: 0.3927\n",
      "Epoch 59/100\n",
      "363/363 [==============================] - 0s 1ms/step - loss: 0.3793 - val_loss: 0.3909\n",
      "Epoch 60/100\n",
      "363/363 [==============================] - 0s 1ms/step - loss: 0.3811 - val_loss: 0.3900\n",
      "Epoch 61/100\n",
      "363/363 [==============================] - 0s 1ms/step - loss: 0.3799 - val_loss: 0.3897\n",
      "Epoch 62/100\n",
      "363/363 [==============================] - 0s 912us/step - loss: 0.3767 - val_loss: 0.3874\n",
      "Epoch 63/100\n",
      "363/363 [==============================] - 0s 1ms/step - loss: 0.3765 - val_loss: 0.3876\n",
      "Epoch 64/100\n",
      "363/363 [==============================] - 0s 1ms/step - loss: 0.3739 - val_loss: 0.3885\n",
      "Epoch 65/100\n",
      "363/363 [==============================] - 0s 1ms/step - loss: 0.3749 - val_loss: 0.3840\n",
      "Epoch 66/100\n",
      "363/363 [==============================] - 0s 1ms/step - loss: 0.3725 - val_loss: 0.3839\n",
      "Epoch 67/100\n",
      "363/363 [==============================] - 0s 1ms/step - loss: 0.3716 - val_loss: 0.3833\n",
      "Epoch 68/100\n",
      "363/363 [==============================] - 0s 1ms/step - loss: 0.3706 - val_loss: 0.3841\n",
      "Epoch 69/100\n",
      "363/363 [==============================] - 0s 1ms/step - loss: 0.3716 - val_loss: 0.3818\n",
      "Epoch 70/100\n",
      "363/363 [==============================] - 0s 1ms/step - loss: 0.3939 - val_loss: 0.3833\n",
      "Epoch 71/100\n",
      "363/363 [==============================] - 0s 1ms/step - loss: 0.3760 - val_loss: 0.3823\n",
      "Epoch 72/100\n",
      "363/363 [==============================] - 0s 1ms/step - loss: 0.3730 - val_loss: 0.3827\n",
      "Epoch 73/100\n",
      "363/363 [==============================] - 0s 1ms/step - loss: 0.3891 - val_loss: 0.3822\n",
      "Epoch 74/100\n",
      "363/363 [==============================] - 0s 1ms/step - loss: 0.3741 - val_loss: 0.3845\n",
      "Epoch 75/100\n",
      "363/363 [==============================] - 0s 997us/step - loss: 0.3698 - val_loss: 0.3789\n",
      "Epoch 76/100\n",
      "363/363 [==============================] - 0s 1ms/step - loss: 0.3658 - val_loss: 0.3780\n",
      "Epoch 77/100\n",
      "363/363 [==============================] - 0s 1ms/step - loss: 0.3648 - val_loss: 0.3778\n",
      "Epoch 78/100\n",
      "363/363 [==============================] - 0s 1ms/step - loss: 0.3760 - val_loss: 0.4247\n",
      "Epoch 79/100\n",
      "363/363 [==============================] - 0s 1ms/step - loss: 0.3879 - val_loss: 0.3777\n",
      "Epoch 80/100\n",
      "363/363 [==============================] - 0s 1ms/step - loss: 0.3640 - val_loss: 0.3757\n",
      "Epoch 81/100\n",
      "363/363 [==============================] - 0s 1ms/step - loss: 0.3634 - val_loss: 0.3785\n",
      "Epoch 82/100\n",
      "363/363 [==============================] - 0s 1ms/step - loss: 0.3631 - val_loss: 0.3746\n",
      "Epoch 83/100\n",
      "363/363 [==============================] - 0s 1ms/step - loss: 0.3618 - val_loss: 0.3751\n",
      "Epoch 84/100\n",
      "363/363 [==============================] - 0s 1ms/step - loss: 0.3627 - val_loss: 0.3740\n",
      "Epoch 85/100\n",
      "363/363 [==============================] - 0s 1ms/step - loss: 0.3646 - val_loss: 0.3736\n",
      "Epoch 86/100\n",
      "363/363 [==============================] - 0s 1ms/step - loss: 0.3691 - val_loss: 0.3745\n",
      "Epoch 87/100\n",
      "363/363 [==============================] - 0s 1ms/step - loss: 0.3647 - val_loss: 0.4366\n",
      "Epoch 88/100\n",
      "363/363 [==============================] - 0s 1ms/step - loss: 0.3632 - val_loss: 0.3718\n",
      "Epoch 89/100\n",
      "363/363 [==============================] - 0s 1ms/step - loss: 0.3591 - val_loss: 0.3740\n",
      "Epoch 90/100\n",
      "363/363 [==============================] - 0s 1ms/step - loss: 0.3626 - val_loss: 0.3723\n",
      "Epoch 91/100\n",
      "363/363 [==============================] - 0s 1ms/step - loss: 0.3599 - val_loss: 0.4360\n",
      "Epoch 92/100\n",
      "363/363 [==============================] - 0s 1ms/step - loss: 0.4111 - val_loss: 0.3925\n",
      "Epoch 93/100\n",
      "363/363 [==============================] - 0s 1ms/step - loss: 0.4002 - val_loss: 0.3845\n",
      "Epoch 94/100\n",
      "363/363 [==============================] - 0s 1ms/step - loss: 0.3835 - val_loss: 0.3737\n",
      "Epoch 95/100\n",
      "363/363 [==============================] - 0s 1ms/step - loss: 0.3611 - val_loss: 0.3696\n",
      "Epoch 96/100\n",
      "363/363 [==============================] - 0s 1ms/step - loss: 0.3566 - val_loss: 0.3686\n",
      "Epoch 97/100\n",
      "363/363 [==============================] - 0s 1ms/step - loss: 0.3620 - val_loss: 0.3753\n",
      "Epoch 98/100\n",
      "363/363 [==============================] - 0s 1ms/step - loss: 0.3666 - val_loss: 0.3696\n",
      "Epoch 99/100\n",
      "363/363 [==============================] - 0s 1ms/step - loss: 0.3560 - val_loss: 0.3694\n",
      "Epoch 100/100\n",
      "363/363 [==============================] - 0s 1ms/step - loss: 0.3857 - val_loss: 0.3692\n",
      "162/162 [==============================] - 0s 1ms/step - loss: 0.3567\n",
      "WARNING:tensorflow:6 out of the last 7 calls to <function Model.make_predict_function.<locals>.predict_function at 0x0000014B2FBBEAF0> triggered tf.function retracing. Tracing is expensive and the excessive number of tracings could be due to (1) creating @tf.function repeatedly in a loop, (2) passing tensors with different shapes, (3) passing Python objects instead of tensors. For (1), please define your @tf.function outside of the loop. For (2), @tf.function has experimental_relax_shapes=True option that relaxes argument shapes that can avoid unnecessary retracing. For (3), please refer to https://www.tensorflow.org/guide/function#controlling_retracing and https://www.tensorflow.org/api_docs/python/tf/function for  more details.\n"
     ]
    }
   ],
   "source": [
    "keras_reg.fit(X_train, y_train, epochs=100, validation_data=(X_valid, y_valid), callbacks=[keras.callbacks.EarlyStopping(patience=10)])\n",
    "mse_test = keras_reg.score(X_test, y_test)\n",
    "y_pred = keras_reg.predict(X_new)"
   ]
  },
  {
   "cell_type": "markdown",
   "metadata": {},
   "source": [
    "> * fit()로 지정한 매개변수가 keras 모델로 전달됨.\n",
    "> * scikit은 손실이 아니라 점수를 계산하므로 높을수록 좋음."
   ]
  },
  {
   "cell_type": "markdown",
   "metadata": {},
   "source": [
    "* 여러 모델을 훈련하고 검증 세트에서 최선의 모델을 선택해야 하는데, 하이퍼파라미터가 많으므로 RandomizedSearchCV를 사용하는 것이 좋음."
   ]
  },
  {
   "cell_type": "code",
   "execution_count": 74,
   "metadata": {},
   "outputs": [
    {
     "name": "stderr",
     "output_type": "stream",
     "text": [
      "d:\\pythonenv\\mlenv\\lib\\site-packages\\tensorflow\\python\\keras\\optimizer_v2\\optimizer_v2.py:374: UserWarning: The `lr` argument is deprecated, use `learning_rate` instead.\n",
      "  warnings.warn(\n"
     ]
    },
    {
     "name": "stdout",
     "output_type": "stream",
     "text": [
      "Epoch 1/100\n",
      "182/182 [==============================] - 1s 2ms/step - loss: 1.2045 - val_loss: 0.9341\n",
      "Epoch 2/100\n",
      "182/182 [==============================] - 0s 1ms/step - loss: 0.5824 - val_loss: 0.9176\n",
      "Epoch 3/100\n",
      "182/182 [==============================] - 0s 1ms/step - loss: 0.5509 - val_loss: 0.9490\n",
      "Epoch 4/100\n",
      "182/182 [==============================] - 0s 1ms/step - loss: 0.5241 - val_loss: 0.9944\n",
      "Epoch 5/100\n",
      "182/182 [==============================] - 0s 1ms/step - loss: 0.5060 - val_loss: 1.0252\n",
      "Epoch 6/100\n",
      "182/182 [==============================] - 0s 1ms/step - loss: 0.5024 - val_loss: 1.0607\n",
      "Epoch 7/100\n",
      "182/182 [==============================] - 0s 1ms/step - loss: 0.5032 - val_loss: 1.1656\n",
      "Epoch 8/100\n",
      "182/182 [==============================] - 0s 1ms/step - loss: 0.5103 - val_loss: 1.1462\n",
      "Epoch 9/100\n",
      "182/182 [==============================] - 0s 2ms/step - loss: 0.5072 - val_loss: 1.1548\n",
      "Epoch 10/100\n",
      "182/182 [==============================] - 0s 1ms/step - loss: 0.5046 - val_loss: 1.1971\n",
      "Epoch 11/100\n",
      "182/182 [==============================] - 0s 1ms/step - loss: 0.5085 - val_loss: 1.2090\n",
      "Epoch 12/100\n",
      "182/182 [==============================] - 0s 1ms/step - loss: 0.5005 - val_loss: 1.2360\n",
      "182/182 [==============================] - ETA: 0s - loss: 3.633 - 0s 840us/step - loss: 2.9027\n"
     ]
    },
    {
     "name": "stderr",
     "output_type": "stream",
     "text": [
      "d:\\pythonenv\\mlenv\\lib\\site-packages\\tensorflow\\python\\keras\\optimizer_v2\\optimizer_v2.py:374: UserWarning: The `lr` argument is deprecated, use `learning_rate` instead.\n",
      "  warnings.warn(\n"
     ]
    },
    {
     "name": "stdout",
     "output_type": "stream",
     "text": [
      "Epoch 1/100\n",
      "182/182 [==============================] - 1s 2ms/step - loss: 4.1357 - val_loss: 3.7441\n",
      "Epoch 2/100\n",
      "182/182 [==============================] - 0s 2ms/step - loss: 59.5545 - val_loss: 147.5015\n",
      "Epoch 3/100\n",
      "182/182 [==============================] - 0s 2ms/step - loss: 195.0778 - val_loss: 6888.6147\n",
      "Epoch 4/100\n",
      "182/182 [==============================] - 0s 1ms/step - loss: 243277.5781 - val_loss: 292793.0000\n",
      "Epoch 5/100\n",
      "182/182 [==============================] - 0s 1ms/step - loss: 4597635.5000 - val_loss: 11744786.0000\n",
      "Epoch 6/100\n",
      "182/182 [==============================] - 0s 1ms/step - loss: 16941984.0000 - val_loss: 503340352.0000\n",
      "Epoch 7/100\n",
      "182/182 [==============================] - 0s 1ms/step - loss: 7982097920.0000 - val_loss: 21002217472.0000\n",
      "Epoch 8/100\n",
      "182/182 [==============================] - 0s 1ms/step - loss: 334162755584.0000 - val_loss: 928532135936.0000\n",
      "Epoch 9/100\n",
      "182/182 [==============================] - 0s 1ms/step - loss: 32010064101376.0000 - val_loss: 36748977504256.0000\n",
      "Epoch 10/100\n",
      "182/182 [==============================] - 0s 1ms/step - loss: 1326164031307776.0000 - val_loss: 1387695477620736.0000\n",
      "Epoch 11/100\n",
      "182/182 [==============================] - 0s 1ms/step - loss: 1858226324766720.0000 - val_loss: 60246953664970752.0000\n",
      "182/182 [==============================] - 0s 801us/step - loss: 1259902886477824.0000\n",
      "Epoch 1/100\n"
     ]
    },
    {
     "name": "stderr",
     "output_type": "stream",
     "text": [
      "d:\\pythonenv\\mlenv\\lib\\site-packages\\tensorflow\\python\\keras\\optimizer_v2\\optimizer_v2.py:374: UserWarning: The `lr` argument is deprecated, use `learning_rate` instead.\n",
      "  warnings.warn(\n"
     ]
    },
    {
     "name": "stdout",
     "output_type": "stream",
     "text": [
      "182/182 [==============================] - 1s 2ms/step - loss: 5.3689 - val_loss: 4.9887\n",
      "Epoch 2/100\n",
      "182/182 [==============================] - 0s 1ms/step - loss: 4.2248 - val_loss: 3.9731\n",
      "Epoch 3/100\n",
      "182/182 [==============================] - 0s 1ms/step - loss: 3.3572 - val_loss: 3.1989\n",
      "Epoch 4/100\n",
      "182/182 [==============================] - 0s 1ms/step - loss: 2.6967 - val_loss: 2.6088\n",
      "Epoch 5/100\n",
      "182/182 [==============================] - 0s 1ms/step - loss: 2.1942 - val_loss: 2.1592\n",
      "Epoch 6/100\n",
      "182/182 [==============================] - 0s 1ms/step - loss: 1.8118 - val_loss: 1.8146\n",
      "Epoch 7/100\n",
      "182/182 [==============================] - 0s 1ms/step - loss: 1.5194 - val_loss: 1.5519\n",
      "Epoch 8/100\n",
      "182/182 [==============================] - 0s 1ms/step - loss: 1.2968 - val_loss: 1.3499\n",
      "Epoch 9/100\n",
      "182/182 [==============================] - 0s 1ms/step - loss: 1.1258 - val_loss: 1.1949\n",
      "Epoch 10/100\n",
      "182/182 [==============================] - 0s 1ms/step - loss: 0.9947 - val_loss: 1.0756\n",
      "Epoch 11/100\n",
      "182/182 [==============================] - 0s 1ms/step - loss: 0.8941 - val_loss: 0.9836\n",
      "Epoch 12/100\n",
      "182/182 [==============================] - 0s 1ms/step - loss: 0.8166 - val_loss: 0.9123\n",
      "Epoch 13/100\n",
      "182/182 [==============================] - 0s 1ms/step - loss: 0.7568 - val_loss: 0.8575\n",
      "Epoch 14/100\n",
      "182/182 [==============================] - 0s 1ms/step - loss: 0.7108 - val_loss: 0.8150\n",
      "Epoch 15/100\n",
      "182/182 [==============================] - 0s 1ms/step - loss: 0.6752 - val_loss: 0.7819\n",
      "Epoch 16/100\n",
      "182/182 [==============================] - 0s 1ms/step - loss: 0.6475 - val_loss: 0.7561\n",
      "Epoch 17/100\n",
      "182/182 [==============================] - 0s 1ms/step - loss: 0.6259 - val_loss: 0.7359\n",
      "Epoch 18/100\n",
      "182/182 [==============================] - 0s 1ms/step - loss: 0.6089 - val_loss: 0.7200\n",
      "Epoch 19/100\n",
      "182/182 [==============================] - 0s 1ms/step - loss: 0.5956 - val_loss: 0.7076\n",
      "Epoch 20/100\n",
      "182/182 [==============================] - 0s 2ms/step - loss: 0.5851 - val_loss: 0.6978\n",
      "Epoch 21/100\n",
      "182/182 [==============================] - 0s 1ms/step - loss: 0.5768 - val_loss: 0.6901\n",
      "Epoch 22/100\n",
      "182/182 [==============================] - 0s 1ms/step - loss: 0.5701 - val_loss: 0.6840\n",
      "Epoch 23/100\n",
      "182/182 [==============================] - 0s 1ms/step - loss: 0.5647 - val_loss: 0.6792\n",
      "Epoch 24/100\n",
      "182/182 [==============================] - 0s 1ms/step - loss: 0.5604 - val_loss: 0.6753\n",
      "Epoch 25/100\n",
      "182/182 [==============================] - 0s 1ms/step - loss: 0.5568 - val_loss: 0.6721\n",
      "Epoch 26/100\n",
      "182/182 [==============================] - 0s 1ms/step - loss: 0.5539 - val_loss: 0.6697\n",
      "Epoch 27/100\n",
      "182/182 [==============================] - 0s 1ms/step - loss: 0.5514 - val_loss: 0.6677\n",
      "Epoch 28/100\n",
      "182/182 [==============================] - 0s 1ms/step - loss: 0.5493 - val_loss: 0.6662\n",
      "Epoch 29/100\n",
      "182/182 [==============================] - 0s 2ms/step - loss: 0.5476 - val_loss: 0.6649\n",
      "Epoch 30/100\n",
      "182/182 [==============================] - 0s 1ms/step - loss: 0.5460 - val_loss: 0.6639\n",
      "Epoch 31/100\n",
      "182/182 [==============================] - 0s 1ms/step - loss: 0.5446 - val_loss: 0.6631\n",
      "Epoch 32/100\n",
      "182/182 [==============================] - 0s 2ms/step - loss: 0.5435 - val_loss: 0.6625\n",
      "Epoch 33/100\n",
      "182/182 [==============================] - 0s 2ms/step - loss: 0.5424 - val_loss: 0.6620\n",
      "Epoch 34/100\n",
      "182/182 [==============================] - 0s 1ms/step - loss: 0.5414 - val_loss: 0.6616\n",
      "Epoch 35/100\n",
      "182/182 [==============================] - 0s 1ms/step - loss: 0.5405 - val_loss: 0.6613\n",
      "Epoch 36/100\n",
      "182/182 [==============================] - 0s 1ms/step - loss: 0.5397 - val_loss: 0.6611\n",
      "Epoch 37/100\n",
      "182/182 [==============================] - 0s 1ms/step - loss: 0.5389 - val_loss: 0.6610\n",
      "Epoch 38/100\n",
      "182/182 [==============================] - 0s 1ms/step - loss: 0.5381 - val_loss: 0.6610\n",
      "Epoch 39/100\n",
      "182/182 [==============================] - 0s 1ms/step - loss: 0.5374 - val_loss: 0.6609\n",
      "Epoch 40/100\n",
      "182/182 [==============================] - 0s 1ms/step - loss: 0.5368 - val_loss: 0.6609\n",
      "Epoch 41/100\n",
      "182/182 [==============================] - 0s 1ms/step - loss: 0.5361 - val_loss: 0.6610\n",
      "Epoch 42/100\n",
      "182/182 [==============================] - 0s 1ms/step - loss: 0.5355 - val_loss: 0.6611\n",
      "Epoch 43/100\n",
      "182/182 [==============================] - 0s 1ms/step - loss: 0.5349 - val_loss: 0.6612\n",
      "Epoch 44/100\n",
      "182/182 [==============================] - 0s 1ms/step - loss: 0.5343 - val_loss: 0.6614\n",
      "Epoch 45/100\n",
      "182/182 [==============================] - 0s 1ms/step - loss: 0.5338 - val_loss: 0.6615\n",
      "Epoch 46/100\n",
      "182/182 [==============================] - 0s 1ms/step - loss: 0.5332 - val_loss: 0.6617\n",
      "Epoch 47/100\n",
      "182/182 [==============================] - 0s 1ms/step - loss: 0.5327 - val_loss: 0.6620\n",
      "Epoch 48/100\n",
      "182/182 [==============================] - 0s 1ms/step - loss: 0.5322 - val_loss: 0.6622\n",
      "Epoch 49/100\n",
      "182/182 [==============================] - 0s 1ms/step - loss: 0.5317 - val_loss: 0.6624\n",
      "182/182 [==============================] - 0s 771us/step - loss: 0.8755\n",
      "Epoch 1/100\n"
     ]
    },
    {
     "name": "stderr",
     "output_type": "stream",
     "text": [
      "d:\\pythonenv\\mlenv\\lib\\site-packages\\tensorflow\\python\\keras\\optimizer_v2\\optimizer_v2.py:374: UserWarning: The `lr` argument is deprecated, use `learning_rate` instead.\n",
      "  warnings.warn(\n"
     ]
    },
    {
     "name": "stdout",
     "output_type": "stream",
     "text": [
      "182/182 [==============================] - 1s 2ms/step - loss: 7.1050 - val_loss: 5.7485\n",
      "Epoch 2/100\n",
      "182/182 [==============================] - 0s 2ms/step - loss: 5.1894 - val_loss: 4.3126\n",
      "Epoch 3/100\n",
      "182/182 [==============================] - 0s 2ms/step - loss: 3.8897 - val_loss: 3.3068\n",
      "Epoch 4/100\n",
      "182/182 [==============================] - 0s 2ms/step - loss: 2.9841 - val_loss: 2.5910\n",
      "Epoch 5/100\n",
      "182/182 [==============================] - 0s 2ms/step - loss: 2.3415 - val_loss: 2.0762\n",
      "Epoch 6/100\n",
      "182/182 [==============================] - 0s 2ms/step - loss: 1.8823 - val_loss: 1.7012\n",
      "Epoch 7/100\n",
      "182/182 [==============================] - 0s 1ms/step - loss: 1.5490 - val_loss: 1.4243\n",
      "Epoch 8/100\n",
      "182/182 [==============================] - 0s 1ms/step - loss: 1.3035 - val_loss: 1.2190\n",
      "Epoch 9/100\n",
      "182/182 [==============================] - 0s 1ms/step - loss: 1.1216 - val_loss: 1.0667\n",
      "Epoch 10/100\n",
      "182/182 [==============================] - 0s 1ms/step - loss: 0.9871 - val_loss: 0.9523\n",
      "Epoch 11/100\n",
      "182/182 [==============================] - 0s 1ms/step - loss: 0.8860 - val_loss: 0.8662\n",
      "Epoch 12/100\n",
      "182/182 [==============================] - 0s 2ms/step - loss: 0.8101 - val_loss: 0.8014\n",
      "Epoch 13/100\n",
      "182/182 [==============================] - 0s 2ms/step - loss: 0.7531 - val_loss: 0.7523\n",
      "Epoch 14/100\n",
      "182/182 [==============================] - 0s 2ms/step - loss: 0.7098 - val_loss: 0.7151\n",
      "Epoch 15/100\n",
      "182/182 [==============================] - 0s 2ms/step - loss: 0.6771 - val_loss: 0.6866\n",
      "Epoch 16/100\n",
      "182/182 [==============================] - 0s 1ms/step - loss: 0.6521 - val_loss: 0.6650\n",
      "Epoch 17/100\n",
      "182/182 [==============================] - 0s 1ms/step - loss: 0.6331 - val_loss: 0.6485\n",
      "Epoch 18/100\n",
      "182/182 [==============================] - 0s 1ms/step - loss: 0.6185 - val_loss: 0.6357\n",
      "Epoch 19/100\n",
      "182/182 [==============================] - 0s 1ms/step - loss: 0.6072 - val_loss: 0.6258\n",
      "Epoch 20/100\n",
      "182/182 [==============================] - 0s 1ms/step - loss: 0.5986 - val_loss: 0.6181\n",
      "Epoch 21/100\n",
      "182/182 [==============================] - 0s 1ms/step - loss: 0.5918 - val_loss: 0.6121\n",
      "Epoch 22/100\n",
      "182/182 [==============================] - 0s 1ms/step - loss: 0.5865 - val_loss: 0.6073\n",
      "Epoch 23/100\n",
      "182/182 [==============================] - 0s 1ms/step - loss: 0.5823 - val_loss: 0.6035\n",
      "Epoch 24/100\n",
      "182/182 [==============================] - 0s 1ms/step - loss: 0.5790 - val_loss: 0.6004\n",
      "Epoch 25/100\n",
      "182/182 [==============================] - 0s 1ms/step - loss: 0.5763 - val_loss: 0.5979\n",
      "Epoch 26/100\n",
      "182/182 [==============================] - 0s 1ms/step - loss: 0.5740 - val_loss: 0.5958\n",
      "Epoch 27/100\n",
      "182/182 [==============================] - 0s 1ms/step - loss: 0.5722 - val_loss: 0.5941\n",
      "Epoch 28/100\n",
      "182/182 [==============================] - 0s 1ms/step - loss: 0.5706 - val_loss: 0.5925\n",
      "Epoch 29/100\n",
      "182/182 [==============================] - 0s 1ms/step - loss: 0.5693 - val_loss: 0.5913\n",
      "Epoch 30/100\n",
      "182/182 [==============================] - 0s 1ms/step - loss: 0.5681 - val_loss: 0.5901\n",
      "Epoch 31/100\n",
      "182/182 [==============================] - 0s 1ms/step - loss: 0.5670 - val_loss: 0.5890\n",
      "Epoch 32/100\n",
      "182/182 [==============================] - 0s 1ms/step - loss: 0.5661 - val_loss: 0.5881\n",
      "Epoch 33/100\n",
      "182/182 [==============================] - 0s 1ms/step - loss: 0.5652 - val_loss: 0.5872\n",
      "Epoch 34/100\n",
      "182/182 [==============================] - 0s 1ms/step - loss: 0.5644 - val_loss: 0.5864\n",
      "Epoch 35/100\n",
      "182/182 [==============================] - 0s 1ms/step - loss: 0.5637 - val_loss: 0.5856\n",
      "Epoch 36/100\n",
      "182/182 [==============================] - 0s 1ms/step - loss: 0.5630 - val_loss: 0.5849\n",
      "Epoch 37/100\n",
      "182/182 [==============================] - 0s 1ms/step - loss: 0.5624 - val_loss: 0.5842\n",
      "Epoch 38/100\n",
      "182/182 [==============================] - 0s 1ms/step - loss: 0.5617 - val_loss: 0.5835\n",
      "Epoch 39/100\n",
      "182/182 [==============================] - 0s 1ms/step - loss: 0.5611 - val_loss: 0.5829\n",
      "Epoch 40/100\n",
      "182/182 [==============================] - 0s 1ms/step - loss: 0.5605 - val_loss: 0.5823\n",
      "Epoch 41/100\n",
      "182/182 [==============================] - 0s 1ms/step - loss: 0.5599 - val_loss: 0.5817\n",
      "Epoch 42/100\n",
      "182/182 [==============================] - 0s 1ms/step - loss: 0.5594 - val_loss: 0.5811\n",
      "Epoch 43/100\n",
      "182/182 [==============================] - 0s 1ms/step - loss: 0.5589 - val_loss: 0.5805\n",
      "Epoch 44/100\n",
      "182/182 [==============================] - 0s 1ms/step - loss: 0.5583 - val_loss: 0.5799\n",
      "Epoch 45/100\n",
      "182/182 [==============================] - 0s 1ms/step - loss: 0.5578 - val_loss: 0.5794\n",
      "Epoch 46/100\n",
      "182/182 [==============================] - 0s 1ms/step - loss: 0.5573 - val_loss: 0.5788\n",
      "Epoch 47/100\n",
      "182/182 [==============================] - 0s 1ms/step - loss: 0.5569 - val_loss: 0.5783\n",
      "Epoch 48/100\n",
      "182/182 [==============================] - 0s 1ms/step - loss: 0.5564 - val_loss: 0.5778\n",
      "Epoch 49/100\n",
      "182/182 [==============================] - 0s 1ms/step - loss: 0.5559 - val_loss: 0.5773\n",
      "Epoch 50/100\n",
      "182/182 [==============================] - 0s 1ms/step - loss: 0.5554 - val_loss: 0.5768\n",
      "Epoch 51/100\n",
      "182/182 [==============================] - 0s 1ms/step - loss: 0.5550 - val_loss: 0.5763\n",
      "Epoch 52/100\n",
      "182/182 [==============================] - 0s 1ms/step - loss: 0.5546 - val_loss: 0.5758\n",
      "Epoch 53/100\n",
      "182/182 [==============================] - 0s 2ms/step - loss: 0.5541 - val_loss: 0.5753\n",
      "Epoch 54/100\n",
      "182/182 [==============================] - 0s 2ms/step - loss: 0.5537 - val_loss: 0.5748\n",
      "Epoch 55/100\n",
      "182/182 [==============================] - 0s 2ms/step - loss: 0.5533 - val_loss: 0.5744\n",
      "Epoch 56/100\n",
      "182/182 [==============================] - 0s 1ms/step - loss: 0.5529 - val_loss: 0.5740\n",
      "Epoch 57/100\n",
      "182/182 [==============================] - 0s 1ms/step - loss: 0.5525 - val_loss: 0.5736\n",
      "Epoch 58/100\n",
      "182/182 [==============================] - 0s 1ms/step - loss: 0.5521 - val_loss: 0.5731\n",
      "Epoch 59/100\n",
      "182/182 [==============================] - 0s 1ms/step - loss: 0.5517 - val_loss: 0.5727\n",
      "Epoch 60/100\n",
      "182/182 [==============================] - 0s 1ms/step - loss: 0.5514 - val_loss: 0.5723\n",
      "Epoch 61/100\n",
      "182/182 [==============================] - 0s 1ms/step - loss: 0.5510 - val_loss: 0.5719\n",
      "Epoch 62/100\n",
      "182/182 [==============================] - 0s 1ms/step - loss: 0.5506 - val_loss: 0.5715\n",
      "Epoch 63/100\n",
      "182/182 [==============================] - 0s 1ms/step - loss: 0.5503 - val_loss: 0.5711\n",
      "Epoch 64/100\n",
      "182/182 [==============================] - 0s 1ms/step - loss: 0.5499 - val_loss: 0.5708\n",
      "Epoch 65/100\n",
      "182/182 [==============================] - 0s 1ms/step - loss: 0.5496 - val_loss: 0.5704\n",
      "Epoch 66/100\n",
      "182/182 [==============================] - 0s 1ms/step - loss: 0.5493 - val_loss: 0.5700\n",
      "Epoch 67/100\n",
      "182/182 [==============================] - 0s 989us/step - loss: 0.5489 - val_loss: 0.5696\n",
      "Epoch 68/100\n",
      "182/182 [==============================] - 0s 1ms/step - loss: 0.5486 - val_loss: 0.5693\n",
      "Epoch 69/100\n",
      "182/182 [==============================] - 0s 1ms/step - loss: 0.5483 - val_loss: 0.5689\n",
      "Epoch 70/100\n",
      "182/182 [==============================] - 0s 1ms/step - loss: 0.5480 - val_loss: 0.5686\n",
      "Epoch 71/100\n",
      "182/182 [==============================] - 0s 1ms/step - loss: 0.5477 - val_loss: 0.5683\n",
      "Epoch 72/100\n",
      "182/182 [==============================] - 0s 1ms/step - loss: 0.5474 - val_loss: 0.5679\n",
      "Epoch 73/100\n",
      "182/182 [==============================] - 0s 1ms/step - loss: 0.5471 - val_loss: 0.5676\n",
      "Epoch 74/100\n",
      "182/182 [==============================] - 0s 1ms/step - loss: 0.5468 - val_loss: 0.5673\n",
      "Epoch 75/100\n",
      "182/182 [==============================] - 0s 1ms/step - loss: 0.5466 - val_loss: 0.5670\n",
      "Epoch 76/100\n",
      "182/182 [==============================] - 0s 1ms/step - loss: 0.5463 - val_loss: 0.5667\n",
      "Epoch 77/100\n",
      "182/182 [==============================] - 0s 1ms/step - loss: 0.5460 - val_loss: 0.5664\n",
      "Epoch 78/100\n",
      "182/182 [==============================] - 0s 1ms/step - loss: 0.5458 - val_loss: 0.5660\n",
      "Epoch 79/100\n",
      "182/182 [==============================] - 0s 1ms/step - loss: 0.5455 - val_loss: 0.5658\n",
      "Epoch 80/100\n",
      "182/182 [==============================] - 0s 1ms/step - loss: 0.5453 - val_loss: 0.5655\n",
      "Epoch 81/100\n",
      "182/182 [==============================] - 0s 1ms/step - loss: 0.5450 - val_loss: 0.5652\n",
      "Epoch 82/100\n",
      "182/182 [==============================] - 0s 1ms/step - loss: 0.5448 - val_loss: 0.5649\n",
      "Epoch 83/100\n",
      "182/182 [==============================] - 0s 1ms/step - loss: 0.5445 - val_loss: 0.5647\n",
      "Epoch 84/100\n",
      "182/182 [==============================] - 0s 1ms/step - loss: 0.5443 - val_loss: 0.5644\n",
      "Epoch 85/100\n",
      "182/182 [==============================] - 0s 1ms/step - loss: 0.5441 - val_loss: 0.5642\n",
      "Epoch 86/100\n",
      "182/182 [==============================] - 0s 1ms/step - loss: 0.5438 - val_loss: 0.5639\n",
      "Epoch 87/100\n",
      "182/182 [==============================] - 0s 1ms/step - loss: 0.5436 - val_loss: 0.5636\n",
      "Epoch 88/100\n",
      "182/182 [==============================] - 0s 1ms/step - loss: 0.5434 - val_loss: 0.5634\n",
      "Epoch 89/100\n",
      "182/182 [==============================] - 0s 1ms/step - loss: 0.5432 - val_loss: 0.5631\n",
      "Epoch 90/100\n",
      "182/182 [==============================] - 0s 1ms/step - loss: 0.5430 - val_loss: 0.5629\n",
      "Epoch 91/100\n",
      "182/182 [==============================] - 0s 1ms/step - loss: 0.5428 - val_loss: 0.5626\n",
      "Epoch 92/100\n",
      "182/182 [==============================] - 0s 1ms/step - loss: 0.5426 - val_loss: 0.5624\n",
      "Epoch 93/100\n",
      "182/182 [==============================] - 0s 1ms/step - loss: 0.5424 - val_loss: 0.5622\n",
      "Epoch 94/100\n",
      "182/182 [==============================] - 0s 1ms/step - loss: 0.5422 - val_loss: 0.5619\n",
      "Epoch 95/100\n",
      "182/182 [==============================] - 0s 1ms/step - loss: 0.5420 - val_loss: 0.5617\n",
      "Epoch 96/100\n",
      "182/182 [==============================] - 0s 1ms/step - loss: 0.5418 - val_loss: 0.5614\n",
      "Epoch 97/100\n",
      "182/182 [==============================] - 0s 1ms/step - loss: 0.5416 - val_loss: 0.5613\n",
      "Epoch 98/100\n",
      "182/182 [==============================] - 0s 1ms/step - loss: 0.5414 - val_loss: 0.5611\n",
      "Epoch 99/100\n",
      "182/182 [==============================] - 0s 1ms/step - loss: 0.5412 - val_loss: 0.5609\n",
      "Epoch 100/100\n",
      "182/182 [==============================] - 0s 1ms/step - loss: 0.5411 - val_loss: 0.5606\n",
      "182/182 [==============================] - 0s 690us/step - loss: 0.5343\n",
      "Epoch 1/100\n"
     ]
    },
    {
     "name": "stderr",
     "output_type": "stream",
     "text": [
      "d:\\pythonenv\\mlenv\\lib\\site-packages\\tensorflow\\python\\keras\\optimizer_v2\\optimizer_v2.py:374: UserWarning: The `lr` argument is deprecated, use `learning_rate` instead.\n",
      "  warnings.warn(\n"
     ]
    },
    {
     "name": "stdout",
     "output_type": "stream",
     "text": [
      "182/182 [==============================] - 0s 2ms/step - loss: 2.1490 - val_loss: 1.3007\n",
      "Epoch 2/100\n",
      "182/182 [==============================] - 0s 1ms/step - loss: 1.0048 - val_loss: 0.9285\n",
      "Epoch 3/100\n",
      "182/182 [==============================] - 0s 1ms/step - loss: 0.8160 - val_loss: 0.8363\n",
      "Epoch 4/100\n",
      "182/182 [==============================] - 0s 1ms/step - loss: 0.7623 - val_loss: 0.7901\n",
      "Epoch 5/100\n",
      "182/182 [==============================] - 0s 1ms/step - loss: 0.7313 - val_loss: 0.7579\n",
      "Epoch 6/100\n",
      "182/182 [==============================] - 0s 1ms/step - loss: 0.7070 - val_loss: 0.7307\n",
      "Epoch 7/100\n",
      "182/182 [==============================] - 0s 1ms/step - loss: 0.6865 - val_loss: 0.7084\n",
      "Epoch 8/100\n",
      "182/182 [==============================] - 0s 1ms/step - loss: 0.6683 - val_loss: 0.6888\n",
      "Epoch 9/100\n",
      "182/182 [==============================] - 0s 1ms/step - loss: 0.6520 - val_loss: 0.6715\n",
      "Epoch 10/100\n",
      "182/182 [==============================] - 0s 2ms/step - loss: 0.6372 - val_loss: 0.6553\n",
      "Epoch 11/100\n",
      "182/182 [==============================] - 0s 2ms/step - loss: 0.6235 - val_loss: 0.6411\n",
      "Epoch 12/100\n",
      "182/182 [==============================] - 0s 2ms/step - loss: 0.6111 - val_loss: 0.6282\n",
      "Epoch 13/100\n",
      "182/182 [==============================] - 0s 2ms/step - loss: 0.5997 - val_loss: 0.6163\n",
      "Epoch 14/100\n",
      "182/182 [==============================] - 0s 1ms/step - loss: 0.5891 - val_loss: 0.6055\n",
      "Epoch 15/100\n",
      "182/182 [==============================] - 0s 1ms/step - loss: 0.5792 - val_loss: 0.5958\n",
      "Epoch 16/100\n",
      "182/182 [==============================] - 0s 1ms/step - loss: 0.5704 - val_loss: 0.5867\n",
      "Epoch 17/100\n",
      "182/182 [==============================] - 0s 1ms/step - loss: 0.5620 - val_loss: 0.5789\n",
      "Epoch 18/100\n",
      "182/182 [==============================] - 0s 1ms/step - loss: 0.5542 - val_loss: 0.5714\n",
      "Epoch 19/100\n",
      "182/182 [==============================] - 0s 1ms/step - loss: 0.5472 - val_loss: 0.5644\n",
      "Epoch 20/100\n",
      "182/182 [==============================] - 0s 1ms/step - loss: 0.5407 - val_loss: 0.5580\n",
      "Epoch 21/100\n",
      "182/182 [==============================] - 0s 2ms/step - loss: 0.5348 - val_loss: 0.5526\n",
      "Epoch 22/100\n",
      "182/182 [==============================] - 1s 3ms/step - loss: 0.5292 - val_loss: 0.5472\n",
      "Epoch 23/100\n",
      "182/182 [==============================] - 0s 2ms/step - loss: 0.5243 - val_loss: 0.5429\n",
      "Epoch 24/100\n",
      "182/182 [==============================] - ETA: 0s - loss: 0.518 - 0s 2ms/step - loss: 0.5196 - val_loss: 0.5387\n",
      "Epoch 25/100\n",
      "182/182 [==============================] - 0s 1ms/step - loss: 0.5153 - val_loss: 0.5349\n",
      "Epoch 26/100\n",
      "182/182 [==============================] - 0s 2ms/step - loss: 0.5114 - val_loss: 0.5311\n",
      "Epoch 27/100\n",
      "182/182 [==============================] - 0s 2ms/step - loss: 0.5078 - val_loss: 0.5277\n",
      "Epoch 28/100\n",
      "182/182 [==============================] - 0s 1ms/step - loss: 0.5043 - val_loss: 0.5250\n",
      "Epoch 29/100\n",
      "182/182 [==============================] - 0s 1ms/step - loss: 0.5009 - val_loss: 0.5226\n",
      "Epoch 30/100\n",
      "182/182 [==============================] - 0s 1ms/step - loss: 0.4982 - val_loss: 0.5197\n",
      "Epoch 31/100\n",
      "182/182 [==============================] - 0s 1ms/step - loss: 0.4955 - val_loss: 0.5175\n",
      "Epoch 32/100\n",
      "182/182 [==============================] - 0s 1ms/step - loss: 0.4927 - val_loss: 0.5159\n",
      "Epoch 33/100\n",
      "182/182 [==============================] - 0s 1ms/step - loss: 0.4904 - val_loss: 0.5139\n",
      "Epoch 34/100\n",
      "182/182 [==============================] - 0s 1ms/step - loss: 0.4881 - val_loss: 0.5121\n",
      "Epoch 35/100\n",
      "182/182 [==============================] - 0s 1ms/step - loss: 0.4860 - val_loss: 0.5107\n",
      "Epoch 36/100\n",
      "182/182 [==============================] - 0s 1ms/step - loss: 0.4839 - val_loss: 0.5098\n",
      "Epoch 37/100\n",
      "182/182 [==============================] - 0s 1ms/step - loss: 0.4821 - val_loss: 0.5080\n",
      "Epoch 38/100\n",
      "182/182 [==============================] - 0s 1ms/step - loss: 0.4803 - val_loss: 0.5066\n",
      "Epoch 39/100\n",
      "182/182 [==============================] - 0s 1ms/step - loss: 0.4785 - val_loss: 0.5056\n",
      "Epoch 40/100\n",
      "182/182 [==============================] - 0s 1ms/step - loss: 0.4769 - val_loss: 0.5047\n",
      "Epoch 41/100\n",
      "182/182 [==============================] - 0s 1ms/step - loss: 0.4754 - val_loss: 0.5037\n",
      "Epoch 42/100\n",
      "182/182 [==============================] - 0s 1ms/step - loss: 0.4739 - val_loss: 0.5025\n",
      "Epoch 43/100\n",
      "182/182 [==============================] - 0s 1ms/step - loss: 0.4725 - val_loss: 0.5016\n",
      "Epoch 44/100\n",
      "182/182 [==============================] - 0s 1ms/step - loss: 0.4713 - val_loss: 0.5009\n",
      "Epoch 45/100\n",
      "182/182 [==============================] - 0s 1ms/step - loss: 0.4698 - val_loss: 0.5010\n",
      "Epoch 46/100\n",
      "182/182 [==============================] - 0s 1ms/step - loss: 0.4687 - val_loss: 0.5003\n",
      "Epoch 47/100\n",
      "182/182 [==============================] - 0s 1ms/step - loss: 0.4674 - val_loss: 0.4992\n",
      "Epoch 48/100\n",
      "182/182 [==============================] - 0s 1ms/step - loss: 0.4662 - val_loss: 0.4985\n",
      "Epoch 49/100\n",
      "182/182 [==============================] - 0s 1ms/step - loss: 0.4651 - val_loss: 0.4977\n",
      "Epoch 50/100\n",
      "182/182 [==============================] - 0s 2ms/step - loss: 0.4640 - val_loss: 0.4972\n",
      "Epoch 51/100\n",
      "182/182 [==============================] - 0s 1ms/step - loss: 0.4629 - val_loss: 0.4967\n",
      "Epoch 52/100\n",
      "182/182 [==============================] - 0s 1ms/step - loss: 0.4619 - val_loss: 0.4966\n",
      "Epoch 53/100\n",
      "182/182 [==============================] - 0s 1ms/step - loss: 0.4609 - val_loss: 0.4964\n",
      "Epoch 54/100\n",
      "182/182 [==============================] - 0s 2ms/step - loss: 0.4599 - val_loss: 0.4959\n",
      "Epoch 55/100\n",
      "182/182 [==============================] - 0s 2ms/step - loss: 0.4589 - val_loss: 0.4961\n",
      "Epoch 56/100\n",
      "182/182 [==============================] - 0s 2ms/step - loss: 0.4581 - val_loss: 0.4951\n",
      "Epoch 57/100\n",
      "182/182 [==============================] - 0s 1ms/step - loss: 0.4572 - val_loss: 0.4948\n",
      "Epoch 58/100\n",
      "182/182 [==============================] - 0s 1ms/step - loss: 0.4562 - val_loss: 0.4945\n",
      "Epoch 59/100\n",
      "182/182 [==============================] - 0s 1ms/step - loss: 0.4555 - val_loss: 0.4940\n",
      "Epoch 60/100\n",
      "182/182 [==============================] - 0s 1ms/step - loss: 0.4546 - val_loss: 0.4938\n",
      "Epoch 61/100\n",
      "182/182 [==============================] - 0s 1ms/step - loss: 0.4537 - val_loss: 0.4940\n",
      "Epoch 62/100\n",
      "182/182 [==============================] - 0s 2ms/step - loss: 0.4530 - val_loss: 0.4937\n",
      "Epoch 63/100\n",
      "182/182 [==============================] - 0s 2ms/step - loss: 0.4522 - val_loss: 0.4933\n",
      "Epoch 64/100\n",
      "182/182 [==============================] - 0s 2ms/step - loss: 0.4513 - val_loss: 0.4931\n",
      "Epoch 65/100\n",
      "182/182 [==============================] - 0s 2ms/step - loss: 0.4506 - val_loss: 0.4935\n",
      "Epoch 66/100\n",
      "182/182 [==============================] - 0s 1ms/step - loss: 0.4498 - val_loss: 0.4930\n",
      "Epoch 67/100\n",
      "182/182 [==============================] - 0s 2ms/step - loss: 0.4492 - val_loss: 0.4926\n",
      "Epoch 68/100\n",
      "182/182 [==============================] - 0s 1ms/step - loss: 0.4485 - val_loss: 0.4930\n",
      "Epoch 69/100\n",
      "182/182 [==============================] - 1s 3ms/step - loss: 0.4478 - val_loss: 0.4926\n",
      "Epoch 70/100\n",
      "182/182 [==============================] - 0s 1ms/step - loss: 0.4472 - val_loss: 0.4927\n",
      "Epoch 71/100\n",
      "182/182 [==============================] - 0s 1ms/step - loss: 0.4466 - val_loss: 0.4927\n",
      "Epoch 72/100\n",
      "182/182 [==============================] - 0s 1ms/step - loss: 0.4459 - val_loss: 0.4926\n",
      "Epoch 73/100\n",
      "182/182 [==============================] - 0s 1ms/step - loss: 0.4453 - val_loss: 0.4922\n",
      "Epoch 74/100\n",
      "182/182 [==============================] - 0s 1ms/step - loss: 0.4447 - val_loss: 0.4921\n",
      "Epoch 75/100\n",
      "182/182 [==============================] - 0s 1ms/step - loss: 0.4441 - val_loss: 0.4919\n",
      "Epoch 76/100\n",
      "182/182 [==============================] - 0s 1ms/step - loss: 0.4436 - val_loss: 0.4920\n",
      "Epoch 77/100\n",
      "182/182 [==============================] - 0s 1ms/step - loss: 0.4429 - val_loss: 0.4917\n",
      "Epoch 78/100\n",
      "182/182 [==============================] - 0s 1ms/step - loss: 0.4425 - val_loss: 0.4916\n",
      "Epoch 79/100\n",
      "182/182 [==============================] - 0s 1ms/step - loss: 0.4420 - val_loss: 0.4915\n",
      "Epoch 80/100\n",
      "182/182 [==============================] - 0s 1ms/step - loss: 0.4415 - val_loss: 0.4915\n",
      "Epoch 81/100\n",
      "182/182 [==============================] - 0s 1ms/step - loss: 0.4408 - val_loss: 0.4917\n",
      "Epoch 82/100\n",
      "182/182 [==============================] - 0s 1ms/step - loss: 0.4403 - val_loss: 0.4922\n",
      "Epoch 83/100\n",
      "182/182 [==============================] - 0s 2ms/step - loss: 0.4399 - val_loss: 0.4920\n",
      "Epoch 84/100\n",
      "182/182 [==============================] - 0s 2ms/step - loss: 0.4393 - val_loss: 0.4922\n",
      "Epoch 85/100\n",
      "182/182 [==============================] - 0s 2ms/step - loss: 0.4388 - val_loss: 0.4921\n",
      "Epoch 86/100\n",
      "182/182 [==============================] - 0s 2ms/step - loss: 0.4384 - val_loss: 0.4918\n",
      "Epoch 87/100\n",
      "182/182 [==============================] - 0s 1ms/step - loss: 0.4379 - val_loss: 0.4914\n",
      "Epoch 88/100\n",
      "182/182 [==============================] - 0s 1ms/step - loss: 0.4374 - val_loss: 0.4915\n",
      "Epoch 89/100\n",
      "182/182 [==============================] - 0s 1ms/step - loss: 0.4369 - val_loss: 0.4913\n",
      "Epoch 90/100\n",
      "182/182 [==============================] - 0s 1ms/step - loss: 0.4364 - val_loss: 0.4913\n",
      "Epoch 91/100\n",
      "182/182 [==============================] - 0s 1ms/step - loss: 0.4359 - val_loss: 0.4911\n",
      "Epoch 92/100\n",
      "182/182 [==============================] - 0s 1ms/step - loss: 0.4355 - val_loss: 0.4913\n",
      "Epoch 93/100\n",
      "182/182 [==============================] - 0s 1ms/step - loss: 0.4351 - val_loss: 0.4913\n",
      "Epoch 94/100\n",
      "182/182 [==============================] - 0s 1ms/step - loss: 0.4346 - val_loss: 0.4912\n",
      "Epoch 95/100\n",
      "182/182 [==============================] - 0s 1ms/step - loss: 0.4341 - val_loss: 0.4917\n",
      "Epoch 96/100\n",
      "182/182 [==============================] - 0s 1ms/step - loss: 0.4337 - val_loss: 0.4916\n",
      "Epoch 97/100\n",
      "182/182 [==============================] - 0s 1ms/step - loss: 0.4333 - val_loss: 0.4919\n",
      "Epoch 98/100\n",
      "182/182 [==============================] - 0s 1ms/step - loss: 0.4329 - val_loss: 0.4911\n",
      "Epoch 99/100\n",
      "182/182 [==============================] - 0s 1ms/step - loss: 0.4324 - val_loss: 0.4912\n",
      "Epoch 100/100\n",
      "182/182 [==============================] - 0s 2ms/step - loss: 0.4319 - val_loss: 0.4913\n",
      "182/182 [==============================] - 0s 950us/step - loss: 0.5855\n",
      "Epoch 1/100\n"
     ]
    },
    {
     "name": "stderr",
     "output_type": "stream",
     "text": [
      "d:\\pythonenv\\mlenv\\lib\\site-packages\\tensorflow\\python\\keras\\optimizer_v2\\optimizer_v2.py:374: UserWarning: The `lr` argument is deprecated, use `learning_rate` instead.\n",
      "  warnings.warn(\n"
     ]
    },
    {
     "name": "stdout",
     "output_type": "stream",
     "text": [
      "182/182 [==============================] - 1s 3ms/step - loss: 3.0403 - val_loss: 1.5730\n",
      "Epoch 2/100\n",
      "182/182 [==============================] - 0s 2ms/step - loss: 1.1889 - val_loss: 0.9391\n",
      "Epoch 3/100\n",
      "182/182 [==============================] - 0s 1ms/step - loss: 0.8241 - val_loss: 0.7891\n",
      "Epoch 4/100\n",
      "182/182 [==============================] - 0s 2ms/step - loss: 0.7387 - val_loss: 0.7383\n",
      "Epoch 5/100\n",
      "182/182 [==============================] - 0s 1ms/step - loss: 0.7052 - val_loss: 0.7093\n",
      "Epoch 6/100\n",
      "182/182 [==============================] - 0s 1ms/step - loss: 0.6830 - val_loss: 0.6870\n",
      "Epoch 7/100\n",
      "182/182 [==============================] - 0s 1ms/step - loss: 0.6646 - val_loss: 0.6690\n",
      "Epoch 8/100\n",
      "182/182 [==============================] - 0s 1ms/step - loss: 0.6484 - val_loss: 0.6533\n",
      "Epoch 9/100\n",
      "182/182 [==============================] - 0s 1ms/step - loss: 0.6337 - val_loss: 0.6391\n",
      "Epoch 10/100\n",
      "182/182 [==============================] - 0s 1ms/step - loss: 0.6206 - val_loss: 0.6263\n",
      "Epoch 11/100\n",
      "182/182 [==============================] - 0s 1ms/step - loss: 0.6085 - val_loss: 0.6148\n",
      "Epoch 12/100\n",
      "182/182 [==============================] - 0s 1ms/step - loss: 0.5975 - val_loss: 0.6046\n",
      "Epoch 13/100\n",
      "182/182 [==============================] - 0s 1ms/step - loss: 0.5876 - val_loss: 0.5953\n",
      "Epoch 14/100\n",
      "182/182 [==============================] - 0s 1ms/step - loss: 0.5785 - val_loss: 0.5866\n",
      "Epoch 15/100\n",
      "182/182 [==============================] - 0s 2ms/step - loss: 0.5701 - val_loss: 0.5787\n",
      "Epoch 16/100\n",
      "182/182 [==============================] - 0s 2ms/step - loss: 0.5627 - val_loss: 0.5718\n",
      "Epoch 17/100\n",
      "182/182 [==============================] - 0s 1ms/step - loss: 0.5556 - val_loss: 0.5648\n",
      "Epoch 18/100\n",
      "182/182 [==============================] - 0s 1ms/step - loss: 0.5491 - val_loss: 0.5588\n",
      "Epoch 19/100\n",
      "182/182 [==============================] - 0s 1ms/step - loss: 0.5432 - val_loss: 0.5532\n",
      "Epoch 20/100\n",
      "182/182 [==============================] - 0s 1ms/step - loss: 0.5377 - val_loss: 0.5477\n",
      "Epoch 21/100\n",
      "182/182 [==============================] - 0s 1ms/step - loss: 0.5325 - val_loss: 0.5429\n",
      "Epoch 22/100\n",
      "182/182 [==============================] - 0s 1ms/step - loss: 0.5278 - val_loss: 0.5393\n",
      "Epoch 23/100\n",
      "182/182 [==============================] - 0s 1ms/step - loss: 0.5235 - val_loss: 0.5345\n",
      "Epoch 24/100\n",
      "182/182 [==============================] - 0s 1ms/step - loss: 0.5194 - val_loss: 0.5307\n",
      "Epoch 25/100\n",
      "182/182 [==============================] - 0s 1ms/step - loss: 0.5155 - val_loss: 0.5269\n",
      "Epoch 26/100\n",
      "182/182 [==============================] - 0s 1ms/step - loss: 0.5118 - val_loss: 0.5233\n",
      "Epoch 27/100\n",
      "182/182 [==============================] - 0s 1ms/step - loss: 0.5085 - val_loss: 0.5203\n",
      "Epoch 28/100\n",
      "182/182 [==============================] - 0s 1ms/step - loss: 0.5052 - val_loss: 0.5174\n",
      "Epoch 29/100\n",
      "182/182 [==============================] - 0s 1ms/step - loss: 0.5025 - val_loss: 0.5146\n",
      "Epoch 30/100\n",
      "182/182 [==============================] - 0s 1ms/step - loss: 0.4995 - val_loss: 0.5119\n",
      "Epoch 31/100\n",
      "182/182 [==============================] - 0s 1ms/step - loss: 0.4969 - val_loss: 0.5092\n",
      "Epoch 32/100\n",
      "182/182 [==============================] - 0s 1ms/step - loss: 0.4945 - val_loss: 0.5071\n",
      "Epoch 33/100\n",
      "182/182 [==============================] - 0s 1ms/step - loss: 0.4921 - val_loss: 0.5049\n",
      "Epoch 34/100\n",
      "182/182 [==============================] - 0s 1ms/step - loss: 0.4897 - val_loss: 0.5026\n",
      "Epoch 35/100\n",
      "182/182 [==============================] - 0s 1ms/step - loss: 0.4878 - val_loss: 0.5008\n",
      "Epoch 36/100\n",
      "182/182 [==============================] - 0s 1ms/step - loss: 0.4856 - val_loss: 0.4989\n",
      "Epoch 37/100\n",
      "182/182 [==============================] - 0s 1ms/step - loss: 0.4837 - val_loss: 0.4973\n",
      "Epoch 38/100\n",
      "182/182 [==============================] - 0s 1ms/step - loss: 0.4818 - val_loss: 0.4955\n",
      "Epoch 39/100\n",
      "182/182 [==============================] - 0s 1ms/step - loss: 0.4802 - val_loss: 0.4939\n",
      "Epoch 40/100\n",
      "182/182 [==============================] - 0s 1ms/step - loss: 0.4785 - val_loss: 0.4923\n",
      "Epoch 41/100\n",
      "182/182 [==============================] - 0s 1ms/step - loss: 0.4769 - val_loss: 0.4907\n",
      "Epoch 42/100\n",
      "182/182 [==============================] - 0s 1ms/step - loss: 0.4753 - val_loss: 0.4891\n",
      "Epoch 43/100\n",
      "182/182 [==============================] - 0s 1ms/step - loss: 0.4741 - val_loss: 0.4884\n",
      "Epoch 44/100\n",
      "182/182 [==============================] - 0s 1ms/step - loss: 0.4725 - val_loss: 0.4869\n",
      "Epoch 45/100\n",
      "182/182 [==============================] - 0s 1ms/step - loss: 0.4716 - val_loss: 0.4859\n",
      "Epoch 46/100\n",
      "182/182 [==============================] - 0s 1ms/step - loss: 0.4703 - val_loss: 0.4848\n",
      "Epoch 47/100\n",
      "182/182 [==============================] - 0s 1ms/step - loss: 0.4691 - val_loss: 0.4839\n",
      "Epoch 48/100\n",
      "182/182 [==============================] - 0s 1ms/step - loss: 0.4680 - val_loss: 0.4829\n",
      "Epoch 49/100\n",
      "182/182 [==============================] - 0s 1ms/step - loss: 0.4670 - val_loss: 0.4818\n",
      "Epoch 50/100\n",
      "182/182 [==============================] - 0s 1ms/step - loss: 0.4660 - val_loss: 0.4811\n",
      "Epoch 51/100\n",
      "182/182 [==============================] - 0s 2ms/step - loss: 0.4649 - val_loss: 0.4800\n",
      "Epoch 52/100\n",
      "182/182 [==============================] - 0s 1ms/step - loss: 0.4641 - val_loss: 0.4794\n",
      "Epoch 53/100\n",
      "182/182 [==============================] - 0s 1ms/step - loss: 0.4628 - val_loss: 0.4783\n",
      "Epoch 54/100\n",
      "182/182 [==============================] - 0s 1ms/step - loss: 0.4622 - val_loss: 0.4776\n",
      "Epoch 55/100\n",
      "182/182 [==============================] - 0s 1ms/step - loss: 0.4611 - val_loss: 0.4768\n",
      "Epoch 56/100\n",
      "182/182 [==============================] - 0s 1ms/step - loss: 0.4604 - val_loss: 0.4762\n",
      "Epoch 57/100\n",
      "182/182 [==============================] - 0s 1ms/step - loss: 0.4596 - val_loss: 0.4753\n",
      "Epoch 58/100\n",
      "182/182 [==============================] - 0s 1ms/step - loss: 0.4588 - val_loss: 0.4750\n",
      "Epoch 59/100\n",
      "182/182 [==============================] - 0s 1ms/step - loss: 0.4578 - val_loss: 0.4739\n",
      "Epoch 60/100\n",
      "182/182 [==============================] - 0s 1ms/step - loss: 0.4571 - val_loss: 0.4732\n",
      "Epoch 61/100\n",
      "182/182 [==============================] - 0s 1ms/step - loss: 0.4563 - val_loss: 0.4728\n",
      "Epoch 62/100\n",
      "182/182 [==============================] - 0s 1ms/step - loss: 0.4557 - val_loss: 0.4720\n",
      "Epoch 63/100\n",
      "182/182 [==============================] - 0s 1ms/step - loss: 0.4549 - val_loss: 0.4711\n",
      "Epoch 64/100\n",
      "182/182 [==============================] - 0s 1ms/step - loss: 0.4544 - val_loss: 0.4707\n",
      "Epoch 65/100\n",
      "182/182 [==============================] - 0s 1ms/step - loss: 0.4535 - val_loss: 0.4708\n",
      "Epoch 66/100\n",
      "182/182 [==============================] - 0s 1ms/step - loss: 0.4529 - val_loss: 0.4690\n",
      "Epoch 67/100\n",
      "182/182 [==============================] - 0s 1ms/step - loss: 0.4523 - val_loss: 0.4693\n",
      "Epoch 68/100\n",
      "182/182 [==============================] - 0s 1ms/step - loss: 0.4516 - val_loss: 0.4689\n",
      "Epoch 69/100\n",
      "182/182 [==============================] - 0s 1ms/step - loss: 0.4510 - val_loss: 0.4684\n",
      "Epoch 70/100\n",
      "182/182 [==============================] - 0s 1ms/step - loss: 0.4502 - val_loss: 0.4669\n",
      "Epoch 71/100\n",
      "182/182 [==============================] - 0s 1ms/step - loss: 0.4497 - val_loss: 0.4668\n",
      "Epoch 72/100\n",
      "182/182 [==============================] - 0s 1ms/step - loss: 0.4491 - val_loss: 0.4661\n",
      "Epoch 73/100\n",
      "182/182 [==============================] - 0s 1ms/step - loss: 0.4485 - val_loss: 0.4658\n",
      "Epoch 74/100\n",
      "182/182 [==============================] - 0s 1ms/step - loss: 0.4479 - val_loss: 0.4654\n",
      "Epoch 75/100\n",
      "182/182 [==============================] - 0s 1ms/step - loss: 0.4472 - val_loss: 0.4643\n",
      "Epoch 76/100\n",
      "182/182 [==============================] - 0s 1ms/step - loss: 0.4467 - val_loss: 0.4640\n",
      "Epoch 77/100\n",
      "182/182 [==============================] - 0s 1ms/step - loss: 0.4459 - val_loss: 0.4633\n",
      "Epoch 78/100\n",
      "182/182 [==============================] - 0s 1ms/step - loss: 0.4458 - val_loss: 0.4634\n",
      "Epoch 79/100\n",
      "182/182 [==============================] - 0s 1ms/step - loss: 0.4450 - val_loss: 0.4627\n",
      "Epoch 80/100\n",
      "182/182 [==============================] - 0s 1ms/step - loss: 0.4444 - val_loss: 0.4619\n",
      "Epoch 81/100\n",
      "182/182 [==============================] - 0s 1ms/step - loss: 0.4439 - val_loss: 0.4618\n",
      "Epoch 82/100\n",
      "182/182 [==============================] - 0s 1ms/step - loss: 0.4433 - val_loss: 0.4612\n",
      "Epoch 83/100\n",
      "182/182 [==============================] - 0s 1ms/step - loss: 0.4428 - val_loss: 0.4606\n",
      "Epoch 84/100\n",
      "182/182 [==============================] - 0s 1ms/step - loss: 0.4423 - val_loss: 0.4603\n",
      "Epoch 85/100\n",
      "182/182 [==============================] - 0s 1ms/step - loss: 0.4416 - val_loss: 0.4594\n",
      "Epoch 86/100\n",
      "182/182 [==============================] - 0s 1ms/step - loss: 0.4413 - val_loss: 0.4591\n",
      "Epoch 87/100\n",
      "182/182 [==============================] - 0s 1ms/step - loss: 0.4407 - val_loss: 0.4588\n",
      "Epoch 88/100\n",
      "182/182 [==============================] - 0s 1ms/step - loss: 0.4402 - val_loss: 0.4580\n",
      "Epoch 89/100\n",
      "182/182 [==============================] - 0s 1ms/step - loss: 0.4398 - val_loss: 0.4581\n",
      "Epoch 90/100\n",
      "182/182 [==============================] - 0s 1ms/step - loss: 0.4391 - val_loss: 0.4576\n",
      "Epoch 91/100\n",
      "182/182 [==============================] - 0s 1ms/step - loss: 0.4387 - val_loss: 0.4567\n",
      "Epoch 92/100\n",
      "182/182 [==============================] - 0s 1ms/step - loss: 0.4383 - val_loss: 0.4565\n",
      "Epoch 93/100\n",
      "182/182 [==============================] - 0s 1ms/step - loss: 0.4378 - val_loss: 0.4559\n",
      "Epoch 94/100\n",
      "182/182 [==============================] - 0s 1ms/step - loss: 0.4372 - val_loss: 0.4552\n",
      "Epoch 95/100\n",
      "182/182 [==============================] - 0s 1ms/step - loss: 0.4369 - val_loss: 0.4551\n",
      "Epoch 96/100\n",
      "182/182 [==============================] - 0s 1ms/step - loss: 0.4364 - val_loss: 0.4549\n",
      "Epoch 97/100\n",
      "182/182 [==============================] - 0s 1ms/step - loss: 0.4356 - val_loss: 0.4544\n",
      "Epoch 98/100\n",
      "182/182 [==============================] - 0s 1ms/step - loss: 0.4353 - val_loss: 0.4537\n",
      "Epoch 99/100\n",
      "182/182 [==============================] - 0s 1ms/step - loss: 0.4348 - val_loss: 0.4529\n",
      "Epoch 100/100\n",
      "182/182 [==============================] - 0s 1ms/step - loss: 0.4347 - val_loss: 0.4527\n",
      "182/182 [==============================] - 0s 732us/step - loss: 0.4360\n",
      "Epoch 1/100\n"
     ]
    },
    {
     "name": "stderr",
     "output_type": "stream",
     "text": [
      "d:\\pythonenv\\mlenv\\lib\\site-packages\\tensorflow\\python\\keras\\optimizer_v2\\optimizer_v2.py:374: UserWarning: The `lr` argument is deprecated, use `learning_rate` instead.\n",
      "  warnings.warn(\n"
     ]
    },
    {
     "name": "stdout",
     "output_type": "stream",
     "text": [
      "182/182 [==============================] - 1s 2ms/step - loss: 1.8043 - val_loss: 0.9056\n",
      "Epoch 2/100\n",
      "182/182 [==============================] - 0s 1ms/step - loss: 0.7192 - val_loss: 0.7509\n",
      "Epoch 3/100\n",
      "182/182 [==============================] - 0s 1ms/step - loss: 0.6482 - val_loss: 0.6842\n",
      "Epoch 4/100\n",
      "182/182 [==============================] - 0s 1ms/step - loss: 0.6046 - val_loss: 0.6359\n",
      "Epoch 5/100\n",
      "182/182 [==============================] - 0s 1ms/step - loss: 0.5729 - val_loss: 0.5976\n",
      "Epoch 6/100\n",
      "182/182 [==============================] - 0s 1ms/step - loss: 0.5476 - val_loss: 0.5700\n",
      "Epoch 7/100\n",
      "182/182 [==============================] - 0s 1ms/step - loss: 0.5273 - val_loss: 0.5474\n",
      "Epoch 8/100\n",
      "182/182 [==============================] - 0s 1ms/step - loss: 0.5115 - val_loss: 0.5291\n",
      "Epoch 9/100\n",
      "182/182 [==============================] - 0s 1ms/step - loss: 0.4990 - val_loss: 0.5167\n",
      "Epoch 10/100\n",
      "182/182 [==============================] - 0s 1ms/step - loss: 0.4887 - val_loss: 0.5044\n",
      "Epoch 11/100\n",
      "182/182 [==============================] - 0s 1ms/step - loss: 0.4815 - val_loss: 0.4975\n",
      "Epoch 12/100\n",
      "182/182 [==============================] - 0s 1ms/step - loss: 0.4747 - val_loss: 0.4924\n",
      "Epoch 13/100\n",
      "182/182 [==============================] - 0s 1ms/step - loss: 0.4696 - val_loss: 0.4880\n",
      "Epoch 14/100\n",
      "182/182 [==============================] - 0s 2ms/step - loss: 0.4649 - val_loss: 0.4875\n",
      "Epoch 15/100\n",
      "182/182 [==============================] - 0s 2ms/step - loss: 0.4604 - val_loss: 0.4876\n",
      "Epoch 16/100\n",
      "182/182 [==============================] - 0s 2ms/step - loss: 0.4571 - val_loss: 0.4849\n",
      "Epoch 17/100\n",
      "182/182 [==============================] - 0s 1ms/step - loss: 0.4543 - val_loss: 0.4846\n",
      "Epoch 18/100\n",
      "182/182 [==============================] - 0s 1ms/step - loss: 0.4513 - val_loss: 0.4829\n",
      "Epoch 19/100\n",
      "182/182 [==============================] - 0s 1ms/step - loss: 0.4485 - val_loss: 0.4853\n",
      "Epoch 20/100\n",
      "182/182 [==============================] - 0s 1ms/step - loss: 0.4450 - val_loss: 0.4850\n",
      "Epoch 21/100\n",
      "182/182 [==============================] - 0s 1ms/step - loss: 0.4434 - val_loss: 0.4920\n",
      "Epoch 22/100\n",
      "182/182 [==============================] - 0s 1ms/step - loss: 0.4411 - val_loss: 0.4902\n",
      "Epoch 23/100\n",
      "182/182 [==============================] - 0s 1ms/step - loss: 0.4390 - val_loss: 0.4939\n",
      "Epoch 24/100\n",
      "182/182 [==============================] - 0s 1ms/step - loss: 0.4369 - val_loss: 0.4954\n",
      "Epoch 25/100\n",
      "182/182 [==============================] - 0s 1ms/step - loss: 0.4351 - val_loss: 0.4971\n",
      "Epoch 26/100\n",
      "182/182 [==============================] - 0s 1ms/step - loss: 0.4331 - val_loss: 0.5010\n",
      "Epoch 27/100\n",
      "182/182 [==============================] - 0s 1ms/step - loss: 0.4315 - val_loss: 0.5038\n",
      "Epoch 28/100\n",
      "182/182 [==============================] - 0s 1ms/step - loss: 0.4295 - val_loss: 0.5075\n",
      "182/182 [==============================] - 0s 718us/step - loss: 0.6602\n",
      "Epoch 1/100\n"
     ]
    },
    {
     "name": "stderr",
     "output_type": "stream",
     "text": [
      "d:\\pythonenv\\mlenv\\lib\\site-packages\\tensorflow\\python\\keras\\optimizer_v2\\optimizer_v2.py:374: UserWarning: The `lr` argument is deprecated, use `learning_rate` instead.\n",
      "  warnings.warn(\n"
     ]
    },
    {
     "name": "stdout",
     "output_type": "stream",
     "text": [
      "182/182 [==============================] - 1s 2ms/step - loss: 2.1055 - val_loss: 0.8114\n",
      "Epoch 2/100\n",
      "182/182 [==============================] - 0s 1ms/step - loss: 0.8512 - val_loss: 0.6910\n",
      "Epoch 3/100\n",
      "182/182 [==============================] - 0s 1ms/step - loss: 0.6370 - val_loss: 0.6365\n",
      "Epoch 4/100\n",
      "182/182 [==============================] - 0s 1ms/step - loss: 0.5952 - val_loss: 0.6020\n",
      "Epoch 5/100\n",
      "182/182 [==============================] - 0s 1ms/step - loss: 0.5657 - val_loss: 0.5774\n",
      "Epoch 6/100\n",
      "182/182 [==============================] - 0s 1ms/step - loss: 0.5437 - val_loss: 0.5554\n",
      "Epoch 7/100\n",
      "182/182 [==============================] - 0s 1ms/step - loss: 0.5281 - val_loss: 0.5410\n",
      "Epoch 8/100\n",
      "182/182 [==============================] - 0s 1ms/step - loss: 0.5151 - val_loss: 0.5270\n",
      "Epoch 9/100\n",
      "182/182 [==============================] - 0s 1ms/step - loss: 0.5055 - val_loss: 0.5187\n",
      "Epoch 10/100\n",
      "182/182 [==============================] - 0s 1ms/step - loss: 0.4968 - val_loss: 0.5163\n",
      "Epoch 11/100\n",
      "182/182 [==============================] - 0s 1ms/step - loss: 0.4895 - val_loss: 0.5027\n",
      "Epoch 12/100\n",
      "182/182 [==============================] - 0s 1ms/step - loss: 0.4854 - val_loss: 0.5016\n",
      "Epoch 13/100\n",
      "182/182 [==============================] - 0s 1ms/step - loss: 0.4793 - val_loss: 0.4947\n",
      "Epoch 14/100\n",
      "182/182 [==============================] - 0s 1ms/step - loss: 0.4765 - val_loss: 0.4916\n",
      "Epoch 15/100\n",
      "182/182 [==============================] - 0s 1ms/step - loss: 0.4728 - val_loss: 0.4869\n",
      "Epoch 16/100\n",
      "182/182 [==============================] - 0s 1ms/step - loss: 0.4704 - val_loss: 0.4850\n",
      "Epoch 17/100\n",
      "182/182 [==============================] - 0s 1ms/step - loss: 0.4652 - val_loss: 0.4821\n",
      "Epoch 18/100\n",
      "182/182 [==============================] - 0s 1ms/step - loss: 0.4654 - val_loss: 0.4800\n",
      "Epoch 19/100\n",
      "182/182 [==============================] - 0s 1ms/step - loss: 0.4611 - val_loss: 0.4776\n",
      "Epoch 20/100\n",
      "182/182 [==============================] - 0s 1ms/step - loss: 0.4581 - val_loss: 0.4733\n",
      "Epoch 21/100\n",
      "182/182 [==============================] - 0s 1ms/step - loss: 0.4564 - val_loss: 0.4755\n",
      "Epoch 22/100\n",
      "182/182 [==============================] - 0s 1ms/step - loss: 0.4547 - val_loss: 0.4684\n",
      "Epoch 23/100\n",
      "182/182 [==============================] - 0s 1ms/step - loss: 0.4515 - val_loss: 0.4675\n",
      "Epoch 24/100\n",
      "182/182 [==============================] - 0s 1ms/step - loss: 0.4505 - val_loss: 0.4649\n",
      "Epoch 25/100\n",
      "182/182 [==============================] - 0s 1ms/step - loss: 0.4480 - val_loss: 0.4633\n",
      "Epoch 26/100\n",
      "182/182 [==============================] - 0s 1ms/step - loss: 0.4456 - val_loss: 0.4608\n",
      "Epoch 27/100\n",
      "182/182 [==============================] - 0s 1ms/step - loss: 0.4447 - val_loss: 0.4605\n",
      "Epoch 28/100\n",
      "182/182 [==============================] - 0s 1ms/step - loss: 0.4425 - val_loss: 0.4576\n",
      "Epoch 29/100\n",
      "182/182 [==============================] - 0s 1ms/step - loss: 0.4404 - val_loss: 0.4584\n",
      "Epoch 30/100\n",
      "182/182 [==============================] - 0s 1ms/step - loss: 0.4397 - val_loss: 0.4551\n",
      "Epoch 31/100\n",
      "182/182 [==============================] - 0s 1ms/step - loss: 0.4377 - val_loss: 0.4537\n",
      "Epoch 32/100\n",
      "182/182 [==============================] - 0s 1ms/step - loss: 0.4368 - val_loss: 0.4507\n",
      "Epoch 33/100\n",
      "182/182 [==============================] - 0s 1ms/step - loss: 0.4352 - val_loss: 0.4506\n",
      "Epoch 34/100\n",
      "182/182 [==============================] - 0s 1ms/step - loss: 0.4338 - val_loss: 0.4487\n",
      "Epoch 35/100\n",
      "182/182 [==============================] - 0s 1ms/step - loss: 0.4338 - val_loss: 0.4492\n",
      "Epoch 36/100\n",
      "182/182 [==============================] - 0s 1ms/step - loss: 0.4317 - val_loss: 0.4477\n",
      "Epoch 37/100\n",
      "182/182 [==============================] - 0s 1ms/step - loss: 0.4303 - val_loss: 0.4450\n",
      "Epoch 38/100\n",
      "182/182 [==============================] - 0s 1ms/step - loss: 0.4286 - val_loss: 0.4454\n",
      "Epoch 39/100\n",
      "182/182 [==============================] - 0s 2ms/step - loss: 0.4274 - val_loss: 0.4420\n",
      "Epoch 40/100\n",
      "182/182 [==============================] - 0s 2ms/step - loss: 0.4262 - val_loss: 0.4423\n",
      "Epoch 41/100\n",
      "182/182 [==============================] - 0s 2ms/step - loss: 0.4248 - val_loss: 0.4411\n",
      "Epoch 42/100\n",
      "182/182 [==============================] - 0s 2ms/step - loss: 0.4237 - val_loss: 0.4405\n",
      "Epoch 43/100\n",
      "182/182 [==============================] - 0s 1ms/step - loss: 0.4227 - val_loss: 0.4374\n",
      "Epoch 44/100\n",
      "182/182 [==============================] - 0s 1ms/step - loss: 0.4217 - val_loss: 0.4360\n",
      "Epoch 45/100\n",
      "182/182 [==============================] - 0s 1ms/step - loss: 0.4204 - val_loss: 0.4351\n",
      "Epoch 46/100\n",
      "182/182 [==============================] - 0s 1ms/step - loss: 0.4180 - val_loss: 0.4357\n",
      "Epoch 47/100\n",
      "182/182 [==============================] - 0s 1ms/step - loss: 0.4180 - val_loss: 0.4335\n",
      "Epoch 48/100\n",
      "182/182 [==============================] - 0s 1ms/step - loss: 0.4175 - val_loss: 0.4321\n",
      "Epoch 49/100\n",
      "182/182 [==============================] - 0s 1ms/step - loss: 0.4169 - val_loss: 0.4320\n",
      "Epoch 50/100\n",
      "182/182 [==============================] - 0s 1ms/step - loss: 0.4149 - val_loss: 0.4309\n",
      "Epoch 51/100\n",
      "182/182 [==============================] - 0s 1ms/step - loss: 0.4138 - val_loss: 0.4278\n",
      "Epoch 52/100\n",
      "182/182 [==============================] - 0s 1ms/step - loss: 0.4128 - val_loss: 0.4282\n",
      "Epoch 53/100\n",
      "182/182 [==============================] - 0s 1ms/step - loss: 0.4118 - val_loss: 0.4285\n",
      "Epoch 54/100\n",
      "182/182 [==============================] - 0s 2ms/step - loss: 0.4111 - val_loss: 0.4272\n",
      "Epoch 55/100\n",
      "182/182 [==============================] - 0s 1ms/step - loss: 0.4097 - val_loss: 0.4268\n",
      "Epoch 56/100\n",
      "182/182 [==============================] - 0s 1ms/step - loss: 0.4085 - val_loss: 0.4251\n",
      "Epoch 57/100\n",
      "182/182 [==============================] - 0s 1ms/step - loss: 0.4070 - val_loss: 0.4248\n",
      "Epoch 58/100\n",
      "182/182 [==============================] - 0s 1ms/step - loss: 0.4067 - val_loss: 0.4221\n",
      "Epoch 59/100\n",
      "182/182 [==============================] - 0s 1ms/step - loss: 0.4057 - val_loss: 0.4226\n",
      "Epoch 60/100\n",
      "182/182 [==============================] - 0s 1ms/step - loss: 0.4045 - val_loss: 0.4195\n",
      "Epoch 61/100\n",
      "182/182 [==============================] - 0s 1ms/step - loss: 0.4050 - val_loss: 0.4197\n",
      "Epoch 62/100\n",
      "182/182 [==============================] - 0s 1ms/step - loss: 0.4032 - val_loss: 0.4194\n",
      "Epoch 63/100\n",
      "182/182 [==============================] - 0s 1ms/step - loss: 0.4029 - val_loss: 0.4178\n",
      "Epoch 64/100\n",
      "182/182 [==============================] - 0s 1ms/step - loss: 0.4150 - val_loss: 0.4183\n",
      "Epoch 65/100\n",
      "182/182 [==============================] - 0s 2ms/step - loss: 0.4040 - val_loss: 0.4187\n",
      "Epoch 66/100\n",
      "182/182 [==============================] - 0s 1ms/step - loss: 0.4000 - val_loss: 0.4156\n",
      "Epoch 67/100\n",
      "182/182 [==============================] - 0s 1ms/step - loss: 0.3987 - val_loss: 0.4154\n",
      "Epoch 68/100\n",
      "182/182 [==============================] - 0s 1ms/step - loss: 0.3974 - val_loss: 0.4127\n",
      "Epoch 69/100\n",
      "182/182 [==============================] - 0s 1ms/step - loss: 0.3971 - val_loss: 0.4135\n",
      "Epoch 70/100\n",
      "182/182 [==============================] - 0s 1ms/step - loss: 0.3962 - val_loss: 0.4132\n",
      "Epoch 71/100\n",
      "182/182 [==============================] - 0s 1ms/step - loss: 0.3951 - val_loss: 0.4110\n",
      "Epoch 72/100\n",
      "182/182 [==============================] - 0s 1ms/step - loss: 0.3935 - val_loss: 0.4134\n",
      "Epoch 73/100\n",
      "182/182 [==============================] - 0s 1ms/step - loss: 0.3929 - val_loss: 0.4089\n",
      "Epoch 74/100\n",
      "182/182 [==============================] - 0s 1ms/step - loss: 0.3923 - val_loss: 0.4133\n",
      "Epoch 75/100\n",
      "182/182 [==============================] - 0s 1ms/step - loss: 0.3938 - val_loss: 0.4364\n",
      "Epoch 76/100\n",
      "182/182 [==============================] - 0s 1ms/step - loss: 0.4222 - val_loss: 0.4114\n",
      "Epoch 77/100\n",
      "182/182 [==============================] - 0s 1ms/step - loss: 0.3894 - val_loss: 0.4090\n",
      "Epoch 78/100\n",
      "182/182 [==============================] - 0s 1ms/step - loss: 0.3888 - val_loss: 0.4067\n",
      "Epoch 79/100\n",
      "182/182 [==============================] - 0s 1ms/step - loss: 0.3932 - val_loss: 0.4069\n",
      "Epoch 80/100\n",
      "182/182 [==============================] - 0s 1ms/step - loss: 0.3896 - val_loss: 0.4471\n",
      "Epoch 81/100\n",
      "182/182 [==============================] - 0s 1ms/step - loss: 0.3915 - val_loss: 0.4164\n",
      "Epoch 82/100\n",
      "182/182 [==============================] - 0s 1ms/step - loss: 0.3870 - val_loss: 0.4014\n",
      "Epoch 83/100\n",
      "182/182 [==============================] - 0s 1ms/step - loss: 0.3848 - val_loss: 0.4056\n",
      "Epoch 84/100\n",
      "182/182 [==============================] - 0s 1ms/step - loss: 0.3876 - val_loss: 0.4049\n",
      "Epoch 85/100\n",
      "182/182 [==============================] - 0s 1ms/step - loss: 0.3952 - val_loss: 0.3997\n",
      "Epoch 86/100\n",
      "182/182 [==============================] - 0s 1ms/step - loss: 0.3839 - val_loss: 0.3997\n",
      "Epoch 87/100\n",
      "182/182 [==============================] - 0s 1ms/step - loss: 0.3812 - val_loss: 0.3995\n",
      "Epoch 88/100\n",
      "182/182 [==============================] - 0s 1ms/step - loss: 0.3814 - val_loss: 0.4017\n",
      "Epoch 89/100\n",
      "182/182 [==============================] - 0s 1ms/step - loss: 0.3900 - val_loss: 0.3978\n",
      "Epoch 90/100\n",
      "182/182 [==============================] - 0s 1ms/step - loss: 0.3834 - val_loss: 0.3985\n",
      "Epoch 91/100\n",
      "182/182 [==============================] - 0s 1ms/step - loss: 0.3788 - val_loss: 0.3956\n",
      "Epoch 92/100\n",
      "182/182 [==============================] - 0s 1ms/step - loss: 0.3784 - val_loss: 0.3948\n",
      "Epoch 93/100\n",
      "182/182 [==============================] - 0s 1ms/step - loss: 0.3815 - val_loss: 0.3990\n",
      "Epoch 94/100\n",
      "182/182 [==============================] - 0s 1ms/step - loss: 0.3769 - val_loss: 0.3947\n",
      "Epoch 95/100\n",
      "182/182 [==============================] - 0s 1ms/step - loss: 0.3759 - val_loss: 0.3947\n",
      "Epoch 96/100\n",
      "182/182 [==============================] - 0s 1ms/step - loss: 0.3755 - val_loss: 0.3928\n",
      "Epoch 97/100\n",
      "182/182 [==============================] - 0s 1ms/step - loss: 0.3749 - val_loss: 0.3953\n",
      "Epoch 98/100\n",
      "182/182 [==============================] - 0s 1ms/step - loss: 0.3787 - val_loss: 0.3967\n",
      "Epoch 99/100\n",
      "182/182 [==============================] - 0s 1ms/step - loss: 0.3949 - val_loss: 0.3923\n",
      "Epoch 100/100\n",
      "182/182 [==============================] - 0s 1ms/step - loss: 0.3728 - val_loss: 0.3980\n",
      "182/182 [==============================] - 0s 696us/step - loss: 0.3833\n",
      "Epoch 1/100\n"
     ]
    },
    {
     "name": "stderr",
     "output_type": "stream",
     "text": [
      "d:\\pythonenv\\mlenv\\lib\\site-packages\\tensorflow\\python\\keras\\optimizer_v2\\optimizer_v2.py:374: UserWarning: The `lr` argument is deprecated, use `learning_rate` instead.\n",
      "  warnings.warn(\n"
     ]
    },
    {
     "name": "stdout",
     "output_type": "stream",
     "text": [
      "182/182 [==============================] - 1s 2ms/step - loss: 0.7682 - val_loss: 0.5909\n",
      "Epoch 2/100\n",
      "182/182 [==============================] - 0s 1ms/step - loss: 0.5027 - val_loss: 0.4952\n",
      "Epoch 3/100\n",
      "182/182 [==============================] - 0s 2ms/step - loss: 0.4468 - val_loss: 0.4513\n",
      "Epoch 4/100\n",
      "182/182 [==============================] - 0s 2ms/step - loss: 0.4212 - val_loss: 0.4443\n",
      "Epoch 5/100\n",
      "182/182 [==============================] - 0s 1ms/step - loss: 0.4136 - val_loss: 0.4268\n",
      "Epoch 6/100\n",
      "182/182 [==============================] - 0s 1ms/step - loss: 0.3955 - val_loss: 0.4187\n",
      "Epoch 7/100\n",
      "182/182 [==============================] - 0s 1ms/step - loss: 0.3862 - val_loss: 0.4839\n",
      "Epoch 8/100\n",
      "182/182 [==============================] - 0s 1ms/step - loss: 0.3812 - val_loss: 0.4216\n",
      "Epoch 9/100\n",
      "182/182 [==============================] - 0s 1ms/step - loss: 0.3693 - val_loss: 0.4157\n",
      "Epoch 10/100\n",
      "182/182 [==============================] - 0s 2ms/step - loss: 0.3674 - val_loss: 0.3976\n",
      "Epoch 11/100\n",
      "182/182 [==============================] - 0s 1ms/step - loss: 0.3590 - val_loss: 0.5474\n",
      "Epoch 12/100\n",
      "182/182 [==============================] - 0s 1ms/step - loss: 0.3563 - val_loss: 0.4390\n",
      "Epoch 13/100\n",
      "182/182 [==============================] - 0s 1ms/step - loss: 0.3487 - val_loss: 0.3945\n",
      "Epoch 14/100\n",
      "182/182 [==============================] - 0s 2ms/step - loss: 0.3477 - val_loss: 0.3778\n",
      "Epoch 15/100\n",
      "182/182 [==============================] - 0s 2ms/step - loss: 0.3415 - val_loss: 0.3701\n",
      "Epoch 16/100\n",
      "182/182 [==============================] - 0s 2ms/step - loss: 0.3377 - val_loss: 0.3799\n",
      "Epoch 17/100\n",
      "182/182 [==============================] - 0s 1ms/step - loss: 0.3362 - val_loss: 0.3761\n",
      "Epoch 18/100\n",
      "182/182 [==============================] - 0s 2ms/step - loss: 0.3309 - val_loss: 0.3655\n",
      "Epoch 19/100\n",
      "182/182 [==============================] - 0s 2ms/step - loss: 0.3299 - val_loss: 0.3554\n",
      "Epoch 20/100\n",
      "182/182 [==============================] - 0s 2ms/step - loss: 0.3246 - val_loss: 0.3520\n",
      "Epoch 21/100\n",
      "182/182 [==============================] - 0s 2ms/step - loss: 0.3200 - val_loss: 0.3525\n",
      "Epoch 22/100\n",
      "182/182 [==============================] - 0s 2ms/step - loss: 0.3218 - val_loss: 0.3511\n",
      "Epoch 23/100\n",
      "182/182 [==============================] - 0s 1ms/step - loss: 0.3205 - val_loss: 0.3720\n",
      "Epoch 24/100\n",
      "182/182 [==============================] - 0s 1ms/step - loss: 0.3116 - val_loss: 0.3544\n",
      "Epoch 25/100\n",
      "182/182 [==============================] - 0s 1ms/step - loss: 0.3113 - val_loss: 0.3715\n",
      "Epoch 26/100\n",
      "182/182 [==============================] - 0s 2ms/step - loss: 0.3108 - val_loss: 0.3423\n",
      "Epoch 27/100\n",
      "182/182 [==============================] - 0s 2ms/step - loss: 0.3101 - val_loss: 0.3521\n",
      "Epoch 28/100\n",
      "182/182 [==============================] - 0s 2ms/step - loss: 0.3118 - val_loss: 0.3392\n",
      "Epoch 29/100\n",
      "182/182 [==============================] - 0s 2ms/step - loss: 0.3059 - val_loss: 0.4042\n",
      "Epoch 30/100\n",
      "182/182 [==============================] - 0s 1ms/step - loss: 0.3029 - val_loss: 0.3646\n",
      "Epoch 31/100\n",
      "182/182 [==============================] - 0s 2ms/step - loss: 0.3064 - val_loss: 0.4329\n",
      "Epoch 32/100\n",
      "182/182 [==============================] - 0s 2ms/step - loss: 0.3004 - val_loss: 0.3616\n",
      "Epoch 33/100\n",
      "182/182 [==============================] - 0s 1ms/step - loss: 0.2964 - val_loss: 0.3804\n",
      "Epoch 34/100\n",
      "182/182 [==============================] - 0s 2ms/step - loss: 0.2977 - val_loss: 0.3596\n",
      "Epoch 35/100\n",
      "182/182 [==============================] - 0s 2ms/step - loss: 0.2973 - val_loss: 0.3346\n",
      "Epoch 36/100\n",
      "182/182 [==============================] - 0s 2ms/step - loss: 0.3003 - val_loss: 0.3398\n",
      "Epoch 37/100\n",
      "182/182 [==============================] - 0s 1ms/step - loss: 0.2969 - val_loss: 0.3936\n",
      "Epoch 38/100\n",
      "182/182 [==============================] - 0s 1ms/step - loss: 0.2909 - val_loss: 0.3443\n",
      "Epoch 39/100\n",
      "182/182 [==============================] - 0s 1ms/step - loss: 0.2944 - val_loss: 0.4055\n",
      "Epoch 40/100\n",
      "182/182 [==============================] - 0s 1ms/step - loss: 0.2962 - val_loss: 0.3397\n",
      "Epoch 41/100\n",
      "182/182 [==============================] - 0s 1ms/step - loss: 0.2907 - val_loss: 0.3743\n",
      "Epoch 42/100\n",
      "182/182 [==============================] - 0s 1ms/step - loss: 0.2901 - val_loss: 0.3367\n",
      "Epoch 43/100\n",
      "182/182 [==============================] - 0s 1ms/step - loss: 0.2859 - val_loss: 0.3597\n",
      "Epoch 44/100\n",
      "182/182 [==============================] - 0s 1ms/step - loss: 0.2829 - val_loss: 0.3572\n",
      "Epoch 45/100\n",
      "182/182 [==============================] - 0s 1ms/step - loss: 0.2857 - val_loss: 0.4039\n",
      "182/182 [==============================] - 0s 919us/step - loss: 0.3977\n",
      "Epoch 1/100\n"
     ]
    },
    {
     "name": "stderr",
     "output_type": "stream",
     "text": [
      "d:\\pythonenv\\mlenv\\lib\\site-packages\\tensorflow\\python\\keras\\optimizer_v2\\optimizer_v2.py:374: UserWarning: The `lr` argument is deprecated, use `learning_rate` instead.\n",
      "  warnings.warn(\n"
     ]
    },
    {
     "name": "stdout",
     "output_type": "stream",
     "text": [
      "182/182 [==============================] - 1s 2ms/step - loss: 0.7775 - val_loss: 1.2748\n",
      "Epoch 2/100\n",
      "182/182 [==============================] - 0s 1ms/step - loss: 0.5753 - val_loss: 0.5096\n",
      "Epoch 3/100\n",
      "182/182 [==============================] - 0s 2ms/step - loss: 0.4734 - val_loss: 0.4509\n",
      "Epoch 4/100\n",
      "182/182 [==============================] - 0s 1ms/step - loss: 0.4376 - val_loss: 0.4406\n",
      "Epoch 5/100\n",
      "182/182 [==============================] - 0s 1ms/step - loss: 0.4268 - val_loss: 0.4278\n",
      "Epoch 6/100\n",
      "182/182 [==============================] - 0s 1ms/step - loss: 0.4159 - val_loss: 0.4253\n",
      "Epoch 7/100\n",
      "182/182 [==============================] - 0s 1ms/step - loss: 0.3954 - val_loss: 0.4128\n",
      "Epoch 8/100\n",
      "182/182 [==============================] - 0s 1ms/step - loss: 0.3818 - val_loss: 0.4695\n",
      "Epoch 9/100\n",
      "182/182 [==============================] - 0s 1ms/step - loss: 0.3812 - val_loss: 0.4772\n",
      "Epoch 10/100\n",
      "182/182 [==============================] - 0s 1ms/step - loss: 0.3726 - val_loss: 0.4444\n",
      "Epoch 11/100\n",
      "182/182 [==============================] - 0s 1ms/step - loss: 0.3672 - val_loss: 0.3875\n",
      "Epoch 12/100\n",
      "182/182 [==============================] - 0s 2ms/step - loss: 0.3636 - val_loss: 0.3824\n",
      "Epoch 13/100\n",
      "182/182 [==============================] - 0s 1ms/step - loss: 0.3550 - val_loss: 0.4095\n",
      "Epoch 14/100\n",
      "182/182 [==============================] - 0s 2ms/step - loss: 0.3480 - val_loss: 0.4051\n",
      "Epoch 15/100\n",
      "182/182 [==============================] - 0s 2ms/step - loss: 0.3449 - val_loss: 0.3897\n",
      "Epoch 16/100\n",
      "182/182 [==============================] - 0s 2ms/step - loss: 0.3466 - val_loss: 0.3714\n",
      "Epoch 17/100\n",
      "182/182 [==============================] - 0s 2ms/step - loss: 0.3370 - val_loss: 0.3485\n",
      "Epoch 18/100\n",
      "182/182 [==============================] - 0s 1ms/step - loss: 0.3349 - val_loss: 0.3543\n",
      "Epoch 19/100\n",
      "182/182 [==============================] - 0s 2ms/step - loss: 0.3271 - val_loss: 0.3934\n",
      "Epoch 20/100\n",
      "182/182 [==============================] - 0s 1ms/step - loss: 0.3303 - val_loss: 0.4281\n",
      "Epoch 21/100\n",
      "182/182 [==============================] - 0s 1ms/step - loss: 0.3222 - val_loss: 0.3432\n",
      "Epoch 22/100\n",
      "182/182 [==============================] - 0s 1ms/step - loss: 0.3243 - val_loss: 0.3751\n",
      "Epoch 23/100\n",
      "182/182 [==============================] - 0s 2ms/step - loss: 0.3208 - val_loss: 0.3821\n",
      "Epoch 24/100\n",
      "182/182 [==============================] - 0s 2ms/step - loss: 0.3196 - val_loss: 0.3946\n",
      "Epoch 25/100\n",
      "182/182 [==============================] - 0s 2ms/step - loss: 0.3133 - val_loss: 0.3637\n",
      "Epoch 26/100\n",
      "182/182 [==============================] - 0s 1ms/step - loss: 0.3110 - val_loss: 0.3618\n",
      "Epoch 27/100\n",
      "182/182 [==============================] - 0s 1ms/step - loss: 0.3060 - val_loss: 0.3647\n",
      "Epoch 28/100\n",
      "182/182 [==============================] - 0s 2ms/step - loss: 0.3094 - val_loss: 0.3332\n",
      "Epoch 29/100\n",
      "182/182 [==============================] - 0s 1ms/step - loss: 0.3096 - val_loss: 0.3395\n",
      "Epoch 30/100\n",
      "182/182 [==============================] - 0s 2ms/step - loss: 0.3074 - val_loss: 0.3509\n",
      "Epoch 31/100\n",
      "182/182 [==============================] - 0s 2ms/step - loss: 0.3002 - val_loss: 0.3271\n",
      "Epoch 32/100\n",
      "182/182 [==============================] - 0s 1ms/step - loss: 0.2941 - val_loss: 0.3890\n",
      "Epoch 33/100\n",
      "182/182 [==============================] - 0s 1ms/step - loss: 0.2949 - val_loss: 0.3320\n",
      "Epoch 34/100\n",
      "182/182 [==============================] - 0s 2ms/step - loss: 0.2935 - val_loss: 0.3735\n",
      "Epoch 35/100\n",
      "182/182 [==============================] - 0s 1ms/step - loss: 0.2964 - val_loss: 0.3420\n",
      "Epoch 36/100\n",
      "182/182 [==============================] - 0s 2ms/step - loss: 0.2923 - val_loss: 0.3466\n",
      "Epoch 37/100\n",
      "182/182 [==============================] - 0s 1ms/step - loss: 0.2856 - val_loss: 0.3301\n",
      "Epoch 38/100\n",
      "182/182 [==============================] - 0s 2ms/step - loss: 0.2874 - val_loss: 0.3240\n",
      "Epoch 39/100\n",
      "182/182 [==============================] - ETA: 0s - loss: 0.290 - 0s 2ms/step - loss: 0.2853 - val_loss: 0.3521\n",
      "Epoch 40/100\n",
      "182/182 [==============================] - 0s 1ms/step - loss: 0.2836 - val_loss: 0.3475\n",
      "Epoch 41/100\n",
      "182/182 [==============================] - 0s 1ms/step - loss: 0.2887 - val_loss: 0.4038\n",
      "Epoch 42/100\n",
      "182/182 [==============================] - 0s 1ms/step - loss: 0.2857 - val_loss: 0.3334\n",
      "Epoch 43/100\n",
      "182/182 [==============================] - 0s 1ms/step - loss: 0.2807 - val_loss: 0.3366\n",
      "Epoch 44/100\n",
      "182/182 [==============================] - 0s 1ms/step - loss: 0.2801 - val_loss: 0.3231\n",
      "Epoch 45/100\n",
      "182/182 [==============================] - 0s 2ms/step - loss: 0.2752 - val_loss: 0.3439\n",
      "Epoch 46/100\n",
      "182/182 [==============================] - 0s 1ms/step - loss: 0.2795 - val_loss: 0.3349\n",
      "Epoch 47/100\n",
      "182/182 [==============================] - 0s 1ms/step - loss: 0.2734 - val_loss: 0.3603\n",
      "Epoch 48/100\n",
      "182/182 [==============================] - 0s 1ms/step - loss: 0.2770 - val_loss: 0.3772\n",
      "Epoch 49/100\n",
      "182/182 [==============================] - 0s 1ms/step - loss: 0.2746 - val_loss: 0.3548\n",
      "Epoch 50/100\n",
      "182/182 [==============================] - 0s 1ms/step - loss: 0.2760 - val_loss: 0.3352\n",
      "Epoch 51/100\n",
      "182/182 [==============================] - 0s 1ms/step - loss: 0.2732 - val_loss: 0.3317\n",
      "Epoch 52/100\n",
      "182/182 [==============================] - 0s 1ms/step - loss: 0.2647 - val_loss: 0.3279\n",
      "Epoch 53/100\n",
      "182/182 [==============================] - 0s 1ms/step - loss: 0.2713 - val_loss: 0.3240\n",
      "Epoch 54/100\n",
      "182/182 [==============================] - 0s 1ms/step - loss: 0.2656 - val_loss: 0.3363\n",
      "182/182 [==============================] - 0s 780us/step - loss: 0.3220\n",
      "Epoch 1/100\n",
      "  1/182 [..............................] - ETA: 27s - loss: 6.7328"
     ]
    },
    {
     "name": "stderr",
     "output_type": "stream",
     "text": [
      "d:\\pythonenv\\mlenv\\lib\\site-packages\\tensorflow\\python\\keras\\optimizer_v2\\optimizer_v2.py:374: UserWarning: The `lr` argument is deprecated, use `learning_rate` instead.\n",
      "  warnings.warn(\n"
     ]
    },
    {
     "name": "stdout",
     "output_type": "stream",
     "text": [
      "182/182 [==============================] - 0s 2ms/step - loss: 1.2646 - val_loss: 0.6996\n",
      "Epoch 2/100\n",
      "182/182 [==============================] - 0s 1ms/step - loss: 0.5585 - val_loss: 0.7061\n",
      "Epoch 3/100\n",
      "182/182 [==============================] - 0s 1ms/step - loss: 0.5361 - val_loss: 0.7079\n",
      "Epoch 4/100\n",
      "182/182 [==============================] - 0s 1ms/step - loss: 0.5202 - val_loss: 0.7269\n",
      "Epoch 5/100\n",
      "182/182 [==============================] - 0s 1ms/step - loss: 0.5133 - val_loss: 0.7472\n",
      "Epoch 6/100\n",
      "182/182 [==============================] - 0s 1ms/step - loss: 0.5090 - val_loss: 0.7801\n",
      "Epoch 7/100\n",
      "182/182 [==============================] - 0s 1ms/step - loss: 0.5138 - val_loss: 0.8063\n",
      "Epoch 8/100\n",
      "182/182 [==============================] - 0s 1ms/step - loss: 0.5066 - val_loss: 0.8244\n",
      "Epoch 9/100\n",
      "182/182 [==============================] - 0s 1ms/step - loss: 0.5087 - val_loss: 0.8518\n",
      "Epoch 10/100\n",
      "182/182 [==============================] - 0s 1ms/step - loss: 0.5028 - val_loss: 0.8728\n",
      "Epoch 11/100\n",
      "182/182 [==============================] - 0s 1ms/step - loss: 0.5053 - val_loss: 0.8979\n",
      "182/182 [==============================] - 0s 696us/step - loss: 1.7442\n",
      "Epoch 1/100\n",
      "  1/182 [..............................] - ETA: 27s - loss: 4.2443"
     ]
    },
    {
     "name": "stderr",
     "output_type": "stream",
     "text": [
      "d:\\pythonenv\\mlenv\\lib\\site-packages\\tensorflow\\python\\keras\\optimizer_v2\\optimizer_v2.py:374: UserWarning: The `lr` argument is deprecated, use `learning_rate` instead.\n",
      "  warnings.warn(\n"
     ]
    },
    {
     "name": "stdout",
     "output_type": "stream",
     "text": [
      "182/182 [==============================] - 0s 1ms/step - loss: 1.3572 - val_loss: 0.6801\n",
      "Epoch 2/100\n",
      "182/182 [==============================] - 0s 1ms/step - loss: 0.6753 - val_loss: 0.5995\n",
      "Epoch 3/100\n",
      "182/182 [==============================] - 0s 1ms/step - loss: 0.5696 - val_loss: 0.5749\n",
      "Epoch 4/100\n",
      "182/182 [==============================] - 0s 1ms/step - loss: 0.5639 - val_loss: 0.6210\n",
      "Epoch 5/100\n",
      "182/182 [==============================] - 0s 1ms/step - loss: 1.2730 - val_loss: 0.5909\n",
      "Epoch 6/100\n",
      "182/182 [==============================] - 0s 1ms/step - loss: 0.5670 - val_loss: 0.6047\n",
      "Epoch 7/100\n",
      "182/182 [==============================] - 0s 1ms/step - loss: 2.0490 - val_loss: 0.6139\n",
      "Epoch 8/100\n",
      "182/182 [==============================] - 0s 1ms/step - loss: 0.6112 - val_loss: 0.7104\n",
      "Epoch 9/100\n",
      "182/182 [==============================] - 0s 1ms/step - loss: 2.7981 - val_loss: 0.7630\n",
      "Epoch 10/100\n",
      "182/182 [==============================] - 0s 1ms/step - loss: 1.5880 - val_loss: 0.6031\n",
      "Epoch 11/100\n",
      "182/182 [==============================] - 0s 1ms/step - loss: 1.0772 - val_loss: 0.6556\n",
      "Epoch 12/100\n",
      "182/182 [==============================] - 0s 1ms/step - loss: 0.7912 - val_loss: 0.5478\n",
      "Epoch 13/100\n",
      "182/182 [==============================] - 0s 1ms/step - loss: 0.7156 - val_loss: 0.5581\n",
      "Epoch 14/100\n",
      "182/182 [==============================] - 0s 1ms/step - loss: 0.5670 - val_loss: 0.7000\n",
      "Epoch 15/100\n",
      "182/182 [==============================] - 0s 1ms/step - loss: 2.5042 - val_loss: 0.7717\n",
      "Epoch 16/100\n",
      "182/182 [==============================] - 0s 1ms/step - loss: 0.6782 - val_loss: 0.8425\n",
      "Epoch 17/100\n",
      "182/182 [==============================] - 0s 1ms/step - loss: 6.9108 - val_loss: 0.7105\n",
      "Epoch 18/100\n",
      "182/182 [==============================] - 0s 1ms/step - loss: 0.6967 - val_loss: 0.7525\n",
      "Epoch 19/100\n",
      "182/182 [==============================] - 0s 1ms/step - loss: 4.9998 - val_loss: 0.6841\n",
      "Epoch 20/100\n",
      "182/182 [==============================] - 0s 1ms/step - loss: 2.1268 - val_loss: 0.5973\n",
      "Epoch 21/100\n",
      "182/182 [==============================] - 0s 1ms/step - loss: 1.2351 - val_loss: 0.5577\n",
      "Epoch 22/100\n",
      "182/182 [==============================] - 0s 1ms/step - loss: 0.8049 - val_loss: 0.5466\n",
      "Epoch 23/100\n",
      "182/182 [==============================] - 0s 1ms/step - loss: 0.5788 - val_loss: 0.5835\n",
      "Epoch 24/100\n",
      "182/182 [==============================] - 0s 1ms/step - loss: 0.5620 - val_loss: 0.7582\n",
      "Epoch 25/100\n",
      "182/182 [==============================] - 0s 1ms/step - loss: 5.2143 - val_loss: 0.7269\n",
      "Epoch 26/100\n",
      "182/182 [==============================] - 0s 1ms/step - loss: 2.4754 - val_loss: 0.8189\n",
      "Epoch 27/100\n",
      "182/182 [==============================] - 0s 1ms/step - loss: 0.6532 - val_loss: 0.6885\n",
      "Epoch 28/100\n",
      "182/182 [==============================] - 0s 1ms/step - loss: 0.6669 - val_loss: 1.1955\n",
      "Epoch 29/100\n",
      "182/182 [==============================] - 0s 1ms/step - loss: 14.4946 - val_loss: 0.9641\n",
      "Epoch 30/100\n",
      "182/182 [==============================] - 0s 1ms/step - loss: 9.0665 - val_loss: 0.8608\n",
      "Epoch 31/100\n",
      "182/182 [==============================] - 0s 1ms/step - loss: 0.8508 - val_loss: 1.1135\n",
      "Epoch 32/100\n",
      "182/182 [==============================] - 0s 1ms/step - loss: 8.4491 - val_loss: 0.9148\n",
      "182/182 [==============================] - 0s 713us/step - loss: 0.6423\n",
      "Epoch 1/100\n"
     ]
    },
    {
     "name": "stderr",
     "output_type": "stream",
     "text": [
      "d:\\pythonenv\\mlenv\\lib\\site-packages\\tensorflow\\python\\keras\\optimizer_v2\\optimizer_v2.py:374: UserWarning: The `lr` argument is deprecated, use `learning_rate` instead.\n",
      "  warnings.warn(\n"
     ]
    },
    {
     "name": "stdout",
     "output_type": "stream",
     "text": [
      "182/182 [==============================] - 1s 2ms/step - loss: 2.1566 - val_loss: 1.1740\n",
      "Epoch 2/100\n",
      "182/182 [==============================] - 0s 1ms/step - loss: 0.8985 - val_loss: 0.9364\n",
      "Epoch 3/100\n",
      "182/182 [==============================] - 0s 1ms/step - loss: 0.7740 - val_loss: 0.8603\n",
      "Epoch 4/100\n",
      "182/182 [==============================] - 0s 2ms/step - loss: 0.7334 - val_loss: 0.8162\n",
      "Epoch 5/100\n",
      "182/182 [==============================] - 0s 1ms/step - loss: 0.7070 - val_loss: 0.7851\n",
      "Epoch 6/100\n",
      "182/182 [==============================] - 0s 1ms/step - loss: 0.6844 - val_loss: 0.7563\n",
      "Epoch 7/100\n",
      "182/182 [==============================] - 0s 1ms/step - loss: 0.6645 - val_loss: 0.7311\n",
      "Epoch 8/100\n",
      "182/182 [==============================] - 0s 1ms/step - loss: 0.6465 - val_loss: 0.7102\n",
      "Epoch 9/100\n",
      "182/182 [==============================] - 0s 2ms/step - loss: 0.6295 - val_loss: 0.6905\n",
      "Epoch 10/100\n",
      "182/182 [==============================] - 0s 2ms/step - loss: 0.6140 - val_loss: 0.6706\n",
      "Epoch 11/100\n",
      "182/182 [==============================] - 0s 1ms/step - loss: 0.6001 - val_loss: 0.6543\n",
      "Epoch 12/100\n",
      "182/182 [==============================] - 0s 1ms/step - loss: 0.5867 - val_loss: 0.6375\n",
      "Epoch 13/100\n",
      "182/182 [==============================] - 0s 1ms/step - loss: 0.5747 - val_loss: 0.6227\n",
      "Epoch 14/100\n",
      "182/182 [==============================] - 0s 2ms/step - loss: 0.5638 - val_loss: 0.6094\n",
      "Epoch 15/100\n",
      "182/182 [==============================] - 0s 2ms/step - loss: 0.5533 - val_loss: 0.5988\n",
      "Epoch 16/100\n",
      "182/182 [==============================] - 0s 2ms/step - loss: 0.5438 - val_loss: 0.5859\n",
      "Epoch 17/100\n",
      "182/182 [==============================] - 0s 2ms/step - loss: 0.5349 - val_loss: 0.5750\n",
      "Epoch 18/100\n",
      "182/182 [==============================] - 0s 2ms/step - loss: 0.5267 - val_loss: 0.5648\n",
      "Epoch 19/100\n",
      "182/182 [==============================] - 0s 2ms/step - loss: 0.5189 - val_loss: 0.5566\n",
      "Epoch 20/100\n",
      "182/182 [==============================] - 0s 2ms/step - loss: 0.5121 - val_loss: 0.5480\n",
      "Epoch 21/100\n",
      "182/182 [==============================] - 0s 1ms/step - loss: 0.5058 - val_loss: 0.5393\n",
      "Epoch 22/100\n",
      "182/182 [==============================] - 0s 2ms/step - loss: 0.5003 - val_loss: 0.5324\n",
      "Epoch 23/100\n",
      "182/182 [==============================] - 0s 1ms/step - loss: 0.4952 - val_loss: 0.5264\n",
      "Epoch 24/100\n",
      "182/182 [==============================] - 0s 1ms/step - loss: 0.4904 - val_loss: 0.5207\n",
      "Epoch 25/100\n",
      "182/182 [==============================] - 0s 2ms/step - loss: 0.4861 - val_loss: 0.5151\n",
      "Epoch 26/100\n",
      "182/182 [==============================] - 0s 1ms/step - loss: 0.4817 - val_loss: 0.5102\n",
      "Epoch 27/100\n",
      "182/182 [==============================] - 0s 1ms/step - loss: 0.4784 - val_loss: 0.5062\n",
      "Epoch 28/100\n",
      "182/182 [==============================] - 0s 1ms/step - loss: 0.4750 - val_loss: 0.5019\n",
      "Epoch 29/100\n",
      "182/182 [==============================] - 0s 1ms/step - loss: 0.4715 - val_loss: 0.4989\n",
      "Epoch 30/100\n",
      "182/182 [==============================] - 0s 1ms/step - loss: 0.4683 - val_loss: 0.4954\n",
      "Epoch 31/100\n",
      "182/182 [==============================] - 0s 1ms/step - loss: 0.4656 - val_loss: 0.4921\n",
      "Epoch 32/100\n",
      "182/182 [==============================] - 0s 1ms/step - loss: 0.4628 - val_loss: 0.4896\n",
      "Epoch 33/100\n",
      "182/182 [==============================] - 0s 1ms/step - loss: 0.4600 - val_loss: 0.4864\n",
      "Epoch 34/100\n",
      "182/182 [==============================] - 0s 1ms/step - loss: 0.4578 - val_loss: 0.4836\n",
      "Epoch 35/100\n",
      "182/182 [==============================] - 0s 1ms/step - loss: 0.4553 - val_loss: 0.4808\n",
      "Epoch 36/100\n",
      "182/182 [==============================] - 0s 2ms/step - loss: 0.4529 - val_loss: 0.4789\n",
      "Epoch 37/100\n",
      "182/182 [==============================] - 0s 1ms/step - loss: 0.4508 - val_loss: 0.4765\n",
      "Epoch 38/100\n",
      "182/182 [==============================] - 0s 2ms/step - loss: 0.4488 - val_loss: 0.4750\n",
      "Epoch 39/100\n",
      "182/182 [==============================] - 0s 2ms/step - loss: 0.4468 - val_loss: 0.4729\n",
      "Epoch 40/100\n",
      "182/182 [==============================] - 0s 2ms/step - loss: 0.4450 - val_loss: 0.4715\n",
      "Epoch 41/100\n",
      "182/182 [==============================] - 0s 2ms/step - loss: 0.4430 - val_loss: 0.4697\n",
      "Epoch 42/100\n",
      "182/182 [==============================] - 0s 2ms/step - loss: 0.4413 - val_loss: 0.4683\n",
      "Epoch 43/100\n",
      "182/182 [==============================] - 0s 2ms/step - loss: 0.4395 - val_loss: 0.4672\n",
      "Epoch 44/100\n",
      "182/182 [==============================] - 0s 2ms/step - loss: 0.4375 - val_loss: 0.4664\n",
      "Epoch 45/100\n",
      "182/182 [==============================] - 0s 1ms/step - loss: 0.4359 - val_loss: 0.4656\n",
      "Epoch 46/100\n",
      "182/182 [==============================] - 0s 2ms/step - loss: 0.4348 - val_loss: 0.4640\n",
      "Epoch 47/100\n",
      "182/182 [==============================] - 0s 1ms/step - loss: 0.4331 - val_loss: 0.4638\n",
      "Epoch 48/100\n",
      "182/182 [==============================] - 0s 2ms/step - loss: 0.4314 - val_loss: 0.4620\n",
      "Epoch 49/100\n",
      "182/182 [==============================] - 0s 2ms/step - loss: 0.4304 - val_loss: 0.4612\n",
      "Epoch 50/100\n",
      "182/182 [==============================] - 0s 2ms/step - loss: 0.4291 - val_loss: 0.4606\n",
      "Epoch 51/100\n",
      "182/182 [==============================] - 0s 2ms/step - loss: 0.4277 - val_loss: 0.4601\n",
      "Epoch 52/100\n",
      "182/182 [==============================] - 0s 2ms/step - loss: 0.4263 - val_loss: 0.4596\n",
      "Epoch 53/100\n",
      "182/182 [==============================] - 0s 2ms/step - loss: 0.4250 - val_loss: 0.4590\n",
      "Epoch 54/100\n",
      "182/182 [==============================] - 0s 2ms/step - loss: 0.4240 - val_loss: 0.4590\n",
      "Epoch 55/100\n",
      "182/182 [==============================] - 0s 1ms/step - loss: 0.4226 - val_loss: 0.4590\n",
      "Epoch 56/100\n",
      "182/182 [==============================] - 0s 1ms/step - loss: 0.4215 - val_loss: 0.4572\n",
      "Epoch 57/100\n",
      "182/182 [==============================] - 0s 1ms/step - loss: 0.4204 - val_loss: 0.4573\n",
      "Epoch 58/100\n",
      "182/182 [==============================] - 0s 1ms/step - loss: 0.4192 - val_loss: 0.4562\n",
      "Epoch 59/100\n",
      "182/182 [==============================] - 0s 1ms/step - loss: 0.4180 - val_loss: 0.4558\n",
      "Epoch 60/100\n",
      "182/182 [==============================] - 0s 1ms/step - loss: 0.4170 - val_loss: 0.4553\n",
      "Epoch 61/100\n",
      "182/182 [==============================] - 0s 1ms/step - loss: 0.4160 - val_loss: 0.4566\n",
      "Epoch 62/100\n",
      "182/182 [==============================] - 0s 1ms/step - loss: 0.4150 - val_loss: 0.4557\n",
      "Epoch 63/100\n",
      "182/182 [==============================] - 0s 2ms/step - loss: 0.4141 - val_loss: 0.4551\n",
      "Epoch 64/100\n",
      "182/182 [==============================] - 0s 1ms/step - loss: 0.4129 - val_loss: 0.4548\n",
      "Epoch 65/100\n",
      "182/182 [==============================] - 0s 1ms/step - loss: 0.4120 - val_loss: 0.4565\n",
      "Epoch 66/100\n",
      "182/182 [==============================] - 0s 1ms/step - loss: 0.4109 - val_loss: 0.4551\n",
      "Epoch 67/100\n",
      "182/182 [==============================] - 0s 1ms/step - loss: 0.4101 - val_loss: 0.4549\n",
      "Epoch 68/100\n",
      "182/182 [==============================] - 0s 2ms/step - loss: 0.4092 - val_loss: 0.4547\n",
      "Epoch 69/100\n",
      "182/182 [==============================] - 0s 2ms/step - loss: 0.4083 - val_loss: 0.4539\n",
      "Epoch 70/100\n",
      "182/182 [==============================] - 0s 1ms/step - loss: 0.4070 - val_loss: 0.4540\n",
      "Epoch 71/100\n",
      "182/182 [==============================] - 0s 1ms/step - loss: 0.4064 - val_loss: 0.4551\n",
      "Epoch 72/100\n",
      "182/182 [==============================] - 0s 1ms/step - loss: 0.4053 - val_loss: 0.4560\n",
      "Epoch 73/100\n",
      "182/182 [==============================] - 0s 1ms/step - loss: 0.4045 - val_loss: 0.4543\n",
      "Epoch 74/100\n",
      "182/182 [==============================] - 0s 1ms/step - loss: 0.4040 - val_loss: 0.4551\n",
      "Epoch 75/100\n",
      "182/182 [==============================] - 0s 1ms/step - loss: 0.4031 - val_loss: 0.4539\n",
      "Epoch 76/100\n",
      "182/182 [==============================] - 0s 1ms/step - loss: 0.4024 - val_loss: 0.4537\n",
      "Epoch 77/100\n",
      "182/182 [==============================] - 0s 1ms/step - loss: 0.4015 - val_loss: 0.4536\n",
      "Epoch 78/100\n",
      "182/182 [==============================] - 0s 1ms/step - loss: 0.4007 - val_loss: 0.4536\n",
      "Epoch 79/100\n",
      "182/182 [==============================] - 0s 1ms/step - loss: 0.3996 - val_loss: 0.4538\n",
      "Epoch 80/100\n",
      "182/182 [==============================] - 0s 1ms/step - loss: 0.3992 - val_loss: 0.4553\n",
      "Epoch 81/100\n",
      "182/182 [==============================] - 0s 2ms/step - loss: 0.3984 - val_loss: 0.4540\n",
      "Epoch 82/100\n",
      "182/182 [==============================] - 0s 2ms/step - loss: 0.3971 - val_loss: 0.4538\n",
      "Epoch 83/100\n",
      "182/182 [==============================] - 0s 2ms/step - loss: 0.3969 - val_loss: 0.4540\n",
      "Epoch 84/100\n",
      "182/182 [==============================] - 0s 2ms/step - loss: 0.3961 - val_loss: 0.4549\n",
      "Epoch 85/100\n",
      "182/182 [==============================] - 0s 2ms/step - loss: 0.3952 - val_loss: 0.4540\n",
      "Epoch 86/100\n",
      "182/182 [==============================] - 0s 2ms/step - loss: 0.3946 - val_loss: 0.4542\n",
      "Epoch 87/100\n",
      "182/182 [==============================] - 0s 2ms/step - loss: 0.3941 - val_loss: 0.4553\n",
      "182/182 [==============================] - 0s 945us/step - loss: 0.5238\n",
      "Epoch 1/100\n"
     ]
    },
    {
     "name": "stderr",
     "output_type": "stream",
     "text": [
      "d:\\pythonenv\\mlenv\\lib\\site-packages\\tensorflow\\python\\keras\\optimizer_v2\\optimizer_v2.py:374: UserWarning: The `lr` argument is deprecated, use `learning_rate` instead.\n",
      "  warnings.warn(\n"
     ]
    },
    {
     "name": "stdout",
     "output_type": "stream",
     "text": [
      "182/182 [==============================] - 1s 2ms/step - loss: 2.7879 - val_loss: 1.1523\n",
      "Epoch 2/100\n",
      "182/182 [==============================] - 0s 2ms/step - loss: 0.9926 - val_loss: 0.8207\n",
      "Epoch 3/100\n",
      "182/182 [==============================] - 0s 2ms/step - loss: 0.7801 - val_loss: 0.7547\n",
      "Epoch 4/100\n",
      "182/182 [==============================] - 0s 2ms/step - loss: 0.7121 - val_loss: 0.7111\n",
      "Epoch 5/100\n",
      "182/182 [==============================] - 0s 2ms/step - loss: 0.6753 - val_loss: 0.6863\n",
      "Epoch 6/100\n",
      "182/182 [==============================] - 0s 2ms/step - loss: 0.6519 - val_loss: 0.6630\n",
      "Epoch 7/100\n",
      "182/182 [==============================] - 0s 2ms/step - loss: 0.6307 - val_loss: 0.6453\n",
      "Epoch 8/100\n",
      "182/182 [==============================] - 0s 2ms/step - loss: 0.6130 - val_loss: 0.6249\n",
      "Epoch 9/100\n",
      "182/182 [==============================] - 0s 2ms/step - loss: 0.5957 - val_loss: 0.6111\n",
      "Epoch 10/100\n",
      "182/182 [==============================] - 0s 2ms/step - loss: 0.5810 - val_loss: 0.5933\n",
      "Epoch 11/100\n",
      "182/182 [==============================] - 0s 2ms/step - loss: 0.5670 - val_loss: 0.5800\n",
      "Epoch 12/100\n",
      "182/182 [==============================] - 0s 2ms/step - loss: 0.5542 - val_loss: 0.5682\n",
      "Epoch 13/100\n",
      "182/182 [==============================] - 0s 2ms/step - loss: 0.5422 - val_loss: 0.5580\n",
      "Epoch 14/100\n",
      "182/182 [==============================] - 0s 1ms/step - loss: 0.5323 - val_loss: 0.5477\n",
      "Epoch 15/100\n",
      "182/182 [==============================] - 0s 1ms/step - loss: 0.5234 - val_loss: 0.5379\n",
      "Epoch 16/100\n",
      "182/182 [==============================] - 0s 1ms/step - loss: 0.5153 - val_loss: 0.5297\n",
      "Epoch 17/100\n",
      "182/182 [==============================] - 0s 1ms/step - loss: 0.5077 - val_loss: 0.5235\n",
      "Epoch 18/100\n",
      "182/182 [==============================] - 0s 1ms/step - loss: 0.5014 - val_loss: 0.5154\n",
      "Epoch 19/100\n",
      "182/182 [==============================] - 0s 1ms/step - loss: 0.4954 - val_loss: 0.5097\n",
      "Epoch 20/100\n",
      "182/182 [==============================] - 0s 2ms/step - loss: 0.4897 - val_loss: 0.5051\n",
      "Epoch 21/100\n",
      "182/182 [==============================] - 0s 2ms/step - loss: 0.4853 - val_loss: 0.5000\n",
      "Epoch 22/100\n",
      "182/182 [==============================] - 0s 2ms/step - loss: 0.4806 - val_loss: 0.4955\n",
      "Epoch 23/100\n",
      "182/182 [==============================] - 1s 3ms/step - loss: 0.4768 - val_loss: 0.4912\n",
      "Epoch 24/100\n",
      "182/182 [==============================] - 0s 2ms/step - loss: 0.4731 - val_loss: 0.4878\n",
      "Epoch 25/100\n",
      "182/182 [==============================] - 0s 1ms/step - loss: 0.4695 - val_loss: 0.4841\n",
      "Epoch 26/100\n",
      "182/182 [==============================] - 0s 1ms/step - loss: 0.4671 - val_loss: 0.4806\n",
      "Epoch 27/100\n",
      "182/182 [==============================] - 0s 1ms/step - loss: 0.4646 - val_loss: 0.4793\n",
      "Epoch 28/100\n",
      "182/182 [==============================] - 0s 2ms/step - loss: 0.4624 - val_loss: 0.4755\n",
      "Epoch 29/100\n",
      "182/182 [==============================] - 0s 1ms/step - loss: 0.4595 - val_loss: 0.4730\n",
      "Epoch 30/100\n",
      "182/182 [==============================] - 0s 2ms/step - loss: 0.4564 - val_loss: 0.4708\n",
      "Epoch 31/100\n",
      "182/182 [==============================] - 0s 2ms/step - loss: 0.4542 - val_loss: 0.4696\n",
      "Epoch 32/100\n",
      "182/182 [==============================] - 0s 2ms/step - loss: 0.4521 - val_loss: 0.4674\n",
      "Epoch 33/100\n",
      "182/182 [==============================] - 0s 2ms/step - loss: 0.4505 - val_loss: 0.4654\n",
      "Epoch 34/100\n",
      "182/182 [==============================] - 0s 2ms/step - loss: 0.4482 - val_loss: 0.4630\n",
      "Epoch 35/100\n",
      "182/182 [==============================] - 0s 2ms/step - loss: 0.4466 - val_loss: 0.4626\n",
      "Epoch 36/100\n",
      "182/182 [==============================] - 0s 2ms/step - loss: 0.4451 - val_loss: 0.4610\n",
      "Epoch 37/100\n",
      "182/182 [==============================] - 0s 1ms/step - loss: 0.4434 - val_loss: 0.4599\n",
      "Epoch 38/100\n",
      "182/182 [==============================] - 0s 1ms/step - loss: 0.4428 - val_loss: 0.4573\n",
      "Epoch 39/100\n",
      "182/182 [==============================] - 0s 2ms/step - loss: 0.4408 - val_loss: 0.4560\n",
      "Epoch 40/100\n",
      "182/182 [==============================] - 0s 2ms/step - loss: 0.4384 - val_loss: 0.4547\n",
      "Epoch 41/100\n",
      "182/182 [==============================] - 0s 1ms/step - loss: 0.4369 - val_loss: 0.4541\n",
      "Epoch 42/100\n",
      "182/182 [==============================] - 0s 1ms/step - loss: 0.4367 - val_loss: 0.4521\n",
      "Epoch 43/100\n",
      "182/182 [==============================] - 0s 1ms/step - loss: 0.4363 - val_loss: 0.4522\n",
      "Epoch 44/100\n",
      "182/182 [==============================] - 0s 1ms/step - loss: 0.4356 - val_loss: 0.4510\n",
      "Epoch 45/100\n",
      "182/182 [==============================] - 0s 2ms/step - loss: 0.4317 - val_loss: 0.4484\n",
      "Epoch 46/100\n",
      "182/182 [==============================] - 0s 1ms/step - loss: 0.4302 - val_loss: 0.4478\n",
      "Epoch 47/100\n",
      "182/182 [==============================] - 0s 1ms/step - loss: 0.4306 - val_loss: 0.4460\n",
      "Epoch 48/100\n",
      "182/182 [==============================] - 0s 1ms/step - loss: 0.4275 - val_loss: 0.4450\n",
      "Epoch 49/100\n",
      "182/182 [==============================] - 0s 1ms/step - loss: 0.4264 - val_loss: 0.4442\n",
      "Epoch 50/100\n",
      "182/182 [==============================] - 0s 1ms/step - loss: 0.4262 - val_loss: 0.4441\n",
      "Epoch 51/100\n",
      "182/182 [==============================] - 0s 2ms/step - loss: 0.4255 - val_loss: 0.4416\n",
      "Epoch 52/100\n",
      "182/182 [==============================] - 0s 2ms/step - loss: 0.4229 - val_loss: 0.4420\n",
      "Epoch 53/100\n",
      "182/182 [==============================] - 0s 2ms/step - loss: 0.4221 - val_loss: 0.4419\n",
      "Epoch 54/100\n",
      "182/182 [==============================] - 0s 1ms/step - loss: 0.4210 - val_loss: 0.4398\n",
      "Epoch 55/100\n",
      "182/182 [==============================] - 0s 1ms/step - loss: 0.4228 - val_loss: 0.4384\n",
      "Epoch 56/100\n",
      "182/182 [==============================] - 0s 1ms/step - loss: 0.4187 - val_loss: 0.4386\n",
      "Epoch 57/100\n",
      "182/182 [==============================] - 0s 1ms/step - loss: 0.4201 - val_loss: 0.4379\n",
      "Epoch 58/100\n",
      "182/182 [==============================] - 0s 2ms/step - loss: 0.4170 - val_loss: 0.4364\n",
      "Epoch 59/100\n",
      "182/182 [==============================] - 0s 1ms/step - loss: 0.4175 - val_loss: 0.4356\n",
      "Epoch 60/100\n",
      "182/182 [==============================] - 0s 1ms/step - loss: 0.4181 - val_loss: 0.4360\n",
      "Epoch 61/100\n",
      "182/182 [==============================] - 0s 1ms/step - loss: 0.4179 - val_loss: 0.4349\n",
      "Epoch 62/100\n",
      "182/182 [==============================] - 0s 2ms/step - loss: 0.4189 - val_loss: 0.4342\n",
      "Epoch 63/100\n",
      "182/182 [==============================] - 0s 2ms/step - loss: 0.4172 - val_loss: 0.4337\n",
      "Epoch 64/100\n",
      "182/182 [==============================] - 0s 2ms/step - loss: 0.4173 - val_loss: 0.4349\n",
      "Epoch 65/100\n",
      "182/182 [==============================] - 0s 2ms/step - loss: 0.4205 - val_loss: 0.4303\n",
      "Epoch 66/100\n",
      "182/182 [==============================] - 0s 1ms/step - loss: 0.4105 - val_loss: 0.4305\n",
      "Epoch 67/100\n",
      "182/182 [==============================] - 0s 1ms/step - loss: 0.4117 - val_loss: 0.4301\n",
      "Epoch 68/100\n",
      "182/182 [==============================] - 0s 1ms/step - loss: 0.4139 - val_loss: 0.4324\n",
      "Epoch 69/100\n",
      "182/182 [==============================] - 0s 2ms/step - loss: 0.4166 - val_loss: 0.4289\n",
      "Epoch 70/100\n",
      "182/182 [==============================] - 0s 1ms/step - loss: 0.4076 - val_loss: 0.4275\n",
      "Epoch 71/100\n",
      "182/182 [==============================] - 0s 1ms/step - loss: 0.4073 - val_loss: 0.4262\n",
      "Epoch 72/100\n",
      "182/182 [==============================] - 0s 1ms/step - loss: 0.4064 - val_loss: 0.4260\n",
      "Epoch 73/100\n",
      "182/182 [==============================] - 0s 1ms/step - loss: 0.4044 - val_loss: 0.4254\n",
      "Epoch 74/100\n",
      "182/182 [==============================] - 0s 1ms/step - loss: 0.4039 - val_loss: 0.4237\n",
      "Epoch 75/100\n",
      "182/182 [==============================] - 0s 1ms/step - loss: 0.4037 - val_loss: 0.4233\n",
      "Epoch 76/100\n",
      "182/182 [==============================] - 0s 2ms/step - loss: 0.4023 - val_loss: 0.4225\n",
      "Epoch 77/100\n",
      "182/182 [==============================] - 0s 2ms/step - loss: 0.4023 - val_loss: 0.4217\n",
      "Epoch 78/100\n",
      "182/182 [==============================] - 0s 1ms/step - loss: 0.4006 - val_loss: 0.4224\n",
      "Epoch 79/100\n",
      "182/182 [==============================] - 0s 1ms/step - loss: 0.4009 - val_loss: 0.4202\n",
      "Epoch 80/100\n",
      "182/182 [==============================] - 0s 1ms/step - loss: 0.3994 - val_loss: 0.4206\n",
      "Epoch 81/100\n",
      "182/182 [==============================] - 0s 1ms/step - loss: 0.3989 - val_loss: 0.4200\n",
      "Epoch 82/100\n",
      "182/182 [==============================] - 0s 1ms/step - loss: 0.4005 - val_loss: 0.4185\n",
      "Epoch 83/100\n",
      "182/182 [==============================] - 0s 1ms/step - loss: 0.3974 - val_loss: 0.4178\n",
      "Epoch 84/100\n",
      "182/182 [==============================] - 0s 1ms/step - loss: 0.3967 - val_loss: 0.4171\n",
      "Epoch 85/100\n",
      "182/182 [==============================] - 0s 2ms/step - loss: 0.3950 - val_loss: 0.4180\n",
      "Epoch 86/100\n",
      "182/182 [==============================] - 0s 2ms/step - loss: 0.3956 - val_loss: 0.4157\n",
      "Epoch 87/100\n",
      "182/182 [==============================] - 0s 1ms/step - loss: 0.3952 - val_loss: 0.4152\n",
      "Epoch 88/100\n",
      "182/182 [==============================] - 0s 1ms/step - loss: 0.3938 - val_loss: 0.4150\n",
      "Epoch 89/100\n",
      "182/182 [==============================] - 0s 1ms/step - loss: 0.3935 - val_loss: 0.4147\n",
      "Epoch 90/100\n",
      "182/182 [==============================] - 0s 1ms/step - loss: 0.3925 - val_loss: 0.4138\n",
      "Epoch 91/100\n",
      "182/182 [==============================] - 0s 2ms/step - loss: 0.3916 - val_loss: 0.4135\n",
      "Epoch 92/100\n",
      "182/182 [==============================] - 0s 1ms/step - loss: 0.3920 - val_loss: 0.4140\n",
      "Epoch 93/100\n",
      "182/182 [==============================] - 0s 2ms/step - loss: 0.3928 - val_loss: 0.4127\n",
      "Epoch 94/100\n",
      "182/182 [==============================] - 0s 1ms/step - loss: 0.3908 - val_loss: 0.4121\n",
      "Epoch 95/100\n",
      "182/182 [==============================] - 0s 1ms/step - loss: 0.3906 - val_loss: 0.4114\n",
      "Epoch 96/100\n",
      "182/182 [==============================] - 0s 2ms/step - loss: 0.3920 - val_loss: 0.4096\n",
      "Epoch 97/100\n",
      "182/182 [==============================] - 0s 1ms/step - loss: 0.3877 - val_loss: 0.4102\n",
      "Epoch 98/100\n",
      "182/182 [==============================] - 0s 1ms/step - loss: 0.3877 - val_loss: 0.4087\n",
      "Epoch 99/100\n",
      "182/182 [==============================] - 0s 2ms/step - loss: 0.3866 - val_loss: 0.4087\n",
      "Epoch 100/100\n",
      "182/182 [==============================] - 0s 1ms/step - loss: 0.3876 - val_loss: 0.4075\n",
      "182/182 [==============================] - 0s 818us/step - loss: 0.3988\n",
      "Epoch 1/100\n"
     ]
    },
    {
     "name": "stderr",
     "output_type": "stream",
     "text": [
      "d:\\pythonenv\\mlenv\\lib\\site-packages\\tensorflow\\python\\keras\\optimizer_v2\\optimizer_v2.py:374: UserWarning: The `lr` argument is deprecated, use `learning_rate` instead.\n",
      "  warnings.warn(\n"
     ]
    },
    {
     "name": "stdout",
     "output_type": "stream",
     "text": [
      "182/182 [==============================] - 1s 2ms/step - loss: 4.8802 - val_loss: 3.9146\n",
      "Epoch 2/100\n",
      "182/182 [==============================] - 0s 1ms/step - loss: 2.6052 - val_loss: 2.3867\n",
      "Epoch 3/100\n",
      "182/182 [==============================] - 0s 1ms/step - loss: 1.6131 - val_loss: 1.6987\n",
      "Epoch 4/100\n",
      "182/182 [==============================] - 0s 1ms/step - loss: 1.1594 - val_loss: 1.3758\n",
      "Epoch 5/100\n",
      "182/182 [==============================] - 0s 1ms/step - loss: 0.9423 - val_loss: 1.2202\n",
      "Epoch 6/100\n",
      "182/182 [==============================] - 0s 1ms/step - loss: 0.8342 - val_loss: 1.1400\n",
      "Epoch 7/100\n",
      "182/182 [==============================] - 0s 1ms/step - loss: 0.7765 - val_loss: 1.0968\n",
      "Epoch 8/100\n",
      "182/182 [==============================] - 0s 1ms/step - loss: 0.7432 - val_loss: 1.0716\n",
      "Epoch 9/100\n",
      "182/182 [==============================] - 0s 1ms/step - loss: 0.7215 - val_loss: 1.0551\n",
      "Epoch 10/100\n",
      "182/182 [==============================] - 0s 1ms/step - loss: 0.7058 - val_loss: 1.0445\n",
      "Epoch 11/100\n",
      "182/182 [==============================] - 0s 1ms/step - loss: 0.6935 - val_loss: 1.0346\n",
      "Epoch 12/100\n",
      "182/182 [==============================] - 0s 1ms/step - loss: 0.6823 - val_loss: 1.0271\n",
      "Epoch 13/100\n",
      "182/182 [==============================] - 0s 1ms/step - loss: 0.6727 - val_loss: 1.0207\n",
      "Epoch 14/100\n",
      "182/182 [==============================] - 0s 1ms/step - loss: 0.6636 - val_loss: 1.0151\n",
      "Epoch 15/100\n",
      "182/182 [==============================] - 0s 2ms/step - loss: 0.6553 - val_loss: 1.0099\n",
      "Epoch 16/100\n",
      "182/182 [==============================] - 0s 1ms/step - loss: 0.6475 - val_loss: 1.0054\n",
      "Epoch 17/100\n",
      "182/182 [==============================] - 0s 1ms/step - loss: 0.6401 - val_loss: 1.0014\n",
      "Epoch 18/100\n",
      "182/182 [==============================] - 0s 1ms/step - loss: 0.6329 - val_loss: 0.9976\n",
      "Epoch 19/100\n",
      "182/182 [==============================] - 0s 1ms/step - loss: 0.6263 - val_loss: 0.9943\n",
      "Epoch 20/100\n",
      "182/182 [==============================] - 0s 1ms/step - loss: 0.6199 - val_loss: 0.9914\n",
      "Epoch 21/100\n",
      "182/182 [==============================] - 0s 1ms/step - loss: 0.6140 - val_loss: 0.9886\n",
      "Epoch 22/100\n",
      "182/182 [==============================] - 0s 1ms/step - loss: 0.6082 - val_loss: 0.9861\n",
      "Epoch 23/100\n",
      "182/182 [==============================] - 0s 1ms/step - loss: 0.6027 - val_loss: 0.9840\n",
      "Epoch 24/100\n",
      "182/182 [==============================] - 0s 1ms/step - loss: 0.5975 - val_loss: 0.9820\n",
      "Epoch 25/100\n",
      "182/182 [==============================] - 0s 1ms/step - loss: 0.5925 - val_loss: 0.9803\n",
      "Epoch 26/100\n",
      "182/182 [==============================] - 0s 1ms/step - loss: 0.5879 - val_loss: 0.9789\n",
      "Epoch 27/100\n",
      "182/182 [==============================] - 0s 1ms/step - loss: 0.5834 - val_loss: 0.9776\n",
      "Epoch 28/100\n",
      "182/182 [==============================] - ETA: 0s - loss: 0.583 - 0s 1ms/step - loss: 0.5793 - val_loss: 0.9765\n",
      "Epoch 29/100\n",
      "182/182 [==============================] - 0s 1ms/step - loss: 0.5752 - val_loss: 0.9758\n",
      "Epoch 30/100\n",
      "182/182 [==============================] - 0s 1ms/step - loss: 0.5714 - val_loss: 0.9750\n",
      "Epoch 31/100\n",
      "182/182 [==============================] - 0s 1ms/step - loss: 0.5678 - val_loss: 0.9745\n",
      "Epoch 32/100\n",
      "182/182 [==============================] - 0s 1ms/step - loss: 0.5643 - val_loss: 0.9740\n",
      "Epoch 33/100\n",
      "182/182 [==============================] - 0s 1ms/step - loss: 0.5611 - val_loss: 0.9736\n",
      "Epoch 34/100\n",
      "182/182 [==============================] - 0s 1ms/step - loss: 0.5580 - val_loss: 0.9737\n",
      "Epoch 35/100\n",
      "182/182 [==============================] - 0s 1ms/step - loss: 0.5550 - val_loss: 0.9737\n",
      "Epoch 36/100\n",
      "182/182 [==============================] - 0s 1ms/step - loss: 0.5523 - val_loss: 0.9740\n",
      "Epoch 37/100\n",
      "182/182 [==============================] - 0s 1ms/step - loss: 0.5495 - val_loss: 0.9743\n",
      "Epoch 38/100\n",
      "182/182 [==============================] - 0s 1ms/step - loss: 0.5470 - val_loss: 0.9747\n",
      "Epoch 39/100\n",
      "182/182 [==============================] - 0s 1ms/step - loss: 0.5446 - val_loss: 0.9752\n",
      "Epoch 40/100\n",
      "182/182 [==============================] - 0s 1ms/step - loss: 0.5423 - val_loss: 0.9757\n",
      "Epoch 41/100\n",
      "182/182 [==============================] - 0s 1ms/step - loss: 0.5402 - val_loss: 0.9763\n",
      "Epoch 42/100\n",
      "182/182 [==============================] - 0s 1ms/step - loss: 0.5381 - val_loss: 0.9771\n",
      "Epoch 43/100\n",
      "182/182 [==============================] - 0s 1ms/step - loss: 0.5361 - val_loss: 0.9781\n",
      "182/182 [==============================] - 0s 613us/step - loss: 1.9697\n",
      "Epoch 1/100\n",
      "  1/182 [..............................] - ETA: 26s - loss: 9.4419"
     ]
    },
    {
     "name": "stderr",
     "output_type": "stream",
     "text": [
      "d:\\pythonenv\\mlenv\\lib\\site-packages\\tensorflow\\python\\keras\\optimizer_v2\\optimizer_v2.py:374: UserWarning: The `lr` argument is deprecated, use `learning_rate` instead.\n",
      "  warnings.warn(\n"
     ]
    },
    {
     "name": "stdout",
     "output_type": "stream",
     "text": [
      "182/182 [==============================] - 0s 2ms/step - loss: 6.1993 - val_loss: 4.1550\n",
      "Epoch 2/100\n",
      "182/182 [==============================] - 0s 2ms/step - loss: 2.9593 - val_loss: 2.1619\n",
      "Epoch 3/100\n",
      "182/182 [==============================] - 0s 1ms/step - loss: 1.6480 - val_loss: 1.3056\n",
      "Epoch 4/100\n",
      "182/182 [==============================] - 0s 1ms/step - loss: 1.0706 - val_loss: 0.9257\n",
      "Epoch 5/100\n",
      "182/182 [==============================] - 0s 1ms/step - loss: 0.8102 - val_loss: 0.7514\n",
      "Epoch 6/100\n",
      "182/182 [==============================] - 0s 1ms/step - loss: 0.6891 - val_loss: 0.6702\n",
      "Epoch 7/100\n",
      "182/182 [==============================] - 0s 1ms/step - loss: 0.6314 - val_loss: 0.6306\n",
      "Epoch 8/100\n",
      "182/182 [==============================] - 0s 1ms/step - loss: 0.6031 - val_loss: 0.6109\n",
      "Epoch 9/100\n",
      "182/182 [==============================] - 0s 1ms/step - loss: 0.5885 - val_loss: 0.6002\n",
      "Epoch 10/100\n",
      "182/182 [==============================] - 0s 1ms/step - loss: 0.5806 - val_loss: 0.5945\n",
      "Epoch 11/100\n",
      "182/182 [==============================] - 0s 1ms/step - loss: 0.5757 - val_loss: 0.5905\n",
      "Epoch 12/100\n",
      "182/182 [==============================] - 0s 1ms/step - loss: 0.5725 - val_loss: 0.5878\n",
      "Epoch 13/100\n",
      "182/182 [==============================] - 0s 1ms/step - loss: 0.5700 - val_loss: 0.5855\n",
      "Epoch 14/100\n",
      "182/182 [==============================] - 0s 1ms/step - loss: 0.5678 - val_loss: 0.5831\n",
      "Epoch 15/100\n",
      "182/182 [==============================] - 0s 1ms/step - loss: 0.5658 - val_loss: 0.5808\n",
      "Epoch 16/100\n",
      "182/182 [==============================] - 0s 2ms/step - loss: 0.5642 - val_loss: 0.5790\n",
      "Epoch 17/100\n",
      "182/182 [==============================] - 0s 1ms/step - loss: 0.5627 - val_loss: 0.5777\n",
      "Epoch 18/100\n",
      "182/182 [==============================] - 0s 1ms/step - loss: 0.5611 - val_loss: 0.5770\n",
      "Epoch 19/100\n",
      "182/182 [==============================] - 0s 1ms/step - loss: 0.5596 - val_loss: 0.5749\n",
      "Epoch 20/100\n",
      "182/182 [==============================] - 0s 1ms/step - loss: 0.5584 - val_loss: 0.5734\n",
      "Epoch 21/100\n",
      "182/182 [==============================] - 0s 1ms/step - loss: 0.5572 - val_loss: 0.5727\n",
      "Epoch 22/100\n",
      "182/182 [==============================] - 0s 1ms/step - loss: 0.5558 - val_loss: 0.5710\n",
      "Epoch 23/100\n",
      "182/182 [==============================] - 0s 1ms/step - loss: 0.5548 - val_loss: 0.5705\n",
      "Epoch 24/100\n",
      "182/182 [==============================] - 0s 1ms/step - loss: 0.5537 - val_loss: 0.5693\n",
      "Epoch 25/100\n",
      "182/182 [==============================] - 0s 1ms/step - loss: 0.5526 - val_loss: 0.5677\n",
      "Epoch 26/100\n",
      "182/182 [==============================] - 0s 1ms/step - loss: 0.5517 - val_loss: 0.5673\n",
      "Epoch 27/100\n",
      "182/182 [==============================] - 0s 1ms/step - loss: 0.5508 - val_loss: 0.5666\n",
      "Epoch 28/100\n",
      "182/182 [==============================] - 0s 1ms/step - loss: 0.5497 - val_loss: 0.5649\n",
      "Epoch 29/100\n",
      "182/182 [==============================] - 0s 1ms/step - loss: 0.5491 - val_loss: 0.5643\n",
      "Epoch 30/100\n",
      "182/182 [==============================] - 0s 1ms/step - loss: 0.5483 - val_loss: 0.5634\n",
      "Epoch 31/100\n",
      "182/182 [==============================] - 0s 1ms/step - loss: 0.5475 - val_loss: 0.5624\n",
      "Epoch 32/100\n",
      "182/182 [==============================] - 0s 1ms/step - loss: 0.5468 - val_loss: 0.5617\n",
      "Epoch 33/100\n",
      "182/182 [==============================] - 0s 1ms/step - loss: 0.5461 - val_loss: 0.5608\n",
      "Epoch 34/100\n",
      "182/182 [==============================] - 0s 1ms/step - loss: 0.5455 - val_loss: 0.5599\n",
      "Epoch 35/100\n",
      "182/182 [==============================] - 0s 1ms/step - loss: 0.5451 - val_loss: 0.5597\n",
      "Epoch 36/100\n",
      "182/182 [==============================] - 0s 1ms/step - loss: 0.5443 - val_loss: 0.5592\n",
      "Epoch 37/100\n",
      "182/182 [==============================] - 0s 1ms/step - loss: 0.5439 - val_loss: 0.5595\n",
      "Epoch 38/100\n",
      "182/182 [==============================] - 0s 1ms/step - loss: 0.5432 - val_loss: 0.5584\n",
      "Epoch 39/100\n",
      "182/182 [==============================] - 0s 1ms/step - loss: 0.5428 - val_loss: 0.5579\n",
      "Epoch 40/100\n",
      "182/182 [==============================] - 0s 1ms/step - loss: 0.5421 - val_loss: 0.5570\n",
      "Epoch 41/100\n",
      "182/182 [==============================] - 0s 1ms/step - loss: 0.5420 - val_loss: 0.5574\n",
      "Epoch 42/100\n",
      "182/182 [==============================] - 0s 1ms/step - loss: 0.5414 - val_loss: 0.5567\n",
      "Epoch 43/100\n",
      "182/182 [==============================] - 0s 1ms/step - loss: 0.5410 - val_loss: 0.5562\n",
      "Epoch 44/100\n",
      "182/182 [==============================] - 0s 1ms/step - loss: 0.5405 - val_loss: 0.5553\n",
      "Epoch 45/100\n",
      "182/182 [==============================] - 0s 1ms/step - loss: 0.5403 - val_loss: 0.5553\n",
      "Epoch 46/100\n",
      "182/182 [==============================] - 0s 1ms/step - loss: 0.5398 - val_loss: 0.5545\n",
      "Epoch 47/100\n",
      "182/182 [==============================] - 0s 1ms/step - loss: 0.5396 - val_loss: 0.5554\n",
      "Epoch 48/100\n",
      "182/182 [==============================] - 0s 1ms/step - loss: 0.5392 - val_loss: 0.5551\n",
      "Epoch 49/100\n",
      "182/182 [==============================] - 0s 1ms/step - loss: 0.5386 - val_loss: 0.5540\n",
      "Epoch 50/100\n",
      "182/182 [==============================] - 0s 1ms/step - loss: 0.5385 - val_loss: 0.5533\n",
      "Epoch 51/100\n",
      "182/182 [==============================] - 0s 1ms/step - loss: 0.5384 - val_loss: 0.5532\n",
      "Epoch 52/100\n",
      "182/182 [==============================] - 0s 1ms/step - loss: 0.5380 - val_loss: 0.5527\n",
      "Epoch 53/100\n",
      "182/182 [==============================] - 0s 1ms/step - loss: 0.5379 - val_loss: 0.5525\n",
      "Epoch 54/100\n",
      "182/182 [==============================] - 0s 1ms/step - loss: 0.5377 - val_loss: 0.5525\n",
      "Epoch 55/100\n",
      "182/182 [==============================] - 0s 1ms/step - loss: 0.5374 - val_loss: 0.5523\n",
      "Epoch 56/100\n",
      "182/182 [==============================] - 0s 1ms/step - loss: 0.5370 - val_loss: 0.5515\n",
      "Epoch 57/100\n",
      "182/182 [==============================] - 0s 1ms/step - loss: 0.5371 - val_loss: 0.5517\n",
      "Epoch 58/100\n",
      "182/182 [==============================] - 0s 1ms/step - loss: 0.5368 - val_loss: 0.5527\n",
      "Epoch 59/100\n",
      "182/182 [==============================] - 0s 1ms/step - loss: 0.5365 - val_loss: 0.5530\n",
      "Epoch 60/100\n",
      "182/182 [==============================] - 0s 1ms/step - loss: 0.5362 - val_loss: 0.5517\n",
      "Epoch 61/100\n",
      "182/182 [==============================] - 0s 1ms/step - loss: 0.5362 - val_loss: 0.5521\n",
      "Epoch 62/100\n",
      "182/182 [==============================] - 0s 1ms/step - loss: 0.5359 - val_loss: 0.5513\n",
      "Epoch 63/100\n",
      "182/182 [==============================] - 0s 1ms/step - loss: 0.5359 - val_loss: 0.5515\n",
      "Epoch 64/100\n",
      "182/182 [==============================] - 0s 1ms/step - loss: 0.5358 - val_loss: 0.5513\n",
      "Epoch 65/100\n",
      "182/182 [==============================] - 0s 1ms/step - loss: 0.5354 - val_loss: 0.5505\n",
      "Epoch 66/100\n",
      "182/182 [==============================] - 0s 1ms/step - loss: 0.5355 - val_loss: 0.5504\n",
      "Epoch 67/100\n",
      "182/182 [==============================] - 0s 1ms/step - loss: 0.5352 - val_loss: 0.5498\n",
      "Epoch 68/100\n",
      "182/182 [==============================] - 0s 1ms/step - loss: 0.5352 - val_loss: 0.5496\n",
      "Epoch 69/100\n",
      "182/182 [==============================] - 0s 2ms/step - loss: 0.5351 - val_loss: 0.5497\n",
      "Epoch 70/100\n",
      "182/182 [==============================] - 0s 1ms/step - loss: 0.5351 - val_loss: 0.5503\n",
      "Epoch 71/100\n",
      "182/182 [==============================] - 0s 1ms/step - loss: 0.5347 - val_loss: 0.5495\n",
      "Epoch 72/100\n",
      "182/182 [==============================] - 0s 1ms/step - loss: 0.5349 - val_loss: 0.5503\n",
      "Epoch 73/100\n",
      "182/182 [==============================] - 0s 1ms/step - loss: 0.5346 - val_loss: 0.5508\n",
      "Epoch 74/100\n",
      "182/182 [==============================] - 0s 1ms/step - loss: 0.5344 - val_loss: 0.5498\n",
      "Epoch 75/100\n",
      "182/182 [==============================] - 0s 1ms/step - loss: 0.5345 - val_loss: 0.5496\n",
      "Epoch 76/100\n",
      "182/182 [==============================] - 0s 1ms/step - loss: 0.5343 - val_loss: 0.5493\n",
      "Epoch 77/100\n",
      "182/182 [==============================] - 0s 1ms/step - loss: 0.5343 - val_loss: 0.5506\n",
      "Epoch 78/100\n",
      "182/182 [==============================] - 0s 1ms/step - loss: 0.5342 - val_loss: 0.5579\n",
      "Epoch 79/100\n",
      "182/182 [==============================] - 0s 1ms/step - loss: 0.5352 - val_loss: 0.5519\n",
      "Epoch 80/100\n",
      "182/182 [==============================] - 0s 1ms/step - loss: 0.5340 - val_loss: 0.5501\n",
      "Epoch 81/100\n",
      "182/182 [==============================] - 0s 1ms/step - loss: 0.5340 - val_loss: 0.5504\n",
      "Epoch 82/100\n",
      "182/182 [==============================] - 0s 1ms/step - loss: 0.5340 - val_loss: 0.5502\n",
      "Epoch 83/100\n",
      "182/182 [==============================] - 0s 1ms/step - loss: 0.5338 - val_loss: 0.5497\n",
      "Epoch 84/100\n",
      "182/182 [==============================] - 0s 1ms/step - loss: 0.5338 - val_loss: 0.5498\n",
      "Epoch 85/100\n",
      "182/182 [==============================] - 0s 1ms/step - loss: 0.5338 - val_loss: 0.5496\n",
      "Epoch 86/100\n",
      "182/182 [==============================] - 0s 1ms/step - loss: 0.5337 - val_loss: 0.5494\n",
      "182/182 [==============================] - 0s 767us/step - loss: 0.5356\n",
      "Epoch 1/100\n"
     ]
    },
    {
     "name": "stderr",
     "output_type": "stream",
     "text": [
      "d:\\pythonenv\\mlenv\\lib\\site-packages\\tensorflow\\python\\keras\\optimizer_v2\\optimizer_v2.py:374: UserWarning: The `lr` argument is deprecated, use `learning_rate` instead.\n",
      "  warnings.warn(\n"
     ]
    },
    {
     "name": "stdout",
     "output_type": "stream",
     "text": [
      "182/182 [==============================] - 1s 2ms/step - loss: 2.2721 - val_loss: 1.2481\n",
      "Epoch 2/100\n",
      "182/182 [==============================] - 0s 2ms/step - loss: 0.9034 - val_loss: 0.8625\n",
      "Epoch 3/100\n",
      "182/182 [==============================] - 0s 2ms/step - loss: 0.7214 - val_loss: 0.7968\n",
      "Epoch 4/100\n",
      "182/182 [==============================] - 0s 2ms/step - loss: 0.6791 - val_loss: 0.7579\n",
      "Epoch 5/100\n",
      "182/182 [==============================] - 0s 2ms/step - loss: 0.6492 - val_loss: 0.7222\n",
      "Epoch 6/100\n",
      "182/182 [==============================] - 0s 2ms/step - loss: 0.6260 - val_loss: 0.6969\n",
      "Epoch 7/100\n",
      "182/182 [==============================] - 0s 2ms/step - loss: 0.6049 - val_loss: 0.6748\n",
      "Epoch 8/100\n",
      "182/182 [==============================] - 0s 1ms/step - loss: 0.5878 - val_loss: 0.6548\n",
      "Epoch 9/100\n",
      "182/182 [==============================] - 0s 2ms/step - loss: 0.5734 - val_loss: 0.6338\n",
      "Epoch 10/100\n",
      "182/182 [==============================] - 0s 2ms/step - loss: 0.5600 - val_loss: 0.6189\n",
      "Epoch 11/100\n",
      "182/182 [==============================] - 0s 2ms/step - loss: 0.5484 - val_loss: 0.6041\n",
      "Epoch 12/100\n",
      "182/182 [==============================] - 0s 2ms/step - loss: 0.5382 - val_loss: 0.5898\n",
      "Epoch 13/100\n",
      "182/182 [==============================] - 0s 1ms/step - loss: 0.5288 - val_loss: 0.5784\n",
      "Epoch 14/100\n",
      "182/182 [==============================] - 0s 2ms/step - loss: 0.5204 - val_loss: 0.5664\n",
      "Epoch 15/100\n",
      "182/182 [==============================] - 0s 1ms/step - loss: 0.5128 - val_loss: 0.5594\n",
      "Epoch 16/100\n",
      "182/182 [==============================] - 0s 2ms/step - loss: 0.5060 - val_loss: 0.5473\n",
      "Epoch 17/100\n",
      "182/182 [==============================] - 0s 2ms/step - loss: 0.4996 - val_loss: 0.5396\n",
      "Epoch 18/100\n",
      "182/182 [==============================] - 0s 2ms/step - loss: 0.4941 - val_loss: 0.5318\n",
      "Epoch 19/100\n",
      "182/182 [==============================] - 0s 2ms/step - loss: 0.4884 - val_loss: 0.5260\n",
      "Epoch 20/100\n",
      "182/182 [==============================] - 0s 2ms/step - loss: 0.4841 - val_loss: 0.5175\n",
      "Epoch 21/100\n",
      "182/182 [==============================] - 0s 2ms/step - loss: 0.4792 - val_loss: 0.5126\n",
      "Epoch 22/100\n",
      "182/182 [==============================] - 0s 1ms/step - loss: 0.4756 - val_loss: 0.5065\n",
      "Epoch 23/100\n",
      "182/182 [==============================] - 0s 1ms/step - loss: 0.4717 - val_loss: 0.5028\n",
      "Epoch 24/100\n",
      "182/182 [==============================] - 0s 1ms/step - loss: 0.4681 - val_loss: 0.4977\n",
      "Epoch 25/100\n",
      "182/182 [==============================] - 0s 1ms/step - loss: 0.4650 - val_loss: 0.4939\n",
      "Epoch 26/100\n",
      "182/182 [==============================] - 0s 1ms/step - loss: 0.4618 - val_loss: 0.4896\n",
      "Epoch 27/100\n",
      "182/182 [==============================] - 0s 1ms/step - loss: 0.4587 - val_loss: 0.4863\n",
      "Epoch 28/100\n",
      "182/182 [==============================] - 0s 1ms/step - loss: 0.4559 - val_loss: 0.4836\n",
      "Epoch 29/100\n",
      "182/182 [==============================] - 0s 2ms/step - loss: 0.4534 - val_loss: 0.4807\n",
      "Epoch 30/100\n",
      "182/182 [==============================] - 0s 1ms/step - loss: 0.4508 - val_loss: 0.4777\n",
      "Epoch 31/100\n",
      "182/182 [==============================] - 0s 1ms/step - loss: 0.4479 - val_loss: 0.4763\n",
      "Epoch 32/100\n",
      "182/182 [==============================] - 0s 1ms/step - loss: 0.4457 - val_loss: 0.4733\n",
      "Epoch 33/100\n",
      "182/182 [==============================] - 0s 2ms/step - loss: 0.4436 - val_loss: 0.4710\n",
      "Epoch 34/100\n",
      "182/182 [==============================] - 0s 1ms/step - loss: 0.4414 - val_loss: 0.4691\n",
      "Epoch 35/100\n",
      "182/182 [==============================] - 0s 2ms/step - loss: 0.4390 - val_loss: 0.4662\n",
      "Epoch 36/100\n",
      "182/182 [==============================] - 0s 1ms/step - loss: 0.4372 - val_loss: 0.4641\n",
      "Epoch 37/100\n",
      "182/182 [==============================] - 0s 1ms/step - loss: 0.4350 - val_loss: 0.4622\n",
      "Epoch 38/100\n",
      "182/182 [==============================] - 0s 1ms/step - loss: 0.4330 - val_loss: 0.4602\n",
      "Epoch 39/100\n",
      "182/182 [==============================] - 0s 1ms/step - loss: 0.4312 - val_loss: 0.4586\n",
      "Epoch 40/100\n",
      "182/182 [==============================] - 0s 1ms/step - loss: 0.4293 - val_loss: 0.4575\n",
      "Epoch 41/100\n",
      "182/182 [==============================] - 0s 1ms/step - loss: 0.4275 - val_loss: 0.4556\n",
      "Epoch 42/100\n",
      "182/182 [==============================] - 0s 1ms/step - loss: 0.4257 - val_loss: 0.4532\n",
      "Epoch 43/100\n",
      "182/182 [==============================] - 0s 1ms/step - loss: 0.4241 - val_loss: 0.4517\n",
      "Epoch 44/100\n",
      "182/182 [==============================] - 0s 2ms/step - loss: 0.4222 - val_loss: 0.4518\n",
      "Epoch 45/100\n",
      "182/182 [==============================] - 0s 2ms/step - loss: 0.4211 - val_loss: 0.4490\n",
      "Epoch 46/100\n",
      "182/182 [==============================] - 0s 1ms/step - loss: 0.4188 - val_loss: 0.4490\n",
      "Epoch 47/100\n",
      "182/182 [==============================] - 0s 2ms/step - loss: 0.4174 - val_loss: 0.4460\n",
      "Epoch 48/100\n",
      "182/182 [==============================] - 0s 2ms/step - loss: 0.4157 - val_loss: 0.4453\n",
      "Epoch 49/100\n",
      "182/182 [==============================] - 0s 2ms/step - loss: 0.4144 - val_loss: 0.4447\n",
      "Epoch 50/100\n",
      "182/182 [==============================] - 0s 1ms/step - loss: 0.4127 - val_loss: 0.4436\n",
      "Epoch 51/100\n",
      "182/182 [==============================] - 0s 2ms/step - loss: 0.4115 - val_loss: 0.4436\n",
      "Epoch 52/100\n",
      "182/182 [==============================] - 0s 2ms/step - loss: 0.4098 - val_loss: 0.4400\n",
      "Epoch 53/100\n",
      "182/182 [==============================] - 0s 2ms/step - loss: 0.4087 - val_loss: 0.4390\n",
      "Epoch 54/100\n",
      "182/182 [==============================] - 0s 2ms/step - loss: 0.4070 - val_loss: 0.4389\n",
      "Epoch 55/100\n",
      "182/182 [==============================] - 0s 1ms/step - loss: 0.4057 - val_loss: 0.4377\n",
      "Epoch 56/100\n",
      "182/182 [==============================] - 0s 2ms/step - loss: 0.4042 - val_loss: 0.4370\n",
      "Epoch 57/100\n",
      "182/182 [==============================] - 0s 2ms/step - loss: 0.4036 - val_loss: 0.4350\n",
      "Epoch 58/100\n",
      "182/182 [==============================] - 0s 1ms/step - loss: 0.4017 - val_loss: 0.4344\n",
      "Epoch 59/100\n",
      "182/182 [==============================] - 0s 1ms/step - loss: 0.4004 - val_loss: 0.4333\n",
      "Epoch 60/100\n",
      "182/182 [==============================] - 0s 1ms/step - loss: 0.3995 - val_loss: 0.4333\n",
      "Epoch 61/100\n",
      "182/182 [==============================] - 0s 2ms/step - loss: 0.3981 - val_loss: 0.4336\n",
      "Epoch 62/100\n",
      "182/182 [==============================] - 0s 1ms/step - loss: 0.3968 - val_loss: 0.4310\n",
      "Epoch 63/100\n",
      "182/182 [==============================] - 0s 1ms/step - loss: 0.3957 - val_loss: 0.4287\n",
      "Epoch 64/100\n",
      "182/182 [==============================] - 0s 2ms/step - loss: 0.3948 - val_loss: 0.4290\n",
      "Epoch 65/100\n",
      "182/182 [==============================] - 0s 2ms/step - loss: 0.3934 - val_loss: 0.4309\n",
      "Epoch 66/100\n",
      "182/182 [==============================] - 0s 1ms/step - loss: 0.3924 - val_loss: 0.4292\n",
      "Epoch 67/100\n",
      "182/182 [==============================] - 0s 2ms/step - loss: 0.3911 - val_loss: 0.4282\n",
      "Epoch 68/100\n",
      "182/182 [==============================] - 0s 2ms/step - loss: 0.3907 - val_loss: 0.4272\n",
      "Epoch 69/100\n",
      "182/182 [==============================] - 0s 1ms/step - loss: 0.3892 - val_loss: 0.4256\n",
      "Epoch 70/100\n",
      "182/182 [==============================] - 0s 2ms/step - loss: 0.3879 - val_loss: 0.4254\n",
      "Epoch 71/100\n",
      "182/182 [==============================] - 0s 1ms/step - loss: 0.3865 - val_loss: 0.4254\n",
      "Epoch 72/100\n",
      "182/182 [==============================] - 0s 2ms/step - loss: 0.3857 - val_loss: 0.4246\n",
      "Epoch 73/100\n",
      "182/182 [==============================] - 0s 1ms/step - loss: 0.3846 - val_loss: 0.4237\n",
      "Epoch 74/100\n",
      "182/182 [==============================] - 0s 2ms/step - loss: 0.3834 - val_loss: 0.4244\n",
      "Epoch 75/100\n",
      "182/182 [==============================] - 0s 2ms/step - loss: 0.3825 - val_loss: 0.4245\n",
      "Epoch 76/100\n",
      "182/182 [==============================] - 0s 2ms/step - loss: 0.3819 - val_loss: 0.4215\n",
      "Epoch 77/100\n",
      "182/182 [==============================] - 0s 1ms/step - loss: 0.3808 - val_loss: 0.4218\n",
      "Epoch 78/100\n",
      "182/182 [==============================] - 0s 1ms/step - loss: 0.3798 - val_loss: 0.4217\n",
      "Epoch 79/100\n",
      "182/182 [==============================] - 0s 1ms/step - loss: 0.3787 - val_loss: 0.4204\n",
      "Epoch 80/100\n",
      "182/182 [==============================] - 0s 2ms/step - loss: 0.3778 - val_loss: 0.4203\n",
      "Epoch 81/100\n",
      "182/182 [==============================] - 0s 1ms/step - loss: 0.3768 - val_loss: 0.4191\n",
      "Epoch 82/100\n",
      "182/182 [==============================] - 0s 1ms/step - loss: 0.3760 - val_loss: 0.4189\n",
      "Epoch 83/100\n",
      "182/182 [==============================] - 0s 2ms/step - loss: 0.3752 - val_loss: 0.4172\n",
      "Epoch 84/100\n",
      "182/182 [==============================] - 0s 1ms/step - loss: 0.3737 - val_loss: 0.4185\n",
      "Epoch 85/100\n",
      "182/182 [==============================] - 0s 1ms/step - loss: 0.3733 - val_loss: 0.4174\n",
      "Epoch 86/100\n",
      "182/182 [==============================] - 0s 1ms/step - loss: 0.3723 - val_loss: 0.4170\n",
      "Epoch 87/100\n",
      "182/182 [==============================] - 0s 1ms/step - loss: 0.3711 - val_loss: 0.4154\n",
      "Epoch 88/100\n",
      "182/182 [==============================] - 0s 1ms/step - loss: 0.3705 - val_loss: 0.4165\n",
      "Epoch 89/100\n",
      "182/182 [==============================] - 0s 1ms/step - loss: 0.3697 - val_loss: 0.4145\n",
      "Epoch 90/100\n",
      "182/182 [==============================] - 0s 1ms/step - loss: 0.3690 - val_loss: 0.4155\n",
      "Epoch 91/100\n",
      "182/182 [==============================] - 0s 1ms/step - loss: 0.3679 - val_loss: 0.4146\n",
      "Epoch 92/100\n",
      "182/182 [==============================] - 0s 1ms/step - loss: 0.3670 - val_loss: 0.4144\n",
      "Epoch 93/100\n",
      "182/182 [==============================] - 0s 2ms/step - loss: 0.3664 - val_loss: 0.4134\n",
      "Epoch 94/100\n",
      "182/182 [==============================] - 0s 1ms/step - loss: 0.3655 - val_loss: 0.4153\n",
      "Epoch 95/100\n",
      "182/182 [==============================] - 0s 1ms/step - loss: 0.3645 - val_loss: 0.4119\n",
      "Epoch 96/100\n",
      "182/182 [==============================] - 0s 1ms/step - loss: 0.3637 - val_loss: 0.4135\n",
      "Epoch 97/100\n",
      "182/182 [==============================] - 0s 1ms/step - loss: 0.3633 - val_loss: 0.4130\n",
      "Epoch 98/100\n",
      "182/182 [==============================] - 0s 1ms/step - loss: 0.3621 - val_loss: 0.4119\n",
      "Epoch 99/100\n",
      "182/182 [==============================] - 0s 2ms/step - loss: 0.3617 - val_loss: 0.4122\n",
      "Epoch 100/100\n",
      "182/182 [==============================] - 0s 1ms/step - loss: 0.3598 - val_loss: 0.4124\n",
      "182/182 [==============================] - 0s 845us/step - loss: 0.4448\n",
      "Epoch 1/100\n"
     ]
    },
    {
     "name": "stderr",
     "output_type": "stream",
     "text": [
      "d:\\pythonenv\\mlenv\\lib\\site-packages\\tensorflow\\python\\keras\\optimizer_v2\\optimizer_v2.py:374: UserWarning: The `lr` argument is deprecated, use `learning_rate` instead.\n",
      "  warnings.warn(\n"
     ]
    },
    {
     "name": "stdout",
     "output_type": "stream",
     "text": [
      "182/182 [==============================] - 1s 2ms/step - loss: 2.5655 - val_loss: 1.1261\n",
      "Epoch 2/100\n",
      "182/182 [==============================] - 0s 2ms/step - loss: 0.9243 - val_loss: 0.8288\n",
      "Epoch 3/100\n",
      "182/182 [==============================] - 0s 1ms/step - loss: 0.7365 - val_loss: 0.7372\n",
      "Epoch 4/100\n",
      "182/182 [==============================] - 0s 1ms/step - loss: 0.6730 - val_loss: 0.6829\n",
      "Epoch 5/100\n",
      "182/182 [==============================] - 0s 1ms/step - loss: 0.6333 - val_loss: 0.6454\n",
      "Epoch 6/100\n",
      "182/182 [==============================] - 0s 1ms/step - loss: 0.6051 - val_loss: 0.6176\n",
      "Epoch 7/100\n",
      "182/182 [==============================] - 0s 1ms/step - loss: 0.5829 - val_loss: 0.5955\n",
      "Epoch 8/100\n",
      "182/182 [==============================] - 0s 1ms/step - loss: 0.5646 - val_loss: 0.5775\n",
      "Epoch 9/100\n",
      "182/182 [==============================] - 0s 1ms/step - loss: 0.5489 - val_loss: 0.5605\n",
      "Epoch 10/100\n",
      "182/182 [==============================] - 0s 1ms/step - loss: 0.5354 - val_loss: 0.5470\n",
      "Epoch 11/100\n",
      "182/182 [==============================] - 0s 2ms/step - loss: 0.5235 - val_loss: 0.5360\n",
      "Epoch 12/100\n",
      "182/182 [==============================] - 0s 1ms/step - loss: 0.5130 - val_loss: 0.5240\n",
      "Epoch 13/100\n",
      "182/182 [==============================] - 0s 1ms/step - loss: 0.5029 - val_loss: 0.5146\n",
      "Epoch 14/100\n",
      "182/182 [==============================] - 0s 2ms/step - loss: 0.4946 - val_loss: 0.5058\n",
      "Epoch 15/100\n",
      "182/182 [==============================] - 0s 1ms/step - loss: 0.4872 - val_loss: 0.4982\n",
      "Epoch 16/100\n",
      "182/182 [==============================] - 0s 1ms/step - loss: 0.4800 - val_loss: 0.4911\n",
      "Epoch 17/100\n",
      "182/182 [==============================] - 0s 1ms/step - loss: 0.4739 - val_loss: 0.4849\n",
      "Epoch 18/100\n",
      "182/182 [==============================] - 0s 1ms/step - loss: 0.4678 - val_loss: 0.4791\n",
      "Epoch 19/100\n",
      "182/182 [==============================] - 0s 1ms/step - loss: 0.4625 - val_loss: 0.4737\n",
      "Epoch 20/100\n",
      "182/182 [==============================] - 0s 1ms/step - loss: 0.4577 - val_loss: 0.4695\n",
      "Epoch 21/100\n",
      "182/182 [==============================] - 0s 1ms/step - loss: 0.4535 - val_loss: 0.4645\n",
      "Epoch 22/100\n",
      "182/182 [==============================] - 0s 1ms/step - loss: 0.4489 - val_loss: 0.4619\n",
      "Epoch 23/100\n",
      "182/182 [==============================] - 0s 1ms/step - loss: 0.4457 - val_loss: 0.4569\n",
      "Epoch 24/100\n",
      "182/182 [==============================] - 0s 2ms/step - loss: 0.4422 - val_loss: 0.4545\n",
      "Epoch 25/100\n",
      "182/182 [==============================] - 0s 1ms/step - loss: 0.4390 - val_loss: 0.4516\n",
      "Epoch 26/100\n",
      "182/182 [==============================] - 0s 1ms/step - loss: 0.4360 - val_loss: 0.4482\n",
      "Epoch 27/100\n",
      "182/182 [==============================] - 0s 1ms/step - loss: 0.4327 - val_loss: 0.4467\n",
      "Epoch 28/100\n",
      "182/182 [==============================] - 0s 2ms/step - loss: 0.4310 - val_loss: 0.4435\n",
      "Epoch 29/100\n",
      "182/182 [==============================] - 0s 1ms/step - loss: 0.4281 - val_loss: 0.4411\n",
      "Epoch 30/100\n",
      "182/182 [==============================] - 0s 1ms/step - loss: 0.4257 - val_loss: 0.4381\n",
      "Epoch 31/100\n",
      "182/182 [==============================] - 0s 1ms/step - loss: 0.4238 - val_loss: 0.4363\n",
      "Epoch 32/100\n",
      "182/182 [==============================] - 0s 1ms/step - loss: 0.4217 - val_loss: 0.4343\n",
      "Epoch 33/100\n",
      "182/182 [==============================] - 0s 1ms/step - loss: 0.4194 - val_loss: 0.4325\n",
      "Epoch 34/100\n",
      "182/182 [==============================] - 0s 1ms/step - loss: 0.4175 - val_loss: 0.4323\n",
      "Epoch 35/100\n",
      "182/182 [==============================] - 0s 1ms/step - loss: 0.4163 - val_loss: 0.4292\n",
      "Epoch 36/100\n",
      "182/182 [==============================] - 0s 1ms/step - loss: 0.4138 - val_loss: 0.4281\n",
      "Epoch 37/100\n",
      "182/182 [==============================] - 0s 1ms/step - loss: 0.4123 - val_loss: 0.4259\n",
      "Epoch 38/100\n",
      "182/182 [==============================] - 0s 1ms/step - loss: 0.4102 - val_loss: 0.4245\n",
      "Epoch 39/100\n",
      "182/182 [==============================] - 0s 1ms/step - loss: 0.4089 - val_loss: 0.4234\n",
      "Epoch 40/100\n",
      "182/182 [==============================] - 0s 1ms/step - loss: 0.4075 - val_loss: 0.4226\n",
      "Epoch 41/100\n",
      "182/182 [==============================] - 0s 1ms/step - loss: 0.4059 - val_loss: 0.4206\n",
      "Epoch 42/100\n",
      "182/182 [==============================] - 0s 1ms/step - loss: 0.4043 - val_loss: 0.4206\n",
      "Epoch 43/100\n",
      "182/182 [==============================] - 0s 1ms/step - loss: 0.4030 - val_loss: 0.4190\n",
      "Epoch 44/100\n",
      "182/182 [==============================] - 0s 1ms/step - loss: 0.4011 - val_loss: 0.4164\n",
      "Epoch 45/100\n",
      "182/182 [==============================] - 0s 1ms/step - loss: 0.4004 - val_loss: 0.4162\n",
      "Epoch 46/100\n",
      "182/182 [==============================] - 0s 1ms/step - loss: 0.3988 - val_loss: 0.4156\n",
      "Epoch 47/100\n",
      "182/182 [==============================] - 0s 2ms/step - loss: 0.3974 - val_loss: 0.4147\n",
      "Epoch 48/100\n",
      "182/182 [==============================] - 0s 1ms/step - loss: 0.3966 - val_loss: 0.4134\n",
      "Epoch 49/100\n",
      "182/182 [==============================] - 0s 1ms/step - loss: 0.3946 - val_loss: 0.4116\n",
      "Epoch 50/100\n",
      "182/182 [==============================] - 0s 1ms/step - loss: 0.3935 - val_loss: 0.4103\n",
      "Epoch 51/100\n",
      "182/182 [==============================] - 0s 2ms/step - loss: 0.3923 - val_loss: 0.4113\n",
      "Epoch 52/100\n",
      "182/182 [==============================] - 0s 1ms/step - loss: 0.3914 - val_loss: 0.4086\n",
      "Epoch 53/100\n",
      "182/182 [==============================] - 0s 2ms/step - loss: 0.3900 - val_loss: 0.4087\n",
      "Epoch 54/100\n",
      "182/182 [==============================] - 0s 2ms/step - loss: 0.3889 - val_loss: 0.4070\n",
      "Epoch 55/100\n",
      "182/182 [==============================] - 0s 1ms/step - loss: 0.3875 - val_loss: 0.4063\n",
      "Epoch 56/100\n",
      "182/182 [==============================] - 0s 2ms/step - loss: 0.3865 - val_loss: 0.4059\n",
      "Epoch 57/100\n",
      "182/182 [==============================] - 0s 2ms/step - loss: 0.3854 - val_loss: 0.4039\n",
      "Epoch 58/100\n",
      "182/182 [==============================] - 0s 2ms/step - loss: 0.3839 - val_loss: 0.4056\n",
      "Epoch 59/100\n",
      "182/182 [==============================] - 0s 2ms/step - loss: 0.3834 - val_loss: 0.4030\n",
      "Epoch 60/100\n",
      "182/182 [==============================] - 0s 3ms/step - loss: 0.3822 - val_loss: 0.4012\n",
      "Epoch 61/100\n",
      "182/182 [==============================] - 0s 2ms/step - loss: 0.3808 - val_loss: 0.4009\n",
      "Epoch 62/100\n",
      "182/182 [==============================] - 0s 1ms/step - loss: 0.3797 - val_loss: 0.3987\n",
      "Epoch 63/100\n",
      "182/182 [==============================] - ETA: 0s - loss: 0.382 - 0s 1ms/step - loss: 0.3789 - val_loss: 0.3979\n",
      "Epoch 64/100\n",
      "182/182 [==============================] - 0s 1ms/step - loss: 0.3775 - val_loss: 0.3986\n",
      "Epoch 65/100\n",
      "182/182 [==============================] - 0s 1ms/step - loss: 0.3768 - val_loss: 0.3971\n",
      "Epoch 66/100\n",
      "182/182 [==============================] - 0s 2ms/step - loss: 0.3756 - val_loss: 0.3967\n",
      "Epoch 67/100\n",
      "182/182 [==============================] - 0s 1ms/step - loss: 0.3749 - val_loss: 0.3960\n",
      "Epoch 68/100\n",
      "182/182 [==============================] - 0s 1ms/step - loss: 0.3739 - val_loss: 0.3947\n",
      "Epoch 69/100\n",
      "182/182 [==============================] - 0s 2ms/step - loss: 0.3725 - val_loss: 0.3943\n",
      "Epoch 70/100\n",
      "182/182 [==============================] - 0s 2ms/step - loss: 0.3722 - val_loss: 0.3936\n",
      "Epoch 71/100\n",
      "182/182 [==============================] - 0s 1ms/step - loss: 0.3708 - val_loss: 0.3917\n",
      "Epoch 72/100\n",
      "182/182 [==============================] - 0s 2ms/step - loss: 0.3699 - val_loss: 0.3919\n",
      "Epoch 73/100\n",
      "182/182 [==============================] - 0s 2ms/step - loss: 0.3689 - val_loss: 0.3932\n",
      "Epoch 74/100\n",
      "182/182 [==============================] - 0s 1ms/step - loss: 0.3682 - val_loss: 0.3900\n",
      "Epoch 75/100\n",
      "182/182 [==============================] - 0s 1ms/step - loss: 0.3676 - val_loss: 0.3895\n",
      "Epoch 76/100\n",
      "182/182 [==============================] - 0s 1ms/step - loss: 0.3662 - val_loss: 0.3897\n",
      "Epoch 77/100\n",
      "182/182 [==============================] - 0s 1ms/step - loss: 0.3657 - val_loss: 0.3883\n",
      "Epoch 78/100\n",
      "182/182 [==============================] - 0s 1ms/step - loss: 0.3650 - val_loss: 0.3874\n",
      "Epoch 79/100\n",
      "182/182 [==============================] - 0s 2ms/step - loss: 0.3636 - val_loss: 0.3883\n",
      "Epoch 80/100\n",
      "182/182 [==============================] - 0s 1ms/step - loss: 0.3627 - val_loss: 0.3865\n",
      "Epoch 81/100\n",
      "182/182 [==============================] - 0s 1ms/step - loss: 0.3620 - val_loss: 0.3860\n",
      "Epoch 82/100\n",
      "182/182 [==============================] - 0s 2ms/step - loss: 0.3612 - val_loss: 0.3850\n",
      "Epoch 83/100\n",
      "182/182 [==============================] - 0s 1ms/step - loss: 0.3607 - val_loss: 0.3841\n",
      "Epoch 84/100\n",
      "182/182 [==============================] - 0s 1ms/step - loss: 0.3597 - val_loss: 0.3833\n",
      "Epoch 85/100\n",
      "182/182 [==============================] - 0s 2ms/step - loss: 0.3586 - val_loss: 0.3820\n",
      "Epoch 86/100\n",
      "182/182 [==============================] - 0s 2ms/step - loss: 0.3584 - val_loss: 0.3810\n",
      "Epoch 87/100\n",
      "182/182 [==============================] - 0s 1ms/step - loss: 0.3574 - val_loss: 0.3817\n",
      "Epoch 88/100\n",
      "182/182 [==============================] - 0s 2ms/step - loss: 0.3567 - val_loss: 0.3816\n",
      "Epoch 89/100\n",
      "182/182 [==============================] - 0s 1ms/step - loss: 0.3555 - val_loss: 0.3823\n",
      "Epoch 90/100\n",
      "182/182 [==============================] - 0s 1ms/step - loss: 0.3553 - val_loss: 0.3797\n",
      "Epoch 91/100\n",
      "182/182 [==============================] - 0s 2ms/step - loss: 0.3541 - val_loss: 0.3789\n",
      "Epoch 92/100\n",
      "182/182 [==============================] - 0s 1ms/step - loss: 0.3539 - val_loss: 0.3782\n",
      "Epoch 93/100\n",
      "182/182 [==============================] - 0s 1ms/step - loss: 0.3533 - val_loss: 0.3776\n",
      "Epoch 94/100\n",
      "182/182 [==============================] - 0s 1ms/step - loss: 0.3518 - val_loss: 0.3780\n",
      "Epoch 95/100\n",
      "182/182 [==============================] - 0s 2ms/step - loss: 0.3511 - val_loss: 0.3774\n",
      "Epoch 96/100\n",
      "182/182 [==============================] - 0s 2ms/step - loss: 0.3510 - val_loss: 0.3760\n",
      "Epoch 97/100\n",
      "182/182 [==============================] - 0s 2ms/step - loss: 0.3502 - val_loss: 0.3758\n",
      "Epoch 98/100\n",
      "182/182 [==============================] - 0s 1ms/step - loss: 0.3495 - val_loss: 0.3757\n",
      "Epoch 99/100\n",
      "182/182 [==============================] - 0s 1ms/step - loss: 0.3482 - val_loss: 0.3749\n",
      "Epoch 100/100\n",
      "182/182 [==============================] - 0s 2ms/step - loss: 0.3481 - val_loss: 0.3746\n",
      "182/182 [==============================] - 0s 740us/step - loss: 0.3693\n",
      "Epoch 1/100\n"
     ]
    },
    {
     "name": "stderr",
     "output_type": "stream",
     "text": [
      "d:\\pythonenv\\mlenv\\lib\\site-packages\\tensorflow\\python\\keras\\optimizer_v2\\optimizer_v2.py:374: UserWarning: The `lr` argument is deprecated, use `learning_rate` instead.\n",
      "  warnings.warn(\n"
     ]
    },
    {
     "name": "stdout",
     "output_type": "stream",
     "text": [
      "182/182 [==============================] - 1s 2ms/step - loss: 1.6899 - val_loss: 0.8669\n",
      "Epoch 2/100\n",
      "182/182 [==============================] - 0s 1ms/step - loss: 0.7471 - val_loss: 0.7679\n",
      "Epoch 3/100\n",
      "182/182 [==============================] - 0s 2ms/step - loss: 0.6937 - val_loss: 0.7254\n",
      "Epoch 4/100\n",
      "182/182 [==============================] - 0s 1ms/step - loss: 0.6645 - val_loss: 0.6969\n",
      "Epoch 5/100\n",
      "182/182 [==============================] - 0s 2ms/step - loss: 0.6422 - val_loss: 0.6737\n",
      "Epoch 6/100\n",
      "182/182 [==============================] - 0s 1ms/step - loss: 0.6233 - val_loss: 0.6544\n",
      "Epoch 7/100\n",
      "182/182 [==============================] - 0s 1ms/step - loss: 0.6072 - val_loss: 0.6372\n",
      "Epoch 8/100\n",
      "182/182 [==============================] - 0s 1ms/step - loss: 0.5918 - val_loss: 0.6205\n",
      "Epoch 9/100\n",
      "182/182 [==============================] - 0s 2ms/step - loss: 0.5777 - val_loss: 0.6048\n",
      "Epoch 10/100\n",
      "182/182 [==============================] - 0s 2ms/step - loss: 0.5640 - val_loss: 0.5915\n",
      "Epoch 11/100\n",
      "182/182 [==============================] - 0s 2ms/step - loss: 0.5517 - val_loss: 0.5780\n",
      "Epoch 12/100\n",
      "182/182 [==============================] - 0s 2ms/step - loss: 0.5393 - val_loss: 0.5671\n",
      "Epoch 13/100\n",
      "182/182 [==============================] - 0s 2ms/step - loss: 0.5290 - val_loss: 0.5544\n",
      "Epoch 14/100\n",
      "182/182 [==============================] - 0s 2ms/step - loss: 0.5198 - val_loss: 0.5460\n",
      "Epoch 15/100\n",
      "182/182 [==============================] - 0s 2ms/step - loss: 0.5126 - val_loss: 0.5384\n",
      "Epoch 16/100\n",
      "182/182 [==============================] - 0s 1ms/step - loss: 0.5059 - val_loss: 0.5305\n",
      "Epoch 17/100\n",
      "182/182 [==============================] - 0s 1ms/step - loss: 0.5008 - val_loss: 0.5243\n",
      "Epoch 18/100\n",
      "182/182 [==============================] - 0s 1ms/step - loss: 0.4957 - val_loss: 0.5190\n",
      "Epoch 19/100\n",
      "182/182 [==============================] - 0s 1ms/step - loss: 0.4907 - val_loss: 0.5154\n",
      "Epoch 20/100\n",
      "182/182 [==============================] - 0s 1ms/step - loss: 0.4872 - val_loss: 0.5111\n",
      "Epoch 21/100\n",
      "182/182 [==============================] - 0s 1ms/step - loss: 0.4833 - val_loss: 0.5083\n",
      "Epoch 22/100\n",
      "182/182 [==============================] - 0s 1ms/step - loss: 0.4798 - val_loss: 0.5044\n",
      "Epoch 23/100\n",
      "182/182 [==============================] - 0s 1ms/step - loss: 0.4769 - val_loss: 0.5022\n",
      "Epoch 24/100\n",
      "182/182 [==============================] - 0s 1ms/step - loss: 0.4742 - val_loss: 0.4995\n",
      "Epoch 25/100\n",
      "182/182 [==============================] - 0s 1ms/step - loss: 0.4718 - val_loss: 0.4962\n",
      "Epoch 26/100\n",
      "182/182 [==============================] - 0s 1ms/step - loss: 0.4691 - val_loss: 0.4934\n",
      "Epoch 27/100\n",
      "182/182 [==============================] - 0s 1ms/step - loss: 0.4669 - val_loss: 0.4912\n",
      "Epoch 28/100\n",
      "182/182 [==============================] - 0s 1ms/step - loss: 0.4649 - val_loss: 0.4905\n",
      "Epoch 29/100\n",
      "182/182 [==============================] - 0s 1ms/step - loss: 0.4633 - val_loss: 0.4875\n",
      "Epoch 30/100\n",
      "182/182 [==============================] - 0s 1ms/step - loss: 0.4617 - val_loss: 0.4865\n",
      "Epoch 31/100\n",
      "182/182 [==============================] - 0s 1ms/step - loss: 0.4602 - val_loss: 0.4853\n",
      "Epoch 32/100\n",
      "182/182 [==============================] - 0s 1ms/step - loss: 0.4582 - val_loss: 0.4833\n",
      "Epoch 33/100\n",
      "182/182 [==============================] - 0s 1ms/step - loss: 0.4569 - val_loss: 0.4825\n",
      "Epoch 34/100\n",
      "182/182 [==============================] - 0s 1ms/step - loss: 0.4557 - val_loss: 0.4807\n",
      "Epoch 35/100\n",
      "182/182 [==============================] - 0s 1ms/step - loss: 0.4541 - val_loss: 0.4792\n",
      "Epoch 36/100\n",
      "182/182 [==============================] - 0s 1ms/step - loss: 0.4531 - val_loss: 0.4782\n",
      "Epoch 37/100\n",
      "182/182 [==============================] - 0s 1ms/step - loss: 0.4521 - val_loss: 0.4774\n",
      "Epoch 38/100\n",
      "182/182 [==============================] - 0s 1ms/step - loss: 0.4507 - val_loss: 0.4778\n",
      "Epoch 39/100\n",
      "182/182 [==============================] - 0s 1ms/step - loss: 0.4501 - val_loss: 0.4746\n",
      "Epoch 40/100\n",
      "182/182 [==============================] - 0s 1ms/step - loss: 0.4485 - val_loss: 0.4733\n",
      "Epoch 41/100\n",
      "182/182 [==============================] - 0s 1ms/step - loss: 0.4476 - val_loss: 0.4719\n",
      "Epoch 42/100\n",
      "182/182 [==============================] - 0s 1ms/step - loss: 0.4462 - val_loss: 0.4718\n",
      "Epoch 43/100\n",
      "182/182 [==============================] - 0s 1ms/step - loss: 0.4447 - val_loss: 0.4713\n",
      "Epoch 44/100\n",
      "182/182 [==============================] - 0s 1ms/step - loss: 0.4443 - val_loss: 0.4697\n",
      "Epoch 45/100\n",
      "182/182 [==============================] - 0s 1ms/step - loss: 0.4433 - val_loss: 0.4690\n",
      "Epoch 46/100\n",
      "182/182 [==============================] - 0s 1ms/step - loss: 0.4426 - val_loss: 0.4670\n",
      "Epoch 47/100\n",
      "182/182 [==============================] - 0s 1ms/step - loss: 0.4416 - val_loss: 0.4663\n",
      "Epoch 48/100\n",
      "182/182 [==============================] - 0s 1ms/step - loss: 0.4400 - val_loss: 0.4670\n",
      "Epoch 49/100\n",
      "182/182 [==============================] - 0s 1ms/step - loss: 0.4391 - val_loss: 0.4642\n",
      "Epoch 50/100\n",
      "182/182 [==============================] - 0s 1ms/step - loss: 0.4383 - val_loss: 0.4657\n",
      "Epoch 51/100\n",
      "182/182 [==============================] - 0s 1ms/step - loss: 0.4378 - val_loss: 0.4633\n",
      "Epoch 52/100\n",
      "182/182 [==============================] - 0s 1ms/step - loss: 0.4366 - val_loss: 0.4624\n",
      "Epoch 53/100\n",
      "182/182 [==============================] - 0s 1ms/step - loss: 0.4362 - val_loss: 0.4603\n",
      "Epoch 54/100\n",
      "182/182 [==============================] - 0s 1ms/step - loss: 0.4350 - val_loss: 0.4607\n",
      "Epoch 55/100\n",
      "182/182 [==============================] - 0s 1ms/step - loss: 0.4340 - val_loss: 0.4609\n",
      "Epoch 56/100\n",
      "182/182 [==============================] - 0s 1ms/step - loss: 0.4327 - val_loss: 0.4578\n",
      "Epoch 57/100\n",
      "182/182 [==============================] - 0s 1ms/step - loss: 0.4316 - val_loss: 0.4638\n",
      "Epoch 58/100\n",
      "182/182 [==============================] - 0s 1ms/step - loss: 0.4315 - val_loss: 0.4567\n",
      "Epoch 59/100\n",
      "182/182 [==============================] - 0s 1ms/step - loss: 0.4304 - val_loss: 0.4560\n",
      "Epoch 60/100\n",
      "182/182 [==============================] - 0s 1ms/step - loss: 0.4287 - val_loss: 0.4556\n",
      "Epoch 61/100\n",
      "182/182 [==============================] - 0s 1ms/step - loss: 0.4285 - val_loss: 0.4555\n",
      "Epoch 62/100\n",
      "182/182 [==============================] - 0s 1ms/step - loss: 0.4280 - val_loss: 0.4532\n",
      "Epoch 63/100\n",
      "182/182 [==============================] - 0s 1ms/step - loss: 0.4272 - val_loss: 0.4524\n",
      "Epoch 64/100\n",
      "182/182 [==============================] - 0s 1ms/step - loss: 0.4257 - val_loss: 0.4522\n",
      "Epoch 65/100\n",
      "182/182 [==============================] - 0s 1ms/step - loss: 0.4252 - val_loss: 0.4511\n",
      "Epoch 66/100\n",
      "182/182 [==============================] - 0s 1ms/step - loss: 0.4246 - val_loss: 0.4497\n",
      "Epoch 67/100\n",
      "182/182 [==============================] - 0s 1ms/step - loss: 0.4236 - val_loss: 0.4499\n",
      "Epoch 68/100\n",
      "182/182 [==============================] - 0s 1ms/step - loss: 0.4228 - val_loss: 0.4491\n",
      "Epoch 69/100\n",
      "182/182 [==============================] - 0s 1ms/step - loss: 0.4223 - val_loss: 0.4465\n",
      "Epoch 70/100\n",
      "182/182 [==============================] - 0s 1ms/step - loss: 0.4212 - val_loss: 0.4464\n",
      "Epoch 71/100\n",
      "182/182 [==============================] - 0s 1ms/step - loss: 0.4200 - val_loss: 0.4467\n",
      "Epoch 72/100\n",
      "182/182 [==============================] - 0s 1ms/step - loss: 0.4197 - val_loss: 0.4445\n",
      "Epoch 73/100\n",
      "182/182 [==============================] - 0s 1ms/step - loss: 0.4189 - val_loss: 0.4433\n",
      "Epoch 74/100\n",
      "182/182 [==============================] - 0s 1ms/step - loss: 0.4180 - val_loss: 0.4446\n",
      "Epoch 75/100\n",
      "182/182 [==============================] - 0s 1ms/step - loss: 0.4171 - val_loss: 0.4415\n",
      "Epoch 76/100\n",
      "182/182 [==============================] - ETA: 0s - loss: 0.415 - 0s 1ms/step - loss: 0.4161 - val_loss: 0.4402\n",
      "Epoch 77/100\n",
      "182/182 [==============================] - 0s 1ms/step - loss: 0.4155 - val_loss: 0.4400\n",
      "Epoch 78/100\n",
      "182/182 [==============================] - 0s 1ms/step - loss: 0.4147 - val_loss: 0.4401\n",
      "Epoch 79/100\n",
      "182/182 [==============================] - 0s 1ms/step - loss: 0.4136 - val_loss: 0.4390\n",
      "Epoch 80/100\n",
      "182/182 [==============================] - 0s 1ms/step - loss: 0.4131 - val_loss: 0.4394\n",
      "Epoch 81/100\n",
      "182/182 [==============================] - 0s 1ms/step - loss: 0.4121 - val_loss: 0.4376\n",
      "Epoch 82/100\n",
      "182/182 [==============================] - 0s 1ms/step - loss: 0.4113 - val_loss: 0.4369\n",
      "Epoch 83/100\n",
      "182/182 [==============================] - 0s 1ms/step - loss: 0.4108 - val_loss: 0.4354\n",
      "Epoch 84/100\n",
      "182/182 [==============================] - 0s 1ms/step - loss: 0.4098 - val_loss: 0.4349\n",
      "Epoch 85/100\n",
      "182/182 [==============================] - 0s 1ms/step - loss: 0.4093 - val_loss: 0.4358\n",
      "Epoch 86/100\n",
      "182/182 [==============================] - 0s 1ms/step - loss: 0.4084 - val_loss: 0.4346\n",
      "Epoch 87/100\n",
      "182/182 [==============================] - 0s 1ms/step - loss: 0.4078 - val_loss: 0.4339\n",
      "Epoch 88/100\n",
      "182/182 [==============================] - 0s 1ms/step - loss: 0.4068 - val_loss: 0.4324\n",
      "Epoch 89/100\n",
      "182/182 [==============================] - 0s 1ms/step - loss: 0.4062 - val_loss: 0.4304\n",
      "Epoch 90/100\n",
      "182/182 [==============================] - 0s 1ms/step - loss: 0.4053 - val_loss: 0.4319\n",
      "Epoch 91/100\n",
      "182/182 [==============================] - 0s 1ms/step - loss: 0.4046 - val_loss: 0.4305\n",
      "Epoch 92/100\n",
      "182/182 [==============================] - 0s 1ms/step - loss: 0.4032 - val_loss: 0.4290\n",
      "Epoch 93/100\n",
      "182/182 [==============================] - 0s 1ms/step - loss: 0.4034 - val_loss: 0.4298\n",
      "Epoch 94/100\n",
      "182/182 [==============================] - 0s 1ms/step - loss: 0.4024 - val_loss: 0.4281\n",
      "Epoch 95/100\n",
      "182/182 [==============================] - 0s 1ms/step - loss: 0.4014 - val_loss: 0.4292\n",
      "Epoch 96/100\n",
      "182/182 [==============================] - 0s 1ms/step - loss: 0.4013 - val_loss: 0.4277\n",
      "Epoch 97/100\n",
      "182/182 [==============================] - 0s 1ms/step - loss: 0.4005 - val_loss: 0.4262\n",
      "Epoch 98/100\n",
      "182/182 [==============================] - 0s 1ms/step - loss: 0.3989 - val_loss: 0.4241\n",
      "Epoch 99/100\n",
      "182/182 [==============================] - 0s 1ms/step - loss: 0.3987 - val_loss: 0.4250\n",
      "Epoch 100/100\n",
      "182/182 [==============================] - 0s 1ms/step - loss: 0.3978 - val_loss: 0.4254\n",
      "182/182 [==============================] - 0s 735us/step - loss: 0.4177\n",
      "Epoch 1/100\n"
     ]
    },
    {
     "name": "stderr",
     "output_type": "stream",
     "text": [
      "d:\\pythonenv\\mlenv\\lib\\site-packages\\tensorflow\\python\\keras\\optimizer_v2\\optimizer_v2.py:374: UserWarning: The `lr` argument is deprecated, use `learning_rate` instead.\n",
      "  warnings.warn(\n"
     ]
    },
    {
     "name": "stdout",
     "output_type": "stream",
     "text": [
      "182/182 [==============================] - 1s 2ms/step - loss: 2.3877 - val_loss: 1.1895\n",
      "Epoch 2/100\n",
      "182/182 [==============================] - 0s 1ms/step - loss: 1.0366 - val_loss: 0.9540\n",
      "Epoch 3/100\n",
      "182/182 [==============================] - 0s 1ms/step - loss: 0.8745 - val_loss: 0.8634\n",
      "Epoch 4/100\n",
      "182/182 [==============================] - 0s 1ms/step - loss: 0.7961 - val_loss: 0.7965\n",
      "Epoch 5/100\n",
      "182/182 [==============================] - 0s 1ms/step - loss: 0.7420 - val_loss: 0.7472\n",
      "Epoch 6/100\n",
      "182/182 [==============================] - 0s 1ms/step - loss: 0.7042 - val_loss: 0.7111\n",
      "Epoch 7/100\n",
      "182/182 [==============================] - 0s 1ms/step - loss: 0.6760 - val_loss: 0.6832\n",
      "Epoch 8/100\n",
      "182/182 [==============================] - 0s 1ms/step - loss: 0.6554 - val_loss: 0.6645\n",
      "Epoch 9/100\n",
      "182/182 [==============================] - 0s 2ms/step - loss: 0.6383 - val_loss: 0.6478\n",
      "Epoch 10/100\n",
      "182/182 [==============================] - 0s 1ms/step - loss: 0.6247 - val_loss: 0.6334\n",
      "Epoch 11/100\n",
      "182/182 [==============================] - 0s 1ms/step - loss: 0.6126 - val_loss: 0.6203\n",
      "Epoch 12/100\n",
      "182/182 [==============================] - 0s 1ms/step - loss: 0.6013 - val_loss: 0.6105\n",
      "Epoch 13/100\n",
      "182/182 [==============================] - 0s 1ms/step - loss: 0.5918 - val_loss: 0.6011\n",
      "Epoch 14/100\n",
      "182/182 [==============================] - 0s 1ms/step - loss: 0.5830 - val_loss: 0.5916\n",
      "Epoch 15/100\n",
      "182/182 [==============================] - 0s 1ms/step - loss: 0.5744 - val_loss: 0.5839\n",
      "Epoch 16/100\n",
      "182/182 [==============================] - 0s 1ms/step - loss: 0.5664 - val_loss: 0.5763\n",
      "Epoch 17/100\n",
      "182/182 [==============================] - 0s 1ms/step - loss: 0.5590 - val_loss: 0.5690\n",
      "Epoch 18/100\n",
      "182/182 [==============================] - 0s 1ms/step - loss: 0.5519 - val_loss: 0.5623\n",
      "Epoch 19/100\n",
      "182/182 [==============================] - 0s 2ms/step - loss: 0.5454 - val_loss: 0.5569\n",
      "Epoch 20/100\n",
      "182/182 [==============================] - 0s 2ms/step - loss: 0.5390 - val_loss: 0.5498\n",
      "Epoch 21/100\n",
      "182/182 [==============================] - 0s 2ms/step - loss: 0.5333 - val_loss: 0.5441\n",
      "Epoch 22/100\n",
      "182/182 [==============================] - 0s 1ms/step - loss: 0.5275 - val_loss: 0.5393\n",
      "Epoch 23/100\n",
      "182/182 [==============================] - 0s 1ms/step - loss: 0.5220 - val_loss: 0.5340\n",
      "Epoch 24/100\n",
      "182/182 [==============================] - 0s 1ms/step - loss: 0.5166 - val_loss: 0.5320\n",
      "Epoch 25/100\n",
      "182/182 [==============================] - 0s 1ms/step - loss: 0.5123 - val_loss: 0.5246\n",
      "Epoch 26/100\n",
      "182/182 [==============================] - 0s 1ms/step - loss: 0.5078 - val_loss: 0.5206\n",
      "Epoch 27/100\n",
      "182/182 [==============================] - 0s 1ms/step - loss: 0.5036 - val_loss: 0.5167\n",
      "Epoch 28/100\n",
      "182/182 [==============================] - 0s 1ms/step - loss: 0.5000 - val_loss: 0.5137\n",
      "Epoch 29/100\n",
      "182/182 [==============================] - 0s 1ms/step - loss: 0.4957 - val_loss: 0.5111\n",
      "Epoch 30/100\n",
      "182/182 [==============================] - 0s 1ms/step - loss: 0.4926 - val_loss: 0.5060\n",
      "Epoch 31/100\n",
      "182/182 [==============================] - 0s 1ms/step - loss: 0.4892 - val_loss: 0.5035\n",
      "Epoch 32/100\n",
      "182/182 [==============================] - 0s 2ms/step - loss: 0.4861 - val_loss: 0.4998\n",
      "Epoch 33/100\n",
      "182/182 [==============================] - 0s 1ms/step - loss: 0.4827 - val_loss: 0.4981\n",
      "Epoch 34/100\n",
      "182/182 [==============================] - 0s 1ms/step - loss: 0.4802 - val_loss: 0.4947\n",
      "Epoch 35/100\n",
      "182/182 [==============================] - 0s 1ms/step - loss: 0.4774 - val_loss: 0.4920\n",
      "Epoch 36/100\n",
      "182/182 [==============================] - 0s 1ms/step - loss: 0.4747 - val_loss: 0.4897\n",
      "Epoch 37/100\n",
      "182/182 [==============================] - 0s 1ms/step - loss: 0.4726 - val_loss: 0.4889\n",
      "Epoch 38/100\n",
      "182/182 [==============================] - 0s 1ms/step - loss: 0.4702 - val_loss: 0.4852\n",
      "Epoch 39/100\n",
      "182/182 [==============================] - 0s 1ms/step - loss: 0.4679 - val_loss: 0.4833\n",
      "Epoch 40/100\n",
      "182/182 [==============================] - 0s 1ms/step - loss: 0.4661 - val_loss: 0.4811\n",
      "Epoch 41/100\n",
      "182/182 [==============================] - 0s 1ms/step - loss: 0.4640 - val_loss: 0.4790\n",
      "Epoch 42/100\n",
      "182/182 [==============================] - 0s 1ms/step - loss: 0.4621 - val_loss: 0.4773\n",
      "Epoch 43/100\n",
      "182/182 [==============================] - 0s 1ms/step - loss: 0.4601 - val_loss: 0.4763\n",
      "Epoch 44/100\n",
      "182/182 [==============================] - 0s 1ms/step - loss: 0.4583 - val_loss: 0.4738\n",
      "Epoch 45/100\n",
      "182/182 [==============================] - 0s 1ms/step - loss: 0.4565 - val_loss: 0.4722\n",
      "Epoch 46/100\n",
      "182/182 [==============================] - 0s 1ms/step - loss: 0.4552 - val_loss: 0.4712\n",
      "Epoch 47/100\n",
      "182/182 [==============================] - 0s 1ms/step - loss: 0.4534 - val_loss: 0.4709\n",
      "Epoch 48/100\n",
      "182/182 [==============================] - 0s 1ms/step - loss: 0.4520 - val_loss: 0.4673\n",
      "Epoch 49/100\n",
      "182/182 [==============================] - 0s 1ms/step - loss: 0.4503 - val_loss: 0.4668\n",
      "Epoch 50/100\n",
      "182/182 [==============================] - 0s 1ms/step - loss: 0.4484 - val_loss: 0.4652\n",
      "Epoch 51/100\n",
      "182/182 [==============================] - 0s 1ms/step - loss: 0.4474 - val_loss: 0.4636\n",
      "Epoch 52/100\n",
      "182/182 [==============================] - 0s 1ms/step - loss: 0.4464 - val_loss: 0.4618\n",
      "Epoch 53/100\n",
      "182/182 [==============================] - 0s 1ms/step - loss: 0.4455 - val_loss: 0.4613\n",
      "Epoch 54/100\n",
      "182/182 [==============================] - 0s 1ms/step - loss: 0.4442 - val_loss: 0.4605\n",
      "Epoch 55/100\n",
      "182/182 [==============================] - 0s 1ms/step - loss: 0.4427 - val_loss: 0.4585\n",
      "Epoch 56/100\n",
      "182/182 [==============================] - 0s 1ms/step - loss: 0.4419 - val_loss: 0.4580\n",
      "Epoch 57/100\n",
      "182/182 [==============================] - 0s 1ms/step - loss: 0.4402 - val_loss: 0.4561\n",
      "Epoch 58/100\n",
      "182/182 [==============================] - 0s 2ms/step - loss: 0.4396 - val_loss: 0.4564\n",
      "Epoch 59/100\n",
      "182/182 [==============================] - 0s 1ms/step - loss: 0.4383 - val_loss: 0.4543\n",
      "Epoch 60/100\n",
      "182/182 [==============================] - 0s 1ms/step - loss: 0.4377 - val_loss: 0.4532\n",
      "Epoch 61/100\n",
      "182/182 [==============================] - 0s 1ms/step - loss: 0.4361 - val_loss: 0.4540\n",
      "Epoch 62/100\n",
      "182/182 [==============================] - 0s 1ms/step - loss: 0.4361 - val_loss: 0.4532\n",
      "Epoch 63/100\n",
      "182/182 [==============================] - 0s 1ms/step - loss: 0.4345 - val_loss: 0.4500\n",
      "Epoch 64/100\n",
      "182/182 [==============================] - 0s 1ms/step - loss: 0.4337 - val_loss: 0.4497\n",
      "Epoch 65/100\n",
      "182/182 [==============================] - 0s 1ms/step - loss: 0.4325 - val_loss: 0.4489\n",
      "Epoch 66/100\n",
      "182/182 [==============================] - 0s 1ms/step - loss: 0.4322 - val_loss: 0.4482\n",
      "Epoch 67/100\n",
      "182/182 [==============================] - 0s 1ms/step - loss: 0.4309 - val_loss: 0.4474\n",
      "Epoch 68/100\n",
      "182/182 [==============================] - 0s 1ms/step - loss: 0.4302 - val_loss: 0.4466\n",
      "Epoch 69/100\n",
      "182/182 [==============================] - 0s 1ms/step - loss: 0.4290 - val_loss: 0.4458\n",
      "Epoch 70/100\n",
      "182/182 [==============================] - 0s 1ms/step - loss: 0.4280 - val_loss: 0.4443\n",
      "Epoch 71/100\n",
      "182/182 [==============================] - 0s 1ms/step - loss: 0.4275 - val_loss: 0.4442\n",
      "Epoch 72/100\n",
      "182/182 [==============================] - 0s 1ms/step - loss: 0.4266 - val_loss: 0.4428\n",
      "Epoch 73/100\n",
      "182/182 [==============================] - 0s 2ms/step - loss: 0.4261 - val_loss: 0.4425\n",
      "Epoch 74/100\n",
      "182/182 [==============================] - 0s 1ms/step - loss: 0.4248 - val_loss: 0.4403\n",
      "Epoch 75/100\n",
      "182/182 [==============================] - 0s 1ms/step - loss: 0.4239 - val_loss: 0.4405\n",
      "Epoch 76/100\n",
      "182/182 [==============================] - 0s 1ms/step - loss: 0.4231 - val_loss: 0.4386\n",
      "Epoch 77/100\n",
      "182/182 [==============================] - 0s 1ms/step - loss: 0.4226 - val_loss: 0.4384\n",
      "Epoch 78/100\n",
      "182/182 [==============================] - 0s 2ms/step - loss: 0.4215 - val_loss: 0.4379\n",
      "Epoch 79/100\n",
      "182/182 [==============================] - 0s 1ms/step - loss: 0.4210 - val_loss: 0.4371\n",
      "Epoch 80/100\n",
      "182/182 [==============================] - 0s 1ms/step - loss: 0.4198 - val_loss: 0.4377\n",
      "Epoch 81/100\n",
      "182/182 [==============================] - 0s 1ms/step - loss: 0.4194 - val_loss: 0.4362\n",
      "Epoch 82/100\n",
      "182/182 [==============================] - 0s 1ms/step - loss: 0.4185 - val_loss: 0.4352\n",
      "Epoch 83/100\n",
      "182/182 [==============================] - 0s 1ms/step - loss: 0.4180 - val_loss: 0.4339\n",
      "Epoch 84/100\n",
      "182/182 [==============================] - 0s 1ms/step - loss: 0.4164 - val_loss: 0.4345\n",
      "Epoch 85/100\n",
      "182/182 [==============================] - 0s 1ms/step - loss: 0.4163 - val_loss: 0.4345\n",
      "Epoch 86/100\n",
      "182/182 [==============================] - 0s 1ms/step - loss: 0.4155 - val_loss: 0.4321\n",
      "Epoch 87/100\n",
      "182/182 [==============================] - 0s 2ms/step - loss: 0.4146 - val_loss: 0.4314\n",
      "Epoch 88/100\n",
      "182/182 [==============================] - 0s 1ms/step - loss: 0.4138 - val_loss: 0.4300\n",
      "Epoch 89/100\n",
      "182/182 [==============================] - 0s 2ms/step - loss: 0.4131 - val_loss: 0.4307\n",
      "Epoch 90/100\n",
      "182/182 [==============================] - 0s 1ms/step - loss: 0.4125 - val_loss: 0.4291\n",
      "Epoch 91/100\n",
      "182/182 [==============================] - 0s 1ms/step - loss: 0.4116 - val_loss: 0.4298\n",
      "Epoch 92/100\n",
      "182/182 [==============================] - 0s 1ms/step - loss: 0.4110 - val_loss: 0.4280\n",
      "Epoch 93/100\n",
      "182/182 [==============================] - 0s 1ms/step - loss: 0.4102 - val_loss: 0.4281\n",
      "Epoch 94/100\n",
      "182/182 [==============================] - 0s 1ms/step - loss: 0.4099 - val_loss: 0.4264\n",
      "Epoch 95/100\n",
      "182/182 [==============================] - 0s 1ms/step - loss: 0.4086 - val_loss: 0.4264\n",
      "Epoch 96/100\n",
      "182/182 [==============================] - 0s 1ms/step - loss: 0.4078 - val_loss: 0.4275\n",
      "Epoch 97/100\n",
      "182/182 [==============================] - 0s 1ms/step - loss: 0.4080 - val_loss: 0.4246\n",
      "Epoch 98/100\n",
      "182/182 [==============================] - ETA: 0s - loss: 0.406 - 0s 1ms/step - loss: 0.4068 - val_loss: 0.4237\n",
      "Epoch 99/100\n",
      "182/182 [==============================] - 0s 1ms/step - loss: 0.4066 - val_loss: 0.4243\n",
      "Epoch 100/100\n",
      "182/182 [==============================] - 0s 1ms/step - loss: 0.4061 - val_loss: 0.4235\n",
      "182/182 [==============================] - 0s 740us/step - loss: 0.4216\n",
      "Epoch 1/100\n",
      "363/363 [==============================] - 1s 1ms/step - loss: 0.8968 - val_loss: 0.5519\n",
      "Epoch 2/100\n",
      "363/363 [==============================] - 0s 1ms/step - loss: 0.5367 - val_loss: 0.4493\n",
      "Epoch 3/100\n",
      "363/363 [==============================] - 0s 1ms/step - loss: 0.4432 - val_loss: 0.4443\n",
      "Epoch 4/100\n",
      "363/363 [==============================] - 0s 1ms/step - loss: 0.4184 - val_loss: 0.4161\n",
      "Epoch 5/100\n",
      "363/363 [==============================] - 0s 1ms/step - loss: 0.3959 - val_loss: 0.3928\n",
      "Epoch 6/100\n",
      "363/363 [==============================] - 0s 1ms/step - loss: 0.3795 - val_loss: 0.3775\n",
      "Epoch 7/100\n",
      "363/363 [==============================] - 0s 1ms/step - loss: 0.3657 - val_loss: 0.3634\n",
      "Epoch 8/100\n",
      "363/363 [==============================] - 0s 1ms/step - loss: 0.3536 - val_loss: 0.3531\n",
      "Epoch 9/100\n",
      "363/363 [==============================] - 0s 1ms/step - loss: 0.3466 - val_loss: 0.3537\n",
      "Epoch 10/100\n",
      "363/363 [==============================] - 0s 1ms/step - loss: 0.3398 - val_loss: 0.3407\n",
      "Epoch 11/100\n",
      "363/363 [==============================] - 0s 1ms/step - loss: 0.3317 - val_loss: 0.3773\n",
      "Epoch 12/100\n",
      "363/363 [==============================] - 0s 1ms/step - loss: 0.3321 - val_loss: 0.3318\n",
      "Epoch 13/100\n",
      "363/363 [==============================] - 0s 1ms/step - loss: 0.3224 - val_loss: 0.3347\n",
      "Epoch 14/100\n",
      "363/363 [==============================] - 0s 1ms/step - loss: 0.3181 - val_loss: 0.3309\n",
      "Epoch 15/100\n",
      "363/363 [==============================] - 0s 1ms/step - loss: 0.3151 - val_loss: 0.3397\n",
      "Epoch 16/100\n",
      "363/363 [==============================] - 0s 1ms/step - loss: 0.3155 - val_loss: 0.3195\n",
      "Epoch 17/100\n",
      "363/363 [==============================] - 0s 1ms/step - loss: 0.3065 - val_loss: 0.3261\n",
      "Epoch 18/100\n",
      "363/363 [==============================] - 0s 1ms/step - loss: 0.3075 - val_loss: 0.3414\n",
      "Epoch 19/100\n",
      "363/363 [==============================] - 0s 1ms/step - loss: 0.3054 - val_loss: 0.3088\n",
      "Epoch 20/100\n",
      "363/363 [==============================] - 0s 1ms/step - loss: 0.2988 - val_loss: 0.3394\n",
      "Epoch 21/100\n",
      "363/363 [==============================] - 0s 1ms/step - loss: 0.2985 - val_loss: 0.3156\n",
      "Epoch 22/100\n",
      "363/363 [==============================] - 0s 1ms/step - loss: 0.2969 - val_loss: 0.3150\n",
      "Epoch 23/100\n",
      "363/363 [==============================] - 1s 1ms/step - loss: 0.2933 - val_loss: 0.3259\n",
      "Epoch 24/100\n",
      "363/363 [==============================] - 0s 1ms/step - loss: 0.2915 - val_loss: 0.3049\n",
      "Epoch 25/100\n",
      "363/363 [==============================] - 1s 1ms/step - loss: 0.2899 - val_loss: 0.3341\n",
      "Epoch 26/100\n",
      "363/363 [==============================] - 0s 1ms/step - loss: 0.2864 - val_loss: 0.3162\n",
      "Epoch 27/100\n",
      "363/363 [==============================] - 0s 1ms/step - loss: 0.2857 - val_loss: 0.3133\n",
      "Epoch 28/100\n",
      "363/363 [==============================] - 0s 1ms/step - loss: 0.2856 - val_loss: 0.3011\n",
      "Epoch 29/100\n",
      "363/363 [==============================] - 0s 1ms/step - loss: 0.2842 - val_loss: 0.2999- ETA: 0s - loss: 0.285\n",
      "Epoch 30/100\n",
      "363/363 [==============================] - 0s 1ms/step - loss: 0.2842 - val_loss: 0.2957\n",
      "Epoch 31/100\n",
      "363/363 [==============================] - 0s 1ms/step - loss: 0.2802 - val_loss: 0.3154\n",
      "Epoch 32/100\n",
      "363/363 [==============================] - 0s 1ms/step - loss: 0.2782 - val_loss: 0.3137\n",
      "Epoch 33/100\n",
      "363/363 [==============================] - 0s 1ms/step - loss: 0.2815 - val_loss: 0.2985\n",
      "Epoch 34/100\n",
      "363/363 [==============================] - 1s 1ms/step - loss: 0.2779 - val_loss: 0.3064\n",
      "Epoch 35/100\n",
      "363/363 [==============================] - 0s 1ms/step - loss: 0.2776 - val_loss: 0.3098\n",
      "Epoch 36/100\n",
      "363/363 [==============================] - 0s 1ms/step - loss: 0.2783 - val_loss: 0.3052\n",
      "Epoch 37/100\n",
      "363/363 [==============================] - 0s 1ms/step - loss: 0.2764 - val_loss: 0.3011\n",
      "Epoch 38/100\n",
      "363/363 [==============================] - 0s 1ms/step - loss: 0.2739 - val_loss: 0.2926\n",
      "Epoch 39/100\n",
      "363/363 [==============================] - 0s 1ms/step - loss: 0.2722 - val_loss: 0.2981\n",
      "Epoch 40/100\n",
      "363/363 [==============================] - 0s 1ms/step - loss: 0.2711 - val_loss: 0.2943\n",
      "Epoch 41/100\n",
      "363/363 [==============================] - 0s 1000us/step - loss: 0.2731 - val_loss: 0.3267\n",
      "Epoch 42/100\n",
      "363/363 [==============================] - 0s 1ms/step - loss: 0.2713 - val_loss: 0.3174\n",
      "Epoch 43/100\n",
      "363/363 [==============================] - 0s 945us/step - loss: 0.2701 - val_loss: 0.2971\n",
      "Epoch 44/100\n",
      "363/363 [==============================] - 0s 1ms/step - loss: 0.2680 - val_loss: 0.3078\n",
      "Epoch 45/100\n",
      "363/363 [==============================] - 0s 1ms/step - loss: 0.2675 - val_loss: 0.3046\n",
      "Epoch 46/100\n",
      "363/363 [==============================] - 0s 1ms/step - loss: 0.2686 - val_loss: 0.2863\n",
      "Epoch 47/100\n",
      "363/363 [==============================] - 0s 1ms/step - loss: 0.2647 - val_loss: 0.3031\n",
      "Epoch 48/100\n",
      "363/363 [==============================] - 0s 975us/step - loss: 0.2647 - val_loss: 0.2891\n",
      "Epoch 49/100\n",
      "363/363 [==============================] - 0s 1ms/step - loss: 0.2630 - val_loss: 0.3126\n",
      "Epoch 50/100\n",
      "363/363 [==============================] - 0s 1ms/step - loss: 0.2640 - val_loss: 0.3244\n",
      "Epoch 51/100\n",
      "363/363 [==============================] - 0s 1ms/step - loss: 0.2615 - val_loss: 0.3016\n",
      "Epoch 52/100\n",
      "363/363 [==============================] - 0s 1ms/step - loss: 0.2632 - val_loss: 0.2910\n",
      "Epoch 53/100\n",
      "363/363 [==============================] - 0s 1ms/step - loss: 0.2613 - val_loss: 0.3023\n",
      "Epoch 54/100\n",
      "363/363 [==============================] - 0s 1ms/step - loss: 0.2585 - val_loss: 0.2869\n",
      "Epoch 55/100\n",
      "363/363 [==============================] - 0s 1ms/step - loss: 0.2573 - val_loss: 0.3057\n",
      "Epoch 56/100\n",
      "363/363 [==============================] - 0s 1ms/step - loss: 0.2587 - val_loss: 0.2870\n"
     ]
    },
    {
     "data": {
      "text/plain": [
       "RandomizedSearchCV(cv=2,\n",
       "                   estimator=<tensorflow.python.keras.wrappers.scikit_learn.KerasRegressor object at 0x0000014B2D79BEE0>,\n",
       "                   param_distributions={'learning_rate': <scipy.stats._distn_infrastructure.rv_frozen object at 0x0000014B2FBEA5B0>,\n",
       "                                        'n_hidden': [0, 1, 2, 3],\n",
       "                                        'n_neurons': array([ 1,  2,  3,  4,  5,  6,  7,  8,  9, 10, 11, 12, 13, 14, 15, 16, 17,\n",
       "       18, 19, 20, 21, 22, 23, 24, 25, 26, 27, 28, 29, 30, 31, 32, 33, 34,\n",
       "       35, 36, 37, 38, 39, 40, 41, 42, 43, 44, 45, 46, 47, 48, 49, 50, 51,\n",
       "       52, 53, 54, 55, 56, 57, 58, 59, 60, 61, 62, 63, 64, 65, 66, 67, 68,\n",
       "       69, 70, 71, 72, 73, 74, 75, 76, 77, 78, 79, 80, 81, 82, 83, 84, 85,\n",
       "       86, 87, 88, 89, 90, 91, 92, 93, 94, 95, 96, 97, 98, 99])})"
      ]
     },
     "execution_count": 74,
     "metadata": {},
     "output_type": "execute_result"
    }
   ],
   "source": [
    "from scipy.stats import reciprocal\n",
    "from sklearn.model_selection import RandomizedSearchCV\n",
    "\n",
    "param_distribs = {\n",
    "    \"n_hidden\": [0, 1, 2, 3],\n",
    "    \"n_neurons\": np.arange(1, 100),\n",
    "    \"learning_rate\": reciprocal(3e-4, 3e-2) # 범위 내의 연속적인 역수 반환\n",
    "}\n",
    "\n",
    "rnd_search_cv = RandomizedSearchCV(keras_reg, param_distribs, n_iter=10, cv=2)\n",
    "rnd_search_cv.fit(X_train, y_train, epochs=100, validation_data=(X_valid, y_valid), callbacks=[keras.callbacks.EarlyStopping(patience=10)])"
   ]
  },
  {
   "cell_type": "markdown",
   "metadata": {},
   "source": [
    "> RandomizedSearchCV는 k-fold cross validation을 사용하기 때문에 validation set이 필요없음. 여기서 사용하는 validation set은 조기 종료에 사용."
   ]
  },
  {
   "cell_type": "code",
   "execution_count": 76,
   "metadata": {},
   "outputs": [
    {
     "data": {
      "text/plain": [
       "{'learning_rate': 0.015394102216670189, 'n_hidden': 3, 'n_neurons': 74}"
      ]
     },
     "execution_count": 76,
     "metadata": {},
     "output_type": "execute_result"
    }
   ],
   "source": [
    "rnd_search_cv.best_params_"
   ]
  },
  {
   "cell_type": "code",
   "execution_count": 77,
   "metadata": {},
   "outputs": [
    {
     "data": {
      "text/plain": [
       "-0.35982608795166016"
      ]
     },
     "execution_count": 77,
     "metadata": {},
     "output_type": "execute_result"
    }
   ],
   "source": [
    "rnd_search_cv.best_score_"
   ]
  },
  {
   "cell_type": "code",
   "execution_count": 79,
   "metadata": {},
   "outputs": [],
   "source": [
    "model = rnd_search_cv.best_estimator_.model"
   ]
  },
  {
   "cell_type": "markdown",
   "metadata": {},
   "source": [
    "* 저장된 최적의 모델은 테스트 세트로 평가한 뒤 상용 환경에 배포 가능.\n",
    "* 모델의 크기가 크면 하이퍼파라미터 탐색에 많은 시간이 소요되므로, 여러 효율적인 탐색 기법이 존재. 주로 탐색 지역이 좋다고 판명될 때 더 탐색을 수행하는 방식을 사용.\n",
    "  * 수동으로 탐색 영역을 좁히는 것 보다 훨씬 적은 시간에 더 나은 솔루션을 제공함.\n",
    "  * Hyperopt : 모든 종류의 복잡한 탐색 공간에 대해 최적화를 수행할 수 있는 라이브러리. https://github.com/hyperopt/hyperopt\n",
    "  * Hyperas, kopt, Talos : keras 모델을 위한 하이퍼파라미터 최적화 라이브러리. https://github.com/maxpumperla/hyperas, https://github.com/Avsecz/kopt, https://github.com/autonomio/talos\n",
    "  * Keras tuner : 구글에서 만든 케라스 하이퍼파라미터 최적화 라이브러리. 시각화와 분석을 포함한 클라우드 서비스 제공 예정.\n",
    "  * Scikit-Optimize(skopt) : 범용 최적화 라이브러리. <code>GridSearchCV</code>와 비슷한 인터페이스를 사용하는 <code>BayesSearchCV</code> (베이즈 최적화) 사용 가능.\n",
    "  * Spearmint : 베이즈 최적화 라이브러리.https://github.com/JasperSnoek/spearmint\n",
    "  * Hyperband : 빠른 하이퍼파라미터 튜닝 라이브러리. https://github.com/zygmuntz/hyperband\n",
    "  * Sklearn-Deap : GridSearchCV와 비슷한 인터페이스를 가진 진화 알고리즘 기반 하이퍼파라미터 최적화 라이브러리. https://github.com/rsteca/sklearn-deap\n",
    "* 구글의 AutoML(http://cloud.google.com/automl)과 같은 서비스는 하이퍼파라미터 탐색과 함께 문제에 최적인 신경망 구조를 찾기 위한 진화 전략을 사용함."
   ]
  },
  {
   "cell_type": "markdown",
   "metadata": {},
   "source": [
    "#### 은닉층 개수 설정"
   ]
  },
  {
   "cell_type": "markdown",
   "metadata": {},
   "source": [
    "* 하나의 은닉층만으로도 많은 문제에서 괜찮은 결과를 얻을 수 있음.\n",
    "  * 이론상 은닉층이 하나인 다층 퍼셈트론도 뉴런 수가 충분하면 복잡한 함수도 모델링할 수 있음.\n",
    "* 단, 복잡한 문제에서는 심층 신경망이 파라미터 효율성(parameter efficiency)이 좋음. 즉, 심층 신경망이 복잡한 함수를 모델링하는 데 훨씬 적은 수의 뉴런을 사용하므로 동일한 양의 훈련 데이터에서 더 높은 성능을 낼 수 있음.\n",
    "* 아래쪽 은닉층은 저수준의 구조를 모델링하고, 중간 은닉층은 저수준의 구조를 연결해 중간 수준의 구조를 모델링하고, 위쪽 은닉층과 출력층은 중간 수준의 구조를 연결해 고수준의 구조를 모델링함.\n",
    "  * ex) 여러 방향이나 모양의 선 -> 사각형 또는 원 -> 얼굴\n",
    "* 계층 구조는 심층 신경망이 좋은 솔루션으로 빨리 수렴하게끔 도와주고, 새로운 데이터에 일반화하는 능력도 향상시킴.\n",
    "  * ex) 얼굴 인식 모델 훈련 후, 헤어스타일 인식 모델을 훈련하려면 얼굴 인식 모델의 하위 층을 재사용 할 수 있음.\n",
    "  * 이러한 경우 새로운 신경망(위의 경우 헤어스타일 인식 모델)에서 처음 몇개의 층의 가중치와 편향을 난수로 초기화하는 대신에 첫 번째 신경망(위의 경우 얼굴 인식 모델)에 있는 층의 가중치와 편향값으로 초기화할 수 있음. 이렇게 하면 저수준 구조를 다시 학습할 필요가 없게 되고, 이를 전이 학습(transfer learning)이라고 함.\n",
    "* MNIST데이터셋의 경우 몇백개의 뉴런을 가진 은닉층 1~2개로 97% 정도의 정확도를 얻을 수 있지만 대규모 이미지 분류나 음성 인식 등은 수십 개 층으로 이루어진 네트워크가 필요하고 훈련 데이터가 아주 많이 필요함. 하지만, 이런 경우 네트워크를 처음부터 훈련하기보다는 비슷한 작업에서 가장 뛰어난 성능을 낸 미리 훈련된 네트워크를 일부 재사용함."
   ]
  },
  {
   "cell_type": "markdown",
   "metadata": {},
   "source": [
    "#### 은닉층 뉴런 개수 설정"
   ]
  },
  {
   "cell_type": "markdown",
   "metadata": {},
   "source": [
    "* 입력층과 출력 층의 뉴런 개수는 작업에 필요한 입력과 출력에 따라 결정됨\n",
    "  * ex) MNIST 데이터셋의 경우 28*28=784개의 입력 뉴런과 10개의 출력 뉴런 필요\n",
    "* 은닉층 구성은 일반적으로 각 층의 뉴런을 점점 줄여서 깔때기 모양으로 구성.\n",
    "  * 저수준의 많은 특성이 고수준의 적은 특성으로 합쳐질 수 있기 때문.\n",
    "* 요즘은 대부분의 경우 모든 은닉층에 같은 크기를 사용해도 더 나은 성능이 나오기도 함.\n",
    "  * 데이터셋에 따라 다르지만 다른 은닉층보다 첫 번째 은닉층을 크게 하는 것이 도움됨."
   ]
  },
  {
   "cell_type": "markdown",
   "metadata": {},
   "source": [
    "* 네트워크가 과대적합될때까지 뉴런 수를 점진적으로 늘릴 수 있음.\n",
    "* 실전에서는 필요한 층과 뉴런 수보다 더 많은 것을 가진 모델을 선택하고 과대적합되지 않도록 조기 종료가 규제를 사용하는 것이 효과적.\n",
    "  * 모델에서 문제를 일으키는 병목 층을 피할 수 있음.\n",
    "  * 한 층에 뉴런 수가 너무 적으면 입력에 있는 유용한 정보를 모두 유지하기 위한 표현 능력을 가지지 못할 수 있음.\n",
    "> * 일반적으로 층의 뉴런 수보다 층수를 늘리는 쪽이 이득인 경우가 많음."
   ]
  },
  {
   "cell_type": "markdown",
   "metadata": {},
   "source": [
    "#### 학습률, 배치 크기, 다른 하이퍼파라미터"
   ]
  },
  {
   "cell_type": "markdown",
   "metadata": {},
   "source": [
    "* 학습률 : 가장 중요한 하이퍼파라미터 중 하나. 최적의 학습률은 일반적으로 최대 학습률(훈련 알고리즘이 발산하는 학습률)의 절반 정도.\n",
    "  * 매우 낮은 학습률($10^{-5}$)에서 시작해 점점 매우 큰 학습률로 증가시키며 수백 번 반복하는 것이 하나의 방법. 반복마다 일정한 값을 학습률에 곱함.\n",
    "  * 학습률이 증가함에 따라 손실이 줄어들지만, 어느 순간 손실이 다시 늘어나게 되고, 손실이 다시 상승하는 지점보다 조금 아래에 있는 것이 최적의 학습률(일반적으로 상승점보다 10배정도 낮은 지점). 최적의 학습률을 찾으면 모델을 초기화하고 다시 훈련할 수 있음."
   ]
  },
  {
   "cell_type": "markdown",
   "metadata": {},
   "source": [
    "* Optimizer : 미니배치 경사 하강법보다 더 좋은 optimizer를 사용하는 것이 도움이 될 수 있음."
   ]
  },
  {
   "cell_type": "markdown",
   "metadata": {},
   "source": [
    "* 배치 크기 : 모델 성능과 훈련 시간에 큰 영향을 줌. 배치 크기가 크면 GPU와 같은 하드웨어 가속기를 효율적으로 활용할 수 있음. 즉, 초당 더 많은 샘플을 처리할 수 있음.\n",
    "  * 보통 GPU 램에 맞는 가장 큰 배치 크기 사용이 권장됨.\n",
    "  * 단, 실전에서 큰 배치를 사용하면 특히 훈련 초기에 불안정하게 훈련될 수 있음. 결과 모델이 작은 배치로 훈련된 모델만큼 일반화 성능을 내지 못할 수 있음.\n",
    "* 큰 배치 크기는 일반화 성능에 영향을 끼치지 않고 훈련 시간을 단축함.\n",
    "  * 학습률 예열(warming up, 작은 학습률로 시작해 점점 키우는 것)을 사용해 큰 배치 크기를 시도해보는 것이 좋을 수 있음. 훈련이 불안정하거나 최종 성능이 좋지 못하면 작은 배치 크기 사용.\n",
    "  * <code>compile()</code>의 <code>steps_per_execution</code> 매개변수를 1이상으로 설정하면 한 계산 그래프를 실행하는 데 여러 배치를 처리할 수 있으므로 GPU를 최대로 활용하면서 배치 크기를 바꾸지 않고 훈련 속도를 높일 수 있음."
   ]
  },
  {
   "cell_type": "markdown",
   "metadata": {},
   "source": [
    "* 활성화 함수 : 일반적으로 ReLU가 모든 은닉층에 좋은 기본값. 출력층의 활성화 함수는 작업에 따라 다름."
   ]
  },
  {
   "cell_type": "markdown",
   "metadata": {},
   "source": [
    "* 반복 횟수 : 일반적으로는 튜닝 필요 없음(조기 종료 사용)"
   ]
  },
  {
   "cell_type": "markdown",
   "metadata": {},
   "source": [
    "> https://arxiv.org/abs/1803.09820 참고"
   ]
  },
  {
   "cell_type": "markdown",
   "metadata": {},
   "source": [
    "--------------------------"
   ]
  },
  {
   "cell_type": "markdown",
   "metadata": {},
   "source": [
    "### ex10"
   ]
  },
  {
   "cell_type": "code",
   "execution_count": 1,
   "metadata": {},
   "outputs": [
    {
     "name": "stderr",
     "output_type": "stream",
     "text": [
      "d:\\pythonenv\\mlenv\\lib\\site-packages\\numpy\\_distributor_init.py:30: UserWarning: loaded more than 1 DLL from .libs:\n",
      "d:\\pythonenv\\mlenv\\lib\\site-packages\\numpy\\.libs\\libopenblas.WCDJNK7YVMPZQ2ME2ZZHJJRJ3JIKNDB7.gfortran-win_amd64.dll\n",
      "d:\\pythonenv\\mlenv\\lib\\site-packages\\numpy\\.libs\\libopenblas.XWYDX2IKJW2NMTWSFYNGFUWKQU3LYTCZ.gfortran-win_amd64.dll\n",
      "  warnings.warn(\"loaded more than 1 DLL from .libs:\"\n"
     ]
    }
   ],
   "source": [
    "import tensorflow as tf\n",
    "from tensorflow import keras\n",
    "import numpy as np"
   ]
  },
  {
   "cell_type": "markdown",
   "metadata": {},
   "source": [
    "#### RandomizedSearchCV 사용"
   ]
  },
  {
   "cell_type": "code",
   "execution_count": 34,
   "metadata": {},
   "outputs": [],
   "source": [
    "(X_train, y_train), (X_test, y_test) = keras.datasets.mnist.load_data()"
   ]
  },
  {
   "cell_type": "code",
   "execution_count": 12,
   "metadata": {},
   "outputs": [
    {
     "data": {
      "text/plain": [
       "(60000, 28, 28)"
      ]
     },
     "execution_count": 12,
     "metadata": {},
     "output_type": "execute_result"
    }
   ],
   "source": [
    "X_train.shape"
   ]
  },
  {
   "cell_type": "code",
   "execution_count": 13,
   "metadata": {},
   "outputs": [
    {
     "data": {
      "text/plain": [
       "(60000,)"
      ]
     },
     "execution_count": 13,
     "metadata": {},
     "output_type": "execute_result"
    }
   ],
   "source": [
    "y_train.shape"
   ]
  },
  {
   "cell_type": "code",
   "execution_count": 14,
   "metadata": {},
   "outputs": [
    {
     "data": {
      "text/plain": [
       "(10000, 28, 28)"
      ]
     },
     "execution_count": 14,
     "metadata": {},
     "output_type": "execute_result"
    }
   ],
   "source": [
    "X_test.shape"
   ]
  },
  {
   "cell_type": "code",
   "execution_count": 15,
   "metadata": {},
   "outputs": [
    {
     "data": {
      "text/plain": [
       "(10000,)"
      ]
     },
     "execution_count": 15,
     "metadata": {},
     "output_type": "execute_result"
    }
   ],
   "source": [
    "y_test.shape"
   ]
  },
  {
   "cell_type": "code",
   "execution_count": 3,
   "metadata": {},
   "outputs": [],
   "source": [
    "def build_model(learning_rate=3e-3):\n",
    "    model = keras.models.Sequential()\n",
    "    model.add(keras.layers.Flatten(input_shape=[28, 28]))\n",
    "    model.add(keras.layers.Dense(100, activation=\"relu\"))\n",
    "    model.add(keras.layers.Dense(50, activation=\"relu\"))\n",
    "    model.add(keras.layers.Dense(10, activation=\"softmax\"))\n",
    "    optimizer = keras.optimizers.SGD(lr=learning_rate)\n",
    "    model.compile(loss=\"sparse_categorical_crossentropy\", optimizer=optimizer)\n",
    "    return model"
   ]
  },
  {
   "cell_type": "code",
   "execution_count": 4,
   "metadata": {},
   "outputs": [],
   "source": [
    "keras_reg = keras.wrappers.scikit_learn.KerasRegressor(build_model)"
   ]
  },
  {
   "cell_type": "code",
   "execution_count": null,
   "metadata": {},
   "outputs": [],
   "source": [
    "keras_reg.fit(X_train.reshape(60000, 28*28), y_train, epochs=30)"
   ]
  },
  {
   "cell_type": "code",
   "execution_count": 44,
   "metadata": {},
   "outputs": [],
   "source": [
    "y_pred = keras_reg.predict(X_test.reshape(10000,28*28))"
   ]
  },
  {
   "cell_type": "code",
   "execution_count": 45,
   "metadata": {},
   "outputs": [
    {
     "data": {
      "text/plain": [
       "0.9425"
      ]
     },
     "execution_count": 45,
     "metadata": {},
     "output_type": "execute_result"
    }
   ],
   "source": [
    "from sklearn.metrics import accuracy_score\n",
    "accuracy_score(y_test, np.argmax(y_pred, axis=1))"
   ]
  },
  {
   "cell_type": "code",
   "execution_count": 5,
   "metadata": {},
   "outputs": [
    {
     "name": "stderr",
     "output_type": "stream",
     "text": [
      "<frozen importlib._bootstrap>:219: RuntimeWarning: scipy._lib.messagestream.MessageStream size changed, may indicate binary incompatibility. Expected 56 from C header, got 64 from PyObject\n",
      "d:\\pythonenv\\mlenv\\lib\\site-packages\\tensorflow\\python\\keras\\optimizer_v2\\optimizer_v2.py:374: UserWarning: The `lr` argument is deprecated, use `learning_rate` instead.\n",
      "  warnings.warn(\n"
     ]
    },
    {
     "name": "stdout",
     "output_type": "stream",
     "text": [
      "Epoch 1/30\n",
      "1875/1875 [==============================] - 3s 1ms/step - loss: 1.5224\n",
      "Epoch 2/30\n",
      "1875/1875 [==============================] - 2s 1ms/step - loss: 0.4837\n",
      "Epoch 3/30\n",
      "1875/1875 [==============================] - 2s 1ms/step - loss: 0.3534\n",
      "Epoch 4/30\n",
      "1875/1875 [==============================] - 2s 1ms/step - loss: 0.2874\n",
      "Epoch 5/30\n",
      "1875/1875 [==============================] - 2s 1ms/step - loss: 0.2471\n",
      "Epoch 6/30\n",
      "1875/1875 [==============================] - 2s 1ms/step - loss: 0.2173\n",
      "Epoch 7/30\n",
      "1875/1875 [==============================] - 2s 1ms/step - loss: 0.1966\n",
      "Epoch 8/30\n",
      "1875/1875 [==============================] - 2s 1ms/step - loss: 0.1800\n",
      "Epoch 9/30\n",
      "1875/1875 [==============================] - 2s 1ms/step - loss: 0.1665\n",
      "Epoch 10/30\n",
      "1875/1875 [==============================] - 2s 1ms/step - loss: 0.1568\n",
      "Epoch 11/30\n",
      "1875/1875 [==============================] - 2s 1ms/step - loss: 0.1469\n",
      "Epoch 12/30\n",
      "1875/1875 [==============================] - 2s 1ms/step - loss: 0.1388\n",
      "Epoch 13/30\n",
      "1875/1875 [==============================] - 2s 1ms/step - loss: 0.1314\n",
      "Epoch 14/30\n",
      "1875/1875 [==============================] - 2s 1ms/step - loss: 0.1252\n",
      "Epoch 15/30\n",
      "1875/1875 [==============================] - 2s 1ms/step - loss: 0.1192\n",
      "Epoch 16/30\n",
      "1875/1875 [==============================] - 2s 1ms/step - loss: 0.1153\n",
      "Epoch 17/30\n",
      "1875/1875 [==============================] - 2s 1ms/step - loss: 0.1093\n",
      "Epoch 18/30\n",
      "1875/1875 [==============================] - 2s 1ms/step - loss: 0.1047\n",
      "Epoch 19/30\n",
      "1875/1875 [==============================] - 2s 1ms/step - loss: 0.1008\n",
      "Epoch 20/30\n",
      "1875/1875 [==============================] - 2s 1ms/step - loss: 0.0971\n",
      "Epoch 21/30\n",
      "1875/1875 [==============================] - 2s 1ms/step - loss: 0.0935\n",
      "Epoch 22/30\n",
      "1875/1875 [==============================] - 2s 1ms/step - loss: 0.0904\n",
      "Epoch 23/30\n",
      "1875/1875 [==============================] - 2s 1ms/step - loss: 0.0874\n",
      "Epoch 24/30\n",
      "1875/1875 [==============================] - 2s 1ms/step - loss: 0.0843\n",
      "Epoch 25/30\n",
      "1875/1875 [==============================] - 2s 1ms/step - loss: 0.0807\n",
      "Epoch 26/30\n",
      "1875/1875 [==============================] - 2s 1ms/step - loss: 0.0788\n",
      "Epoch 27/30\n",
      "1875/1875 [==============================] - 2s 1ms/step - loss: 0.0764\n",
      "Epoch 28/30\n",
      "1875/1875 [==============================] - 2s 1ms/step - loss: 0.0732\n",
      "Epoch 29/30\n",
      "1875/1875 [==============================] - 2s 1ms/step - loss: 0.0709\n",
      "Epoch 30/30\n",
      "1875/1875 [==============================] - 2s 1ms/step - loss: 0.0692\n"
     ]
    },
    {
     "data": {
      "text/plain": [
       "RandomizedSearchCV(cv=3,\n",
       "                   estimator=<tensorflow.python.keras.wrappers.scikit_learn.KerasRegressor object at 0x000001A6480A42E0>,\n",
       "                   n_jobs=-1,\n",
       "                   param_distributions={'learning_rate': <scipy.stats._distn_infrastructure.rv_frozen object at 0x000001A6480A4820>})"
      ]
     },
     "execution_count": 5,
     "metadata": {},
     "output_type": "execute_result"
    }
   ],
   "source": [
    "from scipy.stats import reciprocal\n",
    "from sklearn.model_selection import RandomizedSearchCV\n",
    "\n",
    "param_distribs = {\n",
    "    \"learning_rate\": reciprocal(1e-5, 1e-2)\n",
    "}\n",
    "\n",
    "search_cv = RandomizedSearchCV(keras_reg, param_distribs, n_iter=10, cv=3, n_jobs=-1)\n",
    "search_cv.fit(X_train, y_train, epochs=30)"
   ]
  },
  {
   "cell_type": "code",
   "execution_count": 8,
   "metadata": {},
   "outputs": [],
   "source": [
    "y_pred = search_cv.best_estimator_.model.predict(X_test)"
   ]
  },
  {
   "cell_type": "code",
   "execution_count": 12,
   "metadata": {},
   "outputs": [
    {
     "data": {
      "text/plain": [
       "0.9556"
      ]
     },
     "execution_count": 12,
     "metadata": {},
     "output_type": "execute_result"
    }
   ],
   "source": [
    "from sklearn.metrics import accuracy_score\n",
    "accuracy_score(np.argmax(y_pred, axis=1), y_test)"
   ]
  },
  {
   "cell_type": "code",
   "execution_count": 13,
   "metadata": {},
   "outputs": [
    {
     "data": {
      "text/plain": [
       "{'learning_rate': 0.0011742217529897762}"
      ]
     },
     "execution_count": 13,
     "metadata": {},
     "output_type": "execute_result"
    }
   ],
   "source": [
    "search_cv.best_params_"
   ]
  },
  {
   "cell_type": "markdown",
   "metadata": {},
   "source": [
    "#### callback 사용"
   ]
  },
  {
   "cell_type": "code",
   "execution_count": 19,
   "metadata": {},
   "outputs": [],
   "source": [
    "# from https://github.com/rickiepark/handson-ml2/blob/master/10_neural_nets_with_keras.ipynb\n",
    "K = keras.backend\n",
    "class ExponentialLrCallback(keras.callbacks.Callback):\n",
    "    def __init__(self, factor):\n",
    "        self.factor = factor\n",
    "        self.lr = []\n",
    "        self.losses = []\n",
    "    def on_batch_end(self, batch, logs):\n",
    "        self.lr.append(K.get_value(self.model.optimizer.lr))\n",
    "        self.losses.append(logs[\"loss\"])\n",
    "        K.set_value(self.model.optimizer.lr, self.model.optimizer.lr * self.factor)"
   ]
  },
  {
   "cell_type": "code",
   "execution_count": 20,
   "metadata": {},
   "outputs": [],
   "source": [
    "keras.backend.clear_session()"
   ]
  },
  {
   "cell_type": "code",
   "execution_count": 35,
   "metadata": {},
   "outputs": [],
   "source": [
    "model = keras.models.Sequential([\n",
    "    keras.layers.Flatten(input_shape=[28, 28]),\n",
    "    keras.layers.Dense(300, activation=\"relu\"),\n",
    "    keras.layers.Dense(100, activation=\"relu\"),\n",
    "    keras.layers.Dense(10, activation=\"softmax\"),\n",
    "])\n",
    "\n",
    "model.compile(loss=\"sparse_categorical_crossentropy\",\n",
    "              optimizer=keras.optimizers.SGD(learning_rate=1e-3),\n",
    "              metrics=[\"accuracy\"])\n",
    "\n",
    "expon_lr = ExponentialLrCallback(1.005)"
   ]
  },
  {
   "cell_type": "code",
   "execution_count": 40,
   "metadata": {},
   "outputs": [
    {
     "name": "stdout",
     "output_type": "stream",
     "text": [
      "1875/1875 [==============================] - 6s 3ms/step - loss: nan - accuracy: 0.0987\n"
     ]
    }
   ],
   "source": [
    "history = model.fit(X_train/255, y_train, epochs=1,\n",
    "                    callbacks=[expon_lr])"
   ]
  },
  {
   "cell_type": "code",
   "execution_count": 41,
   "metadata": {},
   "outputs": [
    {
     "data": {
      "text/plain": [
       "Text(0, 0.5, 'Loss')"
      ]
     },
     "execution_count": 41,
     "metadata": {},
     "output_type": "execute_result"
    },
    {
     "data": {
      "image/png": "[encoded data removed]",
      "text/plain": [
       "<Figure size 432x288 with 1 Axes>"
      ]
     },
     "metadata": {
      "needs_background": "light"
     },
     "output_type": "display_data"
    }
   ],
   "source": [
    "import matplotlib.pyplot as plt\n",
    "\n",
    "plt.plot(expon_lr.lr, expon_lr.losses, 'r-')\n",
    "plt.gca().set_xscale('log')\n",
    "plt.hlines(min(expon_lr.losses), min(expon_lr.lr), max(expon_lr.lr))\n",
    "plt.axis([min(expon_lr.lr), max(expon_lr.lr), 0, expon_lr.losses[0]])\n",
    "plt.grid()\n",
    "plt.xlabel(\"Learning rate\")\n",
    "plt.ylabel(\"Loss\")"
   ]
  },
  {
   "cell_type": "code",
   "execution_count": 43,
   "metadata": {},
   "outputs": [],
   "source": [
    "model_new = keras.models.Sequential([\n",
    "    keras.layers.Flatten(input_shape=[28, 28]),\n",
    "    keras.layers.Dense(300, activation=\"relu\"),\n",
    "    keras.layers.Dense(100, activation=\"relu\"),\n",
    "    keras.layers.Dense(10, activation=\"softmax\"),\n",
    "])\n",
    "\n",
    "model_new.compile(loss=\"sparse_categorical_crossentropy\",\n",
    "              optimizer=keras.optimizers.SGD(learning_rate=9e-1),\n",
    "              metrics=[\"accuracy\"])"
   ]
  },
  {
   "cell_type": "code",
   "execution_count": 45,
   "metadata": {},
   "outputs": [
    {
     "name": "stdout",
     "output_type": "stream",
     "text": [
      "Epoch 1/30\n",
      "1875/1875 [==============================] - 4s 2ms/step - loss: nan - accuracy: 0.0987\n",
      "Epoch 2/30\n",
      "1875/1875 [==============================] - 4s 2ms/step - loss: nan - accuracy: 0.0987\n",
      "Epoch 3/30\n",
      "1875/1875 [==============================] - 4s 2ms/step - loss: nan - accuracy: 0.0987A: 1s -\n",
      "Epoch 4/30\n",
      "1875/1875 [==============================] - 4s 2ms/step - loss: nan - accuracy: 0.0987\n",
      "Epoch 5/30\n",
      "1875/1875 [==============================] - 4s 2ms/step - loss: nan - accuracy: 0.0987\n",
      "Epoch 6/30\n",
      "1875/1875 [==============================] - 4s 2ms/step - loss: nan - accuracy: 0.0987\n",
      "Epoch 7/30\n",
      "1875/1875 [==============================] - 4s 2ms/step - loss: nan - accuracy: 0.0987\n",
      "Epoch 8/30\n",
      "1875/1875 [==============================] - 4s 2ms/step - loss: nan - accuracy: 0.0987\n",
      "Epoch 9/30\n",
      "1875/1875 [==============================] - 4s 2ms/step - loss: nan - accuracy: 0.0987\n",
      "Epoch 10/30\n",
      "1875/1875 [==============================] - 4s 2ms/step - loss: nan - accuracy: 0.0987A: 0s - loss: nan - accuracy: 0.098\n",
      "Epoch 11/30\n",
      "1875/1875 [==============================] - 4s 2ms/step - loss: nan - accuracy: 0.0987\n",
      "Epoch 12/30\n",
      "1875/1875 [==============================] - 4s 2ms/step - loss: nan - accuracy: 0.0987\n",
      "Epoch 13/30\n",
      "1875/1875 [==============================] - 4s 2ms/step - loss: nan - accuracy: 0.0987\n",
      "Epoch 14/30\n",
      "1875/1875 [==============================] - 4s 2ms/step - loss: nan - accuracy: 0.0987\n",
      "Epoch 15/30\n",
      "1875/1875 [==============================] - 4s 2ms/step - loss: nan - accuracy: 0.0987\n",
      "Epoch 16/30\n",
      "1875/1875 [==============================] - 4s 2ms/step - loss: nan - accuracy: 0.0987A: 0s - loss: nan - accuracy: 0.098\n",
      "Epoch 17/30\n",
      "1875/1875 [==============================] - 4s 2ms/step - loss: nan - accuracy: 0.0987\n",
      "Epoch 18/30\n",
      "1875/1875 [==============================] - 4s 2ms/step - loss: nan - accuracy: 0.0987\n",
      "Epoch 19/30\n",
      "1875/1875 [==============================] - 4s 2ms/step - loss: nan - accuracy: 0.0987\n",
      "Epoch 20/30\n",
      "1875/1875 [==============================] - 4s 2ms/step - loss: nan - accuracy: 0.0987\n",
      "Epoch 21/30\n",
      "1875/1875 [==============================] - 4s 2ms/step - loss: nan - accuracy: 0.0987\n",
      "Epoch 22/30\n",
      "1875/1875 [==============================] - 4s 2ms/step - loss: nan - accuracy: 0.0987\n",
      "Epoch 23/30\n",
      "1875/1875 [==============================] - 4s 2ms/step - loss: nan - accuracy: 0.0987\n",
      "Epoch 24/30\n",
      "1875/1875 [==============================] - 4s 2ms/step - loss: nan - accuracy: 0.0987\n",
      "Epoch 25/30\n",
      "1875/1875 [==============================] - 4s 2ms/step - loss: nan - accuracy: 0.0987A: 0s - loss: nan - accu\n",
      "Epoch 26/30\n",
      "1875/1875 [==============================] - 5s 2ms/step - loss: nan - accuracy: 0.0987\n",
      "Epoch 27/30\n",
      "1875/1875 [==============================] - 4s 2ms/step - loss: nan - accuracy: 0.0987\n",
      "Epoch 28/30\n",
      "1875/1875 [==============================] - 4s 2ms/step - loss: nan - accuracy: 0.0987\n",
      "Epoch 29/30\n",
      "1875/1875 [==============================] - 4s 2ms/step - loss: nan - accuracy: 0.0987\n",
      "Epoch 30/30\n",
      "1875/1875 [==============================] - 5s 3ms/step - loss: nan - accuracy: 0.0987\n"
     ]
    }
   ],
   "source": [
    "history = model_new.fit(X_train/255, y_train, epochs=30)"
   ]
  },
  {
   "cell_type": "code",
   "execution_count": 46,
   "metadata": {},
   "outputs": [
    {
     "name": "stdout",
     "output_type": "stream",
     "text": [
      "313/313 [==============================] - 1s 1ms/step - loss: nan - accuracy: 0.0980\n"
     ]
    },
    {
     "data": {
      "text/plain": [
       "[nan, 0.09799999743700027]"
      ]
     },
     "execution_count": 46,
     "metadata": {},
     "output_type": "execute_result"
    }
   ],
   "source": [
    "model.evaluate(X_test, y_test)"
   ]
  }
 ],
 "metadata": {
  "interpreter": {
   "hash": "e4211a37325b67dc4346d743008529599135417ca8cd1eae7178b10ad33111a2"
  },
  "kernelspec": {
   "display_name": "Python 3.8.3 ('mlenv')",
   "language": "python",
   "name": "python3"
  },
  "language_info": {
   "codemirror_mode": {
    "name": "ipython",
    "version": 3
   },
   "file_extension": ".py",
   "mimetype": "text/x-python",
   "name": "python",
   "nbconvert_exporter": "python",
   "pygments_lexer": "ipython3",
   "version": "3.8.3"
  },
  "orig_nbformat": 4
 },
 "nbformat": 4,
 "nbformat_minor": 2
}
