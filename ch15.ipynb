{
 "cells": [
  {
   "attachments": {},
   "cell_type": "markdown",
   "metadata": {},
   "source": [
    "## Chapter 15"
   ]
  },
  {
   "attachments": {},
   "cell_type": "markdown",
   "metadata": {},
   "source": [
    "* RNN(Recurrent neural network) : 미래를 예측할 수 있는 순환 신경망. 임의 길이를 가진 시퀀스(시계열 데이터)를 다룰 수 있음.\n",
    "  * 문장, 문서, 오디오 샘플을 입력으로 받을 수 있고, 자동 번역, 자연어 처리 등에 유용"
   ]
  },
  {
   "attachments": {},
   "cell_type": "markdown",
   "metadata": {},
   "source": [
    "### 순환 뉴런과 순환 층"
   ]
  },
  {
   "attachments": {},
   "cell_type": "markdown",
   "metadata": {},
   "source": [
    "* 순환 신경망은 활성화 신호가 입력 -> 출력 방향으로만 흐르지 않고, 뒤쪽으로 순환하는 연결도 존재.\n",
    "* 각 time step(또는 frame) $t$마다, 순환 뉴런은 $\\mathbf{x}_{(t)}$와 이전 time step의 출력인 $y_{(t-1)}$을 입력으로 받음\n",
    "  * 첫 번째 time step은 이전 출력이 없으므로 이전 출력값을 0으로 설정함.\n",
    "  * 이러한 형태의 내트워크를 시간을 축으로 하여 표현할 수 있고, 이를 시간에 따라 네트워크를 펼쳤다고 한다.\n",
    "* 각 순환 뉴런은 입력과 이전 time step의 출력을 위한 가중치를 각각 가짐($\\mathbf{w}_x$, $\\mathbf{w}_y$)\n",
    "* 순환 층 전체의 출력 벡터는 $\\mathbf{y}_{(t)}=\\phi \\left(\\mathbf{W}_x^T\\mathbf{x}_{(t)}+\\mathbf{W}_y^T\\mathbf{y}_{(t-1)}+\\mathbf{b}\\right)$가 된다.($\\phi$는 활성화 함수)"
   ]
  },
  {
   "attachments": {},
   "cell_type": "markdown",
   "metadata": {},
   "source": [
    "* time step에 걸쳐 어떤 상태를 보존하는 신경망의 구조를 **메모리 셀**이라고 함.\n",
    "* 하나의 순환 뉴런이나 순환 뉴런의 층은 짧은 패턴만 학습할 수 있음.\n",
    "  * 보통 RNN에서 셀은 FCN에서의 층을 의미\n",
    "* time step $t$에서의 셀의 상태는 그 time step의 입력과 이전 time step의 상태에 대한 함수 $\\mathbf{h}_{(t)}=f(\\mathbf{h}_{(t-1)}, \\mathbf{x}_{(t)})$이다.\n",
    "* 간단한 셀의 경우, 출력이 각 셀의 입력으로 들어가지만, 복잡한 셀의 경우 출력 대신 셀의 상태 $\\mathbf{h}$가 셀로 들어갈 수도 있음."
   ]
  },
  {
   "attachments": {},
   "cell_type": "markdown",
   "metadata": {},
   "source": [
    "* RNN은 입력 시퀀스를 받아 출력 시퀀스를 만들 수 있고, 이를 Sequence-to-Sequence Network라고 함.\n",
    "  * ex) 주식 가격 시계열 데이터를 주입하면, 네트워크는 각 입력값보다 하루 앞선 가격을 출력(즉, N일치의 주식 가격을 입력하면 N-1일 전부터 내일까지 가격을 출력)\n",
    "* 또는, 입력 시퀀스를 받았을 때 마지막을 제외한 모든 출력을 무시할 수 있고, 이를 Sequence-to-Vector Network라고 함.\n",
    "  * ex) 영화 리뷰에 있는 연속된 단어들을 넣었을 때 평가 점수를 출력\n",
    "* 반대로, 벡터를 반복해서 네트워크에 넣고, 하나의 시퀀스를 출력할 수 있는데, 이를 Vector-to-Sequence Network라고 함.\n",
    "  * ex) 이미지를 입력해 이미지에 대한 캡션 출력\n",
    "* Encoder라고 부르는 Sequence-to-Vector 네트워크 뒤에, Decoder라고 부르는 Vector-to-Sequence Network를 연결할 수 있음. 이를 인코더-디코더라고 함.\n",
    "  * ex) 한 언어의 문장을 다른 언어로 번역하는 데 사용. 한 문장을 네트워크에 넣으면 하나의 vector 표현으로 바꾸고, 디코더가 이를 다른 언어의 문장으로 디코딩.\n",
    "  * 문장의 마지막 단어가 번역의 첫 번째 단어에 영향을 줄 수 있으므로 Sequence-to-Sequence로 한 단어씩 번역하는 것 보다 더 잘 작동함."
   ]
  },
  {
   "attachments": {},
   "cell_type": "markdown",
   "metadata": {},
   "source": [
    "### RNN 훈련하기"
   ]
  },
  {
   "attachments": {},
   "cell_type": "markdown",
   "metadata": {},
   "source": [
    "* RNN을 time step으로 펼치고, 일반적인 역전파를 사용할 수 있음(**BPTT**(backpropagation through time))\n",
    "  * 첫 번째 정방향 패스가 펼쳐진 네트워크를 통과한 뒤, 비용 함수 $C(\\mathbf{Y}_{(0)}, \\mathbf{Y}_{(1)}, \\cdots , \\mathbf{Y}_{(T)})$를 출력하여 출력 시퀀스가 평가됨. 이때, 일부 출력은 무시될 수 있음.\n",
    "  * 이후, 비용 함수의 gradient는 네트워크를 따라 역방향으로 전파되고, 계산된 gradient를 사용하여 모델 파라미터를 업데이트.\n",
    "  * 비용 함수의 gradient는 비용 함수 계산에 사용된 출력들로만 역방향으로 전파됨."
   ]
  },
  {
   "attachments": {},
   "cell_type": "markdown",
   "metadata": {},
   "source": [
    "### 시계열 예측"
   ]
  },
  {
   "attachments": {},
   "cell_type": "markdown",
   "metadata": {},
   "source": [
    "* 시간당 접속 이용자 수, 도시의 날짜별 온도 등 time step마다 하나 이상의 값을 가진 시퀀스를 **시계열**(time series)이라고 함.\n",
    "  * time step마다 하나의 값을 가지면 단변량 시계열, 여러 값을 가지면 다변량 시계열\n",
    "  * 시계열에서 미래의 값을 예측하는 것을 forecast라고 하고, 과거 데이터로부터 누락된 값을 예측하는 것을 imputation(값 대체)이라고 함."
   ]
  },
  {
   "cell_type": "code",
   "execution_count": 3,
   "metadata": {},
   "outputs": [],
   "source": [
    "import numpy as np\n",
    "\n",
    "def generate_time_series(batch_size, n_steps):\n",
    "    freq1, freq2, offsets1, offsets2 = np.random.rand(4, batch_size, 1)\n",
    "    time = np.linspace(0, 1, n_steps)\n",
    "    series = 0.5 * np.sin((time - offsets1) * (freq1 * 10 + 10))    # sin 곡선1\n",
    "    series += 0.2 * np.sin((time - offsets2) * (freq2 * 20 + 20))   # sin 곡선2\n",
    "    series += 0.1 * (np.random.rand(batch_size, n_steps) - 0.5)     # 잡음\n",
    "    return series[..., np.newaxis].astype(np.float32)"
   ]
  },
  {
   "attachments": {},
   "cell_type": "markdown",
   "metadata": {},
   "source": [
    "> 지정한 batch_size만큼 n_steps길이의 여러 시계열 생성. 크기는 `[배치 크기, time step의 수, 1]`"
   ]
  },
  {
   "cell_type": "code",
   "execution_count": 4,
   "metadata": {},
   "outputs": [],
   "source": [
    "n_steps = 50\n",
    "series = generate_time_series(10000, n_steps+1)\n",
    "X_train, y_train = series[:7000, :n_steps], series[:7000, -1]\n",
    "X_valid, y_valid = series[7000:9000, :n_steps], series[7000:9000, -1]\n",
    "X_test, y_test = series[9000:, :n_steps], series[9000:, -1]"
   ]
  },
  {
   "cell_type": "code",
   "execution_count": 17,
   "metadata": {},
   "outputs": [],
   "source": [
    "import matplotlib.pyplot as plt\n",
    "\n",
    "def plot_series(series, y=None, y_pred=None, x_label=\"$t$\", y_label=\"$x(t)$\", legend=True):\n",
    "    plt.plot(series, \".-\")\n",
    "    if y is not None:\n",
    "        plt.plot(n_steps, y, \"bo\", label=\"Target\")\n",
    "    if y_pred is not None:\n",
    "        plt.plot(n_steps, y_pred, \"rx\", markersize=10, label=\"Prediction\")\n",
    "    plt.grid(True)\n",
    "    if x_label:\n",
    "        plt.xlabel(x_label, fontsize=16)\n",
    "    if y_label:\n",
    "        plt.ylabel(y_label, fontsize=16, rotation=0)\n",
    "    plt.hlines(0, 0, 100, linewidth=1)\n",
    "    plt.axis([0, n_steps + 1, -1, 1])\n",
    "    if legend and (y or y_pred):\n",
    "        plt.legend(fontsize=14, loc=\"upper left\")"
   ]
  },
  {
   "attachments": {},
   "cell_type": "markdown",
   "metadata": {},
   "source": [
    "* train set은 7000개의 길이 50 시계열을 담고, validation set은 2000개, test set은 1000개의 데이터를 담음.\n",
    "* 각 시계열마다 하나의 값을 예측해야 하므로 target은 열 벡터가 됨(즉, `y_train`은 `[7000, 1]` 크기)"
   ]
  },
  {
   "attachments": {},
   "cell_type": "markdown",
   "metadata": {},
   "source": [
    "* RNN을 평가하기 위해 기준 성능을 준비하는 것이 좋음. 가장 간단한 방법으로는 시계열의 마지막 값을 그대로 예측하는 순진한 예측(naive forecasting)을 사용할 수 있음."
   ]
  },
  {
   "cell_type": "code",
   "execution_count": 5,
   "metadata": {},
   "outputs": [
    {
     "data": {
      "text/plain": [
       "0.021171745"
      ]
     },
     "execution_count": 5,
     "metadata": {},
     "output_type": "execute_result"
    }
   ],
   "source": [
    "import tensorflow as tf\n",
    "from tensorflow import keras\n",
    "\n",
    "y_pred = X_valid[:, -1]\n",
    "np.mean(keras.losses.mean_squared_error(y_valid, y_pred))"
   ]
  },
  {
   "attachments": {},
   "cell_type": "markdown",
   "metadata": {},
   "source": [
    "* 또는 완전 연결 네트워크를 이용할 수 있음.\n",
    "* 입력으로 1차원 vector가 필요하므로 `Flatten`층 사용"
   ]
  },
  {
   "cell_type": "code",
   "execution_count": 6,
   "metadata": {},
   "outputs": [
    {
     "name": "stdout",
     "output_type": "stream",
     "text": [
      "Epoch 1/20\n",
      "219/219 [==============================] - 2s 2ms/step - loss: 0.1048 - val_loss: 0.0564\n",
      "Epoch 2/20\n",
      "219/219 [==============================] - 0s 1ms/step - loss: 0.0399 - val_loss: 0.0281\n",
      "Epoch 3/20\n",
      "219/219 [==============================] - 0s 1ms/step - loss: 0.0215 - val_loss: 0.0166\n",
      "Epoch 4/20\n",
      "219/219 [==============================] - 0s 1ms/step - loss: 0.0138 - val_loss: 0.0120\n",
      "Epoch 5/20\n",
      "219/219 [==============================] - 0s 995us/step - loss: 0.0107 - val_loss: 0.0100\n",
      "Epoch 6/20\n",
      "219/219 [==============================] - 0s 1ms/step - loss: 0.0091 - val_loss: 0.0088\n",
      "Epoch 7/20\n",
      "219/219 [==============================] - 0s 1ms/step - loss: 0.0082 - val_loss: 0.0081\n",
      "Epoch 8/20\n",
      "219/219 [==============================] - 0s 917us/step - loss: 0.0074 - val_loss: 0.0073\n",
      "Epoch 9/20\n",
      "219/219 [==============================] - 0s 1ms/step - loss: 0.0068 - val_loss: 0.0068\n",
      "Epoch 10/20\n",
      "219/219 [==============================] - 0s 1ms/step - loss: 0.0063 - val_loss: 0.0063\n",
      "Epoch 11/20\n",
      "219/219 [==============================] - 0s 1ms/step - loss: 0.0059 - val_loss: 0.0060\n",
      "Epoch 12/20\n",
      "219/219 [==============================] - 0s 1ms/step - loss: 0.0055 - val_loss: 0.0055\n",
      "Epoch 13/20\n",
      "219/219 [==============================] - 0s 982us/step - loss: 0.0052 - val_loss: 0.0053\n",
      "Epoch 14/20\n",
      "219/219 [==============================] - 0s 1ms/step - loss: 0.0050 - val_loss: 0.0050\n",
      "Epoch 15/20\n",
      "219/219 [==============================] - 0s 1ms/step - loss: 0.0048 - val_loss: 0.0049\n",
      "Epoch 16/20\n",
      "219/219 [==============================] - 0s 1ms/step - loss: 0.0047 - val_loss: 0.0046\n",
      "Epoch 17/20\n",
      "219/219 [==============================] - 0s 1ms/step - loss: 0.0045 - val_loss: 0.0046\n",
      "Epoch 18/20\n",
      "219/219 [==============================] - 0s 1ms/step - loss: 0.0044 - val_loss: 0.0044\n",
      "Epoch 19/20\n",
      "219/219 [==============================] - 0s 1ms/step - loss: 0.0043 - val_loss: 0.0043\n",
      "Epoch 20/20\n",
      "219/219 [==============================] - 0s 1ms/step - loss: 0.0042 - val_loss: 0.0042\n"
     ]
    }
   ],
   "source": [
    "np.random.seed(42)\n",
    "tf.random.set_seed(42)\n",
    "\n",
    "model = keras.models.Sequential([\n",
    "    keras.layers.Flatten(input_shape=[50, 1]),\n",
    "    keras.layers.Dense(1)\n",
    "])\n",
    "\n",
    "model.compile(loss=\"mse\", optimizer=\"adam\")\n",
    "history = model.fit(X_train, y_train, epochs=20,\n",
    "                    validation_data=(X_valid, y_valid))"
   ]
  },
  {
   "cell_type": "code",
   "execution_count": 7,
   "metadata": {},
   "outputs": [
    {
     "name": "stdout",
     "output_type": "stream",
     "text": [
      "63/63 [==============================] - 0s 758us/step - loss: 0.0042\n"
     ]
    },
    {
     "data": {
      "text/plain": [
       "0.004186415113508701"
      ]
     },
     "execution_count": 7,
     "metadata": {},
     "output_type": "execute_result"
    }
   ],
   "source": [
    "model.evaluate(X_valid, y_valid)"
   ]
  },
  {
   "attachments": {},
   "cell_type": "markdown",
   "metadata": {},
   "source": [
    "* 다음으로, RNN을 사용하여 예측\n",
    "* 아래의 코드는 하나의 뉴런으로 이루어진 하나의 층을 가짐.\n",
    "* 순환 신경망은 어떤 길이의 time step도 처리할 수 있으므로 첫 번째 입력 차원은 `None`.\n",
    "* `SimpleRNN`층은 활성화 함수로 tanh를 사용.\n",
    "* 초기 상태 $h_{(init)}$을 0으로 설정하고, 첫 번째 time step $x_{0}$와 함께 하나의 순환 뉴런으로 전달. 뉴런은 갖우치 합을 계산하고, tanh를 적용하여 $y_0$를 출력하고, 기본 RNN에서는 이 출력이 새로운 상태 $h_0$가 됨. $h_0$는 다음 입력 값 $x_{(1)}$과 함꼐 동일한 순환 뉴런으로 전달. 이것이 마지막 time step까지 반복.\n",
    "  * 보통 kears의 순환 층은 최종 출력만 반환하므로 time step마다 출력하려면 `return_sequence=True`로 지정해야 함."
   ]
  },
  {
   "cell_type": "code",
   "execution_count": 9,
   "metadata": {},
   "outputs": [
    {
     "name": "stdout",
     "output_type": "stream",
     "text": [
      "Epoch 1/20\n",
      "219/219 [==============================] - 3s 8ms/step - loss: 0.2260 - val_loss: 0.1527\n",
      "Epoch 2/20\n",
      "219/219 [==============================] - 1s 6ms/step - loss: 0.1042 - val_loss: 0.0768\n",
      "Epoch 3/20\n",
      "219/219 [==============================] - 1s 6ms/step - loss: 0.0669 - val_loss: 0.0601\n",
      "Epoch 4/20\n",
      "219/219 [==============================] - 1s 6ms/step - loss: 0.0553 - val_loss: 0.0512\n",
      "Epoch 5/20\n",
      "219/219 [==============================] - 1s 7ms/step - loss: 0.0473 - val_loss: 0.0444\n",
      "Epoch 6/20\n",
      "219/219 [==============================] - 1s 6ms/step - loss: 0.0412 - val_loss: 0.0393\n",
      "Epoch 7/20\n",
      "219/219 [==============================] - 1s 6ms/step - loss: 0.0365 - val_loss: 0.0351\n",
      "Epoch 8/20\n",
      "219/219 [==============================] - 1s 6ms/step - loss: 0.0326 - val_loss: 0.0317\n",
      "Epoch 9/20\n",
      "219/219 [==============================] - 1s 7ms/step - loss: 0.0295 - val_loss: 0.0288\n",
      "Epoch 10/20\n",
      "219/219 [==============================] - 1s 6ms/step - loss: 0.0269 - val_loss: 0.0265\n",
      "Epoch 11/20\n",
      "219/219 [==============================] - 1s 7ms/step - loss: 0.0247 - val_loss: 0.0244\n",
      "Epoch 12/20\n",
      "219/219 [==============================] - 1s 6ms/step - loss: 0.0228 - val_loss: 0.0226\n",
      "Epoch 13/20\n",
      "219/219 [==============================] - 1s 7ms/step - loss: 0.0211 - val_loss: 0.0211\n",
      "Epoch 14/20\n",
      "219/219 [==============================] - 1s 6ms/step - loss: 0.0197 - val_loss: 0.0198\n",
      "Epoch 15/20\n",
      "219/219 [==============================] - 1s 7ms/step - loss: 0.0185 - val_loss: 0.0186\n",
      "Epoch 16/20\n",
      "219/219 [==============================] - 1s 6ms/step - loss: 0.0174 - val_loss: 0.0175\n",
      "Epoch 17/20\n",
      "219/219 [==============================] - 1s 7ms/step - loss: 0.0164 - val_loss: 0.0166\n",
      "Epoch 18/20\n",
      "219/219 [==============================] - 1s 6ms/step - loss: 0.0156 - val_loss: 0.0158\n",
      "Epoch 19/20\n",
      "219/219 [==============================] - 1s 7ms/step - loss: 0.0148 - val_loss: 0.0151\n",
      "Epoch 20/20\n",
      "219/219 [==============================] - 1s 6ms/step - loss: 0.0141 - val_loss: 0.0144\n"
     ]
    }
   ],
   "source": [
    "model = keras.models.Sequential([\n",
    "    keras.layers.SimpleRNN(1, input_shape=[None, 1])    # 1은 unit 수. unit수가 20이라면 (8, 2000, 1)크기의 입력에 대한 출력은 (8, 2000, 20)\n",
    "])\n",
    "\n",
    "model.compile(loss=\"mse\", optimizer=\"adam\")\n",
    "history = model.fit(X_train, y_train, epochs=20,\n",
    "                    validation_data=(X_valid, y_valid))"
   ]
  },
  {
   "cell_type": "code",
   "execution_count": 10,
   "metadata": {},
   "outputs": [
    {
     "name": "stdout",
     "output_type": "stream",
     "text": [
      "63/63 [==============================] - 0s 3ms/step - loss: 0.0144\n"
     ]
    },
    {
     "data": {
      "text/plain": [
       "0.014405753463506699"
      ]
     },
     "execution_count": 10,
     "metadata": {},
     "output_type": "execute_result"
    }
   ],
   "source": [
    "model.evaluate(X_valid, y_valid)"
   ]
  },
  {
   "attachments": {},
   "cell_type": "markdown",
   "metadata": {},
   "source": [
    "* 순진한 예측보다는 낫지만, 간단한 선형 모델보다는 나쁨."
   ]
  },
  {
   "attachments": {},
   "cell_type": "markdown",
   "metadata": {},
   "source": [
    "> 가중 이동 평균, 자동 회귀 누적 이동 평균(ARIMA) 등 시계열을 예측하는 다양한 방법이 존재하고, 이 중 일부는 트렌드나 계절성을 제거해야 함. 예를 들어, 어떤 웹사이트에서 매달 10%씩 접속자 수가 증가한다면, 이러한 트렌드를 삭제하고 예측한 뒤, 최종 예측에 다시 트렌드를 더해야 함. 만약, 선크림 판매량을 예측한다면 선크림은 여름에 더 잘팔리므로 이러한 계절성을 삭제해야 함.  \n",
    "> RNN에는 이러한 작업이 필요없음"
   ]
  },
  {
   "attachments": {},
   "cell_type": "markdown",
   "metadata": {},
   "source": [
    "* RNN은 셀을 여러 층으로 쌓는 것이 일반적(심층 RNN)\n",
    "* keras에서는 단순히 순환 층을 여러 개 쌓는 것으로 구현가능."
   ]
  },
  {
   "cell_type": "code",
   "execution_count": 12,
   "metadata": {},
   "outputs": [
    {
     "name": "stdout",
     "output_type": "stream",
     "text": [
      "Epoch 1/20\n",
      "219/219 [==============================] - 6s 18ms/step - loss: 0.0555 - val_loss: 0.0072\n",
      "Epoch 2/20\n",
      "219/219 [==============================] - 3s 16ms/step - loss: 0.0057 - val_loss: 0.0049\n",
      "Epoch 3/20\n",
      "219/219 [==============================] - 4s 16ms/step - loss: 0.0043 - val_loss: 0.0052\n",
      "Epoch 4/20\n",
      "219/219 [==============================] - 3s 16ms/step - loss: 0.0039 - val_loss: 0.0039\n",
      "Epoch 5/20\n",
      "219/219 [==============================] - 4s 16ms/step - loss: 0.0036 - val_loss: 0.0035\n",
      "Epoch 6/20\n",
      "219/219 [==============================] - 4s 16ms/step - loss: 0.0035 - val_loss: 0.0036\n",
      "Epoch 7/20\n",
      "219/219 [==============================] - 3s 16ms/step - loss: 0.0034 - val_loss: 0.0032\n",
      "Epoch 8/20\n",
      "219/219 [==============================] - 4s 16ms/step - loss: 0.0031 - val_loss: 0.0032\n",
      "Epoch 9/20\n",
      "219/219 [==============================] - 3s 16ms/step - loss: 0.0031 - val_loss: 0.0033\n",
      "Epoch 10/20\n",
      "219/219 [==============================] - 3s 16ms/step - loss: 0.0032 - val_loss: 0.0036\n",
      "Epoch 11/20\n",
      "219/219 [==============================] - 4s 17ms/step - loss: 0.0031 - val_loss: 0.0031\n",
      "Epoch 12/20\n",
      "219/219 [==============================] - 3s 16ms/step - loss: 0.0031 - val_loss: 0.0030\n",
      "Epoch 13/20\n",
      "219/219 [==============================] - 3s 15ms/step - loss: 0.0031 - val_loss: 0.0034\n",
      "Epoch 14/20\n",
      "219/219 [==============================] - 3s 16ms/step - loss: 0.0030 - val_loss: 0.0029\n",
      "Epoch 15/20\n",
      "219/219 [==============================] - 4s 16ms/step - loss: 0.0030 - val_loss: 0.0028\n",
      "Epoch 16/20\n",
      "219/219 [==============================] - 4s 17ms/step - loss: 0.0029 - val_loss: 0.0029\n",
      "Epoch 17/20\n",
      "219/219 [==============================] - 4s 18ms/step - loss: 0.0030 - val_loss: 0.0031\n",
      "Epoch 18/20\n",
      "219/219 [==============================] - 4s 18ms/step - loss: 0.0029 - val_loss: 0.0027\n",
      "Epoch 19/20\n",
      "219/219 [==============================] - 4s 20ms/step - loss: 0.0028 - val_loss: 0.0028\n",
      "Epoch 20/20\n",
      "219/219 [==============================] - 4s 17ms/step - loss: 0.0028 - val_loss: 0.0030\n"
     ]
    }
   ],
   "source": [
    "model = keras.models.Sequential([\n",
    "    keras.layers.SimpleRNN(20, return_sequences=True, input_shape=[None, 1]),\n",
    "    keras.layers.SimpleRNN(20, return_sequences=True),\n",
    "    keras.layers.SimpleRNN(1)\n",
    "])\n",
    "\n",
    "model.compile(loss=\"mse\", optimizer=\"adam\")\n",
    "history = model.fit(X_train, y_train, epochs=20,\n",
    "                    validation_data=(X_valid, y_valid))"
   ]
  },
  {
   "cell_type": "code",
   "execution_count": 13,
   "metadata": {},
   "outputs": [
    {
     "name": "stdout",
     "output_type": "stream",
     "text": [
      "63/63 [==============================] - 0s 6ms/step - loss: 0.0030\n"
     ]
    },
    {
     "data": {
      "text/plain": [
       "0.0029614162631332874"
      ]
     },
     "execution_count": 13,
     "metadata": {},
     "output_type": "execute_result"
    }
   ],
   "source": [
    "model.evaluate(X_valid, y_valid)"
   ]
  },
  {
   "attachments": {},
   "cell_type": "markdown",
   "metadata": {},
   "source": [
    "* 선형 모델보다 성능이 높음\n",
    "* 단, 마지막 층은 단변량 시계열을 예측하므로 하나의 유닛만 필요하고, 이는 은닉 상태 $\\mathbf{h}$가 하나의 숫자라는 것을 의미함. 즉, 마지막 층의 은닉 상태는 크게 필요하지 않고, tanh를 사용하기 때문에 예측된 값이 -1과 1사이에 놓이므로 다른 활성화 함수를 사용해야 될 때 힘들 수 있음.\n",
    "* 이로 인해, 주로 출력층은 Dense층으로 바꾸는 경우가 많음.\n",
    "  * 성능이 비슷하면서 더 빠르게 수렴. 또한, 원하는 활성화 함수 사용 가능\n",
    "```Python\n",
    "model = keras.models.Sequential([\n",
    "    keras.layers.SimpleRNN(20, return_sequences=True, input_shape=[None, 1]),\n",
    "    keras.layers.SimpleRNN(20),\n",
    "    keras.layers.Dense(1)\n",
    "])\n",
    "```"
   ]
  },
  {
   "attachments": {},
   "cell_type": "markdown",
   "metadata": {},
   "source": [
    "* 여러 time step 앞을 예측(ex. 다음 값 1개가 아닌 10개를 예측)하려면, 이미 훈련된 모델을 사용해 다음 값을 예측하고, 해당 값을 입력으로 추가하는 방법이 있음. 이후, 추가된 입력을 다시 모델에 넣음"
   ]
  },
  {
   "cell_type": "code",
   "execution_count": 18,
   "metadata": {},
   "outputs": [],
   "source": [
    "def plot_multiple_forecasts(X, Y, Y_pred):\n",
    "    n_steps = X.shape[1]\n",
    "    ahead = Y.shape[1]\n",
    "    plot_series(X[0, :, 0])\n",
    "    plt.plot(np.arange(n_steps, n_steps + ahead), Y[0, :, 0], \"bo-\", label=\"Actual\")\n",
    "    plt.plot(np.arange(n_steps, n_steps + ahead), Y_pred[0, :, 0], \"rx-\", label=\"Forecast\", markersize=10)\n",
    "    plt.axis([0, n_steps + ahead, -1, 1])\n",
    "    plt.legend(fontsize=14)"
   ]
  },
  {
   "cell_type": "code",
   "execution_count": 19,
   "metadata": {},
   "outputs": [],
   "source": [
    "series = generate_time_series(1, n_steps+10)\n",
    "X_new, Y_new = series[:, :n_steps], series[:, n_steps:]\n",
    "X = X_new\n",
    "for step_ahead in range(10):\n",
    "    y_pred_one = model.predict(X[:, step_ahead:])[:, np.newaxis, :]\n",
    "    X = np.concatenate([X, y_pred_one], axis=1)\n",
    "    \n",
    "Y_pred = X[:, n_steps:]"
   ]
  },
  {
   "cell_type": "code",
   "execution_count": 21,
   "metadata": {},
   "outputs": [
    {
     "data": {
      "image/png": "[encoded data removed]",
      "text/plain": [
       "<Figure size 432x288 with 1 Axes>"
      ]
     },
     "metadata": {
      "needs_background": "light"
     },
     "output_type": "display_data"
    }
   ],
   "source": [
    "plot_multiple_forecasts(X_new, Y_new, Y_pred)\n",
    "plt.show()"
   ]
  },
  {
   "attachments": {},
   "cell_type": "markdown",
   "metadata": {},
   "source": [
    "* 미래의 time step은 갈 수록 오차가 누적됨. 이 모델에 대해 MSE를 계산하면(코드 생략) 0.029로, 이전 모델보다 나쁨. 이는 단순한 방식보다 훨씬 좋지만, 선형 모델보다는 나쁨.\n",
    "* 즉, 위의 방식보다 선형 모델을 사용하는 것이 성능 및 속도가 더 나음."
   ]
  },
  {
   "attachments": {},
   "cell_type": "markdown",
   "metadata": {},
   "source": [
    "* 또 다른 방법으로는, RNN을 훈련해 다음 값 10개를 한 번에 예측할 수 있음.\n",
    "* sequence-to-vector 모델을 사용하지만, 값을 10개를 출력하도록 바꿈."
   ]
  },
  {
   "cell_type": "code",
   "execution_count": 27,
   "metadata": {},
   "outputs": [
    {
     "name": "stdout",
     "output_type": "stream",
     "text": [
      "Epoch 1/20\n",
      "219/219 [==============================] - 5s 13ms/step - loss: 0.0555 - val_loss: 0.0283\n",
      "Epoch 2/20\n",
      "219/219 [==============================] - 3s 12ms/step - loss: 0.0228 - val_loss: 0.0207\n",
      "Epoch 3/20\n",
      "219/219 [==============================] - 3s 12ms/step - loss: 0.0173 - val_loss: 0.0160\n",
      "Epoch 4/20\n",
      "219/219 [==============================] - 3s 12ms/step - loss: 0.0149 - val_loss: 0.0137\n",
      "Epoch 5/20\n",
      "219/219 [==============================] - 3s 12ms/step - loss: 0.0134 - val_loss: 0.0121\n",
      "Epoch 6/20\n",
      "219/219 [==============================] - 3s 12ms/step - loss: 0.0124 - val_loss: 0.0119\n",
      "Epoch 7/20\n",
      "219/219 [==============================] - 3s 12ms/step - loss: 0.0117 - val_loss: 0.0105\n",
      "Epoch 8/20\n",
      "219/219 [==============================] - 3s 12ms/step - loss: 0.0115 - val_loss: 0.0103\n",
      "Epoch 9/20\n",
      "219/219 [==============================] - 3s 12ms/step - loss: 0.0108 - val_loss: 0.0099\n",
      "Epoch 10/20\n",
      "219/219 [==============================] - 3s 12ms/step - loss: 0.0104 - val_loss: 0.0095\n",
      "Epoch 11/20\n",
      "219/219 [==============================] - 3s 12ms/step - loss: 0.0107 - val_loss: 0.0103\n",
      "Epoch 12/20\n",
      "219/219 [==============================] - 3s 12ms/step - loss: 0.0104 - val_loss: 0.0097\n",
      "Epoch 13/20\n",
      "219/219 [==============================] - 3s 13ms/step - loss: 0.0102 - val_loss: 0.0103\n",
      "Epoch 14/20\n",
      "219/219 [==============================] - 3s 12ms/step - loss: 0.0102 - val_loss: 0.0091\n",
      "Epoch 15/20\n",
      "219/219 [==============================] - 3s 12ms/step - loss: 0.0099 - val_loss: 0.0090\n",
      "Epoch 16/20\n",
      "219/219 [==============================] - 3s 12ms/step - loss: 0.0095 - val_loss: 0.0094\n",
      "Epoch 17/20\n",
      "219/219 [==============================] - 3s 12ms/step - loss: 0.0097 - val_loss: 0.0101\n",
      "Epoch 18/20\n",
      "219/219 [==============================] - 3s 12ms/step - loss: 0.0095 - val_loss: 0.0091\n",
      "Epoch 19/20\n",
      "219/219 [==============================] - 3s 12ms/step - loss: 0.0093 - val_loss: 0.0094\n",
      "Epoch 20/20\n",
      "219/219 [==============================] - 3s 12ms/step - loss: 0.0091 - val_loss: 0.0113\n"
     ]
    }
   ],
   "source": [
    "n_steps = 50\n",
    "\n",
    "series = generate_time_series(10000, n_steps + 10)\n",
    "X_train, Y_train = series[:7000, :n_steps], series[:7000, -10:, 0]\n",
    "X_valid, Y_valid = series[7000:9000, :n_steps], series[7000:9000, -10:, 0]\n",
    "X_test, Y_test = series[9000:, :n_steps], series[9000:, -10:, 0]\n",
    "\n",
    "model = keras.models.Sequential([\n",
    "    keras.layers.SimpleRNN(20, return_sequences=True, input_shape=[None, 1]),\n",
    "    keras.layers.SimpleRNN(20),\n",
    "    keras.layers.Dense(10)\n",
    "])\n",
    "\n",
    "model.compile(loss=\"mse\", optimizer=\"adam\")\n",
    "history = model.fit(X_train, Y_train, epochs=20,\n",
    "                    validation_data=(X_valid, Y_valid))"
   ]
  },
  {
   "cell_type": "code",
   "execution_count": 28,
   "metadata": {},
   "outputs": [
    {
     "data": {
      "image/png": "[encoded data removed]",
      "text/plain": [
       "<Figure size 432x288 with 1 Axes>"
      ]
     },
     "metadata": {
      "needs_background": "light"
     },
     "output_type": "display_data"
    }
   ],
   "source": [
    "series = generate_time_series(1, 50 + 10)\n",
    "X_new, Y_new = series[:, :50, :], series[:, -10:, :]\n",
    "Y_pred = model.predict(X_new)[..., np.newaxis]\n",
    "\n",
    "plot_multiple_forecasts(X_new, Y_new, Y_pred)\n",
    "plt.show()"
   ]
  },
  {
   "attachments": {},
   "cell_type": "markdown",
   "metadata": {},
   "source": [
    "* 위처럼 마지막 time step에서만 다음 10개의 값을 예측하는 것 대신, 모든 time step에서 다음 값 10개를 예측하도록 할 수 있음. 즉, sequence-to-sequence RNN으로 바꿀 수 있음.\n",
    "  * 모든 time step에서 RNN 출력에 대한 항이 손실 함수에 포함되므로, 더 많은 오차 gradient가 모델로 흐름.\n",
    "  * 훈련을 안정적으로 만들고 훈련 속도를 높임.\n",
    "  * time step 0에서는 time step 1\\~10 까지의 예측을 담은 vector를, time step 1에서는 time step 2\\~11 까지의 예측을 담은 vector를 출력. 각 target은 입력 시퀀스와 동일한 길이의 시퀀스이고, time step마다 10차원 vector를 가짐."
   ]
  },
  {
   "cell_type": "code",
   "execution_count": 41,
   "metadata": {},
   "outputs": [],
   "source": [
    "series = generate_time_series(10000, n_steps + 10)\n",
    "X_train = series[:7000, :n_steps]\n",
    "X_valid = series[7000:9000, :n_steps]\n",
    "X_test = series[9000:, :n_steps]\n",
    "Y = np.empty((10000, n_steps, 10))\n",
    "\n",
    "for step_ahead in range(1, 10+1):\n",
    "    Y[:, :, step_ahead-1] = series[:, step_ahead:step_ahead + n_steps, 0]\n",
    "Y_train = Y[:7000]\n",
    "Y_valid = Y[7000:9000]\n",
    "Y_test = Y[9000:]"
   ]
  },
  {
   "attachments": {},
   "cell_type": "markdown",
   "metadata": {},
   "source": [
    "* 모든 순환 층에 `return_sequences=True`를 지정해야 하고, 모든 time step에서의 출력을 `Dense`로 전달하기 위해 `TimeDistributed`층을 사용. 이는 다른 층을 감싸 입력 시퀀스의 모든 time step에 이를 적용함.\n",
    "  * 각 time step을 별개의 샘플처럼 다루도록 입력 크기를 바꾸고([batch크기, time step수, 입력 차원] -> [batch크기*time step수, 입력 차원]) Dense층에 적용한 뒤 출력 크기를 원래대로 되돌림\n",
    "* 훈련에는 모든 출력이 필요하지만 예측과 평가에는 마지막 time step의 출력만 사용됨."
   ]
  },
  {
   "cell_type": "code",
   "execution_count": 44,
   "metadata": {},
   "outputs": [
    {
     "name": "stderr",
     "output_type": "stream",
     "text": [
      "d:\\pythonenv\\mlenv\\lib\\site-packages\\tensorflow\\python\\keras\\optimizer_v2\\optimizer_v2.py:374: UserWarning: The `lr` argument is deprecated, use `learning_rate` instead.\n",
      "  warnings.warn(\n"
     ]
    },
    {
     "name": "stdout",
     "output_type": "stream",
     "text": [
      "Epoch 1/20\n",
      "219/219 [==============================] - 4s 13ms/step - loss: 0.0495 - last_time_step_mse: 0.0390 - val_loss: 0.0401 - val_last_time_step_mse: 0.0253\n",
      "Epoch 2/20\n",
      "219/219 [==============================] - 3s 12ms/step - loss: 0.0384 - last_time_step_mse: 0.0274 - val_loss: 0.0317 - val_last_time_step_mse: 0.0202\n",
      "Epoch 3/20\n",
      "219/219 [==============================] - 3s 12ms/step - loss: 0.0306 - last_time_step_mse: 0.0185 - val_loss: 0.0279 - val_last_time_step_mse: 0.0159\n",
      "Epoch 4/20\n",
      "219/219 [==============================] - 3s 12ms/step - loss: 0.0273 - last_time_step_mse: 0.0151 - val_loss: 0.0261 - val_last_time_step_mse: 0.0139\n",
      "Epoch 5/20\n",
      "219/219 [==============================] - 3s 12ms/step - loss: 0.0250 - last_time_step_mse: 0.0127 - val_loss: 0.0232 - val_last_time_step_mse: 0.0115\n",
      "Epoch 6/20\n",
      "219/219 [==============================] - 3s 12ms/step - loss: 0.0240 - last_time_step_mse: 0.0120 - val_loss: 0.0239 - val_last_time_step_mse: 0.0120\n",
      "Epoch 7/20\n",
      "219/219 [==============================] - 3s 12ms/step - loss: 0.0228 - last_time_step_mse: 0.0109 - val_loss: 0.0211 - val_last_time_step_mse: 0.0090\n",
      "Epoch 8/20\n",
      "219/219 [==============================] - 3s 12ms/step - loss: 0.0214 - last_time_step_mse: 0.0095 - val_loss: 0.0224 - val_last_time_step_mse: 0.0106\n",
      "Epoch 9/20\n",
      "219/219 [==============================] - 3s 12ms/step - loss: 0.0207 - last_time_step_mse: 0.0088 - val_loss: 0.0209 - val_last_time_step_mse: 0.0090\n",
      "Epoch 10/20\n",
      "219/219 [==============================] - 3s 12ms/step - loss: 0.0205 - last_time_step_mse: 0.0085 - val_loss: 0.0203 - val_last_time_step_mse: 0.0080\n",
      "Epoch 11/20\n",
      "219/219 [==============================] - 3s 12ms/step - loss: 0.0199 - last_time_step_mse: 0.0079 - val_loss: 0.0201 - val_last_time_step_mse: 0.0081\n",
      "Epoch 12/20\n",
      "219/219 [==============================] - 3s 12ms/step - loss: 0.0196 - last_time_step_mse: 0.0078 - val_loss: 0.0197 - val_last_time_step_mse: 0.0076\n",
      "Epoch 13/20\n",
      "219/219 [==============================] - 3s 12ms/step - loss: 0.0195 - last_time_step_mse: 0.0076 - val_loss: 0.0195 - val_last_time_step_mse: 0.0077\n",
      "Epoch 14/20\n",
      "219/219 [==============================] - 3s 12ms/step - loss: 0.0191 - last_time_step_mse: 0.0073 - val_loss: 0.0183 - val_last_time_step_mse: 0.0059\n",
      "Epoch 15/20\n",
      "219/219 [==============================] - 3s 12ms/step - loss: 0.0191 - last_time_step_mse: 0.0073 - val_loss: 0.0200 - val_last_time_step_mse: 0.0089\n",
      "Epoch 16/20\n",
      "219/219 [==============================] - 3s 13ms/step - loss: 0.0189 - last_time_step_mse: 0.0072 - val_loss: 0.0182 - val_last_time_step_mse: 0.0062\n",
      "Epoch 17/20\n",
      "219/219 [==============================] - 3s 12ms/step - loss: 0.0186 - last_time_step_mse: 0.0068 - val_loss: 0.0185 - val_last_time_step_mse: 0.0066\n",
      "Epoch 18/20\n",
      "219/219 [==============================] - 3s 12ms/step - loss: 0.0186 - last_time_step_mse: 0.0070 - val_loss: 0.0188 - val_last_time_step_mse: 0.0075\n",
      "Epoch 19/20\n",
      "219/219 [==============================] - 3s 12ms/step - loss: 0.0186 - last_time_step_mse: 0.0070 - val_loss: 0.0174 - val_last_time_step_mse: 0.0056\n",
      "Epoch 20/20\n",
      "219/219 [==============================] - 3s 12ms/step - loss: 0.0185 - last_time_step_mse: 0.0070 - val_loss: 0.0187 - val_last_time_step_mse: 0.0074\n"
     ]
    }
   ],
   "source": [
    "model = keras.models.Sequential([\n",
    "    keras.layers.SimpleRNN(20, return_sequences=True, input_shape=[None, 1]),\n",
    "    keras.layers.SimpleRNN(20, return_sequences=True),\n",
    "    keras.layers.TimeDistributed(keras.layers.Dense(10))\n",
    "])\n",
    "\n",
    "def last_time_step_mse(Y_true, Y_pred):\n",
    "    return keras.metrics.mean_squared_error(Y_true[:, -1], Y_pred[:, -1])\n",
    "\n",
    "optimizer = keras.optimizers.Adam(lr=0.01)\n",
    "model.compile(loss=\"mse\", optimizer=optimizer, metrics=[last_time_step_mse])\n",
    "history = model.fit(X_train, Y_train, epochs=20,\n",
    "                    validation_data=(X_valid, Y_valid))"
   ]
  },
  {
   "cell_type": "code",
   "execution_count": 45,
   "metadata": {},
   "outputs": [
    {
     "data": {
      "image/png": "[encoded data removed]",
      "text/plain": [
       "<Figure size 432x288 with 1 Axes>"
      ]
     },
     "metadata": {
      "needs_background": "light"
     },
     "output_type": "display_data"
    }
   ],
   "source": [
    "series = generate_time_series(1, 50 + 10)\n",
    "X_new, Y_new = series[:, :50, :], series[:, 50:, :]\n",
    "Y_pred = model.predict(X_new)[:, -1][..., np.newaxis]\n",
    "\n",
    "plot_multiple_forecasts(X_new, Y_new, Y_pred)\n",
    "plt.show()"
   ]
  },
  {
   "attachments": {},
   "cell_type": "markdown",
   "metadata": {},
   "source": [
    "* 이전 모델보다 성능이 향상됨.\n",
    "* 이 방식을 처음 모델과 결합할 수 있음\n",
    "  * 이 RNN으로 다음 값 10개를 예측하고, 이를 시계열에 연결. 그 다음 모델을 다시 사용해 다음 값 10개를 예측하는 식으로 반복하여 어떤 길이의 sequence도 생성할 수 있음"
   ]
  }
 ],
 "metadata": {
  "kernelspec": {
   "display_name": "mlenv",
   "language": "python",
   "name": "python3"
  },
  "language_info": {
   "codemirror_mode": {
    "name": "ipython",
    "version": 3
   },
   "file_extension": ".py",
   "mimetype": "text/x-python",
   "name": "python",
   "nbconvert_exporter": "python",
   "pygments_lexer": "ipython3",
   "version": "3.8.3"
  },
  "orig_nbformat": 4,
  "vscode": {
   "interpreter": {
    "hash": "e4211a37325b67dc4346d743008529599135417ca8cd1eae7178b10ad33111a2"
   }
  }
 },
 "nbformat": 4,
 "nbformat_minor": 2
}
